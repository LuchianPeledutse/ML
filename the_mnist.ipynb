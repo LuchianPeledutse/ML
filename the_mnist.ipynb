{
 "cells": [
  {
   "cell_type": "code",
   "execution_count": 282,
   "metadata": {},
   "outputs": [],
   "source": [
    "import torchvision\n",
    "import seaborn as sns\n",
    "from torchvision import transforms\n",
    "from torchvision.transforms import functional\n",
    "from sklearn.metrics import accuracy_score\n",
    "from sklearn import metrics\n",
    "import numpy as np\n",
    "from sklearn import utils\n",
    "import matplotlib.pyplot as plt\n",
    "from torch.utils import data\n",
    "import random as rd \n",
    "import torch\n",
    "import torch.nn as nn"
   ]
  },
  {
   "cell_type": "markdown",
   "metadata": {},
   "source": [
    "### MNIST fully-conected network"
   ]
  },
  {
   "cell_type": "code",
   "execution_count": 75,
   "metadata": {},
   "outputs": [
    {
     "data": {
      "text/plain": [
       "Compose(\n",
       "    ToTensor()\n",
       ")"
      ]
     },
     "execution_count": 75,
     "metadata": {},
     "output_type": "execute_result"
    }
   ],
   "source": [
    "trans = transforms.Compose([transforms.ToTensor()])\n",
    "trans"
   ]
  },
  {
   "cell_type": "code",
   "execution_count": 76,
   "metadata": {},
   "outputs": [],
   "source": [
    "Train_mnist = torchvision.datasets.MNIST(root = 'mnist',download = False,train = True,transform=trans)\n",
    "Test_mnist = torchvision.datasets.MNIST(root = 'mnist',download = False,train = False,transform=trans)"
   ]
  },
  {
   "cell_type": "code",
   "execution_count": 77,
   "metadata": {},
   "outputs": [
    {
     "name": "stdout",
     "output_type": "stream",
     "text": [
      "60000\n",
      "10000\n"
     ]
    }
   ],
   "source": [
    "print(len(Train_mnist))\n",
    "print(len(Test_mnist))"
   ]
  },
  {
   "cell_type": "code",
   "execution_count": 78,
   "metadata": {},
   "outputs": [
    {
     "data": {
      "text/plain": [
       "['0 - zero',\n",
       " '1 - one',\n",
       " '2 - two',\n",
       " '3 - three',\n",
       " '4 - four',\n",
       " '5 - five',\n",
       " '6 - six',\n",
       " '7 - seven',\n",
       " '8 - eight',\n",
       " '9 - nine']"
      ]
     },
     "execution_count": 78,
     "metadata": {},
     "output_type": "execute_result"
    }
   ],
   "source": [
    "Train_mnist.classes"
   ]
  },
  {
   "cell_type": "code",
   "execution_count": 80,
   "metadata": {},
   "outputs": [
    {
     "name": "stdout",
     "output_type": "stream",
     "text": [
      "60000\n",
      "10000\n",
      "10\n"
     ]
    }
   ],
   "source": [
    "print(len(Train_mnist))\n",
    "print(len(Test_mnist))\n",
    "num_cls = len(Train_mnist.classes)\n",
    "print(num_cls)"
   ]
  },
  {
   "cell_type": "code",
   "execution_count": 81,
   "metadata": {},
   "outputs": [
    {
     "name": "stdout",
     "output_type": "stream",
     "text": [
      "60000\n"
     ]
    }
   ],
   "source": [
    "train_loader = data.DataLoader(dataset = Train_mnist,batch_size = 1,shuffle = True)\n",
    "print(len(train_loader))"
   ]
  },
  {
   "cell_type": "code",
   "execution_count": 82,
   "metadata": {},
   "outputs": [],
   "source": [
    "one_val = next(iter(train_loader))"
   ]
  },
  {
   "cell_type": "code",
   "execution_count": 83,
   "metadata": {},
   "outputs": [
    {
     "data": {
      "text/plain": [
       "torch.Size([1, 1, 28, 28])"
      ]
     },
     "execution_count": 83,
     "metadata": {},
     "output_type": "execute_result"
    }
   ],
   "source": [
    "one_tens = one_val[0]\n",
    "one_tens.shape"
   ]
  },
  {
   "cell_type": "code",
   "execution_count": 87,
   "metadata": {},
   "outputs": [],
   "source": [
    "mean = torch.zeros(1,)\n",
    "std = torch.zeros(1,)\n",
    "all_clsses = []\n",
    "for pic,cls in iter(train_loader):\n",
    "    mean += torch.mean(pic,axis = (2,3)).reshape(1)\n",
    "    std += torch.std(pic,axis = (2,3)).reshape(1)\n",
    "    all_clsses.append(cls)"
   ]
  },
  {
   "cell_type": "code",
   "execution_count": 88,
   "metadata": {},
   "outputs": [
    {
     "name": "stdout",
     "output_type": "stream",
     "text": [
      "tensor([0.1307]) tensor([0.3015])\n"
     ]
    }
   ],
   "source": [
    "mean = mean/len(train_loader)\n",
    "std = std/len(train_loader)\n",
    "print(mean,std)"
   ]
  },
  {
   "cell_type": "code",
   "execution_count": 89,
   "metadata": {},
   "outputs": [
    {
     "data": {
      "text/plain": [
       "array([1.01300017, 0.88994364, 1.00704935, 0.97863318, 1.02704553,\n",
       "       1.10680686, 1.01385603, 0.95770152, 1.02546573, 1.00857287])"
      ]
     },
     "execution_count": 89,
     "metadata": {},
     "output_type": "execute_result"
    }
   ],
   "source": [
    "cls_weights = utils.compute_class_weight(class_weight='balanced',classes = np.array([_ for _ in range(10)]),y = np.array([int(k) for k in all_clsses]))\n",
    "cls_weights\n",
    "#dataset is balanced enough"
   ]
  },
  {
   "cell_type": "code",
   "execution_count": 90,
   "metadata": {},
   "outputs": [],
   "source": [
    "#load with normalization\n",
    "trans = transforms.Compose([transforms.ToTensor(),transforms.Normalize(mean = mean,std = std)])\n",
    "Train_mnist = torchvision.datasets.MNIST(root = 'mnist',download = False,train = True,transform=trans)\n",
    "Test_mnist = torchvision.datasets.MNIST(root = 'mnist',download = False,train = False,transform=trans)"
   ]
  },
  {
   "cell_type": "code",
   "execution_count": 101,
   "metadata": {},
   "outputs": [
    {
     "data": {
      "text/plain": [
       "<matplotlib.image.AxesImage at 0x72ca51b092b0>"
      ]
     },
     "execution_count": 101,
     "metadata": {},
     "output_type": "execute_result"
    },
    {
     "data": {
      "image/png": "[encoded data removed]",
      "text/plain": [
       "<Figure size 640x480 with 1 Axes>"
      ]
     },
     "metadata": {},
     "output_type": "display_data"
    }
   ],
   "source": [
    "#before normalization\n",
    "plt.imshow(functional.to_pil_image(one_val[0][0]),cmap = 'gray')"
   ]
  },
  {
   "cell_type": "code",
   "execution_count": 105,
   "metadata": {},
   "outputs": [
    {
     "data": {
      "text/plain": [
       "<matplotlib.image.AxesImage at 0x72cb4c941400>"
      ]
     },
     "execution_count": 105,
     "metadata": {},
     "output_type": "execute_result"
    },
    {
     "data": {
      "image/png": "[encoded data removed]",
      "text/plain": [
       "<Figure size 640x480 with 1 Axes>"
      ]
     },
     "metadata": {},
     "output_type": "display_data"
    }
   ],
   "source": [
    "#after normalization\n",
    "norm_val = next(iter(Train_mnist))\n",
    "plt.imshow(functional.to_pil_image(norm_val[0][0]),cmap = 'gray')"
   ]
  },
  {
   "cell_type": "code",
   "execution_count": 106,
   "metadata": {},
   "outputs": [],
   "source": [
    "#Do we really need normalization for mnist?\n",
    "#probably not"
   ]
  },
  {
   "cell_type": "code",
   "execution_count": 207,
   "metadata": {},
   "outputs": [],
   "source": [
    "#here is fully connected model\n",
    "class Mmod(nn.Module):\n",
    "    def __init__(self):\n",
    "        super(Mmod,self).__init__()\n",
    "        self.rel = nn.ReLU()\n",
    "        self.soft = nn.Softmax(dim = 1)\n",
    "        self.fc1 = nn.Linear(28*28,200)\n",
    "        self.fc2 = nn.Linear(200,200)\n",
    "        self.fc3 = nn.Linear(200,10)\n",
    "    def forward(self,x):\n",
    "        y = x.reshape(x.shape[0],-1)\n",
    "        y = self.rel(self.fc1(y))\n",
    "        y = self.rel(self.fc2(y))\n",
    "        y = self.fc3(y)\n",
    "        y = y.squeeze(dim = 1)\n",
    "        return y"
   ]
  },
  {
   "cell_type": "code",
   "execution_count": 208,
   "metadata": {},
   "outputs": [],
   "source": [
    "mmod = Mmod()"
   ]
  },
  {
   "cell_type": "code",
   "execution_count": 150,
   "metadata": {},
   "outputs": [
    {
     "name": "stdout",
     "output_type": "stream",
     "text": [
      "2500\n"
     ]
    }
   ],
   "source": [
    "train_loader = data.DataLoader(dataset = Train_mnist,shuffle = True,batch_size = 24)\n",
    "print(len(train_loader))"
   ]
  },
  {
   "cell_type": "code",
   "execution_count": 151,
   "metadata": {},
   "outputs": [
    {
     "name": "stdout",
     "output_type": "stream",
     "text": [
      "torch.Size([24, 1, 28, 28])\n",
      "torch.Size([24])\n"
     ]
    }
   ],
   "source": [
    "one_in = next(iter(train_loader))\n",
    "print(one_in[0].shape)\n",
    "print(one_in[1].shape)"
   ]
  },
  {
   "cell_type": "code",
   "execution_count": 152,
   "metadata": {},
   "outputs": [
    {
     "data": {
      "text/plain": [
       "torch.Size([24, 10])"
      ]
     },
     "execution_count": 152,
     "metadata": {},
     "output_type": "execute_result"
    }
   ],
   "source": [
    "mmod(one_in[0]).shape"
   ]
  },
  {
   "cell_type": "code",
   "execution_count": 153,
   "metadata": {},
   "outputs": [
    {
     "data": {
      "text/plain": [
       "tensor([[ 0.0554,  1.8978,  0.1114,  0.1214,  1.3757],\n",
       "        [ 0.8012,  1.4528, -1.5551,  0.7292,  0.2530],\n",
       "        [ 1.6980,  0.2991, -1.1346,  1.1365, -0.8859]])"
      ]
     },
     "execution_count": 153,
     "metadata": {},
     "output_type": "execute_result"
    }
   ],
   "source": [
    "loss = nn.CrossEntropyLoss()\n",
    "soft = nn.Softmax(dim = 1)\n",
    "y = torch.tensor([0,0,0])\n",
    "t1 = torch.randn(3,5)\n",
    "t1"
   ]
  },
  {
   "cell_type": "code",
   "execution_count": 154,
   "metadata": {},
   "outputs": [
    {
     "data": {
      "text/plain": [
       "tensor([[0.0759, 0.4788, 0.0802, 0.0810, 0.2841],\n",
       "        [0.2211, 0.4243, 0.0210, 0.2058, 0.1278],\n",
       "        [0.5124, 0.1265, 0.0302, 0.2923, 0.0387]])"
      ]
     },
     "execution_count": 154,
     "metadata": {},
     "output_type": "execute_result"
    }
   ],
   "source": [
    "soft(t1)"
   ]
  },
  {
   "cell_type": "code",
   "execution_count": 156,
   "metadata": {},
   "outputs": [
    {
     "data": {
      "text/plain": [
       "tensor(1.5855)"
      ]
     },
     "execution_count": 156,
     "metadata": {},
     "output_type": "execute_result"
    }
   ],
   "source": [
    "loss(t1,y)"
   ]
  },
  {
   "cell_type": "code",
   "execution_count": 155,
   "metadata": {},
   "outputs": [
    {
     "data": {
      "text/plain": [
       "tensor(1.5854)"
      ]
     },
     "execution_count": 155,
     "metadata": {},
     "output_type": "execute_result"
    }
   ],
   "source": [
    "-(torch.log(torch.tensor(0.0759))+torch.log(torch.tensor(0.2211))+torch.log(torch.tensor(0.5124)))/3"
   ]
  },
  {
   "cell_type": "code",
   "execution_count": 129,
   "metadata": {},
   "outputs": [],
   "source": [
    "# mmod.to(device = 'cuda') cuda is not necessary"
   ]
  },
  {
   "cell_type": "code",
   "execution_count": 209,
   "metadata": {},
   "outputs": [],
   "source": [
    "epoch = 10\n",
    "bs = 10\n",
    "print_every = 1\n",
    "lr = 0.0005\n",
    "\n",
    "crit = nn.CrossEntropyLoss()\n",
    "optim = torch.optim.SGD(params = mmod.parameters(),lr = lr,momentum=0.5)"
   ]
  },
  {
   "cell_type": "code",
   "execution_count": 211,
   "metadata": {},
   "outputs": [],
   "source": [
    "train_loader = data.DataLoader(dataset = Train_mnist,shuffle = True,batch_size=bs)"
   ]
  },
  {
   "cell_type": "code",
   "execution_count": 210,
   "metadata": {},
   "outputs": [],
   "source": [
    "test_loader = data.DataLoader(dataset = Test_mnist,shuffle = True,batch_size = 10)"
   ]
  },
  {
   "cell_type": "code",
   "execution_count": 212,
   "metadata": {},
   "outputs": [
    {
     "name": "stdout",
     "output_type": "stream",
     "text": [
      "Epoch #1 | TrainLoss 0.29784\n",
      "Epoch #2 | TrainLoss 0.05758\n",
      "Epoch #3 | TrainLoss 0.23941\n",
      "Epoch #4 | TrainLoss 0.17985\n",
      "Epoch #5 | TrainLoss 0.0704\n",
      "Epoch #6 | TrainLoss 0.01033\n",
      "Epoch #7 | TrainLoss 0.27884\n",
      "Epoch #8 | TrainLoss 0.01989\n",
      "Epoch #9 | TrainLoss 0.04925\n",
      "Epoch #10 | TrainLoss 0.0157\n"
     ]
    }
   ],
   "source": [
    "for one_ep in range(epoch):\n",
    "    train_losses = []\n",
    "    for X_batch,y_batch in train_loader:\n",
    "        optim.zero_grad()\n",
    "        y_pred = mmod(X_batch)\n",
    "        the_loss = crit(y_pred,y_batch)\n",
    "        the_loss.backward()\n",
    "        optim.step()\n",
    "    if one_ep%print_every == 0:\n",
    "        train_losses.append(the_loss.item())\n",
    "        print(f'Epoch #{one_ep+1} | TrainLoss {round(train_losses[-1],5)}')\n"
   ]
  },
  {
   "cell_type": "code",
   "execution_count": 215,
   "metadata": {},
   "outputs": [],
   "source": [
    "torch.save(mmod.state_dict(),'mnist/mnist_mod1.pth')"
   ]
  },
  {
   "cell_type": "code",
   "execution_count": 216,
   "metadata": {},
   "outputs": [],
   "source": [
    "def get_test_accuracy(model):\n",
    "    soft = nn.Softmax(dim = 1)\n",
    "    accs = []\n",
    "    with torch.no_grad():\n",
    "        for X_bat,y_bat in test_loader:\n",
    "            y_pred = model(X_bat)\n",
    "            y_pred = soft(y_pred).argmax(dim = 1)\n",
    "            current_acc = accuracy_score(y_bat.numpy(),y_pred.numpy(),normalize=False)\n",
    "            accs.append(current_acc)\n",
    "    return sum(accs)/len(Test_mnist)"
   ]
  },
  {
   "cell_type": "code",
   "execution_count": 217,
   "metadata": {},
   "outputs": [
    {
     "data": {
      "text/plain": [
       "0.9586"
      ]
     },
     "execution_count": 217,
     "metadata": {},
     "output_type": "execute_result"
    }
   ],
   "source": [
    "get_test_accuracy(mmod)"
   ]
  },
  {
   "cell_type": "code",
   "execution_count": 189,
   "metadata": {},
   "outputs": [
    {
     "data": {
      "text/plain": [
       "1.0"
      ]
     },
     "execution_count": 189,
     "metadata": {},
     "output_type": "execute_result"
    }
   ],
   "source": [
    "accuracy_score([0,0,0],[0,1,1],normalize=False)"
   ]
  },
  {
   "cell_type": "code",
   "execution_count": 200,
   "metadata": {},
   "outputs": [
    {
     "data": {
      "text/plain": [
       "<All keys matched successfully>"
      ]
     },
     "execution_count": 200,
     "metadata": {},
     "output_type": "execute_result"
    }
   ],
   "source": [
    "mmod.load_state_dict(torch.load('mnist/mnist_mod1.pth',weights_only = True))"
   ]
  },
  {
   "cell_type": "code",
   "execution_count": 240,
   "metadata": {},
   "outputs": [
    {
     "data": {
      "image/jpeg": "[encoded data removed]",
      "image/png": "[encoded data removed]",
      "text/plain": [
       "<PIL.Image.Image image mode=L size=28x28>"
      ]
     },
     "execution_count": 240,
     "metadata": {},
     "output_type": "execute_result"
    }
   ],
   "source": [
    "the_pic = functional.to_pil_image(Test_mnist[rd.randint(1,10000)][0]*std+mean)\n",
    "the_pic"
   ]
  },
  {
   "cell_type": "code",
   "execution_count": 241,
   "metadata": {},
   "outputs": [
    {
     "data": {
      "text/plain": [
       "<matplotlib.image.AxesImage at 0x72ca8490e240>"
      ]
     },
     "execution_count": 241,
     "metadata": {},
     "output_type": "execute_result"
    },
    {
     "data": {
      "image/png": "[encoded data removed]",
      "text/plain": [
       "<Figure size 640x480 with 1 Axes>"
      ]
     },
     "metadata": {},
     "output_type": "display_data"
    }
   ],
   "source": [
    "plt.imshow(the_pic,cmap = 'gray')"
   ]
  },
  {
   "cell_type": "code",
   "execution_count": 428,
   "metadata": {},
   "outputs": [
    {
     "data": {
      "image/png": "[encoded data removed]",
      "text/plain": [
       "<Figure size 1000x500 with 18 Axes>"
      ]
     },
     "metadata": {},
     "output_type": "display_data"
    }
   ],
   "source": [
    "#model inference\n",
    "main_figure = plt.figure(figsize = (10,5),facecolor = 'skyblue')\n",
    "main_figure.tight_layout()\n",
    "for pic_ind in range(1,19):\n",
    "    the_ax = main_figure.add_subplot(3,6,pic_ind)\n",
    "    rand_num = rd.randint(1,10000)\n",
    "    rand_tens = Test_mnist[rand_num][0]\n",
    "    rand_true = Test_mnist[rand_num][1]\n",
    "    soft = nn.Softmax(dim = 1)\n",
    "    y_pred = mmod(rand_tens)\n",
    "    y_pred = soft(y_pred).argmax(dim = 1)\n",
    "    y_pred = int(y_pred.item())\n",
    "    the_pic = functional.to_pil_image(rand_tens*std+mean)\n",
    "    the_ax.set_xticks([])\n",
    "    the_ax.set_yticks([])\n",
    "    the_ax.imshow(the_pic,cmap = 'gray')\n",
    "    the_ax.set_title(f'Pr: {y_pred} | Tr: {rand_true}')"
   ]
  },
  {
   "cell_type": "code",
   "execution_count": 276,
   "metadata": {},
   "outputs": [],
   "source": [
    "y_true = []\n",
    "y_pred = []\n",
    "soft = nn.Softmax(dim = 1)\n",
    "for X_bat,y_bat in test_loader:\n",
    "    y_mod_pred = soft(mmod(X_bat)).argmax(dim = 1).numpy().tolist()\n",
    "    y_pred += y_mod_pred\n",
    "    y_true += y_bat.numpy().tolist()"
   ]
  },
  {
   "cell_type": "code",
   "execution_count": 277,
   "metadata": {},
   "outputs": [
    {
     "name": "stdout",
     "output_type": "stream",
     "text": [
      "10000\n",
      "10000\n"
     ]
    }
   ],
   "source": [
    "print(len(y_true))\n",
    "print(len(y_pred))"
   ]
  },
  {
   "cell_type": "code",
   "execution_count": 283,
   "metadata": {},
   "outputs": [
    {
     "data": {
      "text/plain": [
       "array([[ 966,    0,    1,    2,    0,    4,    5,    1,    1,    0],\n",
       "       [   0, 1113,    4,    2,    0,    1,    4,    2,    9,    0],\n",
       "       [   6,    1,  994,    5,    5,    1,    5,    8,    7,    0],\n",
       "       [   0,    1,   11,  962,    1,   16,    0,    9,    8,    2],\n",
       "       [   1,    0,    5,    0,  945,    0,    9,    2,    3,   17],\n",
       "       [  10,    1,    1,    8,    2,  841,    9,    0,   15,    5],\n",
       "       [   8,    3,    1,    0,    5,    9,  928,    1,    3,    0],\n",
       "       [   1,    7,   22,    8,    3,    1,    0,  969,    0,   17],\n",
       "       [   3,    1,    4,   16,    6,    6,    9,    5,  922,    2],\n",
       "       [   6,    5,    1,   10,   20,    4,    1,    9,    7,  946]])"
      ]
     },
     "execution_count": 283,
     "metadata": {},
     "output_type": "execute_result"
    }
   ],
   "source": [
    "conf_mat = metrics.confusion_matrix(y_true=y_true,y_pred = y_pred,labels = [_ for _ in range(10)])\n",
    "conf_mat"
   ]
  },
  {
   "cell_type": "code",
   "execution_count": 287,
   "metadata": {},
   "outputs": [
    {
     "data": {
      "text/plain": [
       "<Axes: >"
      ]
     },
     "execution_count": 287,
     "metadata": {},
     "output_type": "execute_result"
    },
    {
     "data": {
      "image/png": "[encoded data removed]",
      "text/plain": [
       "<Figure size 1000x500 with 2 Axes>"
      ]
     },
     "metadata": {},
     "output_type": "display_data"
    }
   ],
   "source": [
    "some_fig = plt.figure(figsize=(10,5),facecolor = 'skyblue')\n",
    "sns.heatmap(conf_mat,annot = True)"
   ]
  },
  {
   "cell_type": "code",
   "execution_count": 271,
   "metadata": {},
   "outputs": [
    {
     "data": {
      "text/plain": [
       "[0, 1, 7, 6, 2, 2, 8, 9, 5, 9]"
      ]
     },
     "execution_count": 271,
     "metadata": {},
     "output_type": "execute_result"
    }
   ],
   "source": []
  }
 ],
 "metadata": {
  "kernelspec": {
   "display_name": "venv-MyPython",
   "language": "python",
   "name": "python3"
  },
  "language_info": {
   "codemirror_mode": {
    "name": "ipython",
    "version": 3
   },
   "file_extension": ".py",
   "mimetype": "text/x-python",
   "name": "python",
   "nbconvert_exporter": "python",
   "pygments_lexer": "ipython3",
   "version": "3.12.3"
  }
 },
 "nbformat": 4,
 "nbformat_minor": 2
}
