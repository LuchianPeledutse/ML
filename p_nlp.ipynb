{
 "cells": [
  {
   "cell_type": "code",
   "execution_count": 79,
   "id": "3733e66b",
   "metadata": {},
   "outputs": [],
   "source": [
    "import numpy as np\n",
    "import pandas as pd\n",
    "import tokenizers\n",
    "from tqdm import tqdm\n",
    "from tokenizers import pre_tokenizers\n",
    "from torch.utils.data import Dataset,DataLoader\n",
    "import tokenizers.trainers\n",
    "from transformers import PreTrainedTokenizerFast\n",
    "from tokenizers import Tokenizer\n",
    "import pyperclip\n",
    "import re\n",
    "from torch.distributions import Categorical\n",
    "from sklearn.preprocessing import LabelEncoder\n",
    "from sklearn.model_selection import train_test_split\n",
    "from sklearn.metrics import confusion_matrix,classification_report\n",
    "from sklearn.utils.class_weight import compute_class_weight\n",
    "from seaborn import heatmap\n",
    "import torch.nn as nn\n",
    "import torch"
   ]
  },
  {
   "cell_type": "code",
   "execution_count": 6,
   "id": "19ceaeea",
   "metadata": {},
   "outputs": [
    {
     "data": {
      "text/html": [
       "<div>\n",
       "<style scoped>\n",
       "    .dataframe tbody tr th:only-of-type {\n",
       "        vertical-align: middle;\n",
       "    }\n",
       "\n",
       "    .dataframe tbody tr th {\n",
       "        vertical-align: top;\n",
       "    }\n",
       "\n",
       "    .dataframe thead th {\n",
       "        text-align: right;\n",
       "    }\n",
       "</style>\n",
       "<table border=\"1\" class=\"dataframe\">\n",
       "  <thead>\n",
       "    <tr style=\"text-align: right;\">\n",
       "      <th></th>\n",
       "      <th>OriginalTweet</th>\n",
       "      <th>Sentiment</th>\n",
       "    </tr>\n",
       "  </thead>\n",
       "  <tbody>\n",
       "    <tr>\n",
       "      <th>0</th>\n",
       "      <td>Guess?, Inc. Provides COVID-19 Business Update...</td>\n",
       "      <td>Positive</td>\n",
       "    </tr>\n",
       "    <tr>\n",
       "      <th>1</th>\n",
       "      <td>So much panic-bought food fresh food will neve...</td>\n",
       "      <td>Positive</td>\n",
       "    </tr>\n",
       "    <tr>\n",
       "      <th>2</th>\n",
       "      <td>Instead of giving financial aid that is close ...</td>\n",
       "      <td>Positive</td>\n",
       "    </tr>\n",
       "    <tr>\n",
       "      <th>3</th>\n",
       "      <td>WAIT A DAMN MINUTE\\r\\r\\n\\r\\r\\nso Amazon worker...</td>\n",
       "      <td>Positive</td>\n",
       "    </tr>\n",
       "    <tr>\n",
       "      <th>4</th>\n",
       "      <td>Pig prices were up this week at 163 39p kg amp...</td>\n",
       "      <td>Extremely Positive</td>\n",
       "    </tr>\n",
       "    <tr>\n",
       "      <th>...</th>\n",
       "      <td>...</td>\n",
       "      <td>...</td>\n",
       "    </tr>\n",
       "    <tr>\n",
       "      <th>9995</th>\n",
       "      <td>???https://t.co/Ljh5cmUkMPÂ via @amazon ???ht...</td>\n",
       "      <td>Extremely Positive</td>\n",
       "    </tr>\n",
       "    <tr>\n",
       "      <th>9996</th>\n",
       "      <td>P Stuck inside Our pals at have slashed prices...</td>\n",
       "      <td>Positive</td>\n",
       "    </tr>\n",
       "    <tr>\n",
       "      <th>9997</th>\n",
       "      <td>If you think you may experience financial hard...</td>\n",
       "      <td>Positive</td>\n",
       "    </tr>\n",
       "    <tr>\n",
       "      <th>9998</th>\n",
       "      <td>No toilet paper I can handle, no pasta, ok...b...</td>\n",
       "      <td>Extremely Negative</td>\n",
       "    </tr>\n",
       "    <tr>\n",
       "      <th>9999</th>\n",
       "      <td>Amazon has found another way to earn more in C...</td>\n",
       "      <td>Negative</td>\n",
       "    </tr>\n",
       "  </tbody>\n",
       "</table>\n",
       "<p>10000 rows × 2 columns</p>\n",
       "</div>"
      ],
      "text/plain": [
       "                                          OriginalTweet           Sentiment\n",
       "0     Guess?, Inc. Provides COVID-19 Business Update...            Positive\n",
       "1     So much panic-bought food fresh food will neve...            Positive\n",
       "2     Instead of giving financial aid that is close ...            Positive\n",
       "3     WAIT A DAMN MINUTE\\r\\r\\n\\r\\r\\nso Amazon worker...            Positive\n",
       "4     Pig prices were up this week at 163 39p kg amp...  Extremely Positive\n",
       "...                                                 ...                 ...\n",
       "9995  ???https://t.co/Ljh5cmUkMPÂ\n",
       " via @amazon ???ht...  Extremely Positive\n",
       "9996  P Stuck inside Our pals at have slashed prices...            Positive\n",
       "9997  If you think you may experience financial hard...            Positive\n",
       "9998  No toilet paper I can handle, no pasta, ok...b...  Extremely Negative\n",
       "9999  Amazon has found another way to earn more in C...            Negative\n",
       "\n",
       "[10000 rows x 2 columns]"
      ]
     },
     "execution_count": 6,
     "metadata": {},
     "output_type": "execute_result"
    }
   ],
   "source": [
    "main_data = pd.read_csv('/home/luchian/all_data/uni_data/corona.csv',usecols=['OriginalTweet','Sentiment'])\n",
    "main_data"
   ]
  },
  {
   "cell_type": "code",
   "execution_count": 7,
   "id": "50600836",
   "metadata": {},
   "outputs": [
    {
     "data": {
      "text/plain": [
       "array(['Extremely Negative', 'Extremely Positive', 'Negative', 'Neutral',\n",
       "       'Positive'], dtype=object)"
      ]
     },
     "execution_count": 7,
     "metadata": {},
     "output_type": "execute_result"
    }
   ],
   "source": [
    "label_encoder = LabelEncoder().fit(main_data['Sentiment'])\n",
    "label_encoder.classes_"
   ]
  },
  {
   "cell_type": "code",
   "execution_count": 8,
   "id": "cf393075",
   "metadata": {},
   "outputs": [],
   "source": [
    "main_data['Sentiment'] = label_encoder.transform(main_data['Sentiment'])"
   ]
  },
  {
   "cell_type": "code",
   "execution_count": 9,
   "id": "75c6856f",
   "metadata": {},
   "outputs": [
    {
     "data": {
      "text/html": [
       "<div>\n",
       "<style scoped>\n",
       "    .dataframe tbody tr th:only-of-type {\n",
       "        vertical-align: middle;\n",
       "    }\n",
       "\n",
       "    .dataframe tbody tr th {\n",
       "        vertical-align: top;\n",
       "    }\n",
       "\n",
       "    .dataframe thead th {\n",
       "        text-align: right;\n",
       "    }\n",
       "</style>\n",
       "<table border=\"1\" class=\"dataframe\">\n",
       "  <thead>\n",
       "    <tr style=\"text-align: right;\">\n",
       "      <th></th>\n",
       "      <th>OriginalTweet</th>\n",
       "      <th>Sentiment</th>\n",
       "    </tr>\n",
       "  </thead>\n",
       "  <tbody>\n",
       "    <tr>\n",
       "      <th>0</th>\n",
       "      <td>Guess?, Inc. Provides COVID-19 Business Update...</td>\n",
       "      <td>4</td>\n",
       "    </tr>\n",
       "    <tr>\n",
       "      <th>1</th>\n",
       "      <td>So much panic-bought food fresh food will neve...</td>\n",
       "      <td>4</td>\n",
       "    </tr>\n",
       "    <tr>\n",
       "      <th>2</th>\n",
       "      <td>Instead of giving financial aid that is close ...</td>\n",
       "      <td>4</td>\n",
       "    </tr>\n",
       "    <tr>\n",
       "      <th>3</th>\n",
       "      <td>WAIT A DAMN MINUTE\\r\\r\\n\\r\\r\\nso Amazon worker...</td>\n",
       "      <td>4</td>\n",
       "    </tr>\n",
       "    <tr>\n",
       "      <th>4</th>\n",
       "      <td>Pig prices were up this week at 163 39p kg amp...</td>\n",
       "      <td>1</td>\n",
       "    </tr>\n",
       "  </tbody>\n",
       "</table>\n",
       "</div>"
      ],
      "text/plain": [
       "                                       OriginalTweet  Sentiment\n",
       "0  Guess?, Inc. Provides COVID-19 Business Update...          4\n",
       "1  So much panic-bought food fresh food will neve...          4\n",
       "2  Instead of giving financial aid that is close ...          4\n",
       "3  WAIT A DAMN MINUTE\\r\\r\\n\\r\\r\\nso Amazon worker...          4\n",
       "4  Pig prices were up this week at 163 39p kg amp...          1"
      ]
     },
     "execution_count": 9,
     "metadata": {},
     "output_type": "execute_result"
    }
   ],
   "source": [
    "main_data.head(5)"
   ]
  },
  {
   "cell_type": "code",
   "execution_count": 13,
   "id": "231d51e2",
   "metadata": {},
   "outputs": [],
   "source": [
    "Train,Test = train_test_split(main_data,train_size = 0.85,stratify = main_data['Sentiment'])"
   ]
  },
  {
   "cell_type": "code",
   "execution_count": 14,
   "id": "bf65135a",
   "metadata": {},
   "outputs": [
    {
     "data": {
      "text/html": [
       "<div>\n",
       "<style scoped>\n",
       "    .dataframe tbody tr th:only-of-type {\n",
       "        vertical-align: middle;\n",
       "    }\n",
       "\n",
       "    .dataframe tbody tr th {\n",
       "        vertical-align: top;\n",
       "    }\n",
       "\n",
       "    .dataframe thead th {\n",
       "        text-align: right;\n",
       "    }\n",
       "</style>\n",
       "<table border=\"1\" class=\"dataframe\">\n",
       "  <thead>\n",
       "    <tr style=\"text-align: right;\">\n",
       "      <th></th>\n",
       "      <th>OriginalTweet</th>\n",
       "      <th>Sentiment</th>\n",
       "    </tr>\n",
       "  </thead>\n",
       "  <tbody>\n",
       "    <tr>\n",
       "      <th>5928</th>\n",
       "      <td>@mccrory @Costco MyPOV: pretty much. well it's...</td>\n",
       "      <td>1</td>\n",
       "    </tr>\n",
       "    <tr>\n",
       "      <th>5959</th>\n",
       "      <td>If you want to learn about the impact of COVID...</td>\n",
       "      <td>4</td>\n",
       "    </tr>\n",
       "    <tr>\n",
       "      <th>2323</th>\n",
       "      <td>I'm on New impressionz live, clapping for can ...</td>\n",
       "      <td>3</td>\n",
       "    </tr>\n",
       "    <tr>\n",
       "      <th>146</th>\n",
       "      <td>The US Attorney's Office has released an offic...</td>\n",
       "      <td>0</td>\n",
       "    </tr>\n",
       "    <tr>\n",
       "      <th>2920</th>\n",
       "      <td>Be aware that Scamming activity increases duri...</td>\n",
       "      <td>4</td>\n",
       "    </tr>\n",
       "  </tbody>\n",
       "</table>\n",
       "</div>"
      ],
      "text/plain": [
       "                                          OriginalTweet  Sentiment\n",
       "5928  @mccrory @Costco MyPOV: pretty much. well it's...          1\n",
       "5959  If you want to learn about the impact of COVID...          4\n",
       "2323  I'm on New impressionz live, clapping for can ...          3\n",
       "146   The US Attorney's Office has released an offic...          0\n",
       "2920  Be aware that Scamming activity increases duri...          4"
      ]
     },
     "execution_count": 14,
     "metadata": {},
     "output_type": "execute_result"
    }
   ],
   "source": [
    "Train.head(5)"
   ]
  },
  {
   "cell_type": "code",
   "execution_count": 15,
   "id": "a6c68981",
   "metadata": {},
   "outputs": [
    {
     "data": {
      "text/html": [
       "<div>\n",
       "<style scoped>\n",
       "    .dataframe tbody tr th:only-of-type {\n",
       "        vertical-align: middle;\n",
       "    }\n",
       "\n",
       "    .dataframe tbody tr th {\n",
       "        vertical-align: top;\n",
       "    }\n",
       "\n",
       "    .dataframe thead th {\n",
       "        text-align: right;\n",
       "    }\n",
       "</style>\n",
       "<table border=\"1\" class=\"dataframe\">\n",
       "  <thead>\n",
       "    <tr style=\"text-align: right;\">\n",
       "      <th></th>\n",
       "      <th>OriginalTweet</th>\n",
       "      <th>Sentiment</th>\n",
       "    </tr>\n",
       "  </thead>\n",
       "  <tbody>\n",
       "    <tr>\n",
       "      <th>7447</th>\n",
       "      <td>The US is asking other countries for everythin...</td>\n",
       "      <td>4</td>\n",
       "    </tr>\n",
       "    <tr>\n",
       "      <th>7825</th>\n",
       "      <td>Really @Bell @Bell_Support people are losing j...</td>\n",
       "      <td>4</td>\n",
       "    </tr>\n",
       "    <tr>\n",
       "      <th>9057</th>\n",
       "      <td>moonbeamwishes Hey, Megan! We will work to kee...</td>\n",
       "      <td>4</td>\n",
       "    </tr>\n",
       "    <tr>\n",
       "      <th>9359</th>\n",
       "      <td>Maine retail group chief worried about crisis-...</td>\n",
       "      <td>2</td>\n",
       "    </tr>\n",
       "    <tr>\n",
       "      <th>9775</th>\n",
       "      <td>According to a survey by @Path2PurchaseIQ, sho...</td>\n",
       "      <td>3</td>\n",
       "    </tr>\n",
       "  </tbody>\n",
       "</table>\n",
       "</div>"
      ],
      "text/plain": [
       "                                          OriginalTweet  Sentiment\n",
       "7447  The US is asking other countries for everythin...          4\n",
       "7825  Really @Bell @Bell_Support people are losing j...          4\n",
       "9057  moonbeamwishes Hey, Megan! We will work to kee...          4\n",
       "9359  Maine retail group chief worried about crisis-...          2\n",
       "9775  According to a survey by @Path2PurchaseIQ, sho...          3"
      ]
     },
     "execution_count": 15,
     "metadata": {},
     "output_type": "execute_result"
    }
   ],
   "source": [
    "Test.head(5)"
   ]
  },
  {
   "cell_type": "code",
   "execution_count": 16,
   "id": "dc522f8c",
   "metadata": {},
   "outputs": [],
   "source": [
    "def proc_text(text):\n",
    "    lowered = text.lower()\n",
    "    tokenized = ' '.join(re.findall(r\"[A-z0-9]+[A-z0-9]\",lowered))\n",
    "    return tokenized"
   ]
  },
  {
   "cell_type": "code",
   "execution_count": 17,
   "id": "5e6cc79e",
   "metadata": {},
   "outputs": [],
   "source": [
    "def train_tokens():\n",
    "    for row in range(len(Train.iloc[:,0])):\n",
    "        processed = proc_text(Train.iloc[row,0])\n",
    "        yield processed"
   ]
  },
  {
   "cell_type": "code",
   "execution_count": 18,
   "id": "58fdac53",
   "metadata": {},
   "outputs": [],
   "source": [
    "tokenizer = Tokenizer(model = tokenizers.models.WordLevel(unk_token='<unk>'))\n",
    "tokenizer.pre_tokenizer = tokenizers.pre_tokenizers.Whitespace()\n",
    "tok_trainer = tokenizers.trainers.WordLevelTrainer(vocab_size = 500_000,special_tokens = ['<pad>','<unk>'])\n",
    "tokenizer.enable_padding(direction='right',pad_id = 0,pad_token='<pad>')\n",
    "tokenizer.train_from_iterator(train_tokens(),trainer=tok_trainer)\n",
    "tokenizer.save('./tok_voc')"
   ]
  },
  {
   "cell_type": "code",
   "execution_count": 19,
   "id": "efb9862c",
   "metadata": {},
   "outputs": [],
   "source": [
    "class TextDataset(Dataset):\n",
    "    def __init__(self,texts,tok_path,processing,max_len):\n",
    "        self.texts = texts\n",
    "        self.tokenizer = PreTrainedTokenizerFast(tokenizer_file = tok_path)\n",
    "        self.processing = processing\n",
    "        self.max_length = max_len\n",
    "    \n",
    "    def __len__(self):\n",
    "        return len(self.texts)\n",
    "    \n",
    "    def __getitem__(self, indx):\n",
    "        text,label = self.processing(self.texts.iloc[indx,0]),torch.tensor(self.texts.iloc[indx,1].item())\n",
    "        tokenized_text = self.tokenizer(\n",
    "            text,\n",
    "            max_length = self.max_length,\n",
    "            padding = 'max_length',\n",
    "            return_tensors='pt',\n",
    "            truncation=True\n",
    "        )['input_ids']\n",
    "        return tokenized_text.squeeze(dim = 0),label"
   ]
  },
  {
   "cell_type": "code",
   "execution_count": 20,
   "id": "97a3beb8",
   "metadata": {},
   "outputs": [],
   "source": [
    "TrainDataset = TextDataset(texts = Train,\n",
    "                           tok_path='./tok_voc',\n",
    "                           processing=proc_text,\n",
    "                           max_len = 70)"
   ]
  },
  {
   "cell_type": "code",
   "execution_count": 21,
   "id": "44d1946b",
   "metadata": {},
   "outputs": [],
   "source": [
    "TestDataset = TextDataset(texts = Test,\n",
    "                           tok_path='./tok_voc',\n",
    "                           processing=proc_text,\n",
    "                           max_len = 70)"
   ]
  },
  {
   "cell_type": "code",
   "execution_count": 214,
   "id": "23e32e81",
   "metadata": {},
   "outputs": [],
   "source": [
    "class ClassificationModel(nn.Module):\n",
    "    def __init__(self,vocab_size,embed_dim,hidden_size,bi = True,bf = True):\n",
    "        super().__init__()\n",
    "        self.embed = nn.Embedding(vocab_size,embed_dim,padding_idx=0)\n",
    "        self.gru = nn.GRU(input_size = embed_dim,hidden_size = hidden_size,bidirectional = bi,batch_first=bf,num_layers=2,dropout=0.5)\n",
    "        self.linear = nn.Linear(600,5)\n",
    "\n",
    "    def forward(self,x):\n",
    "        y = self.embed(x)\n",
    "        _,y = self.gru(y)\n",
    "        y = y.transpose(0,1)\n",
    "        y = y.reshape(y.shape[0],-1)\n",
    "        y = self.linear(y)\n",
    "        return y"
   ]
  },
  {
   "cell_type": "code",
   "execution_count": 215,
   "id": "b3654aad",
   "metadata": {},
   "outputs": [],
   "source": [
    "vocab_size = tokenizer.get_vocab_size()\n",
    "embedding_dim = 300\n",
    "my_model = ClassificationModel(vocab_size=vocab_size,\n",
    "                               embed_dim = embedding_dim,\n",
    "                               hidden_size=150)"
   ]
  },
  {
   "cell_type": "code",
   "execution_count": 216,
   "id": "344ee054",
   "metadata": {},
   "outputs": [],
   "source": [
    "some_sample = next(iter(loader))"
   ]
  },
  {
   "cell_type": "code",
   "execution_count": 217,
   "id": "7651eaca",
   "metadata": {},
   "outputs": [
    {
     "data": {
      "text/plain": [
       "torch.Size([54, 5])"
      ]
     },
     "execution_count": 217,
     "metadata": {},
     "output_type": "execute_result"
    }
   ],
   "source": [
    "my_model(some_sample[0]).shape"
   ]
  },
  {
   "cell_type": "code",
   "execution_count": 218,
   "id": "828c0cc6",
   "metadata": {},
   "outputs": [],
   "source": [
    "def train_model(model,train_loader,epoch,main_optim,main_loss,print_every = 1):\n",
    "    try:\n",
    "        train_losses = []\n",
    "        for ep in range(epoch):\n",
    "            model.train()\n",
    "            epoch_losses = []\n",
    "            for X,y in tqdm(train_loader,desc=f'Going through the loader on epoch #{ep+1}'):\n",
    "                main_optim.zero_grad()\n",
    "                y_pred = model(X)\n",
    "                the_loss = main_loss(y_pred,y)\n",
    "                the_loss.backward()\n",
    "                main_optim.step()\n",
    "                epoch_losses.append(the_loss.item())\n",
    "            train_losses.append(round(np.array(epoch_losses).mean().item(),5))\n",
    "            if ep%print_every == 0:\n",
    "                print(f'Epoch #{ep+1} | Train loss: {train_losses[-1]}',end = '\\n\\n')\n",
    "        return train_losses\n",
    "    except KeyboardInterrupt:\n",
    "        return train_losses"
   ]
  },
  {
   "cell_type": "code",
   "execution_count": 219,
   "id": "2c10e229",
   "metadata": {},
   "outputs": [
    {
     "data": {
      "text/plain": [
       "tensor([1.4965, 1.2583, 0.8240, 1.0732, 0.7185])"
      ]
     },
     "execution_count": 219,
     "metadata": {},
     "output_type": "execute_result"
    }
   ],
   "source": [
    "weights = compute_class_weight(class_weight='balanced',y = Train['Sentiment'],classes=np.array([_ for _ in range(5)]))\n",
    "weights = torch.from_numpy(weights).to(dtype = torch.float32)\n",
    "weights"
   ]
  },
  {
   "cell_type": "code",
   "execution_count": 220,
   "id": "37a0ea37",
   "metadata": {},
   "outputs": [],
   "source": [
    "#train\n",
    "epoch = 25\n",
    "batch_size = 54\n",
    "lr = 0.0005\n",
    "loader = DataLoader(dataset = TrainDataset,shuffle = True,batch_size = batch_size)\n",
    "optimizer = torch.optim.Adam(my_model.parameters(),lr = lr,betas=(0.9,0.989))\n",
    "criterion = nn.CrossEntropyLoss(reduction = 'mean',weight = weights,label_smoothing=0.001)"
   ]
  },
  {
   "cell_type": "code",
   "execution_count": 222,
   "id": "89391bb3",
   "metadata": {},
   "outputs": [
    {
     "name": "stderr",
     "output_type": "stream",
     "text": [
      "Going through the loader on epoch #1: 100%|██████████| 158/158 [00:28<00:00,  5.57it/s]\n"
     ]
    },
    {
     "name": "stdout",
     "output_type": "stream",
     "text": [
      "Epoch #1 | Train loss: 1.55646\n",
      "\n"
     ]
    },
    {
     "name": "stderr",
     "output_type": "stream",
     "text": [
      "Going through the loader on epoch #2: 100%|██████████| 158/158 [00:27<00:00,  5.74it/s]\n"
     ]
    },
    {
     "name": "stdout",
     "output_type": "stream",
     "text": [
      "Epoch #2 | Train loss: 1.28497\n",
      "\n"
     ]
    },
    {
     "name": "stderr",
     "output_type": "stream",
     "text": [
      "Going through the loader on epoch #3: 100%|██████████| 158/158 [00:28<00:00,  5.62it/s]\n"
     ]
    },
    {
     "name": "stdout",
     "output_type": "stream",
     "text": [
      "Epoch #3 | Train loss: 1.04236\n",
      "\n"
     ]
    },
    {
     "name": "stderr",
     "output_type": "stream",
     "text": [
      "Going through the loader on epoch #4: 100%|██████████| 158/158 [00:27<00:00,  5.83it/s]\n"
     ]
    },
    {
     "name": "stdout",
     "output_type": "stream",
     "text": [
      "Epoch #4 | Train loss: 0.81879\n",
      "\n"
     ]
    },
    {
     "name": "stderr",
     "output_type": "stream",
     "text": [
      "Going through the loader on epoch #5: 100%|██████████| 158/158 [00:26<00:00,  5.87it/s]\n"
     ]
    },
    {
     "name": "stdout",
     "output_type": "stream",
     "text": [
      "Epoch #5 | Train loss: 0.62574\n",
      "\n"
     ]
    },
    {
     "name": "stderr",
     "output_type": "stream",
     "text": [
      "Going through the loader on epoch #6: 100%|██████████| 158/158 [00:26<00:00,  5.88it/s]\n"
     ]
    },
    {
     "name": "stdout",
     "output_type": "stream",
     "text": [
      "Epoch #6 | Train loss: 0.45525\n",
      "\n"
     ]
    },
    {
     "name": "stderr",
     "output_type": "stream",
     "text": [
      "Going through the loader on epoch #7: 100%|██████████| 158/158 [00:26<00:00,  5.86it/s]\n"
     ]
    },
    {
     "name": "stdout",
     "output_type": "stream",
     "text": [
      "Epoch #7 | Train loss: 0.31571\n",
      "\n"
     ]
    },
    {
     "name": "stderr",
     "output_type": "stream",
     "text": [
      "Going through the loader on epoch #8: 100%|██████████| 158/158 [00:26<00:00,  5.88it/s]\n"
     ]
    },
    {
     "name": "stdout",
     "output_type": "stream",
     "text": [
      "Epoch #8 | Train loss: 0.22203\n",
      "\n"
     ]
    },
    {
     "name": "stderr",
     "output_type": "stream",
     "text": [
      "Going through the loader on epoch #9: 100%|██████████| 158/158 [00:26<00:00,  5.86it/s]\n"
     ]
    },
    {
     "name": "stdout",
     "output_type": "stream",
     "text": [
      "Epoch #9 | Train loss: 0.14911\n",
      "\n"
     ]
    },
    {
     "name": "stderr",
     "output_type": "stream",
     "text": [
      "Going through the loader on epoch #10: 100%|██████████| 158/158 [00:27<00:00,  5.77it/s]\n"
     ]
    },
    {
     "name": "stdout",
     "output_type": "stream",
     "text": [
      "Epoch #10 | Train loss: 0.12094\n",
      "\n"
     ]
    },
    {
     "name": "stderr",
     "output_type": "stream",
     "text": [
      "Going through the loader on epoch #11: 100%|██████████| 158/158 [00:27<00:00,  5.80it/s]\n"
     ]
    },
    {
     "name": "stdout",
     "output_type": "stream",
     "text": [
      "Epoch #11 | Train loss: 0.09225\n",
      "\n"
     ]
    },
    {
     "name": "stderr",
     "output_type": "stream",
     "text": [
      "Going through the loader on epoch #12: 100%|██████████| 158/158 [00:27<00:00,  5.79it/s]\n"
     ]
    },
    {
     "name": "stdout",
     "output_type": "stream",
     "text": [
      "Epoch #12 | Train loss: 0.07568\n",
      "\n"
     ]
    },
    {
     "name": "stderr",
     "output_type": "stream",
     "text": [
      "Going through the loader on epoch #13: 100%|██████████| 158/158 [00:27<00:00,  5.73it/s]\n"
     ]
    },
    {
     "name": "stdout",
     "output_type": "stream",
     "text": [
      "Epoch #13 | Train loss: 0.06341\n",
      "\n"
     ]
    },
    {
     "name": "stderr",
     "output_type": "stream",
     "text": [
      "Going through the loader on epoch #14: 100%|██████████| 158/158 [00:27<00:00,  5.74it/s]\n"
     ]
    },
    {
     "name": "stdout",
     "output_type": "stream",
     "text": [
      "Epoch #14 | Train loss: 0.04744\n",
      "\n"
     ]
    },
    {
     "name": "stderr",
     "output_type": "stream",
     "text": [
      "Going through the loader on epoch #15: 100%|██████████| 158/158 [00:27<00:00,  5.77it/s]\n"
     ]
    },
    {
     "name": "stdout",
     "output_type": "stream",
     "text": [
      "Epoch #15 | Train loss: 0.05378\n",
      "\n"
     ]
    },
    {
     "name": "stderr",
     "output_type": "stream",
     "text": [
      "Going through the loader on epoch #16: 100%|██████████| 158/158 [00:27<00:00,  5.73it/s]\n"
     ]
    },
    {
     "name": "stdout",
     "output_type": "stream",
     "text": [
      "Epoch #16 | Train loss: 0.04551\n",
      "\n"
     ]
    },
    {
     "name": "stderr",
     "output_type": "stream",
     "text": [
      "Going through the loader on epoch #17: 100%|██████████| 158/158 [00:27<00:00,  5.76it/s]\n"
     ]
    },
    {
     "name": "stdout",
     "output_type": "stream",
     "text": [
      "Epoch #17 | Train loss: 0.03366\n",
      "\n"
     ]
    },
    {
     "name": "stderr",
     "output_type": "stream",
     "text": [
      "Going through the loader on epoch #18: 100%|██████████| 158/158 [00:27<00:00,  5.73it/s]\n"
     ]
    },
    {
     "name": "stdout",
     "output_type": "stream",
     "text": [
      "Epoch #18 | Train loss: 0.03523\n",
      "\n"
     ]
    },
    {
     "name": "stderr",
     "output_type": "stream",
     "text": [
      "Going through the loader on epoch #19: 100%|██████████| 158/158 [00:27<00:00,  5.77it/s]\n"
     ]
    },
    {
     "name": "stdout",
     "output_type": "stream",
     "text": [
      "Epoch #19 | Train loss: 0.03699\n",
      "\n"
     ]
    },
    {
     "name": "stderr",
     "output_type": "stream",
     "text": [
      "Going through the loader on epoch #20: 100%|██████████| 158/158 [00:28<00:00,  5.57it/s]\n"
     ]
    },
    {
     "name": "stdout",
     "output_type": "stream",
     "text": [
      "Epoch #20 | Train loss: 0.03395\n",
      "\n"
     ]
    },
    {
     "name": "stderr",
     "output_type": "stream",
     "text": [
      "Going through the loader on epoch #21:  16%|█▋        | 26/158 [00:04<00:24,  5.36it/s]\n"
     ]
    }
   ],
   "source": [
    "results = train_model(model = my_model,\n",
    "                      train_loader = loader,\n",
    "                      epoch = epoch,\n",
    "                      main_optim = optimizer,\n",
    "                      main_loss = criterion\n",
    "                      )"
   ]
  },
  {
   "cell_type": "code",
   "execution_count": 223,
   "id": "7cd10fef",
   "metadata": {},
   "outputs": [],
   "source": [
    "@torch.no_grad()\n",
    "def get_preds(model,Val):\n",
    "    model.eval()\n",
    "    the_loader = DataLoader(dataset = Val, shuffle = False, batch_size = 1)\n",
    "    y_true_list = []\n",
    "    y_pred_list = []\n",
    "    for X,y in the_loader:\n",
    "        probs = model(X).softmax(dim = 1)\n",
    "        distribution = Categorical(probs)\n",
    "        y_pred = distribution.sample()\n",
    "        y_true_list.append(y.item())\n",
    "        y_pred_list.append(y_pred.item())\n",
    "    return np.array(y_true_list),np.array(y_pred_list)"
   ]
  },
  {
   "cell_type": "code",
   "execution_count": 224,
   "id": "ccd4fbf5",
   "metadata": {},
   "outputs": [],
   "source": [
    "y_true,y_pred = get_preds(my_model,TestDataset)"
   ]
  },
  {
   "cell_type": "code",
   "execution_count": 225,
   "id": "041b5201",
   "metadata": {},
   "outputs": [
    {
     "name": "stdout",
     "output_type": "stream",
     "text": [
      "              precision    recall  f1-score   support\n",
      "\n",
      "           0       0.50      0.60      0.55       201\n",
      "           1       0.62      0.54      0.58       238\n",
      "           2       0.40      0.47      0.43       364\n",
      "           3       0.53      0.52      0.53       280\n",
      "           4       0.50      0.43      0.46       417\n",
      "\n",
      "    accuracy                           0.49      1500\n",
      "   macro avg       0.51      0.51      0.51      1500\n",
      "weighted avg       0.50      0.49      0.50      1500\n",
      "\n"
     ]
    }
   ],
   "source": [
    "report = classification_report(y_true = y_true,y_pred = y_pred)\n",
    "print(report)"
   ]
  },
  {
   "cell_type": "code",
   "execution_count": 226,
   "id": "40bbd26b",
   "metadata": {},
   "outputs": [
    {
     "data": {
      "text/plain": [
       "<Axes: >"
      ]
     },
     "execution_count": 226,
     "metadata": {},
     "output_type": "execute_result"
    },
    {
     "data": {
      "image/png": "[encoded data removed]",
      "text/plain": [
       "<Figure size 640x480 with 2 Axes>"
      ]
     },
     "metadata": {},
     "output_type": "display_data"
    }
   ],
   "source": [
    "conf_matrix = confusion_matrix(y_true = y_true,y_pred = y_pred)\n",
    "heatmap(conf_matrix,annot = True)"
   ]
  },
  {
   "cell_type": "code",
   "execution_count": null,
   "id": "990b7740",
   "metadata": {},
   "outputs": [
    {
     "data": {
      "text/plain": [
       "array(['Extremely Negative', 'Extremely Positive', 'Negative', 'Neutral',\n",
       "       'Positive'], dtype=object)"
      ]
     },
     "execution_count": 71,
     "metadata": {},
     "output_type": "execute_result"
    }
   ],
   "source": [
    "label_encoder.classes_"
   ]
  },
  {
   "cell_type": "code",
   "execution_count": 229,
   "id": "a858fbdb",
   "metadata": {},
   "outputs": [
    {
     "data": {
      "text/plain": [
       "[<matplotlib.lines.Line2D at 0x7df516d93b30>]"
      ]
     },
     "execution_count": 229,
     "metadata": {},
     "output_type": "execute_result"
    },
    {
     "data": {
      "image/png": "[encoded data removed]",
      "text/plain": [
       "<Figure size 1000x500 with 1 Axes>"
      ]
     },
     "metadata": {},
     "output_type": "display_data"
    }
   ],
   "source": [
    "import matplotlib.pyplot as plt\n",
    "some_figure = plt.figure(figsize = (10,5),facecolor = 'skyblue')\n",
    "some_ax = some_figure.add_subplot()\n",
    "some_ax.set_xlabel('Epoch')\n",
    "some_ax.set_ylabel('Avg Train Loss')\n",
    "some_ax.plot(results,c = 'purple')"
   ]
  },
  {
   "cell_type": "code",
   "execution_count": 266,
   "id": "87348c38",
   "metadata": {},
   "outputs": [],
   "source": [
    "def model_inf(text):\n",
    "    my_model.eval()\n",
    "    tokenizer = TrainDataset.tokenizer\n",
    "    processing = TrainDataset.processing\n",
    "    main_text = processing(text)\n",
    "    tokens = tokenizer(\n",
    "            main_text,\n",
    "            max_length = TrainDataset.max_length,\n",
    "            padding = 'max_length',\n",
    "            return_tensors='pt',\n",
    "            truncation=True)['input_ids']\n",
    "    y_pred = my_model(tokens).softmax(dim = 1).argmax(dim = 1).item()\n",
    "    return label_encoder.classes_[y_pred]"
   ]
  },
  {
   "cell_type": "code",
   "execution_count": 269,
   "id": "2bc2d289",
   "metadata": {},
   "outputs": [
    {
     "data": {
      "text/plain": [
       "'Extremely Positive'"
      ]
     },
     "execution_count": 269,
     "metadata": {},
     "output_type": "execute_result"
    }
   ],
   "source": [
    "model_inf('Thex exam is pretty well managed. I like it, organisers did a pretty good job')"
   ]
  },
  {
   "cell_type": "code",
   "execution_count": 270,
   "id": "968ba9ae",
   "metadata": {},
   "outputs": [
    {
     "data": {
      "text/plain": [
       "'Negative'"
      ]
     },
     "execution_count": 270,
     "metadata": {},
     "output_type": "execute_result"
    }
   ],
   "source": [
    "model_inf('but I hate everything about this stupid exam')"
   ]
  }
 ],
 "metadata": {
  "kernelspec": {
   "display_name": "venv-MyPython",
   "language": "python",
   "name": "python3"
  },
  "language_info": {
   "codemirror_mode": {
    "name": "ipython",
    "version": 3
   },
   "file_extension": ".py",
   "mimetype": "text/x-python",
   "name": "python",
   "nbconvert_exporter": "python",
   "pygments_lexer": "ipython3",
   "version": "3.12.3"
  }
 },
 "nbformat": 4,
 "nbformat_minor": 5
}
