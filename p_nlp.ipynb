{
 "cells": [
  {
   "cell_type": "code",
   "execution_count": 244,
   "id": "3733e66b",
   "metadata": {},
   "outputs": [],
   "source": [
    "import numpy as np\n",
    "import pandas as pd\n",
    "import tokenizers\n",
    "from tqdm import tqdm\n",
    "from tokenizers import pre_tokenizers\n",
    "from torch.utils.data import Dataset,DataLoader\n",
    "import tokenizers.trainers\n",
    "from transformers import PreTrainedTokenizerFast\n",
    "from tokenizers import Tokenizer\n",
    "import pyperclip\n",
    "import re\n",
    "from torch.distributions import Categorical\n",
    "from sklearn.preprocessing import LabelEncoder\n",
    "from sklearn.model_selection import train_test_split\n",
    "from sklearn.metrics import confusion_matrix, classification_report, f1_score\n",
    "from sklearn.utils.class_weight import compute_class_weight\n",
    "import random as rd\n",
    "from seaborn import heatmap\n",
    "import torch.nn as nn\n",
    "import torch"
   ]
  },
  {
   "cell_type": "markdown",
   "id": "854f8867",
   "metadata": {},
   "source": [
    "### Corona dataset"
   ]
  },
  {
   "cell_type": "code",
   "execution_count": null,
   "id": "19ceaeea",
   "metadata": {},
   "outputs": [
    {
     "data": {
      "text/html": [
       "<div>\n",
       "<style scoped>\n",
       "    .dataframe tbody tr th:only-of-type {\n",
       "        vertical-align: middle;\n",
       "    }\n",
       "\n",
       "    .dataframe tbody tr th {\n",
       "        vertical-align: top;\n",
       "    }\n",
       "\n",
       "    .dataframe thead th {\n",
       "        text-align: right;\n",
       "    }\n",
       "</style>\n",
       "<table border=\"1\" class=\"dataframe\">\n",
       "  <thead>\n",
       "    <tr style=\"text-align: right;\">\n",
       "      <th></th>\n",
       "      <th>OriginalTweet</th>\n",
       "      <th>Sentiment</th>\n",
       "    </tr>\n",
       "  </thead>\n",
       "  <tbody>\n",
       "    <tr>\n",
       "      <th>0</th>\n",
       "      <td>Guess?, Inc. Provides COVID-19 Business Update...</td>\n",
       "      <td>Positive</td>\n",
       "    </tr>\n",
       "    <tr>\n",
       "      <th>1</th>\n",
       "      <td>So much panic-bought food fresh food will neve...</td>\n",
       "      <td>Positive</td>\n",
       "    </tr>\n",
       "    <tr>\n",
       "      <th>2</th>\n",
       "      <td>Instead of giving financial aid that is close ...</td>\n",
       "      <td>Positive</td>\n",
       "    </tr>\n",
       "    <tr>\n",
       "      <th>3</th>\n",
       "      <td>WAIT A DAMN MINUTE\\r\\r\\n\\r\\r\\nso Amazon worker...</td>\n",
       "      <td>Positive</td>\n",
       "    </tr>\n",
       "    <tr>\n",
       "      <th>4</th>\n",
       "      <td>Pig prices were up this week at 163 39p kg amp...</td>\n",
       "      <td>Extremely Positive</td>\n",
       "    </tr>\n",
       "    <tr>\n",
       "      <th>...</th>\n",
       "      <td>...</td>\n",
       "      <td>...</td>\n",
       "    </tr>\n",
       "    <tr>\n",
       "      <th>9995</th>\n",
       "      <td>???https://t.co/Ljh5cmUkMPÂ via @amazon ???ht...</td>\n",
       "      <td>Extremely Positive</td>\n",
       "    </tr>\n",
       "    <tr>\n",
       "      <th>9996</th>\n",
       "      <td>P Stuck inside Our pals at have slashed prices...</td>\n",
       "      <td>Positive</td>\n",
       "    </tr>\n",
       "    <tr>\n",
       "      <th>9997</th>\n",
       "      <td>If you think you may experience financial hard...</td>\n",
       "      <td>Positive</td>\n",
       "    </tr>\n",
       "    <tr>\n",
       "      <th>9998</th>\n",
       "      <td>No toilet paper I can handle, no pasta, ok...b...</td>\n",
       "      <td>Extremely Negative</td>\n",
       "    </tr>\n",
       "    <tr>\n",
       "      <th>9999</th>\n",
       "      <td>Amazon has found another way to earn more in C...</td>\n",
       "      <td>Negative</td>\n",
       "    </tr>\n",
       "  </tbody>\n",
       "</table>\n",
       "<p>10000 rows × 2 columns</p>\n",
       "</div>"
      ],
      "text/plain": [
       "                                          OriginalTweet           Sentiment\n",
       "0     Guess?, Inc. Provides COVID-19 Business Update...            Positive\n",
       "1     So much panic-bought food fresh food will neve...            Positive\n",
       "2     Instead of giving financial aid that is close ...            Positive\n",
       "3     WAIT A DAMN MINUTE\\r\\r\\n\\r\\r\\nso Amazon worker...            Positive\n",
       "4     Pig prices were up this week at 163 39p kg amp...  Extremely Positive\n",
       "...                                                 ...                 ...\n",
       "9995  ???https://t.co/Ljh5cmUkMPÂ\n",
       " via @amazon ???ht...  Extremely Positive\n",
       "9996  P Stuck inside Our pals at have slashed prices...            Positive\n",
       "9997  If you think you may experience financial hard...            Positive\n",
       "9998  No toilet paper I can handle, no pasta, ok...b...  Extremely Negative\n",
       "9999  Amazon has found another way to earn more in C...            Negative\n",
       "\n",
       "[10000 rows x 2 columns]"
      ]
     },
     "execution_count": 6,
     "metadata": {},
     "output_type": "execute_result"
    }
   ],
   "source": [
    "main_data = pd.read_csv('/home/luchian/all_data/uni_data/corona.csv', usecols=['OriginalTweet','Sentiment'])\n",
    "main_data"
   ]
  },
  {
   "cell_type": "code",
   "execution_count": 7,
   "id": "50600836",
   "metadata": {},
   "outputs": [
    {
     "data": {
      "text/plain": [
       "array(['Extremely Negative', 'Extremely Positive', 'Negative', 'Neutral',\n",
       "       'Positive'], dtype=object)"
      ]
     },
     "execution_count": 7,
     "metadata": {},
     "output_type": "execute_result"
    }
   ],
   "source": [
    "label_encoder = LabelEncoder().fit(main_data['Sentiment'])\n",
    "label_encoder.classes_"
   ]
  },
  {
   "cell_type": "code",
   "execution_count": 8,
   "id": "cf393075",
   "metadata": {},
   "outputs": [],
   "source": [
    "main_data['Sentiment'] = label_encoder.transform(main_data['Sentiment'])"
   ]
  },
  {
   "cell_type": "code",
   "execution_count": 9,
   "id": "75c6856f",
   "metadata": {},
   "outputs": [
    {
     "data": {
      "text/html": [
       "<div>\n",
       "<style scoped>\n",
       "    .dataframe tbody tr th:only-of-type {\n",
       "        vertical-align: middle;\n",
       "    }\n",
       "\n",
       "    .dataframe tbody tr th {\n",
       "        vertical-align: top;\n",
       "    }\n",
       "\n",
       "    .dataframe thead th {\n",
       "        text-align: right;\n",
       "    }\n",
       "</style>\n",
       "<table border=\"1\" class=\"dataframe\">\n",
       "  <thead>\n",
       "    <tr style=\"text-align: right;\">\n",
       "      <th></th>\n",
       "      <th>OriginalTweet</th>\n",
       "      <th>Sentiment</th>\n",
       "    </tr>\n",
       "  </thead>\n",
       "  <tbody>\n",
       "    <tr>\n",
       "      <th>0</th>\n",
       "      <td>Guess?, Inc. Provides COVID-19 Business Update...</td>\n",
       "      <td>4</td>\n",
       "    </tr>\n",
       "    <tr>\n",
       "      <th>1</th>\n",
       "      <td>So much panic-bought food fresh food will neve...</td>\n",
       "      <td>4</td>\n",
       "    </tr>\n",
       "    <tr>\n",
       "      <th>2</th>\n",
       "      <td>Instead of giving financial aid that is close ...</td>\n",
       "      <td>4</td>\n",
       "    </tr>\n",
       "    <tr>\n",
       "      <th>3</th>\n",
       "      <td>WAIT A DAMN MINUTE\\r\\r\\n\\r\\r\\nso Amazon worker...</td>\n",
       "      <td>4</td>\n",
       "    </tr>\n",
       "    <tr>\n",
       "      <th>4</th>\n",
       "      <td>Pig prices were up this week at 163 39p kg amp...</td>\n",
       "      <td>1</td>\n",
       "    </tr>\n",
       "  </tbody>\n",
       "</table>\n",
       "</div>"
      ],
      "text/plain": [
       "                                       OriginalTweet  Sentiment\n",
       "0  Guess?, Inc. Provides COVID-19 Business Update...          4\n",
       "1  So much panic-bought food fresh food will neve...          4\n",
       "2  Instead of giving financial aid that is close ...          4\n",
       "3  WAIT A DAMN MINUTE\\r\\r\\n\\r\\r\\nso Amazon worker...          4\n",
       "4  Pig prices were up this week at 163 39p kg amp...          1"
      ]
     },
     "execution_count": 9,
     "metadata": {},
     "output_type": "execute_result"
    }
   ],
   "source": [
    "main_data.head(5)"
   ]
  },
  {
   "cell_type": "code",
   "execution_count": 13,
   "id": "231d51e2",
   "metadata": {},
   "outputs": [],
   "source": [
    "Train,Test = train_test_split(main_data,train_size = 0.85,stratify = main_data['Sentiment'])"
   ]
  },
  {
   "cell_type": "code",
   "execution_count": 14,
   "id": "bf65135a",
   "metadata": {},
   "outputs": [
    {
     "data": {
      "text/html": [
       "<div>\n",
       "<style scoped>\n",
       "    .dataframe tbody tr th:only-of-type {\n",
       "        vertical-align: middle;\n",
       "    }\n",
       "\n",
       "    .dataframe tbody tr th {\n",
       "        vertical-align: top;\n",
       "    }\n",
       "\n",
       "    .dataframe thead th {\n",
       "        text-align: right;\n",
       "    }\n",
       "</style>\n",
       "<table border=\"1\" class=\"dataframe\">\n",
       "  <thead>\n",
       "    <tr style=\"text-align: right;\">\n",
       "      <th></th>\n",
       "      <th>OriginalTweet</th>\n",
       "      <th>Sentiment</th>\n",
       "    </tr>\n",
       "  </thead>\n",
       "  <tbody>\n",
       "    <tr>\n",
       "      <th>5928</th>\n",
       "      <td>@mccrory @Costco MyPOV: pretty much. well it's...</td>\n",
       "      <td>1</td>\n",
       "    </tr>\n",
       "    <tr>\n",
       "      <th>5959</th>\n",
       "      <td>If you want to learn about the impact of COVID...</td>\n",
       "      <td>4</td>\n",
       "    </tr>\n",
       "    <tr>\n",
       "      <th>2323</th>\n",
       "      <td>I'm on New impressionz live, clapping for can ...</td>\n",
       "      <td>3</td>\n",
       "    </tr>\n",
       "    <tr>\n",
       "      <th>146</th>\n",
       "      <td>The US Attorney's Office has released an offic...</td>\n",
       "      <td>0</td>\n",
       "    </tr>\n",
       "    <tr>\n",
       "      <th>2920</th>\n",
       "      <td>Be aware that Scamming activity increases duri...</td>\n",
       "      <td>4</td>\n",
       "    </tr>\n",
       "  </tbody>\n",
       "</table>\n",
       "</div>"
      ],
      "text/plain": [
       "                                          OriginalTweet  Sentiment\n",
       "5928  @mccrory @Costco MyPOV: pretty much. well it's...          1\n",
       "5959  If you want to learn about the impact of COVID...          4\n",
       "2323  I'm on New impressionz live, clapping for can ...          3\n",
       "146   The US Attorney's Office has released an offic...          0\n",
       "2920  Be aware that Scamming activity increases duri...          4"
      ]
     },
     "execution_count": 14,
     "metadata": {},
     "output_type": "execute_result"
    }
   ],
   "source": [
    "Train.head(5)"
   ]
  },
  {
   "cell_type": "code",
   "execution_count": 15,
   "id": "a6c68981",
   "metadata": {},
   "outputs": [
    {
     "data": {
      "text/html": [
       "<div>\n",
       "<style scoped>\n",
       "    .dataframe tbody tr th:only-of-type {\n",
       "        vertical-align: middle;\n",
       "    }\n",
       "\n",
       "    .dataframe tbody tr th {\n",
       "        vertical-align: top;\n",
       "    }\n",
       "\n",
       "    .dataframe thead th {\n",
       "        text-align: right;\n",
       "    }\n",
       "</style>\n",
       "<table border=\"1\" class=\"dataframe\">\n",
       "  <thead>\n",
       "    <tr style=\"text-align: right;\">\n",
       "      <th></th>\n",
       "      <th>OriginalTweet</th>\n",
       "      <th>Sentiment</th>\n",
       "    </tr>\n",
       "  </thead>\n",
       "  <tbody>\n",
       "    <tr>\n",
       "      <th>7447</th>\n",
       "      <td>The US is asking other countries for everythin...</td>\n",
       "      <td>4</td>\n",
       "    </tr>\n",
       "    <tr>\n",
       "      <th>7825</th>\n",
       "      <td>Really @Bell @Bell_Support people are losing j...</td>\n",
       "      <td>4</td>\n",
       "    </tr>\n",
       "    <tr>\n",
       "      <th>9057</th>\n",
       "      <td>moonbeamwishes Hey, Megan! We will work to kee...</td>\n",
       "      <td>4</td>\n",
       "    </tr>\n",
       "    <tr>\n",
       "      <th>9359</th>\n",
       "      <td>Maine retail group chief worried about crisis-...</td>\n",
       "      <td>2</td>\n",
       "    </tr>\n",
       "    <tr>\n",
       "      <th>9775</th>\n",
       "      <td>According to a survey by @Path2PurchaseIQ, sho...</td>\n",
       "      <td>3</td>\n",
       "    </tr>\n",
       "  </tbody>\n",
       "</table>\n",
       "</div>"
      ],
      "text/plain": [
       "                                          OriginalTweet  Sentiment\n",
       "7447  The US is asking other countries for everythin...          4\n",
       "7825  Really @Bell @Bell_Support people are losing j...          4\n",
       "9057  moonbeamwishes Hey, Megan! We will work to kee...          4\n",
       "9359  Maine retail group chief worried about crisis-...          2\n",
       "9775  According to a survey by @Path2PurchaseIQ, sho...          3"
      ]
     },
     "execution_count": 15,
     "metadata": {},
     "output_type": "execute_result"
    }
   ],
   "source": [
    "Test.head(5)"
   ]
  },
  {
   "cell_type": "code",
   "execution_count": 16,
   "id": "dc522f8c",
   "metadata": {},
   "outputs": [],
   "source": [
    "def proc_text(text):\n",
    "    lowered = text.lower()\n",
    "    tokenized = ' '.join(re.findall(r\"[A-z0-9]+[A-z0-9]\",lowered))\n",
    "    return tokenized"
   ]
  },
  {
   "cell_type": "code",
   "execution_count": 17,
   "id": "5e6cc79e",
   "metadata": {},
   "outputs": [],
   "source": [
    "def train_tokens():\n",
    "    for row in range(len(Train.iloc[:,0])):\n",
    "        processed = proc_text(Train.iloc[row,0])\n",
    "        yield processed"
   ]
  },
  {
   "cell_type": "code",
   "execution_count": 18,
   "id": "58fdac53",
   "metadata": {},
   "outputs": [],
   "source": [
    "tokenizer = Tokenizer(model = tokenizers.models.WordLevel(unk_token='<unk>'))\n",
    "tokenizer.pre_tokenizer = tokenizers.pre_tokenizers.Whitespace()\n",
    "tok_trainer = tokenizers.trainers.WordLevelTrainer(vocab_size = 500_000,special_tokens = ['<pad>','<unk>'])\n",
    "tokenizer.enable_padding(direction='right',pad_id = 0,pad_token='<pad>')\n",
    "tokenizer.train_from_iterator(train_tokens(),trainer=tok_trainer)\n",
    "tokenizer.save('./tok_voc')"
   ]
  },
  {
   "cell_type": "code",
   "execution_count": 19,
   "id": "efb9862c",
   "metadata": {},
   "outputs": [],
   "source": [
    "class TextDataset(Dataset):\n",
    "    def __init__(self,texts,tok_path,processing,max_len):\n",
    "        self.texts = texts\n",
    "        self.tokenizer = PreTrainedTokenizerFast(tokenizer_file = tok_path)\n",
    "        self.processing = processing\n",
    "        self.max_length = max_len\n",
    "    \n",
    "    def __len__(self):\n",
    "        return len(self.texts)\n",
    "    \n",
    "    def __getitem__(self, indx):\n",
    "        text,label = self.processing(self.texts.iloc[indx,0]),torch.tensor(self.texts.iloc[indx,1].item())\n",
    "        tokenized_text = self.tokenizer(\n",
    "            text,\n",
    "            max_length = self.max_length,\n",
    "            padding = 'max_length',\n",
    "            return_tensors='pt',\n",
    "            truncation=True\n",
    "        )['input_ids']\n",
    "        return tokenized_text.squeeze(dim = 0),label"
   ]
  },
  {
   "cell_type": "code",
   "execution_count": 20,
   "id": "97a3beb8",
   "metadata": {},
   "outputs": [],
   "source": [
    "TrainDataset = TextDataset(texts = Train,\n",
    "                           tok_path='./tok_voc',\n",
    "                           processing=proc_text,\n",
    "                           max_len = 70)"
   ]
  },
  {
   "cell_type": "code",
   "execution_count": 21,
   "id": "44d1946b",
   "metadata": {},
   "outputs": [],
   "source": [
    "TestDataset = TextDataset(texts = Test,\n",
    "                           tok_path='./tok_voc',\n",
    "                           processing=proc_text,\n",
    "                           max_len = 70)"
   ]
  },
  {
   "cell_type": "code",
   "execution_count": 214,
   "id": "23e32e81",
   "metadata": {},
   "outputs": [],
   "source": [
    "class ClassificationModel(nn.Module):\n",
    "    def __init__(self,vocab_size,embed_dim,hidden_size,bi = True,bf = True):\n",
    "        super().__init__()\n",
    "        self.embed = nn.Embedding(vocab_size,embed_dim,padding_idx=0)\n",
    "        self.gru = nn.GRU(input_size = embed_dim,hidden_size = hidden_size,bidirectional = bi,batch_first=bf,num_layers=2,dropout=0.5)\n",
    "        self.linear = nn.Linear(600,5)\n",
    "\n",
    "    def forward(self,x):\n",
    "        y = self.embed(x)\n",
    "        _,y = self.gru(y)\n",
    "        y = y.transpose(0,1)\n",
    "        y = y.reshape(y.shape[0],-1)\n",
    "        y = self.linear(y)\n",
    "        return y"
   ]
  },
  {
   "cell_type": "code",
   "execution_count": 215,
   "id": "b3654aad",
   "metadata": {},
   "outputs": [],
   "source": [
    "vocab_size = tokenizer.get_vocab_size()\n",
    "embedding_dim = 300\n",
    "my_model = ClassificationModel(vocab_size=vocab_size,\n",
    "                               embed_dim = embedding_dim,\n",
    "                               hidden_size=150)"
   ]
  },
  {
   "cell_type": "code",
   "execution_count": 218,
   "id": "828c0cc6",
   "metadata": {},
   "outputs": [],
   "source": [
    "def train_model(model,train_loader,epoch,main_optim,main_loss,print_every = 1):\n",
    "    try:\n",
    "        train_losses = []\n",
    "        for ep in range(epoch):\n",
    "            model.train()\n",
    "            epoch_losses = []\n",
    "            for X,y in tqdm(train_loader,desc=f'Going through the loader on epoch #{ep+1}'):\n",
    "                main_optim.zero_grad()\n",
    "                y_pred = model(X)\n",
    "                the_loss = main_loss(y_pred,y)\n",
    "                the_loss.backward()\n",
    "                main_optim.step()\n",
    "                epoch_losses.append(the_loss.item())\n",
    "            train_losses.append(round(np.array(epoch_losses).mean().item(),5))\n",
    "            if ep%print_every == 0:\n",
    "                print(f'Epoch #{ep+1} | Train loss: {train_losses[-1]}',end = '\\n\\n')\n",
    "        return train_losses\n",
    "    except KeyboardInterrupt:\n",
    "        return train_losses"
   ]
  },
  {
   "cell_type": "code",
   "execution_count": 219,
   "id": "2c10e229",
   "metadata": {},
   "outputs": [
    {
     "data": {
      "text/plain": [
       "tensor([1.4965, 1.2583, 0.8240, 1.0732, 0.7185])"
      ]
     },
     "execution_count": 219,
     "metadata": {},
     "output_type": "execute_result"
    }
   ],
   "source": [
    "weights = compute_class_weight(class_weight='balanced',y = Train['Sentiment'],classes=np.array([_ for _ in range(5)]))\n",
    "weights = torch.from_numpy(weights).to(dtype = torch.float32)\n",
    "weights"
   ]
  },
  {
   "cell_type": "code",
   "execution_count": 220,
   "id": "37a0ea37",
   "metadata": {},
   "outputs": [],
   "source": [
    "#train\n",
    "epoch = 25\n",
    "batch_size = 54\n",
    "lr = 0.0005\n",
    "loader = DataLoader(dataset = TrainDataset,shuffle = True,batch_size = batch_size)\n",
    "optimizer = torch.optim.Adam(my_model.parameters(),lr = lr,betas=(0.9,0.989))\n",
    "criterion = nn.CrossEntropyLoss(reduction = 'mean',weight = weights,label_smoothing=0.001)"
   ]
  },
  {
   "cell_type": "code",
   "execution_count": 222,
   "id": "89391bb3",
   "metadata": {},
   "outputs": [
    {
     "name": "stderr",
     "output_type": "stream",
     "text": [
      "Going through the loader on epoch #1: 100%|██████████| 158/158 [00:28<00:00,  5.57it/s]\n"
     ]
    },
    {
     "name": "stdout",
     "output_type": "stream",
     "text": [
      "Epoch #1 | Train loss: 1.55646\n",
      "\n"
     ]
    },
    {
     "name": "stderr",
     "output_type": "stream",
     "text": [
      "Going through the loader on epoch #2: 100%|██████████| 158/158 [00:27<00:00,  5.74it/s]\n"
     ]
    },
    {
     "name": "stdout",
     "output_type": "stream",
     "text": [
      "Epoch #2 | Train loss: 1.28497\n",
      "\n"
     ]
    },
    {
     "name": "stderr",
     "output_type": "stream",
     "text": [
      "Going through the loader on epoch #3: 100%|██████████| 158/158 [00:28<00:00,  5.62it/s]\n"
     ]
    },
    {
     "name": "stdout",
     "output_type": "stream",
     "text": [
      "Epoch #3 | Train loss: 1.04236\n",
      "\n"
     ]
    },
    {
     "name": "stderr",
     "output_type": "stream",
     "text": [
      "Going through the loader on epoch #4: 100%|██████████| 158/158 [00:27<00:00,  5.83it/s]\n"
     ]
    },
    {
     "name": "stdout",
     "output_type": "stream",
     "text": [
      "Epoch #4 | Train loss: 0.81879\n",
      "\n"
     ]
    },
    {
     "name": "stderr",
     "output_type": "stream",
     "text": [
      "Going through the loader on epoch #5: 100%|██████████| 158/158 [00:26<00:00,  5.87it/s]\n"
     ]
    },
    {
     "name": "stdout",
     "output_type": "stream",
     "text": [
      "Epoch #5 | Train loss: 0.62574\n",
      "\n"
     ]
    },
    {
     "name": "stderr",
     "output_type": "stream",
     "text": [
      "Going through the loader on epoch #6: 100%|██████████| 158/158 [00:26<00:00,  5.88it/s]\n"
     ]
    },
    {
     "name": "stdout",
     "output_type": "stream",
     "text": [
      "Epoch #6 | Train loss: 0.45525\n",
      "\n"
     ]
    },
    {
     "name": "stderr",
     "output_type": "stream",
     "text": [
      "Going through the loader on epoch #7: 100%|██████████| 158/158 [00:26<00:00,  5.86it/s]\n"
     ]
    },
    {
     "name": "stdout",
     "output_type": "stream",
     "text": [
      "Epoch #7 | Train loss: 0.31571\n",
      "\n"
     ]
    },
    {
     "name": "stderr",
     "output_type": "stream",
     "text": [
      "Going through the loader on epoch #8: 100%|██████████| 158/158 [00:26<00:00,  5.88it/s]\n"
     ]
    },
    {
     "name": "stdout",
     "output_type": "stream",
     "text": [
      "Epoch #8 | Train loss: 0.22203\n",
      "\n"
     ]
    },
    {
     "name": "stderr",
     "output_type": "stream",
     "text": [
      "Going through the loader on epoch #9: 100%|██████████| 158/158 [00:26<00:00,  5.86it/s]\n"
     ]
    },
    {
     "name": "stdout",
     "output_type": "stream",
     "text": [
      "Epoch #9 | Train loss: 0.14911\n",
      "\n"
     ]
    },
    {
     "name": "stderr",
     "output_type": "stream",
     "text": [
      "Going through the loader on epoch #10: 100%|██████████| 158/158 [00:27<00:00,  5.77it/s]\n"
     ]
    },
    {
     "name": "stdout",
     "output_type": "stream",
     "text": [
      "Epoch #10 | Train loss: 0.12094\n",
      "\n"
     ]
    },
    {
     "name": "stderr",
     "output_type": "stream",
     "text": [
      "Going through the loader on epoch #11: 100%|██████████| 158/158 [00:27<00:00,  5.80it/s]\n"
     ]
    },
    {
     "name": "stdout",
     "output_type": "stream",
     "text": [
      "Epoch #11 | Train loss: 0.09225\n",
      "\n"
     ]
    },
    {
     "name": "stderr",
     "output_type": "stream",
     "text": [
      "Going through the loader on epoch #12: 100%|██████████| 158/158 [00:27<00:00,  5.79it/s]\n"
     ]
    },
    {
     "name": "stdout",
     "output_type": "stream",
     "text": [
      "Epoch #12 | Train loss: 0.07568\n",
      "\n"
     ]
    },
    {
     "name": "stderr",
     "output_type": "stream",
     "text": [
      "Going through the loader on epoch #13: 100%|██████████| 158/158 [00:27<00:00,  5.73it/s]\n"
     ]
    },
    {
     "name": "stdout",
     "output_type": "stream",
     "text": [
      "Epoch #13 | Train loss: 0.06341\n",
      "\n"
     ]
    },
    {
     "name": "stderr",
     "output_type": "stream",
     "text": [
      "Going through the loader on epoch #14: 100%|██████████| 158/158 [00:27<00:00,  5.74it/s]\n"
     ]
    },
    {
     "name": "stdout",
     "output_type": "stream",
     "text": [
      "Epoch #14 | Train loss: 0.04744\n",
      "\n"
     ]
    },
    {
     "name": "stderr",
     "output_type": "stream",
     "text": [
      "Going through the loader on epoch #15: 100%|██████████| 158/158 [00:27<00:00,  5.77it/s]\n"
     ]
    },
    {
     "name": "stdout",
     "output_type": "stream",
     "text": [
      "Epoch #15 | Train loss: 0.05378\n",
      "\n"
     ]
    },
    {
     "name": "stderr",
     "output_type": "stream",
     "text": [
      "Going through the loader on epoch #16: 100%|██████████| 158/158 [00:27<00:00,  5.73it/s]\n"
     ]
    },
    {
     "name": "stdout",
     "output_type": "stream",
     "text": [
      "Epoch #16 | Train loss: 0.04551\n",
      "\n"
     ]
    },
    {
     "name": "stderr",
     "output_type": "stream",
     "text": [
      "Going through the loader on epoch #17: 100%|██████████| 158/158 [00:27<00:00,  5.76it/s]\n"
     ]
    },
    {
     "name": "stdout",
     "output_type": "stream",
     "text": [
      "Epoch #17 | Train loss: 0.03366\n",
      "\n"
     ]
    },
    {
     "name": "stderr",
     "output_type": "stream",
     "text": [
      "Going through the loader on epoch #18: 100%|██████████| 158/158 [00:27<00:00,  5.73it/s]\n"
     ]
    },
    {
     "name": "stdout",
     "output_type": "stream",
     "text": [
      "Epoch #18 | Train loss: 0.03523\n",
      "\n"
     ]
    },
    {
     "name": "stderr",
     "output_type": "stream",
     "text": [
      "Going through the loader on epoch #19: 100%|██████████| 158/158 [00:27<00:00,  5.77it/s]\n"
     ]
    },
    {
     "name": "stdout",
     "output_type": "stream",
     "text": [
      "Epoch #19 | Train loss: 0.03699\n",
      "\n"
     ]
    },
    {
     "name": "stderr",
     "output_type": "stream",
     "text": [
      "Going through the loader on epoch #20: 100%|██████████| 158/158 [00:28<00:00,  5.57it/s]\n"
     ]
    },
    {
     "name": "stdout",
     "output_type": "stream",
     "text": [
      "Epoch #20 | Train loss: 0.03395\n",
      "\n"
     ]
    },
    {
     "name": "stderr",
     "output_type": "stream",
     "text": [
      "Going through the loader on epoch #21:  16%|█▋        | 26/158 [00:04<00:24,  5.36it/s]\n"
     ]
    }
   ],
   "source": [
    "results = train_model(model = my_model,\n",
    "                      train_loader = loader,\n",
    "                      epoch = epoch,\n",
    "                      main_optim = optimizer,\n",
    "                      main_loss = criterion\n",
    "                      )"
   ]
  },
  {
   "cell_type": "code",
   "execution_count": 223,
   "id": "7cd10fef",
   "metadata": {},
   "outputs": [],
   "source": [
    "@torch.no_grad()\n",
    "def get_preds(model,Val):\n",
    "    model.eval()\n",
    "    the_loader = DataLoader(dataset = Val, shuffle = False, batch_size = 1)\n",
    "    y_true_list = []\n",
    "    y_pred_list = []\n",
    "    for X,y in the_loader:\n",
    "        probs = model(X).softmax(dim = 1)\n",
    "        distribution = Categorical(probs)\n",
    "        y_pred = distribution.sample()\n",
    "        y_true_list.append(y.item())\n",
    "        y_pred_list.append(y_pred.item())\n",
    "    return np.array(y_true_list),np.array(y_pred_list)"
   ]
  },
  {
   "cell_type": "code",
   "execution_count": null,
   "id": "ccd4fbf5",
   "metadata": {},
   "outputs": [],
   "source": [
    "y_true, y_pred = get_preds(my_model,TestDataset)"
   ]
  },
  {
   "cell_type": "code",
   "execution_count": 225,
   "id": "041b5201",
   "metadata": {},
   "outputs": [
    {
     "name": "stdout",
     "output_type": "stream",
     "text": [
      "              precision    recall  f1-score   support\n",
      "\n",
      "           0       0.50      0.60      0.55       201\n",
      "           1       0.62      0.54      0.58       238\n",
      "           2       0.40      0.47      0.43       364\n",
      "           3       0.53      0.52      0.53       280\n",
      "           4       0.50      0.43      0.46       417\n",
      "\n",
      "    accuracy                           0.49      1500\n",
      "   macro avg       0.51      0.51      0.51      1500\n",
      "weighted avg       0.50      0.49      0.50      1500\n",
      "\n"
     ]
    }
   ],
   "source": [
    "report = classification_report(y_true = y_true,y_pred = y_pred)\n",
    "print(report)"
   ]
  },
  {
   "cell_type": "code",
   "execution_count": 226,
   "id": "40bbd26b",
   "metadata": {},
   "outputs": [
    {
     "data": {
      "text/plain": [
       "<Axes: >"
      ]
     },
     "execution_count": 226,
     "metadata": {},
     "output_type": "execute_result"
    },
    {
     "data": {
      "image/png": "[encoded data removed]",
      "text/plain": [
       "<Figure size 640x480 with 2 Axes>"
      ]
     },
     "metadata": {},
     "output_type": "display_data"
    }
   ],
   "source": [
    "conf_matrix = confusion_matrix(y_true = y_true,y_pred = y_pred)\n",
    "heatmap(conf_matrix,annot = True)"
   ]
  },
  {
   "cell_type": "code",
   "execution_count": null,
   "id": "990b7740",
   "metadata": {},
   "outputs": [
    {
     "data": {
      "text/plain": [
       "array(['Extremely Negative', 'Extremely Positive', 'Negative', 'Neutral',\n",
       "       'Positive'], dtype=object)"
      ]
     },
     "execution_count": 71,
     "metadata": {},
     "output_type": "execute_result"
    }
   ],
   "source": [
    "label_encoder.classes_"
   ]
  },
  {
   "cell_type": "code",
   "execution_count": 229,
   "id": "a858fbdb",
   "metadata": {},
   "outputs": [
    {
     "data": {
      "text/plain": [
       "[<matplotlib.lines.Line2D at 0x7df516d93b30>]"
      ]
     },
     "execution_count": 229,
     "metadata": {},
     "output_type": "execute_result"
    },
    {
     "data": {
      "image/png": "[encoded data removed]",
      "text/plain": [
       "<Figure size 1000x500 with 1 Axes>"
      ]
     },
     "metadata": {},
     "output_type": "display_data"
    }
   ],
   "source": [
    "import matplotlib.pyplot as plt\n",
    "some_figure = plt.figure(figsize = (10,5),facecolor = 'skyblue')\n",
    "some_ax = some_figure.add_subplot()\n",
    "some_ax.set_xlabel('Epoch')\n",
    "some_ax.set_ylabel('Avg Train Loss')\n",
    "some_ax.plot(results,c = 'purple')"
   ]
  },
  {
   "cell_type": "code",
   "execution_count": 266,
   "id": "87348c38",
   "metadata": {},
   "outputs": [],
   "source": [
    "def model_inf(text):\n",
    "    my_model.eval()\n",
    "    tokenizer = TrainDataset.tokenizer\n",
    "    processing = TrainDataset.processing\n",
    "    main_text = processing(text)\n",
    "    tokens = tokenizer(\n",
    "            main_text,\n",
    "            max_length = TrainDataset.max_length,\n",
    "            padding = 'max_length',\n",
    "            return_tensors='pt',\n",
    "            truncation=True)['input_ids']\n",
    "    y_pred = my_model(tokens).softmax(dim = 1).argmax(dim = 1).item()\n",
    "    return label_encoder.classes_[y_pred]"
   ]
  },
  {
   "cell_type": "code",
   "execution_count": 269,
   "id": "2bc2d289",
   "metadata": {},
   "outputs": [
    {
     "data": {
      "text/plain": [
       "'Extremely Positive'"
      ]
     },
     "execution_count": 269,
     "metadata": {},
     "output_type": "execute_result"
    }
   ],
   "source": [
    "model_inf('Thex exam is pretty well managed. I like it, organisers did a pretty good job')"
   ]
  },
  {
   "cell_type": "code",
   "execution_count": 270,
   "id": "968ba9ae",
   "metadata": {},
   "outputs": [
    {
     "data": {
      "text/plain": [
       "'Negative'"
      ]
     },
     "execution_count": 270,
     "metadata": {},
     "output_type": "execute_result"
    }
   ],
   "source": [
    "model_inf('but I hate everything about this stupid exam')"
   ]
  },
  {
   "cell_type": "markdown",
   "id": "00953910",
   "metadata": {},
   "source": [
    "### news dataset"
   ]
  },
  {
   "cell_type": "code",
   "execution_count": 13,
   "id": "27f4e01d",
   "metadata": {},
   "outputs": [
    {
     "name": "stdout",
     "output_type": "stream",
     "text": [
      "<class 'pandas.core.frame.DataFrame'>\n",
      "RangeIndex: 10000 entries, 0 to 9999\n",
      "Data columns (total 2 columns):\n",
      " #   Column       Non-Null Count  Dtype \n",
      "---  ------       --------------  ----- \n",
      " 0   Class Index  10000 non-null  int64 \n",
      " 1   Title        10000 non-null  object\n",
      "dtypes: int64(1), object(1)\n",
      "memory usage: 156.4+ KB\n",
      "None\n",
      "\n"
     ]
    },
    {
     "data": {
      "text/html": [
       "<div>\n",
       "<style scoped>\n",
       "    .dataframe tbody tr th:only-of-type {\n",
       "        vertical-align: middle;\n",
       "    }\n",
       "\n",
       "    .dataframe tbody tr th {\n",
       "        vertical-align: top;\n",
       "    }\n",
       "\n",
       "    .dataframe thead th {\n",
       "        text-align: right;\n",
       "    }\n",
       "</style>\n",
       "<table border=\"1\" class=\"dataframe\">\n",
       "  <thead>\n",
       "    <tr style=\"text-align: right;\">\n",
       "      <th></th>\n",
       "      <th>Class Index</th>\n",
       "      <th>Title</th>\n",
       "    </tr>\n",
       "  </thead>\n",
       "  <tbody>\n",
       "    <tr>\n",
       "      <th>0</th>\n",
       "      <td>2</td>\n",
       "      <td>Iowa Expecting Capital One Invitation (AP)</td>\n",
       "    </tr>\n",
       "    <tr>\n",
       "      <th>1</th>\n",
       "      <td>1</td>\n",
       "      <td>106 mainland enterprises listed outside mainla...</td>\n",
       "    </tr>\n",
       "    <tr>\n",
       "      <th>2</th>\n",
       "      <td>4</td>\n",
       "      <td>Internet crackdown leads to over 100 arrests</td>\n",
       "    </tr>\n",
       "    <tr>\n",
       "      <th>3</th>\n",
       "      <td>2</td>\n",
       "      <td>Williams vs Klitschko: When A Comet Crashes In...</td>\n",
       "    </tr>\n",
       "    <tr>\n",
       "      <th>4</th>\n",
       "      <td>4</td>\n",
       "      <td>Dell Gets \\$700M Deal From Royal Philips</td>\n",
       "    </tr>\n",
       "  </tbody>\n",
       "</table>\n",
       "</div>"
      ],
      "text/plain": [
       "   Class Index                                              Title\n",
       "0            2         Iowa Expecting Capital One Invitation (AP)\n",
       "1            1  106 mainland enterprises listed outside mainla...\n",
       "2            4       Internet crackdown leads to over 100 arrests\n",
       "3            2  Williams vs Klitschko: When A Comet Crashes In...\n",
       "4            4           Dell Gets \\$700M Deal From Royal Philips"
      ]
     },
     "execution_count": 13,
     "metadata": {},
     "output_type": "execute_result"
    }
   ],
   "source": [
    "news_data = pd.read_csv('/home/luchian/all_data/uni_data/NLP_datasets/news.csv', usecols = ['Class Index','Title'])\n",
    "print(news_data.info(),end = '\\n\\n')\n",
    "news_data.head(5)"
   ]
  },
  {
   "cell_type": "code",
   "execution_count": 107,
   "id": "9c3f7e3d",
   "metadata": {},
   "outputs": [
    {
     "data": {
      "text/html": [
       "<style>#sk-container-id-2 {\n",
       "  /* Definition of color scheme common for light and dark mode */\n",
       "  --sklearn-color-text: #000;\n",
       "  --sklearn-color-text-muted: #666;\n",
       "  --sklearn-color-line: gray;\n",
       "  /* Definition of color scheme for unfitted estimators */\n",
       "  --sklearn-color-unfitted-level-0: #fff5e6;\n",
       "  --sklearn-color-unfitted-level-1: #f6e4d2;\n",
       "  --sklearn-color-unfitted-level-2: #ffe0b3;\n",
       "  --sklearn-color-unfitted-level-3: chocolate;\n",
       "  /* Definition of color scheme for fitted estimators */\n",
       "  --sklearn-color-fitted-level-0: #f0f8ff;\n",
       "  --sklearn-color-fitted-level-1: #d4ebff;\n",
       "  --sklearn-color-fitted-level-2: #b3dbfd;\n",
       "  --sklearn-color-fitted-level-3: cornflowerblue;\n",
       "\n",
       "  /* Specific color for light theme */\n",
       "  --sklearn-color-text-on-default-background: var(--sg-text-color, var(--theme-code-foreground, var(--jp-content-font-color1, black)));\n",
       "  --sklearn-color-background: var(--sg-background-color, var(--theme-background, var(--jp-layout-color0, white)));\n",
       "  --sklearn-color-border-box: var(--sg-text-color, var(--theme-code-foreground, var(--jp-content-font-color1, black)));\n",
       "  --sklearn-color-icon: #696969;\n",
       "\n",
       "  @media (prefers-color-scheme: dark) {\n",
       "    /* Redefinition of color scheme for dark theme */\n",
       "    --sklearn-color-text-on-default-background: var(--sg-text-color, var(--theme-code-foreground, var(--jp-content-font-color1, white)));\n",
       "    --sklearn-color-background: var(--sg-background-color, var(--theme-background, var(--jp-layout-color0, #111)));\n",
       "    --sklearn-color-border-box: var(--sg-text-color, var(--theme-code-foreground, var(--jp-content-font-color1, white)));\n",
       "    --sklearn-color-icon: #878787;\n",
       "  }\n",
       "}\n",
       "\n",
       "#sk-container-id-2 {\n",
       "  color: var(--sklearn-color-text);\n",
       "}\n",
       "\n",
       "#sk-container-id-2 pre {\n",
       "  padding: 0;\n",
       "}\n",
       "\n",
       "#sk-container-id-2 input.sk-hidden--visually {\n",
       "  border: 0;\n",
       "  clip: rect(1px 1px 1px 1px);\n",
       "  clip: rect(1px, 1px, 1px, 1px);\n",
       "  height: 1px;\n",
       "  margin: -1px;\n",
       "  overflow: hidden;\n",
       "  padding: 0;\n",
       "  position: absolute;\n",
       "  width: 1px;\n",
       "}\n",
       "\n",
       "#sk-container-id-2 div.sk-dashed-wrapped {\n",
       "  border: 1px dashed var(--sklearn-color-line);\n",
       "  margin: 0 0.4em 0.5em 0.4em;\n",
       "  box-sizing: border-box;\n",
       "  padding-bottom: 0.4em;\n",
       "  background-color: var(--sklearn-color-background);\n",
       "}\n",
       "\n",
       "#sk-container-id-2 div.sk-container {\n",
       "  /* jupyter's `normalize.less` sets `[hidden] { display: none; }`\n",
       "     but bootstrap.min.css set `[hidden] { display: none !important; }`\n",
       "     so we also need the `!important` here to be able to override the\n",
       "     default hidden behavior on the sphinx rendered scikit-learn.org.\n",
       "     See: https://github.com/scikit-learn/scikit-learn/issues/21755 */\n",
       "  display: inline-block !important;\n",
       "  position: relative;\n",
       "}\n",
       "\n",
       "#sk-container-id-2 div.sk-text-repr-fallback {\n",
       "  display: none;\n",
       "}\n",
       "\n",
       "div.sk-parallel-item,\n",
       "div.sk-serial,\n",
       "div.sk-item {\n",
       "  /* draw centered vertical line to link estimators */\n",
       "  background-image: linear-gradient(var(--sklearn-color-text-on-default-background), var(--sklearn-color-text-on-default-background));\n",
       "  background-size: 2px 100%;\n",
       "  background-repeat: no-repeat;\n",
       "  background-position: center center;\n",
       "}\n",
       "\n",
       "/* Parallel-specific style estimator block */\n",
       "\n",
       "#sk-container-id-2 div.sk-parallel-item::after {\n",
       "  content: \"\";\n",
       "  width: 100%;\n",
       "  border-bottom: 2px solid var(--sklearn-color-text-on-default-background);\n",
       "  flex-grow: 1;\n",
       "}\n",
       "\n",
       "#sk-container-id-2 div.sk-parallel {\n",
       "  display: flex;\n",
       "  align-items: stretch;\n",
       "  justify-content: center;\n",
       "  background-color: var(--sklearn-color-background);\n",
       "  position: relative;\n",
       "}\n",
       "\n",
       "#sk-container-id-2 div.sk-parallel-item {\n",
       "  display: flex;\n",
       "  flex-direction: column;\n",
       "}\n",
       "\n",
       "#sk-container-id-2 div.sk-parallel-item:first-child::after {\n",
       "  align-self: flex-end;\n",
       "  width: 50%;\n",
       "}\n",
       "\n",
       "#sk-container-id-2 div.sk-parallel-item:last-child::after {\n",
       "  align-self: flex-start;\n",
       "  width: 50%;\n",
       "}\n",
       "\n",
       "#sk-container-id-2 div.sk-parallel-item:only-child::after {\n",
       "  width: 0;\n",
       "}\n",
       "\n",
       "/* Serial-specific style estimator block */\n",
       "\n",
       "#sk-container-id-2 div.sk-serial {\n",
       "  display: flex;\n",
       "  flex-direction: column;\n",
       "  align-items: center;\n",
       "  background-color: var(--sklearn-color-background);\n",
       "  padding-right: 1em;\n",
       "  padding-left: 1em;\n",
       "}\n",
       "\n",
       "\n",
       "/* Toggleable style: style used for estimator/Pipeline/ColumnTransformer box that is\n",
       "clickable and can be expanded/collapsed.\n",
       "- Pipeline and ColumnTransformer use this feature and define the default style\n",
       "- Estimators will overwrite some part of the style using the `sk-estimator` class\n",
       "*/\n",
       "\n",
       "/* Pipeline and ColumnTransformer style (default) */\n",
       "\n",
       "#sk-container-id-2 div.sk-toggleable {\n",
       "  /* Default theme specific background. It is overwritten whether we have a\n",
       "  specific estimator or a Pipeline/ColumnTransformer */\n",
       "  background-color: var(--sklearn-color-background);\n",
       "}\n",
       "\n",
       "/* Toggleable label */\n",
       "#sk-container-id-2 label.sk-toggleable__label {\n",
       "  cursor: pointer;\n",
       "  display: flex;\n",
       "  width: 100%;\n",
       "  margin-bottom: 0;\n",
       "  padding: 0.5em;\n",
       "  box-sizing: border-box;\n",
       "  text-align: center;\n",
       "  align-items: start;\n",
       "  justify-content: space-between;\n",
       "  gap: 0.5em;\n",
       "}\n",
       "\n",
       "#sk-container-id-2 label.sk-toggleable__label .caption {\n",
       "  font-size: 0.6rem;\n",
       "  font-weight: lighter;\n",
       "  color: var(--sklearn-color-text-muted);\n",
       "}\n",
       "\n",
       "#sk-container-id-2 label.sk-toggleable__label-arrow:before {\n",
       "  /* Arrow on the left of the label */\n",
       "  content: \"▸\";\n",
       "  float: left;\n",
       "  margin-right: 0.25em;\n",
       "  color: var(--sklearn-color-icon);\n",
       "}\n",
       "\n",
       "#sk-container-id-2 label.sk-toggleable__label-arrow:hover:before {\n",
       "  color: var(--sklearn-color-text);\n",
       "}\n",
       "\n",
       "/* Toggleable content - dropdown */\n",
       "\n",
       "#sk-container-id-2 div.sk-toggleable__content {\n",
       "  max-height: 0;\n",
       "  max-width: 0;\n",
       "  overflow: hidden;\n",
       "  text-align: left;\n",
       "  /* unfitted */\n",
       "  background-color: var(--sklearn-color-unfitted-level-0);\n",
       "}\n",
       "\n",
       "#sk-container-id-2 div.sk-toggleable__content.fitted {\n",
       "  /* fitted */\n",
       "  background-color: var(--sklearn-color-fitted-level-0);\n",
       "}\n",
       "\n",
       "#sk-container-id-2 div.sk-toggleable__content pre {\n",
       "  margin: 0.2em;\n",
       "  border-radius: 0.25em;\n",
       "  color: var(--sklearn-color-text);\n",
       "  /* unfitted */\n",
       "  background-color: var(--sklearn-color-unfitted-level-0);\n",
       "}\n",
       "\n",
       "#sk-container-id-2 div.sk-toggleable__content.fitted pre {\n",
       "  /* unfitted */\n",
       "  background-color: var(--sklearn-color-fitted-level-0);\n",
       "}\n",
       "\n",
       "#sk-container-id-2 input.sk-toggleable__control:checked~div.sk-toggleable__content {\n",
       "  /* Expand drop-down */\n",
       "  max-height: 200px;\n",
       "  max-width: 100%;\n",
       "  overflow: auto;\n",
       "}\n",
       "\n",
       "#sk-container-id-2 input.sk-toggleable__control:checked~label.sk-toggleable__label-arrow:before {\n",
       "  content: \"▾\";\n",
       "}\n",
       "\n",
       "/* Pipeline/ColumnTransformer-specific style */\n",
       "\n",
       "#sk-container-id-2 div.sk-label input.sk-toggleable__control:checked~label.sk-toggleable__label {\n",
       "  color: var(--sklearn-color-text);\n",
       "  background-color: var(--sklearn-color-unfitted-level-2);\n",
       "}\n",
       "\n",
       "#sk-container-id-2 div.sk-label.fitted input.sk-toggleable__control:checked~label.sk-toggleable__label {\n",
       "  background-color: var(--sklearn-color-fitted-level-2);\n",
       "}\n",
       "\n",
       "/* Estimator-specific style */\n",
       "\n",
       "/* Colorize estimator box */\n",
       "#sk-container-id-2 div.sk-estimator input.sk-toggleable__control:checked~label.sk-toggleable__label {\n",
       "  /* unfitted */\n",
       "  background-color: var(--sklearn-color-unfitted-level-2);\n",
       "}\n",
       "\n",
       "#sk-container-id-2 div.sk-estimator.fitted input.sk-toggleable__control:checked~label.sk-toggleable__label {\n",
       "  /* fitted */\n",
       "  background-color: var(--sklearn-color-fitted-level-2);\n",
       "}\n",
       "\n",
       "#sk-container-id-2 div.sk-label label.sk-toggleable__label,\n",
       "#sk-container-id-2 div.sk-label label {\n",
       "  /* The background is the default theme color */\n",
       "  color: var(--sklearn-color-text-on-default-background);\n",
       "}\n",
       "\n",
       "/* On hover, darken the color of the background */\n",
       "#sk-container-id-2 div.sk-label:hover label.sk-toggleable__label {\n",
       "  color: var(--sklearn-color-text);\n",
       "  background-color: var(--sklearn-color-unfitted-level-2);\n",
       "}\n",
       "\n",
       "/* Label box, darken color on hover, fitted */\n",
       "#sk-container-id-2 div.sk-label.fitted:hover label.sk-toggleable__label.fitted {\n",
       "  color: var(--sklearn-color-text);\n",
       "  background-color: var(--sklearn-color-fitted-level-2);\n",
       "}\n",
       "\n",
       "/* Estimator label */\n",
       "\n",
       "#sk-container-id-2 div.sk-label label {\n",
       "  font-family: monospace;\n",
       "  font-weight: bold;\n",
       "  display: inline-block;\n",
       "  line-height: 1.2em;\n",
       "}\n",
       "\n",
       "#sk-container-id-2 div.sk-label-container {\n",
       "  text-align: center;\n",
       "}\n",
       "\n",
       "/* Estimator-specific */\n",
       "#sk-container-id-2 div.sk-estimator {\n",
       "  font-family: monospace;\n",
       "  border: 1px dotted var(--sklearn-color-border-box);\n",
       "  border-radius: 0.25em;\n",
       "  box-sizing: border-box;\n",
       "  margin-bottom: 0.5em;\n",
       "  /* unfitted */\n",
       "  background-color: var(--sklearn-color-unfitted-level-0);\n",
       "}\n",
       "\n",
       "#sk-container-id-2 div.sk-estimator.fitted {\n",
       "  /* fitted */\n",
       "  background-color: var(--sklearn-color-fitted-level-0);\n",
       "}\n",
       "\n",
       "/* on hover */\n",
       "#sk-container-id-2 div.sk-estimator:hover {\n",
       "  /* unfitted */\n",
       "  background-color: var(--sklearn-color-unfitted-level-2);\n",
       "}\n",
       "\n",
       "#sk-container-id-2 div.sk-estimator.fitted:hover {\n",
       "  /* fitted */\n",
       "  background-color: var(--sklearn-color-fitted-level-2);\n",
       "}\n",
       "\n",
       "/* Specification for estimator info (e.g. \"i\" and \"?\") */\n",
       "\n",
       "/* Common style for \"i\" and \"?\" */\n",
       "\n",
       ".sk-estimator-doc-link,\n",
       "a:link.sk-estimator-doc-link,\n",
       "a:visited.sk-estimator-doc-link {\n",
       "  float: right;\n",
       "  font-size: smaller;\n",
       "  line-height: 1em;\n",
       "  font-family: monospace;\n",
       "  background-color: var(--sklearn-color-background);\n",
       "  border-radius: 1em;\n",
       "  height: 1em;\n",
       "  width: 1em;\n",
       "  text-decoration: none !important;\n",
       "  margin-left: 0.5em;\n",
       "  text-align: center;\n",
       "  /* unfitted */\n",
       "  border: var(--sklearn-color-unfitted-level-1) 1pt solid;\n",
       "  color: var(--sklearn-color-unfitted-level-1);\n",
       "}\n",
       "\n",
       ".sk-estimator-doc-link.fitted,\n",
       "a:link.sk-estimator-doc-link.fitted,\n",
       "a:visited.sk-estimator-doc-link.fitted {\n",
       "  /* fitted */\n",
       "  border: var(--sklearn-color-fitted-level-1) 1pt solid;\n",
       "  color: var(--sklearn-color-fitted-level-1);\n",
       "}\n",
       "\n",
       "/* On hover */\n",
       "div.sk-estimator:hover .sk-estimator-doc-link:hover,\n",
       ".sk-estimator-doc-link:hover,\n",
       "div.sk-label-container:hover .sk-estimator-doc-link:hover,\n",
       ".sk-estimator-doc-link:hover {\n",
       "  /* unfitted */\n",
       "  background-color: var(--sklearn-color-unfitted-level-3);\n",
       "  color: var(--sklearn-color-background);\n",
       "  text-decoration: none;\n",
       "}\n",
       "\n",
       "div.sk-estimator.fitted:hover .sk-estimator-doc-link.fitted:hover,\n",
       ".sk-estimator-doc-link.fitted:hover,\n",
       "div.sk-label-container:hover .sk-estimator-doc-link.fitted:hover,\n",
       ".sk-estimator-doc-link.fitted:hover {\n",
       "  /* fitted */\n",
       "  background-color: var(--sklearn-color-fitted-level-3);\n",
       "  color: var(--sklearn-color-background);\n",
       "  text-decoration: none;\n",
       "}\n",
       "\n",
       "/* Span, style for the box shown on hovering the info icon */\n",
       ".sk-estimator-doc-link span {\n",
       "  display: none;\n",
       "  z-index: 9999;\n",
       "  position: relative;\n",
       "  font-weight: normal;\n",
       "  right: .2ex;\n",
       "  padding: .5ex;\n",
       "  margin: .5ex;\n",
       "  width: min-content;\n",
       "  min-width: 20ex;\n",
       "  max-width: 50ex;\n",
       "  color: var(--sklearn-color-text);\n",
       "  box-shadow: 2pt 2pt 4pt #999;\n",
       "  /* unfitted */\n",
       "  background: var(--sklearn-color-unfitted-level-0);\n",
       "  border: .5pt solid var(--sklearn-color-unfitted-level-3);\n",
       "}\n",
       "\n",
       ".sk-estimator-doc-link.fitted span {\n",
       "  /* fitted */\n",
       "  background: var(--sklearn-color-fitted-level-0);\n",
       "  border: var(--sklearn-color-fitted-level-3);\n",
       "}\n",
       "\n",
       ".sk-estimator-doc-link:hover span {\n",
       "  display: block;\n",
       "}\n",
       "\n",
       "/* \"?\"-specific style due to the `<a>` HTML tag */\n",
       "\n",
       "#sk-container-id-2 a.estimator_doc_link {\n",
       "  float: right;\n",
       "  font-size: 1rem;\n",
       "  line-height: 1em;\n",
       "  font-family: monospace;\n",
       "  background-color: var(--sklearn-color-background);\n",
       "  border-radius: 1rem;\n",
       "  height: 1rem;\n",
       "  width: 1rem;\n",
       "  text-decoration: none;\n",
       "  /* unfitted */\n",
       "  color: var(--sklearn-color-unfitted-level-1);\n",
       "  border: var(--sklearn-color-unfitted-level-1) 1pt solid;\n",
       "}\n",
       "\n",
       "#sk-container-id-2 a.estimator_doc_link.fitted {\n",
       "  /* fitted */\n",
       "  border: var(--sklearn-color-fitted-level-1) 1pt solid;\n",
       "  color: var(--sklearn-color-fitted-level-1);\n",
       "}\n",
       "\n",
       "/* On hover */\n",
       "#sk-container-id-2 a.estimator_doc_link:hover {\n",
       "  /* unfitted */\n",
       "  background-color: var(--sklearn-color-unfitted-level-3);\n",
       "  color: var(--sklearn-color-background);\n",
       "  text-decoration: none;\n",
       "}\n",
       "\n",
       "#sk-container-id-2 a.estimator_doc_link.fitted:hover {\n",
       "  /* fitted */\n",
       "  background-color: var(--sklearn-color-fitted-level-3);\n",
       "}\n",
       "</style><div id=\"sk-container-id-2\" class=\"sk-top-container\"><div class=\"sk-text-repr-fallback\"><pre>LabelEncoder()</pre><b>In a Jupyter environment, please rerun this cell to show the HTML representation or trust the notebook. <br />On GitHub, the HTML representation is unable to render, please try loading this page with nbviewer.org.</b></div><div class=\"sk-container\" hidden><div class=\"sk-item\"><div class=\"sk-estimator fitted sk-toggleable\"><input class=\"sk-toggleable__control sk-hidden--visually\" id=\"sk-estimator-id-2\" type=\"checkbox\" checked><label for=\"sk-estimator-id-2\" class=\"sk-toggleable__label fitted sk-toggleable__label-arrow\"><div><div>LabelEncoder</div></div><div><a class=\"sk-estimator-doc-link fitted\" rel=\"noreferrer\" target=\"_blank\" href=\"https://scikit-learn.org/1.6/modules/generated/sklearn.preprocessing.LabelEncoder.html\">?<span>Documentation for LabelEncoder</span></a><span class=\"sk-estimator-doc-link fitted\">i<span>Fitted</span></span></div></label><div class=\"sk-toggleable__content fitted\"><pre>LabelEncoder()</pre></div> </div></div></div></div>"
      ],
      "text/plain": [
       "LabelEncoder()"
      ]
     },
     "execution_count": 107,
     "metadata": {},
     "output_type": "execute_result"
    }
   ],
   "source": [
    "label_encoder = LabelEncoder().fit(news_data['Class Index'])\n",
    "label_encoder"
   ]
  },
  {
   "cell_type": "code",
   "execution_count": 109,
   "id": "ea224b7d",
   "metadata": {},
   "outputs": [
    {
     "data": {
      "text/plain": [
       "array([1, 2, 3, 4])"
      ]
     },
     "execution_count": 109,
     "metadata": {},
     "output_type": "execute_result"
    }
   ],
   "source": [
    "label_encoder.classes_"
   ]
  },
  {
   "cell_type": "code",
   "execution_count": 110,
   "id": "8a7ef160",
   "metadata": {},
   "outputs": [],
   "source": [
    "news_data['Class Index'] = label_encoder.transform(news_data['Class Index'])"
   ]
  },
  {
   "cell_type": "code",
   "execution_count": 111,
   "id": "46147cec",
   "metadata": {},
   "outputs": [
    {
     "data": {
      "text/html": [
       "<div>\n",
       "<style scoped>\n",
       "    .dataframe tbody tr th:only-of-type {\n",
       "        vertical-align: middle;\n",
       "    }\n",
       "\n",
       "    .dataframe tbody tr th {\n",
       "        vertical-align: top;\n",
       "    }\n",
       "\n",
       "    .dataframe thead th {\n",
       "        text-align: right;\n",
       "    }\n",
       "</style>\n",
       "<table border=\"1\" class=\"dataframe\">\n",
       "  <thead>\n",
       "    <tr style=\"text-align: right;\">\n",
       "      <th></th>\n",
       "      <th>Class Index</th>\n",
       "      <th>Title</th>\n",
       "    </tr>\n",
       "  </thead>\n",
       "  <tbody>\n",
       "    <tr>\n",
       "      <th>0</th>\n",
       "      <td>1</td>\n",
       "      <td>Iowa Expecting Capital One Invitation (AP)</td>\n",
       "    </tr>\n",
       "    <tr>\n",
       "      <th>1</th>\n",
       "      <td>0</td>\n",
       "      <td>106 mainland enterprises listed outside mainla...</td>\n",
       "    </tr>\n",
       "    <tr>\n",
       "      <th>2</th>\n",
       "      <td>3</td>\n",
       "      <td>Internet crackdown leads to over 100 arrests</td>\n",
       "    </tr>\n",
       "    <tr>\n",
       "      <th>3</th>\n",
       "      <td>1</td>\n",
       "      <td>Williams vs Klitschko: When A Comet Crashes In...</td>\n",
       "    </tr>\n",
       "    <tr>\n",
       "      <th>4</th>\n",
       "      <td>3</td>\n",
       "      <td>Dell Gets \\$700M Deal From Royal Philips</td>\n",
       "    </tr>\n",
       "  </tbody>\n",
       "</table>\n",
       "</div>"
      ],
      "text/plain": [
       "   Class Index                                              Title\n",
       "0            1         Iowa Expecting Capital One Invitation (AP)\n",
       "1            0  106 mainland enterprises listed outside mainla...\n",
       "2            3       Internet crackdown leads to over 100 arrests\n",
       "3            1  Williams vs Klitschko: When A Comet Crashes In...\n",
       "4            3           Dell Gets \\$700M Deal From Royal Philips"
      ]
     },
     "execution_count": 111,
     "metadata": {},
     "output_type": "execute_result"
    }
   ],
   "source": [
    "news_data.head(5)"
   ]
  },
  {
   "cell_type": "code",
   "execution_count": 300,
   "id": "7771b664",
   "metadata": {},
   "outputs": [
    {
     "name": "stdout",
     "output_type": "stream",
     "text": [
      "9000\n",
      "1000\n"
     ]
    }
   ],
   "source": [
    "Train_news,Test_news = train_test_split(news_data,train_size = 0.9,stratify=news_data['Class Index'])\n",
    "print(len(Train_news))\n",
    "print(len(Test_news))"
   ]
  },
  {
   "cell_type": "code",
   "execution_count": 33,
   "id": "2d5d679f",
   "metadata": {},
   "outputs": [
    {
     "data": {
      "text/plain": [
       "'NFL Wrap: McNabb Leads Eagles to Fourth East Title'"
      ]
     },
     "execution_count": 33,
     "metadata": {},
     "output_type": "execute_result"
    }
   ],
   "source": [
    "sample_text = Train_news.iloc[rd.randint(1,9000),1]\n",
    "sample_text"
   ]
  },
  {
   "cell_type": "code",
   "execution_count": null,
   "id": "bbb1d197",
   "metadata": {},
   "outputs": [],
   "source": [
    "def proc_text(text):\n",
    "    \"\"\"simple processing of a text\"\"\"\n",
    "    lowered = text.lower()\n",
    "    tokenized = ' '.join(re.findall(r\"[A-z0-9]+[A-z0-9]\",lowered))\n",
    "    return tokenized"
   ]
  },
  {
   "cell_type": "code",
   "execution_count": 270,
   "id": "e5f4c407",
   "metadata": {},
   "outputs": [
    {
     "data": {
      "text/plain": [
       "'nfl wrap mcnabb leads eagles to fourth east title'"
      ]
     },
     "execution_count": 270,
     "metadata": {},
     "output_type": "execute_result"
    }
   ],
   "source": [
    "proc_text(sample_text)"
   ]
  },
  {
   "cell_type": "code",
   "execution_count": null,
   "id": "9d66335a",
   "metadata": {},
   "outputs": [],
   "source": [
    "def train_tokens():\n",
    "    \"\"\"creates a training generator for tokenizing\"\"\"\n",
    "    for row in range(len(Train_news.iloc[:,1])):\n",
    "        processed = proc_text(Train_news.iloc[row,1]) \n",
    "        yield processed"
   ]
  },
  {
   "cell_type": "code",
   "execution_count": 112,
   "id": "ea0a4faf",
   "metadata": {},
   "outputs": [],
   "source": [
    "def tokenizer_to_path(gen):\n",
    "    \"\"\"creates a doc with voc for further use with FastTokenizer from transformers\"\"\"\n",
    "    tokenizer = Tokenizer(model = tokenizers.models.WordLevel(unk_token='<unk>'))\n",
    "    tokenizer.pre_tokenizer = tokenizers.pre_tokenizers.Whitespace()\n",
    "    tok_trainer = tokenizers.trainers.WordLevelTrainer(vocab_size = 500_000,special_tokens = ['<pad>','<unk>'])\n",
    "    tokenizer.enable_padding(direction='right',pad_id = 0,pad_token='<pad>')\n",
    "    tokenizer.train_from_iterator(gen,trainer=tok_trainer)\n",
    "    return tokenizer"
   ]
  },
  {
   "cell_type": "code",
   "execution_count": 115,
   "id": "6c1318d2",
   "metadata": {},
   "outputs": [
    {
     "name": "stdout",
     "output_type": "stream",
     "text": [
      "<class 'tokenizers.Tokenizer'>\n"
     ]
    }
   ],
   "source": [
    "tok = tokenizer_to_path(train_tokens())\n",
    "print(type(tok))"
   ]
  },
  {
   "cell_type": "code",
   "execution_count": 277,
   "id": "e9898c9c",
   "metadata": {},
   "outputs": [
    {
     "data": {
      "text/plain": [
       "11201"
      ]
     },
     "execution_count": 277,
     "metadata": {},
     "output_type": "execute_result"
    }
   ],
   "source": [
    "tok.get_vocab_size()"
   ]
  },
  {
   "cell_type": "code",
   "execution_count": 118,
   "id": "54cb30e9",
   "metadata": {},
   "outputs": [],
   "source": [
    "class TextDataset(Dataset):\n",
    "    def __init__(self,texts,tok_obj,processing,max_len):\n",
    "        self.texts = texts\n",
    "        self.tokenizer = PreTrainedTokenizerFast(tokenizer_object = tok_obj)\n",
    "        self.processing = processing\n",
    "        self.max_length = max_len\n",
    "    \n",
    "    def __len__(self):\n",
    "        return len(self.texts)\n",
    "    \n",
    "    def __getitem__(self, indx):\n",
    "        text,label = self.processing(self.texts.iloc[indx,1]),torch.tensor(self.texts.iloc[indx,0].item())\n",
    "        tokenized_text = self.tokenizer(\n",
    "            text,\n",
    "            max_length = self.max_length,\n",
    "            padding = 'max_length',\n",
    "            return_tensors='pt',\n",
    "            truncation=True\n",
    "        )['input_ids']\n",
    "        return tokenized_text.squeeze(dim = 0),label"
   ]
  },
  {
   "cell_type": "code",
   "execution_count": 309,
   "id": "aa462b5a",
   "metadata": {},
   "outputs": [],
   "source": [
    "News_torch_train = TextDataset(Train_news,tok,proc_text,12)\n",
    "News_torch_test = TextDataset(Test_news,tok,proc_text,12)"
   ]
  },
  {
   "cell_type": "code",
   "execution_count": 310,
   "id": "852f36e9",
   "metadata": {},
   "outputs": [],
   "source": [
    "class ClassificationModel(nn.Module):\n",
    "    def __init__(self,vocab_size,embed_dim,hidden_size,bi = True,bf = True):\n",
    "        super().__init__() #initialization of super class\n",
    "        self.embed = nn.Embedding(vocab_size,embed_dim,padding_idx=0)\n",
    "        self.gru = nn.GRU(input_size = embed_dim,hidden_size = hidden_size,bidirectional = bi,batch_first=bf,num_layers=2,dropout=0.5)\n",
    "        self.linear = nn.Linear(600,4)\n",
    "\n",
    "    def forward(self,x):\n",
    "        y = self.embed(x)\n",
    "        _,y = self.gru(y)\n",
    "        y = y.transpose(0,1)\n",
    "        y = y.reshape(y.shape[0],-1)\n",
    "        y = self.linear(y)\n",
    "        return y"
   ]
  },
  {
   "cell_type": "code",
   "execution_count": 311,
   "id": "fb0de426",
   "metadata": {},
   "outputs": [],
   "source": [
    "def train_model(model,train_loader,epoch,main_optim,main_loss,print_every = 1):\n",
    "    try:\n",
    "        train_losses = []\n",
    "        for ep in range(epoch):\n",
    "            model.train()\n",
    "            epoch_losses = []\n",
    "            for X,y in tqdm(train_loader,desc=f'Going through the loader on epoch #{ep+1}'):\n",
    "                main_optim.zero_grad()\n",
    "                y_pred = model(X)\n",
    "                the_loss = main_loss(y_pred,y)\n",
    "                the_loss.backward()\n",
    "                main_optim.step()\n",
    "                epoch_losses.append(the_loss.item())\n",
    "            train_losses.append(round(np.array(epoch_losses).mean().item(),5))\n",
    "            if ep%print_every == 0:\n",
    "                print(f'Epoch #{ep+1} | Train loss: {train_losses[-1]}',end = '\\n\\n')\n",
    "        return train_losses\n",
    "    except KeyboardInterrupt:\n",
    "        return train_losses"
   ]
  },
  {
   "cell_type": "code",
   "execution_count": 312,
   "id": "b4294102",
   "metadata": {},
   "outputs": [
    {
     "data": {
      "text/plain": [
       "tensor([0.9707, 1.0158, 1.0103, 1.0045])"
      ]
     },
     "execution_count": 312,
     "metadata": {},
     "output_type": "execute_result"
    }
   ],
   "source": [
    "weights = compute_class_weight(class_weight='balanced',y = Train_news['Class Index'],classes=np.array([_ for _ in range(4)]))\n",
    "weights = torch.from_numpy(weights).to(dtype = torch.float32)\n",
    "weights"
   ]
  },
  {
   "cell_type": "code",
   "execution_count": 313,
   "id": "2177276f",
   "metadata": {},
   "outputs": [],
   "source": [
    "vocab_size = tok.get_vocab_size()\n",
    "embed_dim = 300\n",
    "hidden_size = 150"
   ]
  },
  {
   "cell_type": "code",
   "execution_count": 314,
   "id": "4615607f",
   "metadata": {},
   "outputs": [
    {
     "data": {
      "text/plain": [
       "ClassificationModel(\n",
       "  (embed): Embedding(11201, 300, padding_idx=0)\n",
       "  (gru): GRU(300, 150, num_layers=2, batch_first=True, dropout=0.5, bidirectional=True)\n",
       "  (linear): Linear(in_features=600, out_features=4, bias=True)\n",
       ")"
      ]
     },
     "execution_count": 314,
     "metadata": {},
     "output_type": "execute_result"
    }
   ],
   "source": [
    "my_mod = ClassificationModel(vocab_size,embed_dim,hidden_size)\n",
    "my_mod"
   ]
  },
  {
   "cell_type": "code",
   "execution_count": 315,
   "id": "c49e0dd8",
   "metadata": {},
   "outputs": [],
   "source": [
    "#train\n",
    "epoch = 20\n",
    "batch_size = 46\n",
    "lr = 0.0005\n",
    "loader = DataLoader(dataset = News_torch_train,shuffle = True,batch_size = batch_size)\n",
    "optimizer = torch.optim.Adam(my_mod.parameters(),lr = lr,betas=(0.9,0.989))\n",
    "criterion = nn.CrossEntropyLoss(reduction = 'mean',weight = weights,label_smoothing=0.0001)"
   ]
  },
  {
   "cell_type": "code",
   "execution_count": 316,
   "id": "b1451f01",
   "metadata": {},
   "outputs": [
    {
     "name": "stderr",
     "output_type": "stream",
     "text": [
      "Going through the loader on epoch #1: 100%|██████████| 196/196 [00:10<00:00, 18.43it/s]\n"
     ]
    },
    {
     "name": "stdout",
     "output_type": "stream",
     "text": [
      "Epoch #1 | Train loss: 1.11327\n",
      "\n"
     ]
    },
    {
     "name": "stderr",
     "output_type": "stream",
     "text": [
      "Going through the loader on epoch #2: 100%|██████████| 196/196 [00:09<00:00, 21.62it/s]\n"
     ]
    },
    {
     "name": "stdout",
     "output_type": "stream",
     "text": [
      "Epoch #2 | Train loss: 0.64781\n",
      "\n"
     ]
    },
    {
     "name": "stderr",
     "output_type": "stream",
     "text": [
      "Going through the loader on epoch #3: 100%|██████████| 196/196 [00:08<00:00, 22.67it/s]\n"
     ]
    },
    {
     "name": "stdout",
     "output_type": "stream",
     "text": [
      "Epoch #3 | Train loss: 0.3971\n",
      "\n"
     ]
    },
    {
     "name": "stderr",
     "output_type": "stream",
     "text": [
      "Going through the loader on epoch #4: 100%|██████████| 196/196 [00:08<00:00, 24.34it/s]\n"
     ]
    },
    {
     "name": "stdout",
     "output_type": "stream",
     "text": [
      "Epoch #4 | Train loss: 0.21929\n",
      "\n"
     ]
    },
    {
     "name": "stderr",
     "output_type": "stream",
     "text": [
      "Going through the loader on epoch #5: 100%|██████████| 196/196 [00:08<00:00, 23.24it/s]\n"
     ]
    },
    {
     "name": "stdout",
     "output_type": "stream",
     "text": [
      "Epoch #5 | Train loss: 0.11343\n",
      "\n"
     ]
    },
    {
     "name": "stderr",
     "output_type": "stream",
     "text": [
      "Going through the loader on epoch #6: 100%|██████████| 196/196 [00:08<00:00, 23.68it/s]\n"
     ]
    },
    {
     "name": "stdout",
     "output_type": "stream",
     "text": [
      "Epoch #6 | Train loss: 0.06902\n",
      "\n"
     ]
    },
    {
     "name": "stderr",
     "output_type": "stream",
     "text": [
      "Going through the loader on epoch #7: 100%|██████████| 196/196 [00:08<00:00, 23.16it/s]\n"
     ]
    },
    {
     "name": "stdout",
     "output_type": "stream",
     "text": [
      "Epoch #7 | Train loss: 0.04947\n",
      "\n"
     ]
    },
    {
     "name": "stderr",
     "output_type": "stream",
     "text": [
      "Going through the loader on epoch #8: 100%|██████████| 196/196 [00:08<00:00, 24.16it/s]\n"
     ]
    },
    {
     "name": "stdout",
     "output_type": "stream",
     "text": [
      "Epoch #8 | Train loss: 0.04243\n",
      "\n"
     ]
    },
    {
     "name": "stderr",
     "output_type": "stream",
     "text": [
      "Going through the loader on epoch #9: 100%|██████████| 196/196 [00:09<00:00, 21.09it/s]\n"
     ]
    },
    {
     "name": "stdout",
     "output_type": "stream",
     "text": [
      "Epoch #9 | Train loss: 0.0388\n",
      "\n"
     ]
    },
    {
     "name": "stderr",
     "output_type": "stream",
     "text": [
      "Going through the loader on epoch #10: 100%|██████████| 196/196 [00:09<00:00, 20.66it/s]\n"
     ]
    },
    {
     "name": "stdout",
     "output_type": "stream",
     "text": [
      "Epoch #10 | Train loss: 0.02371\n",
      "\n"
     ]
    },
    {
     "name": "stderr",
     "output_type": "stream",
     "text": [
      "Going through the loader on epoch #11: 100%|██████████| 196/196 [00:09<00:00, 20.51it/s]\n"
     ]
    },
    {
     "name": "stdout",
     "output_type": "stream",
     "text": [
      "Epoch #11 | Train loss: 0.02463\n",
      "\n"
     ]
    },
    {
     "name": "stderr",
     "output_type": "stream",
     "text": [
      "Going through the loader on epoch #12: 100%|██████████| 196/196 [00:09<00:00, 21.74it/s]\n"
     ]
    },
    {
     "name": "stdout",
     "output_type": "stream",
     "text": [
      "Epoch #12 | Train loss: 0.02437\n",
      "\n"
     ]
    },
    {
     "name": "stderr",
     "output_type": "stream",
     "text": [
      "Going through the loader on epoch #13: 100%|██████████| 196/196 [00:08<00:00, 24.33it/s]\n"
     ]
    },
    {
     "name": "stdout",
     "output_type": "stream",
     "text": [
      "Epoch #13 | Train loss: 0.01797\n",
      "\n"
     ]
    },
    {
     "name": "stderr",
     "output_type": "stream",
     "text": [
      "Going through the loader on epoch #14: 100%|██████████| 196/196 [00:08<00:00, 21.78it/s]\n"
     ]
    },
    {
     "name": "stdout",
     "output_type": "stream",
     "text": [
      "Epoch #14 | Train loss: 0.01704\n",
      "\n"
     ]
    },
    {
     "name": "stderr",
     "output_type": "stream",
     "text": [
      "Going through the loader on epoch #15: 100%|██████████| 196/196 [00:09<00:00, 21.59it/s]\n"
     ]
    },
    {
     "name": "stdout",
     "output_type": "stream",
     "text": [
      "Epoch #15 | Train loss: 0.01753\n",
      "\n"
     ]
    },
    {
     "name": "stderr",
     "output_type": "stream",
     "text": [
      "Going through the loader on epoch #16: 100%|██████████| 196/196 [00:08<00:00, 22.26it/s]\n"
     ]
    },
    {
     "name": "stdout",
     "output_type": "stream",
     "text": [
      "Epoch #16 | Train loss: 0.01538\n",
      "\n"
     ]
    },
    {
     "name": "stderr",
     "output_type": "stream",
     "text": [
      "Going through the loader on epoch #17: 100%|██████████| 196/196 [00:09<00:00, 20.30it/s]\n"
     ]
    },
    {
     "name": "stdout",
     "output_type": "stream",
     "text": [
      "Epoch #17 | Train loss: 0.01413\n",
      "\n"
     ]
    },
    {
     "name": "stderr",
     "output_type": "stream",
     "text": [
      "Going through the loader on epoch #18: 100%|██████████| 196/196 [00:09<00:00, 20.20it/s]\n"
     ]
    },
    {
     "name": "stdout",
     "output_type": "stream",
     "text": [
      "Epoch #18 | Train loss: 0.01561\n",
      "\n"
     ]
    },
    {
     "name": "stderr",
     "output_type": "stream",
     "text": [
      "Going through the loader on epoch #19: 100%|██████████| 196/196 [00:09<00:00, 21.44it/s]\n"
     ]
    },
    {
     "name": "stdout",
     "output_type": "stream",
     "text": [
      "Epoch #19 | Train loss: 0.01359\n",
      "\n"
     ]
    },
    {
     "name": "stderr",
     "output_type": "stream",
     "text": [
      "Going through the loader on epoch #20: 100%|██████████| 196/196 [00:08<00:00, 24.33it/s]"
     ]
    },
    {
     "name": "stdout",
     "output_type": "stream",
     "text": [
      "Epoch #20 | Train loss: 0.00985\n",
      "\n"
     ]
    },
    {
     "name": "stderr",
     "output_type": "stream",
     "text": [
      "\n"
     ]
    }
   ],
   "source": [
    "results = train_model(model = my_mod,\n",
    "                      train_loader = loader,\n",
    "                      epoch = epoch,\n",
    "                      main_optim = optimizer,\n",
    "                      main_loss = criterion\n",
    "                      )"
   ]
  },
  {
   "cell_type": "code",
   "execution_count": 317,
   "id": "cd6af10c",
   "metadata": {},
   "outputs": [],
   "source": [
    "@torch.no_grad()\n",
    "def get_preds(model,Val):\n",
    "    model.eval()\n",
    "    the_loader = DataLoader(dataset = Val, shuffle = False, batch_size = 1)\n",
    "    y_true_list = []\n",
    "    y_pred_list = []\n",
    "    for X,y in the_loader:\n",
    "        probs = model(X).softmax(dim = 1)\n",
    "        distribution = Categorical(probs)\n",
    "        y_pred = distribution.sample()\n",
    "        y_true_list.append(y.item())\n",
    "        y_pred_list.append(y_pred.item())\n",
    "    return np.array(y_true_list),np.array(y_pred_list)"
   ]
  },
  {
   "cell_type": "code",
   "execution_count": 318,
   "id": "e4aaddfc",
   "metadata": {},
   "outputs": [],
   "source": [
    "y_true, y_pred = get_preds(my_mod,News_torch_test)"
   ]
  },
  {
   "cell_type": "code",
   "execution_count": 319,
   "id": "560b2364",
   "metadata": {},
   "outputs": [
    {
     "name": "stdout",
     "output_type": "stream",
     "text": [
      "              precision    recall  f1-score   support\n",
      "\n",
      "           0       0.76      0.72      0.74       257\n",
      "           1       0.75      0.68      0.71       246\n",
      "           2       0.65      0.65      0.65       248\n",
      "           3       0.67      0.76      0.71       249\n",
      "\n",
      "    accuracy                           0.70      1000\n",
      "   macro avg       0.70      0.70      0.70      1000\n",
      "weighted avg       0.70      0.70      0.70      1000\n",
      "\n"
     ]
    }
   ],
   "source": [
    "report = classification_report(y_true = y_true,y_pred = y_pred)\n",
    "print(report)"
   ]
  },
  {
   "cell_type": "code",
   "execution_count": 320,
   "id": "09dbd67f",
   "metadata": {},
   "outputs": [
    {
     "data": {
      "text/plain": [
       "<Axes: >"
      ]
     },
     "execution_count": 320,
     "metadata": {},
     "output_type": "execute_result"
    },
    {
     "data": {
      "image/png": "[encoded data removed]",
      "text/plain": [
       "<Figure size 640x480 with 2 Axes>"
      ]
     },
     "metadata": {},
     "output_type": "display_data"
    }
   ],
   "source": [
    "conf_matrix = confusion_matrix(y_true = y_true,y_pred = y_pred)\n",
    "heatmap(conf_matrix,annot = True)"
   ]
  },
  {
   "cell_type": "code",
   "execution_count": 321,
   "id": "93d1d9de",
   "metadata": {},
   "outputs": [
    {
     "data": {
      "text/plain": [
       "array([1, 2, 3, 4])"
      ]
     },
     "execution_count": 321,
     "metadata": {},
     "output_type": "execute_result"
    }
   ],
   "source": [
    "label_encoder.classes_"
   ]
  },
  {
   "cell_type": "code",
   "execution_count": 323,
   "id": "a52fc403",
   "metadata": {},
   "outputs": [
    {
     "data": {
      "text/plain": [
       "[<matplotlib.lines.Line2D at 0x7b1a8c731730>]"
      ]
     },
     "execution_count": 323,
     "metadata": {},
     "output_type": "execute_result"
    },
    {
     "data": {
      "image/png": "[encoded data removed]",
      "text/plain": [
       "<Figure size 1000x500 with 1 Axes>"
      ]
     },
     "metadata": {},
     "output_type": "display_data"
    }
   ],
   "source": [
    "import matplotlib.pyplot as plt\n",
    "some_figure = plt.figure(figsize = (10,5),facecolor = 'skyblue')\n",
    "some_ax = some_figure.add_subplot()\n",
    "some_ax.set_xlabel('Epoch')\n",
    "some_ax.set_ylabel('Avg Train Loss')\n",
    "some_ax.grid(linestyle = '--',c = 'pink',alpha = 0.32)\n",
    "some_ax.plot(results,c = 'green')"
   ]
  },
  {
   "cell_type": "code",
   "execution_count": 344,
   "id": "1e628366",
   "metadata": {},
   "outputs": [],
   "source": [
    "class ModelInf(object):\n",
    "    def __init__(self,model,TrainSet):\n",
    "        self.model = model\n",
    "        self.dataset = TrainSet\n",
    "    \n",
    "    def __call__(self,text):\n",
    "        self.model.eval()\n",
    "        main_text = self.dataset.processing(text)\n",
    "        tokens = self.dataset.tokenizer(\n",
    "                main_text,\n",
    "                max_length = self.dataset.max_length,\n",
    "                padding = 'max_length',\n",
    "                return_tensors='pt',\n",
    "                truncation=True)['input_ids']\n",
    "        y_pred = self.model(tokens).softmax(dim = 1).argmax(dim = 1).item()\n",
    "        return label_encoder.classes_[y_pred].item()"
   ]
  },
  {
   "cell_type": "code",
   "execution_count": 356,
   "id": "c7cc5f5d",
   "metadata": {},
   "outputs": [],
   "source": [
    "inf = ModelInf(my_mod,News_torch_train)"
   ]
  },
  {
   "cell_type": "code",
   "execution_count": 371,
   "id": "a46a6c51",
   "metadata": {},
   "outputs": [
    {
     "name": "stdout",
     "output_type": "stream",
     "text": [
      "Text: Astros Beat Rockies to Win NL Playoff Spot\n",
      "prediction: 2\n",
      "\n",
      "Text: Chilean judge halts his questioning of ailing ex-dictator\n",
      "prediction: 1\n"
     ]
    }
   ],
   "source": [
    "t1,t2 = Test_news.iloc[rd.randint(0,999),1],Test_news.iloc[rd.randint(0,999),1]\n",
    "print(f'Text: {t1}\\nprediction: {inf(t1)}',end = '\\n\\n')\n",
    "print(f'Text: {t2}\\nprediction: {inf(t2)}')"
   ]
  },
  {
   "cell_type": "markdown",
   "id": "b03f1310",
   "metadata": {},
   "source": [
    "### tweet_cat dataset"
   ]
  },
  {
   "cell_type": "code",
   "execution_count": 558,
   "id": "78634d05",
   "metadata": {},
   "outputs": [
    {
     "data": {
      "text/html": [
       "<div>\n",
       "<style scoped>\n",
       "    .dataframe tbody tr th:only-of-type {\n",
       "        vertical-align: middle;\n",
       "    }\n",
       "\n",
       "    .dataframe tbody tr th {\n",
       "        vertical-align: top;\n",
       "    }\n",
       "\n",
       "    .dataframe thead th {\n",
       "        text-align: right;\n",
       "    }\n",
       "</style>\n",
       "<table border=\"1\" class=\"dataframe\">\n",
       "  <thead>\n",
       "    <tr style=\"text-align: right;\">\n",
       "      <th></th>\n",
       "      <th>text</th>\n",
       "      <th>type</th>\n",
       "    </tr>\n",
       "  </thead>\n",
       "  <tbody>\n",
       "    <tr>\n",
       "      <th>0</th>\n",
       "      <td>@ACNI2012 @TheToka920 Never knew having 1 or 2...</td>\n",
       "      <td>sports</td>\n",
       "    </tr>\n",
       "    <tr>\n",
       "      <th>1</th>\n",
       "      <td>MYCA Magical Moments:\\n\\nSeptember, 2011: Sham...</td>\n",
       "      <td>sports</td>\n",
       "    </tr>\n",
       "    <tr>\n",
       "      <th>2</th>\n",
       "      <td>The current state of last year's @BBL finalist...</td>\n",
       "      <td>sports</td>\n",
       "    </tr>\n",
       "    <tr>\n",
       "      <th>3</th>\n",
       "      <td>@HOLLYJISOO Why did you bring a cricket...</td>\n",
       "      <td>sports</td>\n",
       "    </tr>\n",
       "    <tr>\n",
       "      <th>4</th>\n",
       "      <td>Babar Azam only Pakistani included in the ICC ...</td>\n",
       "      <td>sports</td>\n",
       "    </tr>\n",
       "  </tbody>\n",
       "</table>\n",
       "</div>"
      ],
      "text/plain": [
       "                                                text    type\n",
       "0  @ACNI2012 @TheToka920 Never knew having 1 or 2...  sports\n",
       "1  MYCA Magical Moments:\\n\\nSeptember, 2011: Sham...  sports\n",
       "2  The current state of last year's @BBL finalist...  sports\n",
       "3         @HOLLYJISOO Why did you bring a cricket...  sports\n",
       "4  Babar Azam only Pakistani included in the ICC ...  sports"
      ]
     },
     "execution_count": 558,
     "metadata": {},
     "output_type": "execute_result"
    }
   ],
   "source": [
    "tweet_cat_dataset = pd.read_csv('~/Downloads/tweet_cat.csv')\n",
    "tweet_cat_dataset.head(5)"
   ]
  },
  {
   "cell_type": "code",
   "execution_count": 559,
   "id": "03fe53a1",
   "metadata": {},
   "outputs": [
    {
     "data": {
      "text/html": [
       "<style>#sk-container-id-9 {\n",
       "  /* Definition of color scheme common for light and dark mode */\n",
       "  --sklearn-color-text: #000;\n",
       "  --sklearn-color-text-muted: #666;\n",
       "  --sklearn-color-line: gray;\n",
       "  /* Definition of color scheme for unfitted estimators */\n",
       "  --sklearn-color-unfitted-level-0: #fff5e6;\n",
       "  --sklearn-color-unfitted-level-1: #f6e4d2;\n",
       "  --sklearn-color-unfitted-level-2: #ffe0b3;\n",
       "  --sklearn-color-unfitted-level-3: chocolate;\n",
       "  /* Definition of color scheme for fitted estimators */\n",
       "  --sklearn-color-fitted-level-0: #f0f8ff;\n",
       "  --sklearn-color-fitted-level-1: #d4ebff;\n",
       "  --sklearn-color-fitted-level-2: #b3dbfd;\n",
       "  --sklearn-color-fitted-level-3: cornflowerblue;\n",
       "\n",
       "  /* Specific color for light theme */\n",
       "  --sklearn-color-text-on-default-background: var(--sg-text-color, var(--theme-code-foreground, var(--jp-content-font-color1, black)));\n",
       "  --sklearn-color-background: var(--sg-background-color, var(--theme-background, var(--jp-layout-color0, white)));\n",
       "  --sklearn-color-border-box: var(--sg-text-color, var(--theme-code-foreground, var(--jp-content-font-color1, black)));\n",
       "  --sklearn-color-icon: #696969;\n",
       "\n",
       "  @media (prefers-color-scheme: dark) {\n",
       "    /* Redefinition of color scheme for dark theme */\n",
       "    --sklearn-color-text-on-default-background: var(--sg-text-color, var(--theme-code-foreground, var(--jp-content-font-color1, white)));\n",
       "    --sklearn-color-background: var(--sg-background-color, var(--theme-background, var(--jp-layout-color0, #111)));\n",
       "    --sklearn-color-border-box: var(--sg-text-color, var(--theme-code-foreground, var(--jp-content-font-color1, white)));\n",
       "    --sklearn-color-icon: #878787;\n",
       "  }\n",
       "}\n",
       "\n",
       "#sk-container-id-9 {\n",
       "  color: var(--sklearn-color-text);\n",
       "}\n",
       "\n",
       "#sk-container-id-9 pre {\n",
       "  padding: 0;\n",
       "}\n",
       "\n",
       "#sk-container-id-9 input.sk-hidden--visually {\n",
       "  border: 0;\n",
       "  clip: rect(1px 1px 1px 1px);\n",
       "  clip: rect(1px, 1px, 1px, 1px);\n",
       "  height: 1px;\n",
       "  margin: -1px;\n",
       "  overflow: hidden;\n",
       "  padding: 0;\n",
       "  position: absolute;\n",
       "  width: 1px;\n",
       "}\n",
       "\n",
       "#sk-container-id-9 div.sk-dashed-wrapped {\n",
       "  border: 1px dashed var(--sklearn-color-line);\n",
       "  margin: 0 0.4em 0.5em 0.4em;\n",
       "  box-sizing: border-box;\n",
       "  padding-bottom: 0.4em;\n",
       "  background-color: var(--sklearn-color-background);\n",
       "}\n",
       "\n",
       "#sk-container-id-9 div.sk-container {\n",
       "  /* jupyter's `normalize.less` sets `[hidden] { display: none; }`\n",
       "     but bootstrap.min.css set `[hidden] { display: none !important; }`\n",
       "     so we also need the `!important` here to be able to override the\n",
       "     default hidden behavior on the sphinx rendered scikit-learn.org.\n",
       "     See: https://github.com/scikit-learn/scikit-learn/issues/21755 */\n",
       "  display: inline-block !important;\n",
       "  position: relative;\n",
       "}\n",
       "\n",
       "#sk-container-id-9 div.sk-text-repr-fallback {\n",
       "  display: none;\n",
       "}\n",
       "\n",
       "div.sk-parallel-item,\n",
       "div.sk-serial,\n",
       "div.sk-item {\n",
       "  /* draw centered vertical line to link estimators */\n",
       "  background-image: linear-gradient(var(--sklearn-color-text-on-default-background), var(--sklearn-color-text-on-default-background));\n",
       "  background-size: 2px 100%;\n",
       "  background-repeat: no-repeat;\n",
       "  background-position: center center;\n",
       "}\n",
       "\n",
       "/* Parallel-specific style estimator block */\n",
       "\n",
       "#sk-container-id-9 div.sk-parallel-item::after {\n",
       "  content: \"\";\n",
       "  width: 100%;\n",
       "  border-bottom: 2px solid var(--sklearn-color-text-on-default-background);\n",
       "  flex-grow: 1;\n",
       "}\n",
       "\n",
       "#sk-container-id-9 div.sk-parallel {\n",
       "  display: flex;\n",
       "  align-items: stretch;\n",
       "  justify-content: center;\n",
       "  background-color: var(--sklearn-color-background);\n",
       "  position: relative;\n",
       "}\n",
       "\n",
       "#sk-container-id-9 div.sk-parallel-item {\n",
       "  display: flex;\n",
       "  flex-direction: column;\n",
       "}\n",
       "\n",
       "#sk-container-id-9 div.sk-parallel-item:first-child::after {\n",
       "  align-self: flex-end;\n",
       "  width: 50%;\n",
       "}\n",
       "\n",
       "#sk-container-id-9 div.sk-parallel-item:last-child::after {\n",
       "  align-self: flex-start;\n",
       "  width: 50%;\n",
       "}\n",
       "\n",
       "#sk-container-id-9 div.sk-parallel-item:only-child::after {\n",
       "  width: 0;\n",
       "}\n",
       "\n",
       "/* Serial-specific style estimator block */\n",
       "\n",
       "#sk-container-id-9 div.sk-serial {\n",
       "  display: flex;\n",
       "  flex-direction: column;\n",
       "  align-items: center;\n",
       "  background-color: var(--sklearn-color-background);\n",
       "  padding-right: 1em;\n",
       "  padding-left: 1em;\n",
       "}\n",
       "\n",
       "\n",
       "/* Toggleable style: style used for estimator/Pipeline/ColumnTransformer box that is\n",
       "clickable and can be expanded/collapsed.\n",
       "- Pipeline and ColumnTransformer use this feature and define the default style\n",
       "- Estimators will overwrite some part of the style using the `sk-estimator` class\n",
       "*/\n",
       "\n",
       "/* Pipeline and ColumnTransformer style (default) */\n",
       "\n",
       "#sk-container-id-9 div.sk-toggleable {\n",
       "  /* Default theme specific background. It is overwritten whether we have a\n",
       "  specific estimator or a Pipeline/ColumnTransformer */\n",
       "  background-color: var(--sklearn-color-background);\n",
       "}\n",
       "\n",
       "/* Toggleable label */\n",
       "#sk-container-id-9 label.sk-toggleable__label {\n",
       "  cursor: pointer;\n",
       "  display: flex;\n",
       "  width: 100%;\n",
       "  margin-bottom: 0;\n",
       "  padding: 0.5em;\n",
       "  box-sizing: border-box;\n",
       "  text-align: center;\n",
       "  align-items: start;\n",
       "  justify-content: space-between;\n",
       "  gap: 0.5em;\n",
       "}\n",
       "\n",
       "#sk-container-id-9 label.sk-toggleable__label .caption {\n",
       "  font-size: 0.6rem;\n",
       "  font-weight: lighter;\n",
       "  color: var(--sklearn-color-text-muted);\n",
       "}\n",
       "\n",
       "#sk-container-id-9 label.sk-toggleable__label-arrow:before {\n",
       "  /* Arrow on the left of the label */\n",
       "  content: \"▸\";\n",
       "  float: left;\n",
       "  margin-right: 0.25em;\n",
       "  color: var(--sklearn-color-icon);\n",
       "}\n",
       "\n",
       "#sk-container-id-9 label.sk-toggleable__label-arrow:hover:before {\n",
       "  color: var(--sklearn-color-text);\n",
       "}\n",
       "\n",
       "/* Toggleable content - dropdown */\n",
       "\n",
       "#sk-container-id-9 div.sk-toggleable__content {\n",
       "  max-height: 0;\n",
       "  max-width: 0;\n",
       "  overflow: hidden;\n",
       "  text-align: left;\n",
       "  /* unfitted */\n",
       "  background-color: var(--sklearn-color-unfitted-level-0);\n",
       "}\n",
       "\n",
       "#sk-container-id-9 div.sk-toggleable__content.fitted {\n",
       "  /* fitted */\n",
       "  background-color: var(--sklearn-color-fitted-level-0);\n",
       "}\n",
       "\n",
       "#sk-container-id-9 div.sk-toggleable__content pre {\n",
       "  margin: 0.2em;\n",
       "  border-radius: 0.25em;\n",
       "  color: var(--sklearn-color-text);\n",
       "  /* unfitted */\n",
       "  background-color: var(--sklearn-color-unfitted-level-0);\n",
       "}\n",
       "\n",
       "#sk-container-id-9 div.sk-toggleable__content.fitted pre {\n",
       "  /* unfitted */\n",
       "  background-color: var(--sklearn-color-fitted-level-0);\n",
       "}\n",
       "\n",
       "#sk-container-id-9 input.sk-toggleable__control:checked~div.sk-toggleable__content {\n",
       "  /* Expand drop-down */\n",
       "  max-height: 200px;\n",
       "  max-width: 100%;\n",
       "  overflow: auto;\n",
       "}\n",
       "\n",
       "#sk-container-id-9 input.sk-toggleable__control:checked~label.sk-toggleable__label-arrow:before {\n",
       "  content: \"▾\";\n",
       "}\n",
       "\n",
       "/* Pipeline/ColumnTransformer-specific style */\n",
       "\n",
       "#sk-container-id-9 div.sk-label input.sk-toggleable__control:checked~label.sk-toggleable__label {\n",
       "  color: var(--sklearn-color-text);\n",
       "  background-color: var(--sklearn-color-unfitted-level-2);\n",
       "}\n",
       "\n",
       "#sk-container-id-9 div.sk-label.fitted input.sk-toggleable__control:checked~label.sk-toggleable__label {\n",
       "  background-color: var(--sklearn-color-fitted-level-2);\n",
       "}\n",
       "\n",
       "/* Estimator-specific style */\n",
       "\n",
       "/* Colorize estimator box */\n",
       "#sk-container-id-9 div.sk-estimator input.sk-toggleable__control:checked~label.sk-toggleable__label {\n",
       "  /* unfitted */\n",
       "  background-color: var(--sklearn-color-unfitted-level-2);\n",
       "}\n",
       "\n",
       "#sk-container-id-9 div.sk-estimator.fitted input.sk-toggleable__control:checked~label.sk-toggleable__label {\n",
       "  /* fitted */\n",
       "  background-color: var(--sklearn-color-fitted-level-2);\n",
       "}\n",
       "\n",
       "#sk-container-id-9 div.sk-label label.sk-toggleable__label,\n",
       "#sk-container-id-9 div.sk-label label {\n",
       "  /* The background is the default theme color */\n",
       "  color: var(--sklearn-color-text-on-default-background);\n",
       "}\n",
       "\n",
       "/* On hover, darken the color of the background */\n",
       "#sk-container-id-9 div.sk-label:hover label.sk-toggleable__label {\n",
       "  color: var(--sklearn-color-text);\n",
       "  background-color: var(--sklearn-color-unfitted-level-2);\n",
       "}\n",
       "\n",
       "/* Label box, darken color on hover, fitted */\n",
       "#sk-container-id-9 div.sk-label.fitted:hover label.sk-toggleable__label.fitted {\n",
       "  color: var(--sklearn-color-text);\n",
       "  background-color: var(--sklearn-color-fitted-level-2);\n",
       "}\n",
       "\n",
       "/* Estimator label */\n",
       "\n",
       "#sk-container-id-9 div.sk-label label {\n",
       "  font-family: monospace;\n",
       "  font-weight: bold;\n",
       "  display: inline-block;\n",
       "  line-height: 1.2em;\n",
       "}\n",
       "\n",
       "#sk-container-id-9 div.sk-label-container {\n",
       "  text-align: center;\n",
       "}\n",
       "\n",
       "/* Estimator-specific */\n",
       "#sk-container-id-9 div.sk-estimator {\n",
       "  font-family: monospace;\n",
       "  border: 1px dotted var(--sklearn-color-border-box);\n",
       "  border-radius: 0.25em;\n",
       "  box-sizing: border-box;\n",
       "  margin-bottom: 0.5em;\n",
       "  /* unfitted */\n",
       "  background-color: var(--sklearn-color-unfitted-level-0);\n",
       "}\n",
       "\n",
       "#sk-container-id-9 div.sk-estimator.fitted {\n",
       "  /* fitted */\n",
       "  background-color: var(--sklearn-color-fitted-level-0);\n",
       "}\n",
       "\n",
       "/* on hover */\n",
       "#sk-container-id-9 div.sk-estimator:hover {\n",
       "  /* unfitted */\n",
       "  background-color: var(--sklearn-color-unfitted-level-2);\n",
       "}\n",
       "\n",
       "#sk-container-id-9 div.sk-estimator.fitted:hover {\n",
       "  /* fitted */\n",
       "  background-color: var(--sklearn-color-fitted-level-2);\n",
       "}\n",
       "\n",
       "/* Specification for estimator info (e.g. \"i\" and \"?\") */\n",
       "\n",
       "/* Common style for \"i\" and \"?\" */\n",
       "\n",
       ".sk-estimator-doc-link,\n",
       "a:link.sk-estimator-doc-link,\n",
       "a:visited.sk-estimator-doc-link {\n",
       "  float: right;\n",
       "  font-size: smaller;\n",
       "  line-height: 1em;\n",
       "  font-family: monospace;\n",
       "  background-color: var(--sklearn-color-background);\n",
       "  border-radius: 1em;\n",
       "  height: 1em;\n",
       "  width: 1em;\n",
       "  text-decoration: none !important;\n",
       "  margin-left: 0.5em;\n",
       "  text-align: center;\n",
       "  /* unfitted */\n",
       "  border: var(--sklearn-color-unfitted-level-1) 1pt solid;\n",
       "  color: var(--sklearn-color-unfitted-level-1);\n",
       "}\n",
       "\n",
       ".sk-estimator-doc-link.fitted,\n",
       "a:link.sk-estimator-doc-link.fitted,\n",
       "a:visited.sk-estimator-doc-link.fitted {\n",
       "  /* fitted */\n",
       "  border: var(--sklearn-color-fitted-level-1) 1pt solid;\n",
       "  color: var(--sklearn-color-fitted-level-1);\n",
       "}\n",
       "\n",
       "/* On hover */\n",
       "div.sk-estimator:hover .sk-estimator-doc-link:hover,\n",
       ".sk-estimator-doc-link:hover,\n",
       "div.sk-label-container:hover .sk-estimator-doc-link:hover,\n",
       ".sk-estimator-doc-link:hover {\n",
       "  /* unfitted */\n",
       "  background-color: var(--sklearn-color-unfitted-level-3);\n",
       "  color: var(--sklearn-color-background);\n",
       "  text-decoration: none;\n",
       "}\n",
       "\n",
       "div.sk-estimator.fitted:hover .sk-estimator-doc-link.fitted:hover,\n",
       ".sk-estimator-doc-link.fitted:hover,\n",
       "div.sk-label-container:hover .sk-estimator-doc-link.fitted:hover,\n",
       ".sk-estimator-doc-link.fitted:hover {\n",
       "  /* fitted */\n",
       "  background-color: var(--sklearn-color-fitted-level-3);\n",
       "  color: var(--sklearn-color-background);\n",
       "  text-decoration: none;\n",
       "}\n",
       "\n",
       "/* Span, style for the box shown on hovering the info icon */\n",
       ".sk-estimator-doc-link span {\n",
       "  display: none;\n",
       "  z-index: 9999;\n",
       "  position: relative;\n",
       "  font-weight: normal;\n",
       "  right: .2ex;\n",
       "  padding: .5ex;\n",
       "  margin: .5ex;\n",
       "  width: min-content;\n",
       "  min-width: 20ex;\n",
       "  max-width: 50ex;\n",
       "  color: var(--sklearn-color-text);\n",
       "  box-shadow: 2pt 2pt 4pt #999;\n",
       "  /* unfitted */\n",
       "  background: var(--sklearn-color-unfitted-level-0);\n",
       "  border: .5pt solid var(--sklearn-color-unfitted-level-3);\n",
       "}\n",
       "\n",
       ".sk-estimator-doc-link.fitted span {\n",
       "  /* fitted */\n",
       "  background: var(--sklearn-color-fitted-level-0);\n",
       "  border: var(--sklearn-color-fitted-level-3);\n",
       "}\n",
       "\n",
       ".sk-estimator-doc-link:hover span {\n",
       "  display: block;\n",
       "}\n",
       "\n",
       "/* \"?\"-specific style due to the `<a>` HTML tag */\n",
       "\n",
       "#sk-container-id-9 a.estimator_doc_link {\n",
       "  float: right;\n",
       "  font-size: 1rem;\n",
       "  line-height: 1em;\n",
       "  font-family: monospace;\n",
       "  background-color: var(--sklearn-color-background);\n",
       "  border-radius: 1rem;\n",
       "  height: 1rem;\n",
       "  width: 1rem;\n",
       "  text-decoration: none;\n",
       "  /* unfitted */\n",
       "  color: var(--sklearn-color-unfitted-level-1);\n",
       "  border: var(--sklearn-color-unfitted-level-1) 1pt solid;\n",
       "}\n",
       "\n",
       "#sk-container-id-9 a.estimator_doc_link.fitted {\n",
       "  /* fitted */\n",
       "  border: var(--sklearn-color-fitted-level-1) 1pt solid;\n",
       "  color: var(--sklearn-color-fitted-level-1);\n",
       "}\n",
       "\n",
       "/* On hover */\n",
       "#sk-container-id-9 a.estimator_doc_link:hover {\n",
       "  /* unfitted */\n",
       "  background-color: var(--sklearn-color-unfitted-level-3);\n",
       "  color: var(--sklearn-color-background);\n",
       "  text-decoration: none;\n",
       "}\n",
       "\n",
       "#sk-container-id-9 a.estimator_doc_link.fitted:hover {\n",
       "  /* fitted */\n",
       "  background-color: var(--sklearn-color-fitted-level-3);\n",
       "}\n",
       "</style><div id=\"sk-container-id-9\" class=\"sk-top-container\"><div class=\"sk-text-repr-fallback\"><pre>LabelEncoder()</pre><b>In a Jupyter environment, please rerun this cell to show the HTML representation or trust the notebook. <br />On GitHub, the HTML representation is unable to render, please try loading this page with nbviewer.org.</b></div><div class=\"sk-container\" hidden><div class=\"sk-item\"><div class=\"sk-estimator  sk-toggleable\"><input class=\"sk-toggleable__control sk-hidden--visually\" id=\"sk-estimator-id-9\" type=\"checkbox\" checked><label for=\"sk-estimator-id-9\" class=\"sk-toggleable__label  sk-toggleable__label-arrow\"><div><div>LabelEncoder</div></div><div><a class=\"sk-estimator-doc-link \" rel=\"noreferrer\" target=\"_blank\" href=\"https://scikit-learn.org/1.6/modules/generated/sklearn.preprocessing.LabelEncoder.html\">?<span>Documentation for LabelEncoder</span></a><span class=\"sk-estimator-doc-link \">i<span>Not fitted</span></span></div></label><div class=\"sk-toggleable__content \"><pre>LabelEncoder()</pre></div> </div></div></div></div>"
      ],
      "text/plain": [
       "LabelEncoder()"
      ]
     },
     "execution_count": 559,
     "metadata": {},
     "output_type": "execute_result"
    }
   ],
   "source": [
    "label_enc = LabelEncoder()\n",
    "label_enc"
   ]
  },
  {
   "cell_type": "code",
   "execution_count": 560,
   "id": "ce958c94",
   "metadata": {},
   "outputs": [],
   "source": [
    "tweet_cat_dataset['type'] = label_enc.fit_transform(tweet_cat_dataset['type'])"
   ]
  },
  {
   "cell_type": "code",
   "execution_count": 562,
   "id": "62e51c1d",
   "metadata": {},
   "outputs": [
    {
     "data": {
      "text/plain": [
       "array(['entertainment', 'medical', 'politics', 'sports'], dtype=object)"
      ]
     },
     "execution_count": 562,
     "metadata": {},
     "output_type": "execute_result"
    }
   ],
   "source": [
    "label_enc.classes_"
   ]
  },
  {
   "cell_type": "code",
   "execution_count": 8,
   "id": "2395efc3",
   "metadata": {},
   "outputs": [
    {
     "name": "stdout",
     "output_type": "stream",
     "text": [
      "<class 'pandas.core.frame.DataFrame'>\n",
      "RangeIndex: 1162 entries, 0 to 1161\n",
      "Data columns (total 2 columns):\n",
      " #   Column  Non-Null Count  Dtype \n",
      "---  ------  --------------  ----- \n",
      " 0   text    1162 non-null   object\n",
      " 1   type    1162 non-null   object\n",
      "dtypes: object(2)\n",
      "memory usage: 18.3+ KB\n"
     ]
    }
   ],
   "source": [
    "tweet_cat_dataset.info()"
   ]
  },
  {
   "cell_type": "code",
   "execution_count": 11,
   "id": "cdac33d8",
   "metadata": {},
   "outputs": [
    {
     "data": {
      "text/plain": [
       "array(['sports', 'entertainment', 'medical', 'politics'], dtype=object)"
      ]
     },
     "execution_count": 11,
     "metadata": {},
     "output_type": "execute_result"
    }
   ],
   "source": [
    "tweet_cat_dataset['type'].unique()"
   ]
  },
  {
   "cell_type": "code",
   "execution_count": 316,
   "id": "e4ce797b",
   "metadata": {},
   "outputs": [
    {
     "name": "stdout",
     "output_type": "stream",
     "text": [
      "929\n",
      "233\n"
     ]
    }
   ],
   "source": [
    "Train, TestVal = train_test_split(tweet_cat_dataset, stratify = tweet_cat_dataset['type'],train_size = 0.8)\n",
    "print(len(Train))\n",
    "print(len(TestVal))"
   ]
  },
  {
   "cell_type": "code",
   "execution_count": 317,
   "id": "38061786",
   "metadata": {},
   "outputs": [
    {
     "name": "stdout",
     "output_type": "stream",
     "text": [
      "186\n",
      "47\n"
     ]
    }
   ],
   "source": [
    "Test, Val = train_test_split(TestVal, stratify = TestVal['type'], train_size = 0.8)\n",
    "print(len(Test))\n",
    "print(len(Val))"
   ]
  },
  {
   "cell_type": "code",
   "execution_count": 25,
   "id": "9b566d04",
   "metadata": {},
   "outputs": [],
   "source": [
    "def proc_text(text):\n",
    "    \"\"\"simple processing of a text\"\"\"\n",
    "    lowered = text.lower()\n",
    "    tokenized = ' '.join(re.findall(r\"[A-z0-9]+[A-z0-9]\",lowered))\n",
    "    return tokenized"
   ]
  },
  {
   "cell_type": "code",
   "execution_count": 30,
   "id": "089eb291",
   "metadata": {},
   "outputs": [],
   "source": [
    "def train_tokens(main_train_dataset):\n",
    "    for row in range(len(main_train_dataset.iloc[:,0])):\n",
    "        processed = proc_text(main_train_dataset.iloc[row,0])\n",
    "        yield processed"
   ]
  },
  {
   "cell_type": "code",
   "execution_count": 61,
   "id": "d174ee74",
   "metadata": {},
   "outputs": [],
   "source": [
    "tokenizer = Tokenizer(model = tokenizers.models.WordLevel(unk_token='<unk>'))\n",
    "tokenizer.pre_tokenizer = tokenizers.pre_tokenizers.Whitespace()\n",
    "tok_trainer = tokenizers.trainers.WordLevelTrainer(vocab_size = 500_000, special_tokens = ['<pad>','<unk>'])\n",
    "tokenizer.enable_padding(direction='right', pad_id = 0, pad_token='<pad>')\n",
    "tokenizer.train_from_iterator(train_tokens(Train), trainer=tok_trainer)\n",
    "tokenizer.save('./tok_voc')"
   ]
  },
  {
   "cell_type": "code",
   "execution_count": 308,
   "id": "08eed077",
   "metadata": {},
   "outputs": [],
   "source": [
    "class TextDataset(Dataset):\n",
    "    def __init__(self,texts,tok_obj,processing,max_len):\n",
    "        self.texts = texts\n",
    "        self.tokenizer = PreTrainedTokenizerFast(tokenizer_object = tok_obj)\n",
    "        self.processing = processing\n",
    "        self.max_length = max_len\n",
    "    \n",
    "    def __len__(self):\n",
    "        return len(self.texts)\n",
    "    \n",
    "    def __getitem__(self, indx):\n",
    "        text,label = self.processing(self.texts.iloc[indx,0]),torch.tensor(self.texts.iloc[indx,1].item())\n",
    "        tokenized_text = self.tokenizer(\n",
    "            text,\n",
    "            max_length = self.max_length,\n",
    "            padding = 'max_length',\n",
    "            return_tensors='pt',\n",
    "            truncation=True\n",
    "        )['input_ids']\n",
    "        return tokenized_text.squeeze(dim = 0),label"
   ]
  },
  {
   "cell_type": "code",
   "execution_count": 309,
   "id": "f85a276f",
   "metadata": {},
   "outputs": [
    {
     "data": {
      "text/plain": [
       "<__main__.TextDataset at 0x711f7a60e810>"
      ]
     },
     "execution_count": 309,
     "metadata": {},
     "output_type": "execute_result"
    }
   ],
   "source": [
    "main_dataset = TextDataset(texts = Train,\n",
    "                           tok_obj = tokenizer,\n",
    "                           processing = proc_text,\n",
    "                           max_len = 30)\n",
    "main_dataset"
   ]
  },
  {
   "cell_type": "code",
   "execution_count": 318,
   "id": "17ad43bf",
   "metadata": {},
   "outputs": [],
   "source": [
    "cat_torch_train = TextDataset(Train, tokenizer, proc_text, 30)\n",
    "cat_torch_test = TextDataset(Test, tokenizer, proc_text, 30)\n",
    "cat_torch_val = TextDataset(Val, tokenizer, proc_text, 30)"
   ]
  },
  {
   "cell_type": "code",
   "execution_count": 319,
   "id": "641b4e94",
   "metadata": {},
   "outputs": [
    {
     "name": "stdout",
     "output_type": "stream",
     "text": [
      "929\n",
      "186\n",
      "47\n"
     ]
    }
   ],
   "source": [
    "print(len(cat_torch_train))\n",
    "print(len(cat_torch_test))\n",
    "print(len(cat_torch_val))"
   ]
  },
  {
   "cell_type": "code",
   "execution_count": 321,
   "id": "6df66610",
   "metadata": {},
   "outputs": [],
   "source": [
    "class ClassificationModel(nn.Module):\n",
    "    def __init__(self, vocab_size, embed_dim, hidden_size, bi = True, bf = True):\n",
    "        super().__init__() #initialization of super class\n",
    "        self.embed = nn.Embedding(vocab_size,embed_dim,padding_idx=0)\n",
    "        self.gru = nn.GRU(input_size = embed_dim, hidden_size = hidden_size, bidirectional = bi, batch_first=bf, num_layers=2, dropout=0.5)\n",
    "        self.linear = nn.Linear(600,4)\n",
    "\n",
    "    def forward(self,x):\n",
    "        y = self.embed(x)\n",
    "        _,y = self.gru(y)\n",
    "        y = y.transpose(0,1)\n",
    "        y = y.reshape(y.shape[0],-1)\n",
    "        y = self.linear(y)\n",
    "        return y"
   ]
  },
  {
   "cell_type": "code",
   "execution_count": 322,
   "id": "dc050619",
   "metadata": {},
   "outputs": [
    {
     "data": {
      "text/plain": [
       "5819"
      ]
     },
     "execution_count": 322,
     "metadata": {},
     "output_type": "execute_result"
    }
   ],
   "source": [
    "cat_torch_test.tokenizer.vocab_size"
   ]
  },
  {
   "cell_type": "code",
   "execution_count": 391,
   "id": "81f1cea4",
   "metadata": {},
   "outputs": [],
   "source": [
    "def train_model(model,\n",
    "                train_loader,\n",
    "                epoch,\n",
    "                main_optim,\n",
    "                main_loss,\n",
    "                patience = 3,\n",
    "                print_every = 1):\n",
    "    try:\n",
    "        train_losses = []\n",
    "        val_metric = []\n",
    "        while True:\n",
    "            model.train()\n",
    "            epoch_losses = []\n",
    "            for X,y in tqdm(train_loader, desc=f'Going through the loader'):\n",
    "                main_optim.zero_grad()\n",
    "                y_pred = model(X)\n",
    "                the_loss = main_loss(y_pred,y)\n",
    "                the_loss.backward()\n",
    "                main_optim.step()\n",
    "                epoch_losses.append(the_loss.item())\n",
    "            y_true_val, y_pred_val = get_preds(model, cat_torch_val)\n",
    "            val_metric.append(f1_score(y_true_val,y_pred_val,average = 'macro'))\n",
    "            if len(val_metric) <= patience:\n",
    "                pass\n",
    "            else:\n",
    "                checking_val = val_metric[-patience:]\n",
    "                count = 0\n",
    "                #cheking whether we should stop\n",
    "                for ind in range(len(checking_val)-1):\n",
    "                    if checking_val[ind+1] <= checking_val[ind]:\n",
    "                        count += 1\n",
    "                #breaking if we go down\n",
    "                if count == len(checking_val)-1:\n",
    "                    print('Stop training due to patience')\n",
    "                    break\n",
    "            train_losses.append(round(np.array(epoch_losses).mean().item(),5))\n",
    "            print(f'Train loss: {train_losses[-1]}')\n",
    "            print(f'Val metric: {val_metric[-1]}',end = '\\n\\n')\n",
    "        return train_losses\n",
    "    except KeyboardInterrupt:\n",
    "        return train_losses"
   ]
  },
  {
   "cell_type": "code",
   "execution_count": 402,
   "id": "5476682b",
   "metadata": {},
   "outputs": [
    {
     "data": {
      "text/plain": [
       "ClassificationModel(\n",
       "  (embed): Embedding(5819, 150, padding_idx=0)\n",
       "  (gru): GRU(150, 150, num_layers=2, batch_first=True, dropout=0.5, bidirectional=True)\n",
       "  (linear): Linear(in_features=600, out_features=4, bias=True)\n",
       ")"
      ]
     },
     "execution_count": 402,
     "metadata": {},
     "output_type": "execute_result"
    }
   ],
   "source": [
    "my_model = ClassificationModel(cat_torch_test.tokenizer.vocab_size, embed_dim=150, hidden_size=150)\n",
    "my_model"
   ]
  },
  {
   "cell_type": "code",
   "execution_count": 403,
   "id": "88abcca1",
   "metadata": {},
   "outputs": [
    {
     "data": {
      "text/plain": [
       "tensor([1.1166, 0.9718, 0.8415, 1.1274])"
      ]
     },
     "execution_count": 403,
     "metadata": {},
     "output_type": "execute_result"
    }
   ],
   "source": [
    "weights = compute_class_weight(class_weight='balanced', y = lebel_enc.fit_transform(Train['type']), classes = np.array([_ for _ in range(4)]))\n",
    "weights = torch.from_numpy(weights).to(dtype = torch.float32)\n",
    "weights"
   ]
  },
  {
   "cell_type": "code",
   "execution_count": 404,
   "id": "061eb2af",
   "metadata": {},
   "outputs": [],
   "source": [
    "epoch = 20\n",
    "batch_size = 46\n",
    "lr = 0.0005\n",
    "loader = DataLoader(dataset = cat_torch_train, shuffle = True, batch_size = batch_size)\n",
    "optimizer = torch.optim.Adam(my_model.parameters(),lr = lr,betas=(0.9,0.989))\n",
    "criterion = nn.CrossEntropyLoss(reduction = 'mean',weight = weights,label_smoothing=0.0001)"
   ]
  },
  {
   "cell_type": "code",
   "execution_count": 406,
   "id": "4015b0d7",
   "metadata": {},
   "outputs": [
    {
     "name": "stderr",
     "output_type": "stream",
     "text": [
      "Going through the loader: 100%|██████████| 21/21 [00:01<00:00, 13.56it/s]\n"
     ]
    },
    {
     "name": "stdout",
     "output_type": "stream",
     "text": [
      "Train loss: 1.12555\n",
      "Val metric: 0.25916666666666666\n",
      "\n"
     ]
    },
    {
     "name": "stderr",
     "output_type": "stream",
     "text": [
      "Going through the loader: 100%|██████████| 21/21 [00:01<00:00, 15.10it/s]\n"
     ]
    },
    {
     "name": "stdout",
     "output_type": "stream",
     "text": [
      "Train loss: 0.76483\n",
      "Val metric: 0.5599865047233469\n",
      "\n"
     ]
    },
    {
     "name": "stderr",
     "output_type": "stream",
     "text": [
      "Going through the loader: 100%|██████████| 21/21 [00:01<00:00, 15.00it/s]\n"
     ]
    },
    {
     "name": "stdout",
     "output_type": "stream",
     "text": [
      "Train loss: 0.49052\n",
      "Val metric: 0.6091880341880342\n",
      "\n"
     ]
    },
    {
     "name": "stderr",
     "output_type": "stream",
     "text": [
      "Going through the loader: 100%|██████████| 21/21 [00:01<00:00, 13.56it/s]\n"
     ]
    },
    {
     "name": "stdout",
     "output_type": "stream",
     "text": [
      "Train loss: 0.34126\n",
      "Val metric: 0.69408656477622\n",
      "\n"
     ]
    },
    {
     "name": "stderr",
     "output_type": "stream",
     "text": [
      "Going through the loader: 100%|██████████| 21/21 [00:01<00:00, 15.04it/s]\n"
     ]
    },
    {
     "name": "stdout",
     "output_type": "stream",
     "text": [
      "Train loss: 0.20872\n",
      "Val metric: 0.744047619047619\n",
      "\n"
     ]
    },
    {
     "name": "stderr",
     "output_type": "stream",
     "text": [
      "Going through the loader: 100%|██████████| 21/21 [00:01<00:00, 14.60it/s]\n"
     ]
    },
    {
     "name": "stdout",
     "output_type": "stream",
     "text": [
      "Train loss: 0.13264\n",
      "Val metric: 0.8102380952380952\n",
      "\n"
     ]
    },
    {
     "name": "stderr",
     "output_type": "stream",
     "text": [
      "Going through the loader: 100%|██████████| 21/21 [00:01<00:00, 12.90it/s]\n"
     ]
    },
    {
     "name": "stdout",
     "output_type": "stream",
     "text": [
      "Stop training due to patience\n"
     ]
    },
    {
     "data": {
      "text/plain": [
       "[1.12555, 0.76483, 0.49052, 0.34126, 0.20872, 0.13264]"
      ]
     },
     "execution_count": 406,
     "metadata": {},
     "output_type": "execute_result"
    }
   ],
   "source": [
    "train_model(\n",
    "    model = my_model,\n",
    "    train_loader = loader,\n",
    "    epoch = epoch,\n",
    "    main_optim = optimizer,\n",
    "    main_loss = criterion,\n",
    "    print_every = 1,\n",
    "    patience=2\n",
    ")"
   ]
  },
  {
   "cell_type": "code",
   "execution_count": 337,
   "id": "820ed1cd",
   "metadata": {},
   "outputs": [],
   "source": [
    "@torch.no_grad()\n",
    "def get_preds(model, Val):\n",
    "    model.eval()\n",
    "    the_loader = DataLoader(dataset = Val, shuffle = False, batch_size = 1)\n",
    "    y_true_list = []\n",
    "    y_pred_list = []\n",
    "    for X,y in the_loader:\n",
    "        probs = model(X).softmax(dim = 1)\n",
    "        distribution = Categorical(probs)\n",
    "        y_pred = distribution.sample()\n",
    "        y_true_list.append(y.item())\n",
    "        y_pred_list.append(y_pred.item())\n",
    "    return np.array(y_true_list),np.array(y_pred_list)"
   ]
  },
  {
   "cell_type": "code",
   "execution_count": 412,
   "id": "08a39581",
   "metadata": {},
   "outputs": [
    {
     "name": "stdout",
     "output_type": "stream",
     "text": [
      "(186,)\n",
      "(186,)\n"
     ]
    }
   ],
   "source": [
    "y_true, y_pred = get_preds(my_model,cat_torch_test)\n",
    "print(y_true.shape)\n",
    "print(y_pred.shape)"
   ]
  },
  {
   "cell_type": "code",
   "execution_count": 413,
   "id": "c14afc38",
   "metadata": {},
   "outputs": [
    {
     "data": {
      "text/plain": [
       "0.6988348809000983"
      ]
     },
     "execution_count": 413,
     "metadata": {},
     "output_type": "execute_result"
    }
   ],
   "source": [
    "f1_score(y_true,y_pred,average = 'macro')"
   ]
  },
  {
   "cell_type": "code",
   "execution_count": 580,
   "id": "59f32212",
   "metadata": {},
   "outputs": [],
   "source": [
    "def model_inf(text,TrainDataset,label_encoder):\n",
    "    my_model.eval()\n",
    "    tokenizer = TrainDataset.tokenizer\n",
    "    processing = TrainDataset.processing\n",
    "    main_text = processing(text)\n",
    "    tokens = tokenizer(\n",
    "            main_text,\n",
    "            max_length = TrainDataset.max_length,\n",
    "            padding = 'max_length',\n",
    "            return_tensors='pt',\n",
    "            truncation=True)['input_ids']\n",
    "    y_pred = my_model(tokens).softmax(dim = 1).argmax(dim = 1).item()\n",
    "    return label_encoder.inverse_transform([y_pred]).item()"
   ]
  },
  {
   "cell_type": "code",
   "execution_count": 591,
   "id": "e634c8c9",
   "metadata": {},
   "outputs": [
    {
     "name": "stdout",
     "output_type": "stream",
     "text": [
      "@mrose1965 I cannot serve an overhead tennis lob.\n"
     ]
    }
   ],
   "source": [
    "sample = Test.iloc[rd.randint(1,100),0]\n",
    "print(sample)"
   ]
  },
  {
   "cell_type": "code",
   "execution_count": 592,
   "id": "69546344",
   "metadata": {},
   "outputs": [
    {
     "data": {
      "text/plain": [
       "'sports'"
      ]
     },
     "execution_count": 592,
     "metadata": {},
     "output_type": "execute_result"
    }
   ],
   "source": [
    "model_inf(sample,cat_torch_train,label_enc)"
   ]
  }
 ],
 "metadata": {
  "kernelspec": {
   "display_name": "venv-MyPython (3.12.3)",
   "language": "python",
   "name": "python3"
  },
  "language_info": {
   "codemirror_mode": {
    "name": "ipython",
    "version": 3
   },
   "file_extension": ".py",
   "mimetype": "text/x-python",
   "name": "python",
   "nbconvert_exporter": "python",
   "pygments_lexer": "ipython3",
   "version": "3.12.3"
  }
 },
 "nbformat": 4,
 "nbformat_minor": 5
}
