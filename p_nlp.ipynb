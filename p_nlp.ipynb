{
 "cells": [
  {
   "cell_type": "code",
   "execution_count": 215,
   "id": "3733e66b",
   "metadata": {},
   "outputs": [],
   "source": [
    "import numpy as np\n",
    "import pandas as pd\n",
    "import tokenizers\n",
    "from tqdm import tqdm\n",
    "from tokenizers import pre_tokenizers\n",
    "from torch.utils.data import Dataset,DataLoader\n",
    "import tokenizers.trainers\n",
    "from transformers import PreTrainedTokenizerFast\n",
    "from tokenizers import Tokenizer\n",
    "import json\n",
    "import pyperclip\n",
    "import re\n",
    "from torch.distributions import Categorical\n",
    "from sklearn.preprocessing import LabelEncoder\n",
    "from sklearn.model_selection import train_test_split\n",
    "from sklearn.metrics import confusion_matrix, classification_report, f1_score, accuracy_score\n",
    "from sklearn.utils.class_weight import compute_class_weight\n",
    "import random as rd\n",
    "from seaborn import heatmap\n",
    "import torch.nn as nn\n",
    "import torch"
   ]
  },
  {
   "cell_type": "markdown",
   "id": "854f8867",
   "metadata": {},
   "source": [
    "### Corona dataset"
   ]
  },
  {
   "cell_type": "code",
   "execution_count": null,
   "id": "19ceaeea",
   "metadata": {},
   "outputs": [
    {
     "data": {
      "text/html": [
       "<div>\n",
       "<style scoped>\n",
       "    .dataframe tbody tr th:only-of-type {\n",
       "        vertical-align: middle;\n",
       "    }\n",
       "\n",
       "    .dataframe tbody tr th {\n",
       "        vertical-align: top;\n",
       "    }\n",
       "\n",
       "    .dataframe thead th {\n",
       "        text-align: right;\n",
       "    }\n",
       "</style>\n",
       "<table border=\"1\" class=\"dataframe\">\n",
       "  <thead>\n",
       "    <tr style=\"text-align: right;\">\n",
       "      <th></th>\n",
       "      <th>OriginalTweet</th>\n",
       "      <th>Sentiment</th>\n",
       "    </tr>\n",
       "  </thead>\n",
       "  <tbody>\n",
       "    <tr>\n",
       "      <th>0</th>\n",
       "      <td>Guess?, Inc. Provides COVID-19 Business Update...</td>\n",
       "      <td>Positive</td>\n",
       "    </tr>\n",
       "    <tr>\n",
       "      <th>1</th>\n",
       "      <td>So much panic-bought food fresh food will neve...</td>\n",
       "      <td>Positive</td>\n",
       "    </tr>\n",
       "    <tr>\n",
       "      <th>2</th>\n",
       "      <td>Instead of giving financial aid that is close ...</td>\n",
       "      <td>Positive</td>\n",
       "    </tr>\n",
       "    <tr>\n",
       "      <th>3</th>\n",
       "      <td>WAIT A DAMN MINUTE\\r\\r\\n\\r\\r\\nso Amazon worker...</td>\n",
       "      <td>Positive</td>\n",
       "    </tr>\n",
       "    <tr>\n",
       "      <th>4</th>\n",
       "      <td>Pig prices were up this week at 163 39p kg amp...</td>\n",
       "      <td>Extremely Positive</td>\n",
       "    </tr>\n",
       "    <tr>\n",
       "      <th>...</th>\n",
       "      <td>...</td>\n",
       "      <td>...</td>\n",
       "    </tr>\n",
       "    <tr>\n",
       "      <th>9995</th>\n",
       "      <td>???https://t.co/Ljh5cmUkMPÂ via @amazon ???ht...</td>\n",
       "      <td>Extremely Positive</td>\n",
       "    </tr>\n",
       "    <tr>\n",
       "      <th>9996</th>\n",
       "      <td>P Stuck inside Our pals at have slashed prices...</td>\n",
       "      <td>Positive</td>\n",
       "    </tr>\n",
       "    <tr>\n",
       "      <th>9997</th>\n",
       "      <td>If you think you may experience financial hard...</td>\n",
       "      <td>Positive</td>\n",
       "    </tr>\n",
       "    <tr>\n",
       "      <th>9998</th>\n",
       "      <td>No toilet paper I can handle, no pasta, ok...b...</td>\n",
       "      <td>Extremely Negative</td>\n",
       "    </tr>\n",
       "    <tr>\n",
       "      <th>9999</th>\n",
       "      <td>Amazon has found another way to earn more in C...</td>\n",
       "      <td>Negative</td>\n",
       "    </tr>\n",
       "  </tbody>\n",
       "</table>\n",
       "<p>10000 rows × 2 columns</p>\n",
       "</div>"
      ],
      "text/plain": [
       "                                          OriginalTweet           Sentiment\n",
       "0     Guess?, Inc. Provides COVID-19 Business Update...            Positive\n",
       "1     So much panic-bought food fresh food will neve...            Positive\n",
       "2     Instead of giving financial aid that is close ...            Positive\n",
       "3     WAIT A DAMN MINUTE\\r\\r\\n\\r\\r\\nso Amazon worker...            Positive\n",
       "4     Pig prices were up this week at 163 39p kg amp...  Extremely Positive\n",
       "...                                                 ...                 ...\n",
       "9995  ???https://t.co/Ljh5cmUkMPÂ\n",
       " via @amazon ???ht...  Extremely Positive\n",
       "9996  P Stuck inside Our pals at have slashed prices...            Positive\n",
       "9997  If you think you may experience financial hard...            Positive\n",
       "9998  No toilet paper I can handle, no pasta, ok...b...  Extremely Negative\n",
       "9999  Amazon has found another way to earn more in C...            Negative\n",
       "\n",
       "[10000 rows x 2 columns]"
      ]
     },
     "execution_count": 6,
     "metadata": {},
     "output_type": "execute_result"
    }
   ],
   "source": [
    "main_data = pd.read_csv('/home/luchian/all_data/uni_data/corona.csv', usecols=['OriginalTweet','Sentiment'])\n",
    "main_data"
   ]
  },
  {
   "cell_type": "code",
   "execution_count": 7,
   "id": "50600836",
   "metadata": {},
   "outputs": [
    {
     "data": {
      "text/plain": [
       "array(['Extremely Negative', 'Extremely Positive', 'Negative', 'Neutral',\n",
       "       'Positive'], dtype=object)"
      ]
     },
     "execution_count": 7,
     "metadata": {},
     "output_type": "execute_result"
    }
   ],
   "source": [
    "label_encoder = LabelEncoder().fit(main_data['Sentiment'])\n",
    "label_encoder.classes_"
   ]
  },
  {
   "cell_type": "code",
   "execution_count": 8,
   "id": "cf393075",
   "metadata": {},
   "outputs": [],
   "source": [
    "main_data['Sentiment'] = label_encoder.transform(main_data['Sentiment'])"
   ]
  },
  {
   "cell_type": "code",
   "execution_count": 9,
   "id": "75c6856f",
   "metadata": {},
   "outputs": [
    {
     "data": {
      "text/html": [
       "<div>\n",
       "<style scoped>\n",
       "    .dataframe tbody tr th:only-of-type {\n",
       "        vertical-align: middle;\n",
       "    }\n",
       "\n",
       "    .dataframe tbody tr th {\n",
       "        vertical-align: top;\n",
       "    }\n",
       "\n",
       "    .dataframe thead th {\n",
       "        text-align: right;\n",
       "    }\n",
       "</style>\n",
       "<table border=\"1\" class=\"dataframe\">\n",
       "  <thead>\n",
       "    <tr style=\"text-align: right;\">\n",
       "      <th></th>\n",
       "      <th>OriginalTweet</th>\n",
       "      <th>Sentiment</th>\n",
       "    </tr>\n",
       "  </thead>\n",
       "  <tbody>\n",
       "    <tr>\n",
       "      <th>0</th>\n",
       "      <td>Guess?, Inc. Provides COVID-19 Business Update...</td>\n",
       "      <td>4</td>\n",
       "    </tr>\n",
       "    <tr>\n",
       "      <th>1</th>\n",
       "      <td>So much panic-bought food fresh food will neve...</td>\n",
       "      <td>4</td>\n",
       "    </tr>\n",
       "    <tr>\n",
       "      <th>2</th>\n",
       "      <td>Instead of giving financial aid that is close ...</td>\n",
       "      <td>4</td>\n",
       "    </tr>\n",
       "    <tr>\n",
       "      <th>3</th>\n",
       "      <td>WAIT A DAMN MINUTE\\r\\r\\n\\r\\r\\nso Amazon worker...</td>\n",
       "      <td>4</td>\n",
       "    </tr>\n",
       "    <tr>\n",
       "      <th>4</th>\n",
       "      <td>Pig prices were up this week at 163 39p kg amp...</td>\n",
       "      <td>1</td>\n",
       "    </tr>\n",
       "  </tbody>\n",
       "</table>\n",
       "</div>"
      ],
      "text/plain": [
       "                                       OriginalTweet  Sentiment\n",
       "0  Guess?, Inc. Provides COVID-19 Business Update...          4\n",
       "1  So much panic-bought food fresh food will neve...          4\n",
       "2  Instead of giving financial aid that is close ...          4\n",
       "3  WAIT A DAMN MINUTE\\r\\r\\n\\r\\r\\nso Amazon worker...          4\n",
       "4  Pig prices were up this week at 163 39p kg amp...          1"
      ]
     },
     "execution_count": 9,
     "metadata": {},
     "output_type": "execute_result"
    }
   ],
   "source": [
    "main_data.head(5)"
   ]
  },
  {
   "cell_type": "code",
   "execution_count": 13,
   "id": "231d51e2",
   "metadata": {},
   "outputs": [],
   "source": [
    "Train,Test = train_test_split(main_data,train_size = 0.85,stratify = main_data['Sentiment'])"
   ]
  },
  {
   "cell_type": "code",
   "execution_count": 14,
   "id": "bf65135a",
   "metadata": {},
   "outputs": [
    {
     "data": {
      "text/html": [
       "<div>\n",
       "<style scoped>\n",
       "    .dataframe tbody tr th:only-of-type {\n",
       "        vertical-align: middle;\n",
       "    }\n",
       "\n",
       "    .dataframe tbody tr th {\n",
       "        vertical-align: top;\n",
       "    }\n",
       "\n",
       "    .dataframe thead th {\n",
       "        text-align: right;\n",
       "    }\n",
       "</style>\n",
       "<table border=\"1\" class=\"dataframe\">\n",
       "  <thead>\n",
       "    <tr style=\"text-align: right;\">\n",
       "      <th></th>\n",
       "      <th>OriginalTweet</th>\n",
       "      <th>Sentiment</th>\n",
       "    </tr>\n",
       "  </thead>\n",
       "  <tbody>\n",
       "    <tr>\n",
       "      <th>5928</th>\n",
       "      <td>@mccrory @Costco MyPOV: pretty much. well it's...</td>\n",
       "      <td>1</td>\n",
       "    </tr>\n",
       "    <tr>\n",
       "      <th>5959</th>\n",
       "      <td>If you want to learn about the impact of COVID...</td>\n",
       "      <td>4</td>\n",
       "    </tr>\n",
       "    <tr>\n",
       "      <th>2323</th>\n",
       "      <td>I'm on New impressionz live, clapping for can ...</td>\n",
       "      <td>3</td>\n",
       "    </tr>\n",
       "    <tr>\n",
       "      <th>146</th>\n",
       "      <td>The US Attorney's Office has released an offic...</td>\n",
       "      <td>0</td>\n",
       "    </tr>\n",
       "    <tr>\n",
       "      <th>2920</th>\n",
       "      <td>Be aware that Scamming activity increases duri...</td>\n",
       "      <td>4</td>\n",
       "    </tr>\n",
       "  </tbody>\n",
       "</table>\n",
       "</div>"
      ],
      "text/plain": [
       "                                          OriginalTweet  Sentiment\n",
       "5928  @mccrory @Costco MyPOV: pretty much. well it's...          1\n",
       "5959  If you want to learn about the impact of COVID...          4\n",
       "2323  I'm on New impressionz live, clapping for can ...          3\n",
       "146   The US Attorney's Office has released an offic...          0\n",
       "2920  Be aware that Scamming activity increases duri...          4"
      ]
     },
     "execution_count": 14,
     "metadata": {},
     "output_type": "execute_result"
    }
   ],
   "source": [
    "Train.head(5)"
   ]
  },
  {
   "cell_type": "code",
   "execution_count": 15,
   "id": "a6c68981",
   "metadata": {},
   "outputs": [
    {
     "data": {
      "text/html": [
       "<div>\n",
       "<style scoped>\n",
       "    .dataframe tbody tr th:only-of-type {\n",
       "        vertical-align: middle;\n",
       "    }\n",
       "\n",
       "    .dataframe tbody tr th {\n",
       "        vertical-align: top;\n",
       "    }\n",
       "\n",
       "    .dataframe thead th {\n",
       "        text-align: right;\n",
       "    }\n",
       "</style>\n",
       "<table border=\"1\" class=\"dataframe\">\n",
       "  <thead>\n",
       "    <tr style=\"text-align: right;\">\n",
       "      <th></th>\n",
       "      <th>OriginalTweet</th>\n",
       "      <th>Sentiment</th>\n",
       "    </tr>\n",
       "  </thead>\n",
       "  <tbody>\n",
       "    <tr>\n",
       "      <th>7447</th>\n",
       "      <td>The US is asking other countries for everythin...</td>\n",
       "      <td>4</td>\n",
       "    </tr>\n",
       "    <tr>\n",
       "      <th>7825</th>\n",
       "      <td>Really @Bell @Bell_Support people are losing j...</td>\n",
       "      <td>4</td>\n",
       "    </tr>\n",
       "    <tr>\n",
       "      <th>9057</th>\n",
       "      <td>moonbeamwishes Hey, Megan! We will work to kee...</td>\n",
       "      <td>4</td>\n",
       "    </tr>\n",
       "    <tr>\n",
       "      <th>9359</th>\n",
       "      <td>Maine retail group chief worried about crisis-...</td>\n",
       "      <td>2</td>\n",
       "    </tr>\n",
       "    <tr>\n",
       "      <th>9775</th>\n",
       "      <td>According to a survey by @Path2PurchaseIQ, sho...</td>\n",
       "      <td>3</td>\n",
       "    </tr>\n",
       "  </tbody>\n",
       "</table>\n",
       "</div>"
      ],
      "text/plain": [
       "                                          OriginalTweet  Sentiment\n",
       "7447  The US is asking other countries for everythin...          4\n",
       "7825  Really @Bell @Bell_Support people are losing j...          4\n",
       "9057  moonbeamwishes Hey, Megan! We will work to kee...          4\n",
       "9359  Maine retail group chief worried about crisis-...          2\n",
       "9775  According to a survey by @Path2PurchaseIQ, sho...          3"
      ]
     },
     "execution_count": 15,
     "metadata": {},
     "output_type": "execute_result"
    }
   ],
   "source": [
    "Test.head(5)"
   ]
  },
  {
   "cell_type": "code",
   "execution_count": 16,
   "id": "dc522f8c",
   "metadata": {},
   "outputs": [],
   "source": [
    "def proc_text(text):\n",
    "    lowered = text.lower()\n",
    "    tokenized = ' '.join(re.findall(r\"[A-z0-9]+[A-z0-9]\",lowered))\n",
    "    return tokenized"
   ]
  },
  {
   "cell_type": "code",
   "execution_count": 17,
   "id": "5e6cc79e",
   "metadata": {},
   "outputs": [],
   "source": [
    "def train_tokens():\n",
    "    for row in range(len(Train.iloc[:,0])):\n",
    "        processed = proc_text(Train.iloc[row,0])\n",
    "        yield processed"
   ]
  },
  {
   "cell_type": "code",
   "execution_count": 18,
   "id": "58fdac53",
   "metadata": {},
   "outputs": [],
   "source": [
    "tokenizer = Tokenizer(model = tokenizers.models.WordLevel(unk_token='<unk>'))\n",
    "tokenizer.pre_tokenizer = tokenizers.pre_tokenizers.Whitespace()\n",
    "tok_trainer = tokenizers.trainers.WordLevelTrainer(vocab_size = 500_000,special_tokens = ['<pad>','<unk>'])\n",
    "tokenizer.enable_padding(direction='right',pad_id = 0,pad_token='<pad>')\n",
    "tokenizer.train_from_iterator(train_tokens(),trainer=tok_trainer)\n",
    "tokenizer.save('./tok_voc')"
   ]
  },
  {
   "cell_type": "code",
   "execution_count": 19,
   "id": "efb9862c",
   "metadata": {},
   "outputs": [],
   "source": [
    "class TextDataset(Dataset):\n",
    "    def __init__(self,texts,tok_path,processing,max_len):\n",
    "        self.texts = texts\n",
    "        self.tokenizer = PreTrainedTokenizerFast(tokenizer_file = tok_path)\n",
    "        self.processing = processing\n",
    "        self.max_length = max_len\n",
    "    \n",
    "    def __len__(self):\n",
    "        return len(self.texts)\n",
    "    \n",
    "    def __getitem__(self, indx):\n",
    "        text,label = self.processing(self.texts.iloc[indx,0]),torch.tensor(self.texts.iloc[indx,1].item())\n",
    "        tokenized_text = self.tokenizer(\n",
    "            text,\n",
    "            max_length = self.max_length,\n",
    "            padding = 'max_length',\n",
    "            return_tensors='pt',\n",
    "            truncation=True\n",
    "        )['input_ids']\n",
    "        return tokenized_text.squeeze(dim = 0),label"
   ]
  },
  {
   "cell_type": "code",
   "execution_count": 20,
   "id": "97a3beb8",
   "metadata": {},
   "outputs": [],
   "source": [
    "TrainDataset = TextDataset(texts = Train,\n",
    "                           tok_path='./tok_voc',\n",
    "                           processing=proc_text,\n",
    "                           max_len = 70)"
   ]
  },
  {
   "cell_type": "code",
   "execution_count": 21,
   "id": "44d1946b",
   "metadata": {},
   "outputs": [],
   "source": [
    "TestDataset = TextDataset(texts = Test,\n",
    "                           tok_path='./tok_voc',\n",
    "                           processing=proc_text,\n",
    "                           max_len = 70)"
   ]
  },
  {
   "cell_type": "code",
   "execution_count": 214,
   "id": "23e32e81",
   "metadata": {},
   "outputs": [],
   "source": [
    "class ClassificationModel(nn.Module):\n",
    "    def __init__(self,vocab_size,embed_dim,hidden_size,bi = True,bf = True):\n",
    "        super().__init__()\n",
    "        self.embed = nn.Embedding(vocab_size,embed_dim,padding_idx=0)\n",
    "        self.gru = nn.GRU(input_size = embed_dim,hidden_size = hidden_size,bidirectional = bi,batch_first=bf,num_layers=2,dropout=0.5)\n",
    "        self.linear = nn.Linear(600,5)\n",
    "\n",
    "    def forward(self,x):\n",
    "        y = self.embed(x)\n",
    "        _,y = self.gru(y)\n",
    "        y = y.transpose(0,1)\n",
    "        y = y.reshape(y.shape[0],-1)\n",
    "        y = self.linear(y)\n",
    "        return y"
   ]
  },
  {
   "cell_type": "code",
   "execution_count": 215,
   "id": "b3654aad",
   "metadata": {},
   "outputs": [],
   "source": [
    "vocab_size = tokenizer.get_vocab_size()\n",
    "embedding_dim = 300\n",
    "my_model = ClassificationModel(vocab_size=vocab_size,\n",
    "                               embed_dim = embedding_dim,\n",
    "                               hidden_size=150)"
   ]
  },
  {
   "cell_type": "code",
   "execution_count": 218,
   "id": "828c0cc6",
   "metadata": {},
   "outputs": [],
   "source": [
    "def train_model(model,train_loader,epoch,main_optim,main_loss,print_every = 1):\n",
    "    try:\n",
    "        train_losses = []\n",
    "        for ep in range(epoch):\n",
    "            model.train()\n",
    "            epoch_losses = []\n",
    "            for X,y in tqdm(train_loader,desc=f'Going through the loader on epoch #{ep+1}'):\n",
    "                main_optim.zero_grad()\n",
    "                y_pred = model(X)\n",
    "                the_loss = main_loss(y_pred,y)\n",
    "                the_loss.backward()\n",
    "                main_optim.step()\n",
    "                epoch_losses.append(the_loss.item())\n",
    "            train_losses.append(round(np.array(epoch_losses).mean().item(),5))\n",
    "            if ep%print_every == 0:\n",
    "                print(f'Epoch #{ep+1} | Train loss: {train_losses[-1]}',end = '\\n\\n')\n",
    "        return train_losses\n",
    "    except KeyboardInterrupt:\n",
    "        return train_losses"
   ]
  },
  {
   "cell_type": "code",
   "execution_count": 219,
   "id": "2c10e229",
   "metadata": {},
   "outputs": [
    {
     "data": {
      "text/plain": [
       "tensor([1.4965, 1.2583, 0.8240, 1.0732, 0.7185])"
      ]
     },
     "execution_count": 219,
     "metadata": {},
     "output_type": "execute_result"
    }
   ],
   "source": [
    "weights = compute_class_weight(class_weight='balanced',y = Train['Sentiment'],classes=np.array([_ for _ in range(5)]))\n",
    "weights = torch.from_numpy(weights).to(dtype = torch.float32)\n",
    "weights"
   ]
  },
  {
   "cell_type": "code",
   "execution_count": 220,
   "id": "37a0ea37",
   "metadata": {},
   "outputs": [],
   "source": [
    "#train\n",
    "epoch = 25\n",
    "batch_size = 54\n",
    "lr = 0.0005\n",
    "loader = DataLoader(dataset = TrainDataset,shuffle = True,batch_size = batch_size)\n",
    "optimizer = torch.optim.Adam(my_model.parameters(),lr = lr,betas=(0.9,0.989))\n",
    "criterion = nn.CrossEntropyLoss(reduction = 'mean',weight = weights,label_smoothing=0.001)"
   ]
  },
  {
   "cell_type": "code",
   "execution_count": 222,
   "id": "89391bb3",
   "metadata": {},
   "outputs": [
    {
     "name": "stderr",
     "output_type": "stream",
     "text": [
      "Going through the loader on epoch #1: 100%|██████████| 158/158 [00:28<00:00,  5.57it/s]\n"
     ]
    },
    {
     "name": "stdout",
     "output_type": "stream",
     "text": [
      "Epoch #1 | Train loss: 1.55646\n",
      "\n"
     ]
    },
    {
     "name": "stderr",
     "output_type": "stream",
     "text": [
      "Going through the loader on epoch #2: 100%|██████████| 158/158 [00:27<00:00,  5.74it/s]\n"
     ]
    },
    {
     "name": "stdout",
     "output_type": "stream",
     "text": [
      "Epoch #2 | Train loss: 1.28497\n",
      "\n"
     ]
    },
    {
     "name": "stderr",
     "output_type": "stream",
     "text": [
      "Going through the loader on epoch #3: 100%|██████████| 158/158 [00:28<00:00,  5.62it/s]\n"
     ]
    },
    {
     "name": "stdout",
     "output_type": "stream",
     "text": [
      "Epoch #3 | Train loss: 1.04236\n",
      "\n"
     ]
    },
    {
     "name": "stderr",
     "output_type": "stream",
     "text": [
      "Going through the loader on epoch #4: 100%|██████████| 158/158 [00:27<00:00,  5.83it/s]\n"
     ]
    },
    {
     "name": "stdout",
     "output_type": "stream",
     "text": [
      "Epoch #4 | Train loss: 0.81879\n",
      "\n"
     ]
    },
    {
     "name": "stderr",
     "output_type": "stream",
     "text": [
      "Going through the loader on epoch #5: 100%|██████████| 158/158 [00:26<00:00,  5.87it/s]\n"
     ]
    },
    {
     "name": "stdout",
     "output_type": "stream",
     "text": [
      "Epoch #5 | Train loss: 0.62574\n",
      "\n"
     ]
    },
    {
     "name": "stderr",
     "output_type": "stream",
     "text": [
      "Going through the loader on epoch #6: 100%|██████████| 158/158 [00:26<00:00,  5.88it/s]\n"
     ]
    },
    {
     "name": "stdout",
     "output_type": "stream",
     "text": [
      "Epoch #6 | Train loss: 0.45525\n",
      "\n"
     ]
    },
    {
     "name": "stderr",
     "output_type": "stream",
     "text": [
      "Going through the loader on epoch #7: 100%|██████████| 158/158 [00:26<00:00,  5.86it/s]\n"
     ]
    },
    {
     "name": "stdout",
     "output_type": "stream",
     "text": [
      "Epoch #7 | Train loss: 0.31571\n",
      "\n"
     ]
    },
    {
     "name": "stderr",
     "output_type": "stream",
     "text": [
      "Going through the loader on epoch #8: 100%|██████████| 158/158 [00:26<00:00,  5.88it/s]\n"
     ]
    },
    {
     "name": "stdout",
     "output_type": "stream",
     "text": [
      "Epoch #8 | Train loss: 0.22203\n",
      "\n"
     ]
    },
    {
     "name": "stderr",
     "output_type": "stream",
     "text": [
      "Going through the loader on epoch #9: 100%|██████████| 158/158 [00:26<00:00,  5.86it/s]\n"
     ]
    },
    {
     "name": "stdout",
     "output_type": "stream",
     "text": [
      "Epoch #9 | Train loss: 0.14911\n",
      "\n"
     ]
    },
    {
     "name": "stderr",
     "output_type": "stream",
     "text": [
      "Going through the loader on epoch #10: 100%|██████████| 158/158 [00:27<00:00,  5.77it/s]\n"
     ]
    },
    {
     "name": "stdout",
     "output_type": "stream",
     "text": [
      "Epoch #10 | Train loss: 0.12094\n",
      "\n"
     ]
    },
    {
     "name": "stderr",
     "output_type": "stream",
     "text": [
      "Going through the loader on epoch #11: 100%|██████████| 158/158 [00:27<00:00,  5.80it/s]\n"
     ]
    },
    {
     "name": "stdout",
     "output_type": "stream",
     "text": [
      "Epoch #11 | Train loss: 0.09225\n",
      "\n"
     ]
    },
    {
     "name": "stderr",
     "output_type": "stream",
     "text": [
      "Going through the loader on epoch #12: 100%|██████████| 158/158 [00:27<00:00,  5.79it/s]\n"
     ]
    },
    {
     "name": "stdout",
     "output_type": "stream",
     "text": [
      "Epoch #12 | Train loss: 0.07568\n",
      "\n"
     ]
    },
    {
     "name": "stderr",
     "output_type": "stream",
     "text": [
      "Going through the loader on epoch #13: 100%|██████████| 158/158 [00:27<00:00,  5.73it/s]\n"
     ]
    },
    {
     "name": "stdout",
     "output_type": "stream",
     "text": [
      "Epoch #13 | Train loss: 0.06341\n",
      "\n"
     ]
    },
    {
     "name": "stderr",
     "output_type": "stream",
     "text": [
      "Going through the loader on epoch #14: 100%|██████████| 158/158 [00:27<00:00,  5.74it/s]\n"
     ]
    },
    {
     "name": "stdout",
     "output_type": "stream",
     "text": [
      "Epoch #14 | Train loss: 0.04744\n",
      "\n"
     ]
    },
    {
     "name": "stderr",
     "output_type": "stream",
     "text": [
      "Going through the loader on epoch #15: 100%|██████████| 158/158 [00:27<00:00,  5.77it/s]\n"
     ]
    },
    {
     "name": "stdout",
     "output_type": "stream",
     "text": [
      "Epoch #15 | Train loss: 0.05378\n",
      "\n"
     ]
    },
    {
     "name": "stderr",
     "output_type": "stream",
     "text": [
      "Going through the loader on epoch #16: 100%|██████████| 158/158 [00:27<00:00,  5.73it/s]\n"
     ]
    },
    {
     "name": "stdout",
     "output_type": "stream",
     "text": [
      "Epoch #16 | Train loss: 0.04551\n",
      "\n"
     ]
    },
    {
     "name": "stderr",
     "output_type": "stream",
     "text": [
      "Going through the loader on epoch #17: 100%|██████████| 158/158 [00:27<00:00,  5.76it/s]\n"
     ]
    },
    {
     "name": "stdout",
     "output_type": "stream",
     "text": [
      "Epoch #17 | Train loss: 0.03366\n",
      "\n"
     ]
    },
    {
     "name": "stderr",
     "output_type": "stream",
     "text": [
      "Going through the loader on epoch #18: 100%|██████████| 158/158 [00:27<00:00,  5.73it/s]\n"
     ]
    },
    {
     "name": "stdout",
     "output_type": "stream",
     "text": [
      "Epoch #18 | Train loss: 0.03523\n",
      "\n"
     ]
    },
    {
     "name": "stderr",
     "output_type": "stream",
     "text": [
      "Going through the loader on epoch #19: 100%|██████████| 158/158 [00:27<00:00,  5.77it/s]\n"
     ]
    },
    {
     "name": "stdout",
     "output_type": "stream",
     "text": [
      "Epoch #19 | Train loss: 0.03699\n",
      "\n"
     ]
    },
    {
     "name": "stderr",
     "output_type": "stream",
     "text": [
      "Going through the loader on epoch #20: 100%|██████████| 158/158 [00:28<00:00,  5.57it/s]\n"
     ]
    },
    {
     "name": "stdout",
     "output_type": "stream",
     "text": [
      "Epoch #20 | Train loss: 0.03395\n",
      "\n"
     ]
    },
    {
     "name": "stderr",
     "output_type": "stream",
     "text": [
      "Going through the loader on epoch #21:  16%|█▋        | 26/158 [00:04<00:24,  5.36it/s]\n"
     ]
    }
   ],
   "source": [
    "results = train_model(model = my_model,\n",
    "                      train_loader = loader,\n",
    "                      epoch = epoch,\n",
    "                      main_optim = optimizer,\n",
    "                      main_loss = criterion\n",
    "                      )"
   ]
  },
  {
   "cell_type": "code",
   "execution_count": 223,
   "id": "7cd10fef",
   "metadata": {},
   "outputs": [],
   "source": [
    "@torch.no_grad()\n",
    "def get_preds(model,Val):\n",
    "    model.eval()\n",
    "    the_loader = DataLoader(dataset = Val, shuffle = False, batch_size = 1)\n",
    "    y_true_list = []\n",
    "    y_pred_list = []\n",
    "    for X,y in the_loader:\n",
    "        probs = model(X).softmax(dim = 1)\n",
    "        distribution = Categorical(probs)\n",
    "        y_pred = distribution.sample()\n",
    "        y_true_list.append(y.item())\n",
    "        y_pred_list.append(y_pred.item())\n",
    "    return np.array(y_true_list),np.array(y_pred_list)"
   ]
  },
  {
   "cell_type": "code",
   "execution_count": null,
   "id": "ccd4fbf5",
   "metadata": {},
   "outputs": [],
   "source": [
    "y_true, y_pred = get_preds(my_model,TestDataset)"
   ]
  },
  {
   "cell_type": "code",
   "execution_count": 225,
   "id": "041b5201",
   "metadata": {},
   "outputs": [
    {
     "name": "stdout",
     "output_type": "stream",
     "text": [
      "              precision    recall  f1-score   support\n",
      "\n",
      "           0       0.50      0.60      0.55       201\n",
      "           1       0.62      0.54      0.58       238\n",
      "           2       0.40      0.47      0.43       364\n",
      "           3       0.53      0.52      0.53       280\n",
      "           4       0.50      0.43      0.46       417\n",
      "\n",
      "    accuracy                           0.49      1500\n",
      "   macro avg       0.51      0.51      0.51      1500\n",
      "weighted avg       0.50      0.49      0.50      1500\n",
      "\n"
     ]
    }
   ],
   "source": [
    "report = classification_report(y_true = y_true,y_pred = y_pred)\n",
    "print(report)"
   ]
  },
  {
   "cell_type": "code",
   "execution_count": 226,
   "id": "40bbd26b",
   "metadata": {},
   "outputs": [
    {
     "data": {
      "text/plain": [
       "<Axes: >"
      ]
     },
     "execution_count": 226,
     "metadata": {},
     "output_type": "execute_result"
    },
    {
     "data": {
      "image/png": "[encoded data removed]",
      "text/plain": [
       "<Figure size 640x480 with 2 Axes>"
      ]
     },
     "metadata": {},
     "output_type": "display_data"
    }
   ],
   "source": [
    "conf_matrix = confusion_matrix(y_true = y_true,y_pred = y_pred)\n",
    "heatmap(conf_matrix,annot = True)"
   ]
  },
  {
   "cell_type": "code",
   "execution_count": null,
   "id": "990b7740",
   "metadata": {},
   "outputs": [
    {
     "data": {
      "text/plain": [
       "array(['Extremely Negative', 'Extremely Positive', 'Negative', 'Neutral',\n",
       "       'Positive'], dtype=object)"
      ]
     },
     "execution_count": 71,
     "metadata": {},
     "output_type": "execute_result"
    }
   ],
   "source": [
    "label_encoder.classes_"
   ]
  },
  {
   "cell_type": "code",
   "execution_count": 229,
   "id": "a858fbdb",
   "metadata": {},
   "outputs": [
    {
     "data": {
      "text/plain": [
       "[<matplotlib.lines.Line2D at 0x7df516d93b30>]"
      ]
     },
     "execution_count": 229,
     "metadata": {},
     "output_type": "execute_result"
    },
    {
     "data": {
      "image/png": "[encoded data removed]",
      "text/plain": [
       "<Figure size 1000x500 with 1 Axes>"
      ]
     },
     "metadata": {},
     "output_type": "display_data"
    }
   ],
   "source": [
    "import matplotlib.pyplot as plt\n",
    "some_figure = plt.figure(figsize = (10,5),facecolor = 'skyblue')\n",
    "some_ax = some_figure.add_subplot()\n",
    "some_ax.set_xlabel('Epoch')\n",
    "some_ax.set_ylabel('Avg Train Loss')\n",
    "some_ax.plot(results,c = 'purple')"
   ]
  },
  {
   "cell_type": "code",
   "execution_count": 266,
   "id": "87348c38",
   "metadata": {},
   "outputs": [],
   "source": [
    "def model_inf(text):\n",
    "    my_model.eval()\n",
    "    tokenizer = TrainDataset.tokenizer\n",
    "    processing = TrainDataset.processing\n",
    "    main_text = processing(text)\n",
    "    tokens = tokenizer(\n",
    "            main_text,\n",
    "            max_length = TrainDataset.max_length,\n",
    "            padding = 'max_length',\n",
    "            return_tensors='pt',\n",
    "            truncation=True)['input_ids']\n",
    "    y_pred = my_model(tokens).softmax(dim = 1).argmax(dim = 1).item()\n",
    "    return label_encoder.classes_[y_pred]"
   ]
  },
  {
   "cell_type": "code",
   "execution_count": 269,
   "id": "2bc2d289",
   "metadata": {},
   "outputs": [
    {
     "data": {
      "text/plain": [
       "'Extremely Positive'"
      ]
     },
     "execution_count": 269,
     "metadata": {},
     "output_type": "execute_result"
    }
   ],
   "source": [
    "model_inf('Thex exam is pretty well managed. I like it, organisers did a pretty good job')"
   ]
  },
  {
   "cell_type": "code",
   "execution_count": 270,
   "id": "968ba9ae",
   "metadata": {},
   "outputs": [
    {
     "data": {
      "text/plain": [
       "'Negative'"
      ]
     },
     "execution_count": 270,
     "metadata": {},
     "output_type": "execute_result"
    }
   ],
   "source": [
    "model_inf('but I hate everything about this stupid exam')"
   ]
  },
  {
   "cell_type": "markdown",
   "id": "00953910",
   "metadata": {},
   "source": [
    "### news dataset"
   ]
  },
  {
   "cell_type": "code",
   "execution_count": 13,
   "id": "27f4e01d",
   "metadata": {},
   "outputs": [
    {
     "name": "stdout",
     "output_type": "stream",
     "text": [
      "<class 'pandas.core.frame.DataFrame'>\n",
      "RangeIndex: 10000 entries, 0 to 9999\n",
      "Data columns (total 2 columns):\n",
      " #   Column       Non-Null Count  Dtype \n",
      "---  ------       --------------  ----- \n",
      " 0   Class Index  10000 non-null  int64 \n",
      " 1   Title        10000 non-null  object\n",
      "dtypes: int64(1), object(1)\n",
      "memory usage: 156.4+ KB\n",
      "None\n",
      "\n"
     ]
    },
    {
     "data": {
      "text/html": [
       "<div>\n",
       "<style scoped>\n",
       "    .dataframe tbody tr th:only-of-type {\n",
       "        vertical-align: middle;\n",
       "    }\n",
       "\n",
       "    .dataframe tbody tr th {\n",
       "        vertical-align: top;\n",
       "    }\n",
       "\n",
       "    .dataframe thead th {\n",
       "        text-align: right;\n",
       "    }\n",
       "</style>\n",
       "<table border=\"1\" class=\"dataframe\">\n",
       "  <thead>\n",
       "    <tr style=\"text-align: right;\">\n",
       "      <th></th>\n",
       "      <th>Class Index</th>\n",
       "      <th>Title</th>\n",
       "    </tr>\n",
       "  </thead>\n",
       "  <tbody>\n",
       "    <tr>\n",
       "      <th>0</th>\n",
       "      <td>2</td>\n",
       "      <td>Iowa Expecting Capital One Invitation (AP)</td>\n",
       "    </tr>\n",
       "    <tr>\n",
       "      <th>1</th>\n",
       "      <td>1</td>\n",
       "      <td>106 mainland enterprises listed outside mainla...</td>\n",
       "    </tr>\n",
       "    <tr>\n",
       "      <th>2</th>\n",
       "      <td>4</td>\n",
       "      <td>Internet crackdown leads to over 100 arrests</td>\n",
       "    </tr>\n",
       "    <tr>\n",
       "      <th>3</th>\n",
       "      <td>2</td>\n",
       "      <td>Williams vs Klitschko: When A Comet Crashes In...</td>\n",
       "    </tr>\n",
       "    <tr>\n",
       "      <th>4</th>\n",
       "      <td>4</td>\n",
       "      <td>Dell Gets \\$700M Deal From Royal Philips</td>\n",
       "    </tr>\n",
       "  </tbody>\n",
       "</table>\n",
       "</div>"
      ],
      "text/plain": [
       "   Class Index                                              Title\n",
       "0            2         Iowa Expecting Capital One Invitation (AP)\n",
       "1            1  106 mainland enterprises listed outside mainla...\n",
       "2            4       Internet crackdown leads to over 100 arrests\n",
       "3            2  Williams vs Klitschko: When A Comet Crashes In...\n",
       "4            4           Dell Gets \\$700M Deal From Royal Philips"
      ]
     },
     "execution_count": 13,
     "metadata": {},
     "output_type": "execute_result"
    }
   ],
   "source": [
    "news_data = pd.read_csv('/home/luchian/all_data/uni_data/NLP_datasets/news.csv', usecols = ['Class Index','Title'])\n",
    "print(news_data.info(),end = '\\n\\n')\n",
    "news_data.head(5)"
   ]
  },
  {
   "cell_type": "code",
   "execution_count": 107,
   "id": "9c3f7e3d",
   "metadata": {},
   "outputs": [
    {
     "data": {
      "text/html": [
       "<style>#sk-container-id-2 {\n",
       "  /* Definition of color scheme common for light and dark mode */\n",
       "  --sklearn-color-text: #000;\n",
       "  --sklearn-color-text-muted: #666;\n",
       "  --sklearn-color-line: gray;\n",
       "  /* Definition of color scheme for unfitted estimators */\n",
       "  --sklearn-color-unfitted-level-0: #fff5e6;\n",
       "  --sklearn-color-unfitted-level-1: #f6e4d2;\n",
       "  --sklearn-color-unfitted-level-2: #ffe0b3;\n",
       "  --sklearn-color-unfitted-level-3: chocolate;\n",
       "  /* Definition of color scheme for fitted estimators */\n",
       "  --sklearn-color-fitted-level-0: #f0f8ff;\n",
       "  --sklearn-color-fitted-level-1: #d4ebff;\n",
       "  --sklearn-color-fitted-level-2: #b3dbfd;\n",
       "  --sklearn-color-fitted-level-3: cornflowerblue;\n",
       "\n",
       "  /* Specific color for light theme */\n",
       "  --sklearn-color-text-on-default-background: var(--sg-text-color, var(--theme-code-foreground, var(--jp-content-font-color1, black)));\n",
       "  --sklearn-color-background: var(--sg-background-color, var(--theme-background, var(--jp-layout-color0, white)));\n",
       "  --sklearn-color-border-box: var(--sg-text-color, var(--theme-code-foreground, var(--jp-content-font-color1, black)));\n",
       "  --sklearn-color-icon: #696969;\n",
       "\n",
       "  @media (prefers-color-scheme: dark) {\n",
       "    /* Redefinition of color scheme for dark theme */\n",
       "    --sklearn-color-text-on-default-background: var(--sg-text-color, var(--theme-code-foreground, var(--jp-content-font-color1, white)));\n",
       "    --sklearn-color-background: var(--sg-background-color, var(--theme-background, var(--jp-layout-color0, #111)));\n",
       "    --sklearn-color-border-box: var(--sg-text-color, var(--theme-code-foreground, var(--jp-content-font-color1, white)));\n",
       "    --sklearn-color-icon: #878787;\n",
       "  }\n",
       "}\n",
       "\n",
       "#sk-container-id-2 {\n",
       "  color: var(--sklearn-color-text);\n",
       "}\n",
       "\n",
       "#sk-container-id-2 pre {\n",
       "  padding: 0;\n",
       "}\n",
       "\n",
       "#sk-container-id-2 input.sk-hidden--visually {\n",
       "  border: 0;\n",
       "  clip: rect(1px 1px 1px 1px);\n",
       "  clip: rect(1px, 1px, 1px, 1px);\n",
       "  height: 1px;\n",
       "  margin: -1px;\n",
       "  overflow: hidden;\n",
       "  padding: 0;\n",
       "  position: absolute;\n",
       "  width: 1px;\n",
       "}\n",
       "\n",
       "#sk-container-id-2 div.sk-dashed-wrapped {\n",
       "  border: 1px dashed var(--sklearn-color-line);\n",
       "  margin: 0 0.4em 0.5em 0.4em;\n",
       "  box-sizing: border-box;\n",
       "  padding-bottom: 0.4em;\n",
       "  background-color: var(--sklearn-color-background);\n",
       "}\n",
       "\n",
       "#sk-container-id-2 div.sk-container {\n",
       "  /* jupyter's `normalize.less` sets `[hidden] { display: none; }`\n",
       "     but bootstrap.min.css set `[hidden] { display: none !important; }`\n",
       "     so we also need the `!important` here to be able to override the\n",
       "     default hidden behavior on the sphinx rendered scikit-learn.org.\n",
       "     See: https://github.com/scikit-learn/scikit-learn/issues/21755 */\n",
       "  display: inline-block !important;\n",
       "  position: relative;\n",
       "}\n",
       "\n",
       "#sk-container-id-2 div.sk-text-repr-fallback {\n",
       "  display: none;\n",
       "}\n",
       "\n",
       "div.sk-parallel-item,\n",
       "div.sk-serial,\n",
       "div.sk-item {\n",
       "  /* draw centered vertical line to link estimators */\n",
       "  background-image: linear-gradient(var(--sklearn-color-text-on-default-background), var(--sklearn-color-text-on-default-background));\n",
       "  background-size: 2px 100%;\n",
       "  background-repeat: no-repeat;\n",
       "  background-position: center center;\n",
       "}\n",
       "\n",
       "/* Parallel-specific style estimator block */\n",
       "\n",
       "#sk-container-id-2 div.sk-parallel-item::after {\n",
       "  content: \"\";\n",
       "  width: 100%;\n",
       "  border-bottom: 2px solid var(--sklearn-color-text-on-default-background);\n",
       "  flex-grow: 1;\n",
       "}\n",
       "\n",
       "#sk-container-id-2 div.sk-parallel {\n",
       "  display: flex;\n",
       "  align-items: stretch;\n",
       "  justify-content: center;\n",
       "  background-color: var(--sklearn-color-background);\n",
       "  position: relative;\n",
       "}\n",
       "\n",
       "#sk-container-id-2 div.sk-parallel-item {\n",
       "  display: flex;\n",
       "  flex-direction: column;\n",
       "}\n",
       "\n",
       "#sk-container-id-2 div.sk-parallel-item:first-child::after {\n",
       "  align-self: flex-end;\n",
       "  width: 50%;\n",
       "}\n",
       "\n",
       "#sk-container-id-2 div.sk-parallel-item:last-child::after {\n",
       "  align-self: flex-start;\n",
       "  width: 50%;\n",
       "}\n",
       "\n",
       "#sk-container-id-2 div.sk-parallel-item:only-child::after {\n",
       "  width: 0;\n",
       "}\n",
       "\n",
       "/* Serial-specific style estimator block */\n",
       "\n",
       "#sk-container-id-2 div.sk-serial {\n",
       "  display: flex;\n",
       "  flex-direction: column;\n",
       "  align-items: center;\n",
       "  background-color: var(--sklearn-color-background);\n",
       "  padding-right: 1em;\n",
       "  padding-left: 1em;\n",
       "}\n",
       "\n",
       "\n",
       "/* Toggleable style: style used for estimator/Pipeline/ColumnTransformer box that is\n",
       "clickable and can be expanded/collapsed.\n",
       "- Pipeline and ColumnTransformer use this feature and define the default style\n",
       "- Estimators will overwrite some part of the style using the `sk-estimator` class\n",
       "*/\n",
       "\n",
       "/* Pipeline and ColumnTransformer style (default) */\n",
       "\n",
       "#sk-container-id-2 div.sk-toggleable {\n",
       "  /* Default theme specific background. It is overwritten whether we have a\n",
       "  specific estimator or a Pipeline/ColumnTransformer */\n",
       "  background-color: var(--sklearn-color-background);\n",
       "}\n",
       "\n",
       "/* Toggleable label */\n",
       "#sk-container-id-2 label.sk-toggleable__label {\n",
       "  cursor: pointer;\n",
       "  display: flex;\n",
       "  width: 100%;\n",
       "  margin-bottom: 0;\n",
       "  padding: 0.5em;\n",
       "  box-sizing: border-box;\n",
       "  text-align: center;\n",
       "  align-items: start;\n",
       "  justify-content: space-between;\n",
       "  gap: 0.5em;\n",
       "}\n",
       "\n",
       "#sk-container-id-2 label.sk-toggleable__label .caption {\n",
       "  font-size: 0.6rem;\n",
       "  font-weight: lighter;\n",
       "  color: var(--sklearn-color-text-muted);\n",
       "}\n",
       "\n",
       "#sk-container-id-2 label.sk-toggleable__label-arrow:before {\n",
       "  /* Arrow on the left of the label */\n",
       "  content: \"▸\";\n",
       "  float: left;\n",
       "  margin-right: 0.25em;\n",
       "  color: var(--sklearn-color-icon);\n",
       "}\n",
       "\n",
       "#sk-container-id-2 label.sk-toggleable__label-arrow:hover:before {\n",
       "  color: var(--sklearn-color-text);\n",
       "}\n",
       "\n",
       "/* Toggleable content - dropdown */\n",
       "\n",
       "#sk-container-id-2 div.sk-toggleable__content {\n",
       "  max-height: 0;\n",
       "  max-width: 0;\n",
       "  overflow: hidden;\n",
       "  text-align: left;\n",
       "  /* unfitted */\n",
       "  background-color: var(--sklearn-color-unfitted-level-0);\n",
       "}\n",
       "\n",
       "#sk-container-id-2 div.sk-toggleable__content.fitted {\n",
       "  /* fitted */\n",
       "  background-color: var(--sklearn-color-fitted-level-0);\n",
       "}\n",
       "\n",
       "#sk-container-id-2 div.sk-toggleable__content pre {\n",
       "  margin: 0.2em;\n",
       "  border-radius: 0.25em;\n",
       "  color: var(--sklearn-color-text);\n",
       "  /* unfitted */\n",
       "  background-color: var(--sklearn-color-unfitted-level-0);\n",
       "}\n",
       "\n",
       "#sk-container-id-2 div.sk-toggleable__content.fitted pre {\n",
       "  /* unfitted */\n",
       "  background-color: var(--sklearn-color-fitted-level-0);\n",
       "}\n",
       "\n",
       "#sk-container-id-2 input.sk-toggleable__control:checked~div.sk-toggleable__content {\n",
       "  /* Expand drop-down */\n",
       "  max-height: 200px;\n",
       "  max-width: 100%;\n",
       "  overflow: auto;\n",
       "}\n",
       "\n",
       "#sk-container-id-2 input.sk-toggleable__control:checked~label.sk-toggleable__label-arrow:before {\n",
       "  content: \"▾\";\n",
       "}\n",
       "\n",
       "/* Pipeline/ColumnTransformer-specific style */\n",
       "\n",
       "#sk-container-id-2 div.sk-label input.sk-toggleable__control:checked~label.sk-toggleable__label {\n",
       "  color: var(--sklearn-color-text);\n",
       "  background-color: var(--sklearn-color-unfitted-level-2);\n",
       "}\n",
       "\n",
       "#sk-container-id-2 div.sk-label.fitted input.sk-toggleable__control:checked~label.sk-toggleable__label {\n",
       "  background-color: var(--sklearn-color-fitted-level-2);\n",
       "}\n",
       "\n",
       "/* Estimator-specific style */\n",
       "\n",
       "/* Colorize estimator box */\n",
       "#sk-container-id-2 div.sk-estimator input.sk-toggleable__control:checked~label.sk-toggleable__label {\n",
       "  /* unfitted */\n",
       "  background-color: var(--sklearn-color-unfitted-level-2);\n",
       "}\n",
       "\n",
       "#sk-container-id-2 div.sk-estimator.fitted input.sk-toggleable__control:checked~label.sk-toggleable__label {\n",
       "  /* fitted */\n",
       "  background-color: var(--sklearn-color-fitted-level-2);\n",
       "}\n",
       "\n",
       "#sk-container-id-2 div.sk-label label.sk-toggleable__label,\n",
       "#sk-container-id-2 div.sk-label label {\n",
       "  /* The background is the default theme color */\n",
       "  color: var(--sklearn-color-text-on-default-background);\n",
       "}\n",
       "\n",
       "/* On hover, darken the color of the background */\n",
       "#sk-container-id-2 div.sk-label:hover label.sk-toggleable__label {\n",
       "  color: var(--sklearn-color-text);\n",
       "  background-color: var(--sklearn-color-unfitted-level-2);\n",
       "}\n",
       "\n",
       "/* Label box, darken color on hover, fitted */\n",
       "#sk-container-id-2 div.sk-label.fitted:hover label.sk-toggleable__label.fitted {\n",
       "  color: var(--sklearn-color-text);\n",
       "  background-color: var(--sklearn-color-fitted-level-2);\n",
       "}\n",
       "\n",
       "/* Estimator label */\n",
       "\n",
       "#sk-container-id-2 div.sk-label label {\n",
       "  font-family: monospace;\n",
       "  font-weight: bold;\n",
       "  display: inline-block;\n",
       "  line-height: 1.2em;\n",
       "}\n",
       "\n",
       "#sk-container-id-2 div.sk-label-container {\n",
       "  text-align: center;\n",
       "}\n",
       "\n",
       "/* Estimator-specific */\n",
       "#sk-container-id-2 div.sk-estimator {\n",
       "  font-family: monospace;\n",
       "  border: 1px dotted var(--sklearn-color-border-box);\n",
       "  border-radius: 0.25em;\n",
       "  box-sizing: border-box;\n",
       "  margin-bottom: 0.5em;\n",
       "  /* unfitted */\n",
       "  background-color: var(--sklearn-color-unfitted-level-0);\n",
       "}\n",
       "\n",
       "#sk-container-id-2 div.sk-estimator.fitted {\n",
       "  /* fitted */\n",
       "  background-color: var(--sklearn-color-fitted-level-0);\n",
       "}\n",
       "\n",
       "/* on hover */\n",
       "#sk-container-id-2 div.sk-estimator:hover {\n",
       "  /* unfitted */\n",
       "  background-color: var(--sklearn-color-unfitted-level-2);\n",
       "}\n",
       "\n",
       "#sk-container-id-2 div.sk-estimator.fitted:hover {\n",
       "  /* fitted */\n",
       "  background-color: var(--sklearn-color-fitted-level-2);\n",
       "}\n",
       "\n",
       "/* Specification for estimator info (e.g. \"i\" and \"?\") */\n",
       "\n",
       "/* Common style for \"i\" and \"?\" */\n",
       "\n",
       ".sk-estimator-doc-link,\n",
       "a:link.sk-estimator-doc-link,\n",
       "a:visited.sk-estimator-doc-link {\n",
       "  float: right;\n",
       "  font-size: smaller;\n",
       "  line-height: 1em;\n",
       "  font-family: monospace;\n",
       "  background-color: var(--sklearn-color-background);\n",
       "  border-radius: 1em;\n",
       "  height: 1em;\n",
       "  width: 1em;\n",
       "  text-decoration: none !important;\n",
       "  margin-left: 0.5em;\n",
       "  text-align: center;\n",
       "  /* unfitted */\n",
       "  border: var(--sklearn-color-unfitted-level-1) 1pt solid;\n",
       "  color: var(--sklearn-color-unfitted-level-1);\n",
       "}\n",
       "\n",
       ".sk-estimator-doc-link.fitted,\n",
       "a:link.sk-estimator-doc-link.fitted,\n",
       "a:visited.sk-estimator-doc-link.fitted {\n",
       "  /* fitted */\n",
       "  border: var(--sklearn-color-fitted-level-1) 1pt solid;\n",
       "  color: var(--sklearn-color-fitted-level-1);\n",
       "}\n",
       "\n",
       "/* On hover */\n",
       "div.sk-estimator:hover .sk-estimator-doc-link:hover,\n",
       ".sk-estimator-doc-link:hover,\n",
       "div.sk-label-container:hover .sk-estimator-doc-link:hover,\n",
       ".sk-estimator-doc-link:hover {\n",
       "  /* unfitted */\n",
       "  background-color: var(--sklearn-color-unfitted-level-3);\n",
       "  color: var(--sklearn-color-background);\n",
       "  text-decoration: none;\n",
       "}\n",
       "\n",
       "div.sk-estimator.fitted:hover .sk-estimator-doc-link.fitted:hover,\n",
       ".sk-estimator-doc-link.fitted:hover,\n",
       "div.sk-label-container:hover .sk-estimator-doc-link.fitted:hover,\n",
       ".sk-estimator-doc-link.fitted:hover {\n",
       "  /* fitted */\n",
       "  background-color: var(--sklearn-color-fitted-level-3);\n",
       "  color: var(--sklearn-color-background);\n",
       "  text-decoration: none;\n",
       "}\n",
       "\n",
       "/* Span, style for the box shown on hovering the info icon */\n",
       ".sk-estimator-doc-link span {\n",
       "  display: none;\n",
       "  z-index: 9999;\n",
       "  position: relative;\n",
       "  font-weight: normal;\n",
       "  right: .2ex;\n",
       "  padding: .5ex;\n",
       "  margin: .5ex;\n",
       "  width: min-content;\n",
       "  min-width: 20ex;\n",
       "  max-width: 50ex;\n",
       "  color: var(--sklearn-color-text);\n",
       "  box-shadow: 2pt 2pt 4pt #999;\n",
       "  /* unfitted */\n",
       "  background: var(--sklearn-color-unfitted-level-0);\n",
       "  border: .5pt solid var(--sklearn-color-unfitted-level-3);\n",
       "}\n",
       "\n",
       ".sk-estimator-doc-link.fitted span {\n",
       "  /* fitted */\n",
       "  background: var(--sklearn-color-fitted-level-0);\n",
       "  border: var(--sklearn-color-fitted-level-3);\n",
       "}\n",
       "\n",
       ".sk-estimator-doc-link:hover span {\n",
       "  display: block;\n",
       "}\n",
       "\n",
       "/* \"?\"-specific style due to the `<a>` HTML tag */\n",
       "\n",
       "#sk-container-id-2 a.estimator_doc_link {\n",
       "  float: right;\n",
       "  font-size: 1rem;\n",
       "  line-height: 1em;\n",
       "  font-family: monospace;\n",
       "  background-color: var(--sklearn-color-background);\n",
       "  border-radius: 1rem;\n",
       "  height: 1rem;\n",
       "  width: 1rem;\n",
       "  text-decoration: none;\n",
       "  /* unfitted */\n",
       "  color: var(--sklearn-color-unfitted-level-1);\n",
       "  border: var(--sklearn-color-unfitted-level-1) 1pt solid;\n",
       "}\n",
       "\n",
       "#sk-container-id-2 a.estimator_doc_link.fitted {\n",
       "  /* fitted */\n",
       "  border: var(--sklearn-color-fitted-level-1) 1pt solid;\n",
       "  color: var(--sklearn-color-fitted-level-1);\n",
       "}\n",
       "\n",
       "/* On hover */\n",
       "#sk-container-id-2 a.estimator_doc_link:hover {\n",
       "  /* unfitted */\n",
       "  background-color: var(--sklearn-color-unfitted-level-3);\n",
       "  color: var(--sklearn-color-background);\n",
       "  text-decoration: none;\n",
       "}\n",
       "\n",
       "#sk-container-id-2 a.estimator_doc_link.fitted:hover {\n",
       "  /* fitted */\n",
       "  background-color: var(--sklearn-color-fitted-level-3);\n",
       "}\n",
       "</style><div id=\"sk-container-id-2\" class=\"sk-top-container\"><div class=\"sk-text-repr-fallback\"><pre>LabelEncoder()</pre><b>In a Jupyter environment, please rerun this cell to show the HTML representation or trust the notebook. <br />On GitHub, the HTML representation is unable to render, please try loading this page with nbviewer.org.</b></div><div class=\"sk-container\" hidden><div class=\"sk-item\"><div class=\"sk-estimator fitted sk-toggleable\"><input class=\"sk-toggleable__control sk-hidden--visually\" id=\"sk-estimator-id-2\" type=\"checkbox\" checked><label for=\"sk-estimator-id-2\" class=\"sk-toggleable__label fitted sk-toggleable__label-arrow\"><div><div>LabelEncoder</div></div><div><a class=\"sk-estimator-doc-link fitted\" rel=\"noreferrer\" target=\"_blank\" href=\"https://scikit-learn.org/1.6/modules/generated/sklearn.preprocessing.LabelEncoder.html\">?<span>Documentation for LabelEncoder</span></a><span class=\"sk-estimator-doc-link fitted\">i<span>Fitted</span></span></div></label><div class=\"sk-toggleable__content fitted\"><pre>LabelEncoder()</pre></div> </div></div></div></div>"
      ],
      "text/plain": [
       "LabelEncoder()"
      ]
     },
     "execution_count": 107,
     "metadata": {},
     "output_type": "execute_result"
    }
   ],
   "source": [
    "label_encoder = LabelEncoder().fit(news_data['Class Index'])\n",
    "label_encoder"
   ]
  },
  {
   "cell_type": "code",
   "execution_count": 109,
   "id": "ea224b7d",
   "metadata": {},
   "outputs": [
    {
     "data": {
      "text/plain": [
       "array([1, 2, 3, 4])"
      ]
     },
     "execution_count": 109,
     "metadata": {},
     "output_type": "execute_result"
    }
   ],
   "source": [
    "label_encoder.classes_"
   ]
  },
  {
   "cell_type": "code",
   "execution_count": 110,
   "id": "8a7ef160",
   "metadata": {},
   "outputs": [],
   "source": [
    "news_data['Class Index'] = label_encoder.transform(news_data['Class Index'])"
   ]
  },
  {
   "cell_type": "code",
   "execution_count": 111,
   "id": "46147cec",
   "metadata": {},
   "outputs": [
    {
     "data": {
      "text/html": [
       "<div>\n",
       "<style scoped>\n",
       "    .dataframe tbody tr th:only-of-type {\n",
       "        vertical-align: middle;\n",
       "    }\n",
       "\n",
       "    .dataframe tbody tr th {\n",
       "        vertical-align: top;\n",
       "    }\n",
       "\n",
       "    .dataframe thead th {\n",
       "        text-align: right;\n",
       "    }\n",
       "</style>\n",
       "<table border=\"1\" class=\"dataframe\">\n",
       "  <thead>\n",
       "    <tr style=\"text-align: right;\">\n",
       "      <th></th>\n",
       "      <th>Class Index</th>\n",
       "      <th>Title</th>\n",
       "    </tr>\n",
       "  </thead>\n",
       "  <tbody>\n",
       "    <tr>\n",
       "      <th>0</th>\n",
       "      <td>1</td>\n",
       "      <td>Iowa Expecting Capital One Invitation (AP)</td>\n",
       "    </tr>\n",
       "    <tr>\n",
       "      <th>1</th>\n",
       "      <td>0</td>\n",
       "      <td>106 mainland enterprises listed outside mainla...</td>\n",
       "    </tr>\n",
       "    <tr>\n",
       "      <th>2</th>\n",
       "      <td>3</td>\n",
       "      <td>Internet crackdown leads to over 100 arrests</td>\n",
       "    </tr>\n",
       "    <tr>\n",
       "      <th>3</th>\n",
       "      <td>1</td>\n",
       "      <td>Williams vs Klitschko: When A Comet Crashes In...</td>\n",
       "    </tr>\n",
       "    <tr>\n",
       "      <th>4</th>\n",
       "      <td>3</td>\n",
       "      <td>Dell Gets \\$700M Deal From Royal Philips</td>\n",
       "    </tr>\n",
       "  </tbody>\n",
       "</table>\n",
       "</div>"
      ],
      "text/plain": [
       "   Class Index                                              Title\n",
       "0            1         Iowa Expecting Capital One Invitation (AP)\n",
       "1            0  106 mainland enterprises listed outside mainla...\n",
       "2            3       Internet crackdown leads to over 100 arrests\n",
       "3            1  Williams vs Klitschko: When A Comet Crashes In...\n",
       "4            3           Dell Gets \\$700M Deal From Royal Philips"
      ]
     },
     "execution_count": 111,
     "metadata": {},
     "output_type": "execute_result"
    }
   ],
   "source": [
    "news_data.head(5)"
   ]
  },
  {
   "cell_type": "code",
   "execution_count": 300,
   "id": "7771b664",
   "metadata": {},
   "outputs": [
    {
     "name": "stdout",
     "output_type": "stream",
     "text": [
      "9000\n",
      "1000\n"
     ]
    }
   ],
   "source": [
    "Train_news,Test_news = train_test_split(news_data,train_size = 0.9,stratify=news_data['Class Index'])\n",
    "print(len(Train_news))\n",
    "print(len(Test_news))"
   ]
  },
  {
   "cell_type": "code",
   "execution_count": 33,
   "id": "2d5d679f",
   "metadata": {},
   "outputs": [
    {
     "data": {
      "text/plain": [
       "'NFL Wrap: McNabb Leads Eagles to Fourth East Title'"
      ]
     },
     "execution_count": 33,
     "metadata": {},
     "output_type": "execute_result"
    }
   ],
   "source": [
    "sample_text = Train_news.iloc[rd.randint(1,9000),1]\n",
    "sample_text"
   ]
  },
  {
   "cell_type": "code",
   "execution_count": null,
   "id": "bbb1d197",
   "metadata": {},
   "outputs": [],
   "source": [
    "def proc_text(text):\n",
    "    \"\"\"simple processing of a text\"\"\"\n",
    "    lowered = text.lower()\n",
    "    tokenized = ' '.join(re.findall(r\"[A-z0-9]+[A-z0-9]\",lowered))\n",
    "    return tokenized"
   ]
  },
  {
   "cell_type": "code",
   "execution_count": 270,
   "id": "e5f4c407",
   "metadata": {},
   "outputs": [
    {
     "data": {
      "text/plain": [
       "'nfl wrap mcnabb leads eagles to fourth east title'"
      ]
     },
     "execution_count": 270,
     "metadata": {},
     "output_type": "execute_result"
    }
   ],
   "source": [
    "proc_text(sample_text)"
   ]
  },
  {
   "cell_type": "code",
   "execution_count": null,
   "id": "9d66335a",
   "metadata": {},
   "outputs": [],
   "source": [
    "def train_tokens():\n",
    "    \"\"\"creates a training generator for tokenizing\"\"\"\n",
    "    for row in range(len(Train_news.iloc[:,1])):\n",
    "        processed = proc_text(Train_news.iloc[row,1]) \n",
    "        yield processed"
   ]
  },
  {
   "cell_type": "code",
   "execution_count": 112,
   "id": "ea0a4faf",
   "metadata": {},
   "outputs": [],
   "source": [
    "def tokenizer_to_path(gen):\n",
    "    \"\"\"creates a doc with voc for further use with FastTokenizer from transformers\"\"\"\n",
    "    tokenizer = Tokenizer(model = tokenizers.models.WordLevel(unk_token='<unk>'))\n",
    "    tokenizer.pre_tokenizer = tokenizers.pre_tokenizers.Whitespace()\n",
    "    tok_trainer = tokenizers.trainers.WordLevelTrainer(vocab_size = 500_000,special_tokens = ['<pad>','<unk>'])\n",
    "    tokenizer.enable_padding(direction='right',pad_id = 0,pad_token='<pad>')\n",
    "    tokenizer.train_from_iterator(gen,trainer=tok_trainer)\n",
    "    return tokenizer"
   ]
  },
  {
   "cell_type": "code",
   "execution_count": 115,
   "id": "6c1318d2",
   "metadata": {},
   "outputs": [
    {
     "name": "stdout",
     "output_type": "stream",
     "text": [
      "<class 'tokenizers.Tokenizer'>\n"
     ]
    }
   ],
   "source": [
    "tok = tokenizer_to_path(train_tokens())\n",
    "print(type(tok))"
   ]
  },
  {
   "cell_type": "code",
   "execution_count": 277,
   "id": "e9898c9c",
   "metadata": {},
   "outputs": [
    {
     "data": {
      "text/plain": [
       "11201"
      ]
     },
     "execution_count": 277,
     "metadata": {},
     "output_type": "execute_result"
    }
   ],
   "source": [
    "tok.get_vocab_size()"
   ]
  },
  {
   "cell_type": "code",
   "execution_count": 118,
   "id": "54cb30e9",
   "metadata": {},
   "outputs": [],
   "source": [
    "class TextDataset(Dataset):\n",
    "    def __init__(self,texts,tok_obj,processing,max_len):\n",
    "        self.texts = texts\n",
    "        self.tokenizer = PreTrainedTokenizerFast(tokenizer_object = tok_obj)\n",
    "        self.processing = processing\n",
    "        self.max_length = max_len\n",
    "    \n",
    "    def __len__(self):\n",
    "        return len(self.texts)\n",
    "    \n",
    "    def __getitem__(self, indx):\n",
    "        text,label = self.processing(self.texts.iloc[indx,1]),torch.tensor(self.texts.iloc[indx,0].item())\n",
    "        tokenized_text = self.tokenizer(\n",
    "            text,\n",
    "            max_length = self.max_length,\n",
    "            padding = 'max_length',\n",
    "            return_tensors='pt',\n",
    "            truncation=True\n",
    "        )['input_ids']\n",
    "        return tokenized_text.squeeze(dim = 0),label"
   ]
  },
  {
   "cell_type": "code",
   "execution_count": 309,
   "id": "aa462b5a",
   "metadata": {},
   "outputs": [],
   "source": [
    "News_torch_train = TextDataset(Train_news,tok,proc_text,12)\n",
    "News_torch_test = TextDataset(Test_news,tok,proc_text,12)"
   ]
  },
  {
   "cell_type": "code",
   "execution_count": 310,
   "id": "852f36e9",
   "metadata": {},
   "outputs": [],
   "source": [
    "class ClassificationModel(nn.Module):\n",
    "    def __init__(self,vocab_size,embed_dim,hidden_size,bi = True,bf = True):\n",
    "        super().__init__() #initialization of super class\n",
    "        self.embed = nn.Embedding(vocab_size,embed_dim,padding_idx=0)\n",
    "        self.gru = nn.GRU(input_size = embed_dim,hidden_size = hidden_size,bidirectional = bi,batch_first=bf,num_layers=2,dropout=0.5)\n",
    "        self.linear = nn.Linear(600,4)\n",
    "\n",
    "    def forward(self,x):\n",
    "        y = self.embed(x)\n",
    "        _,y = self.gru(y)\n",
    "        y = y.transpose(0,1)\n",
    "        y = y.reshape(y.shape[0],-1)\n",
    "        y = self.linear(y)\n",
    "        return y"
   ]
  },
  {
   "cell_type": "code",
   "execution_count": 311,
   "id": "fb0de426",
   "metadata": {},
   "outputs": [],
   "source": [
    "def train_model(model,train_loader,epoch,main_optim,main_loss,print_every = 1):\n",
    "    try:\n",
    "        train_losses = []\n",
    "        for ep in range(epoch):\n",
    "            model.train()\n",
    "            epoch_losses = []\n",
    "            for X,y in tqdm(train_loader,desc=f'Going through the loader on epoch #{ep+1}'):\n",
    "                main_optim.zero_grad()\n",
    "                y_pred = model(X)\n",
    "                the_loss = main_loss(y_pred,y)\n",
    "                the_loss.backward()\n",
    "                main_optim.step()\n",
    "                epoch_losses.append(the_loss.item())\n",
    "            train_losses.append(round(np.array(epoch_losses).mean().item(),5))\n",
    "            if ep%print_every == 0:\n",
    "                print(f'Epoch #{ep+1} | Train loss: {train_losses[-1]}',end = '\\n\\n')\n",
    "        return train_losses\n",
    "    except KeyboardInterrupt:\n",
    "        return train_losses"
   ]
  },
  {
   "cell_type": "code",
   "execution_count": 312,
   "id": "b4294102",
   "metadata": {},
   "outputs": [
    {
     "data": {
      "text/plain": [
       "tensor([0.9707, 1.0158, 1.0103, 1.0045])"
      ]
     },
     "execution_count": 312,
     "metadata": {},
     "output_type": "execute_result"
    }
   ],
   "source": [
    "weights = compute_class_weight(class_weight='balanced',y = Train_news['Class Index'],classes=np.array([_ for _ in range(4)]))\n",
    "weights = torch.from_numpy(weights).to(dtype = torch.float32)\n",
    "weights"
   ]
  },
  {
   "cell_type": "code",
   "execution_count": 313,
   "id": "2177276f",
   "metadata": {},
   "outputs": [],
   "source": [
    "vocab_size = tok.get_vocab_size()\n",
    "embed_dim = 300\n",
    "hidden_size = 150"
   ]
  },
  {
   "cell_type": "code",
   "execution_count": 314,
   "id": "4615607f",
   "metadata": {},
   "outputs": [
    {
     "data": {
      "text/plain": [
       "ClassificationModel(\n",
       "  (embed): Embedding(11201, 300, padding_idx=0)\n",
       "  (gru): GRU(300, 150, num_layers=2, batch_first=True, dropout=0.5, bidirectional=True)\n",
       "  (linear): Linear(in_features=600, out_features=4, bias=True)\n",
       ")"
      ]
     },
     "execution_count": 314,
     "metadata": {},
     "output_type": "execute_result"
    }
   ],
   "source": [
    "my_mod = ClassificationModel(vocab_size,embed_dim,hidden_size)\n",
    "my_mod"
   ]
  },
  {
   "cell_type": "code",
   "execution_count": 315,
   "id": "c49e0dd8",
   "metadata": {},
   "outputs": [],
   "source": [
    "#train\n",
    "epoch = 20\n",
    "batch_size = 46\n",
    "lr = 0.0005\n",
    "loader = DataLoader(dataset = News_torch_train,shuffle = True,batch_size = batch_size)\n",
    "optimizer = torch.optim.Adam(my_mod.parameters(),lr = lr,betas=(0.9,0.989))\n",
    "criterion = nn.CrossEntropyLoss(reduction = 'mean',weight = weights,label_smoothing=0.0001)"
   ]
  },
  {
   "cell_type": "code",
   "execution_count": 316,
   "id": "b1451f01",
   "metadata": {},
   "outputs": [
    {
     "name": "stderr",
     "output_type": "stream",
     "text": [
      "Going through the loader on epoch #1: 100%|██████████| 196/196 [00:10<00:00, 18.43it/s]\n"
     ]
    },
    {
     "name": "stdout",
     "output_type": "stream",
     "text": [
      "Epoch #1 | Train loss: 1.11327\n",
      "\n"
     ]
    },
    {
     "name": "stderr",
     "output_type": "stream",
     "text": [
      "Going through the loader on epoch #2: 100%|██████████| 196/196 [00:09<00:00, 21.62it/s]\n"
     ]
    },
    {
     "name": "stdout",
     "output_type": "stream",
     "text": [
      "Epoch #2 | Train loss: 0.64781\n",
      "\n"
     ]
    },
    {
     "name": "stderr",
     "output_type": "stream",
     "text": [
      "Going through the loader on epoch #3: 100%|██████████| 196/196 [00:08<00:00, 22.67it/s]\n"
     ]
    },
    {
     "name": "stdout",
     "output_type": "stream",
     "text": [
      "Epoch #3 | Train loss: 0.3971\n",
      "\n"
     ]
    },
    {
     "name": "stderr",
     "output_type": "stream",
     "text": [
      "Going through the loader on epoch #4: 100%|██████████| 196/196 [00:08<00:00, 24.34it/s]\n"
     ]
    },
    {
     "name": "stdout",
     "output_type": "stream",
     "text": [
      "Epoch #4 | Train loss: 0.21929\n",
      "\n"
     ]
    },
    {
     "name": "stderr",
     "output_type": "stream",
     "text": [
      "Going through the loader on epoch #5: 100%|██████████| 196/196 [00:08<00:00, 23.24it/s]\n"
     ]
    },
    {
     "name": "stdout",
     "output_type": "stream",
     "text": [
      "Epoch #5 | Train loss: 0.11343\n",
      "\n"
     ]
    },
    {
     "name": "stderr",
     "output_type": "stream",
     "text": [
      "Going through the loader on epoch #6: 100%|██████████| 196/196 [00:08<00:00, 23.68it/s]\n"
     ]
    },
    {
     "name": "stdout",
     "output_type": "stream",
     "text": [
      "Epoch #6 | Train loss: 0.06902\n",
      "\n"
     ]
    },
    {
     "name": "stderr",
     "output_type": "stream",
     "text": [
      "Going through the loader on epoch #7: 100%|██████████| 196/196 [00:08<00:00, 23.16it/s]\n"
     ]
    },
    {
     "name": "stdout",
     "output_type": "stream",
     "text": [
      "Epoch #7 | Train loss: 0.04947\n",
      "\n"
     ]
    },
    {
     "name": "stderr",
     "output_type": "stream",
     "text": [
      "Going through the loader on epoch #8: 100%|██████████| 196/196 [00:08<00:00, 24.16it/s]\n"
     ]
    },
    {
     "name": "stdout",
     "output_type": "stream",
     "text": [
      "Epoch #8 | Train loss: 0.04243\n",
      "\n"
     ]
    },
    {
     "name": "stderr",
     "output_type": "stream",
     "text": [
      "Going through the loader on epoch #9: 100%|██████████| 196/196 [00:09<00:00, 21.09it/s]\n"
     ]
    },
    {
     "name": "stdout",
     "output_type": "stream",
     "text": [
      "Epoch #9 | Train loss: 0.0388\n",
      "\n"
     ]
    },
    {
     "name": "stderr",
     "output_type": "stream",
     "text": [
      "Going through the loader on epoch #10: 100%|██████████| 196/196 [00:09<00:00, 20.66it/s]\n"
     ]
    },
    {
     "name": "stdout",
     "output_type": "stream",
     "text": [
      "Epoch #10 | Train loss: 0.02371\n",
      "\n"
     ]
    },
    {
     "name": "stderr",
     "output_type": "stream",
     "text": [
      "Going through the loader on epoch #11: 100%|██████████| 196/196 [00:09<00:00, 20.51it/s]\n"
     ]
    },
    {
     "name": "stdout",
     "output_type": "stream",
     "text": [
      "Epoch #11 | Train loss: 0.02463\n",
      "\n"
     ]
    },
    {
     "name": "stderr",
     "output_type": "stream",
     "text": [
      "Going through the loader on epoch #12: 100%|██████████| 196/196 [00:09<00:00, 21.74it/s]\n"
     ]
    },
    {
     "name": "stdout",
     "output_type": "stream",
     "text": [
      "Epoch #12 | Train loss: 0.02437\n",
      "\n"
     ]
    },
    {
     "name": "stderr",
     "output_type": "stream",
     "text": [
      "Going through the loader on epoch #13: 100%|██████████| 196/196 [00:08<00:00, 24.33it/s]\n"
     ]
    },
    {
     "name": "stdout",
     "output_type": "stream",
     "text": [
      "Epoch #13 | Train loss: 0.01797\n",
      "\n"
     ]
    },
    {
     "name": "stderr",
     "output_type": "stream",
     "text": [
      "Going through the loader on epoch #14: 100%|██████████| 196/196 [00:08<00:00, 21.78it/s]\n"
     ]
    },
    {
     "name": "stdout",
     "output_type": "stream",
     "text": [
      "Epoch #14 | Train loss: 0.01704\n",
      "\n"
     ]
    },
    {
     "name": "stderr",
     "output_type": "stream",
     "text": [
      "Going through the loader on epoch #15: 100%|██████████| 196/196 [00:09<00:00, 21.59it/s]\n"
     ]
    },
    {
     "name": "stdout",
     "output_type": "stream",
     "text": [
      "Epoch #15 | Train loss: 0.01753\n",
      "\n"
     ]
    },
    {
     "name": "stderr",
     "output_type": "stream",
     "text": [
      "Going through the loader on epoch #16: 100%|██████████| 196/196 [00:08<00:00, 22.26it/s]\n"
     ]
    },
    {
     "name": "stdout",
     "output_type": "stream",
     "text": [
      "Epoch #16 | Train loss: 0.01538\n",
      "\n"
     ]
    },
    {
     "name": "stderr",
     "output_type": "stream",
     "text": [
      "Going through the loader on epoch #17: 100%|██████████| 196/196 [00:09<00:00, 20.30it/s]\n"
     ]
    },
    {
     "name": "stdout",
     "output_type": "stream",
     "text": [
      "Epoch #17 | Train loss: 0.01413\n",
      "\n"
     ]
    },
    {
     "name": "stderr",
     "output_type": "stream",
     "text": [
      "Going through the loader on epoch #18: 100%|██████████| 196/196 [00:09<00:00, 20.20it/s]\n"
     ]
    },
    {
     "name": "stdout",
     "output_type": "stream",
     "text": [
      "Epoch #18 | Train loss: 0.01561\n",
      "\n"
     ]
    },
    {
     "name": "stderr",
     "output_type": "stream",
     "text": [
      "Going through the loader on epoch #19: 100%|██████████| 196/196 [00:09<00:00, 21.44it/s]\n"
     ]
    },
    {
     "name": "stdout",
     "output_type": "stream",
     "text": [
      "Epoch #19 | Train loss: 0.01359\n",
      "\n"
     ]
    },
    {
     "name": "stderr",
     "output_type": "stream",
     "text": [
      "Going through the loader on epoch #20: 100%|██████████| 196/196 [00:08<00:00, 24.33it/s]"
     ]
    },
    {
     "name": "stdout",
     "output_type": "stream",
     "text": [
      "Epoch #20 | Train loss: 0.00985\n",
      "\n"
     ]
    },
    {
     "name": "stderr",
     "output_type": "stream",
     "text": [
      "\n"
     ]
    }
   ],
   "source": [
    "results = train_model(model = my_mod,\n",
    "                      train_loader = loader,\n",
    "                      epoch = epoch,\n",
    "                      main_optim = optimizer,\n",
    "                      main_loss = criterion\n",
    "                      )"
   ]
  },
  {
   "cell_type": "code",
   "execution_count": 317,
   "id": "cd6af10c",
   "metadata": {},
   "outputs": [],
   "source": [
    "@torch.no_grad()\n",
    "def get_preds(model,Val):\n",
    "    model.eval()\n",
    "    the_loader = DataLoader(dataset = Val, shuffle = False, batch_size = 1)\n",
    "    y_true_list = []\n",
    "    y_pred_list = []\n",
    "    for X,y in the_loader:\n",
    "        probs = model(X).softmax(dim = 1)\n",
    "        distribution = Categorical(probs)\n",
    "        y_pred = distribution.sample()\n",
    "        y_true_list.append(y.item())\n",
    "        y_pred_list.append(y_pred.item())\n",
    "    return np.array(y_true_list),np.array(y_pred_list)"
   ]
  },
  {
   "cell_type": "code",
   "execution_count": 318,
   "id": "e4aaddfc",
   "metadata": {},
   "outputs": [],
   "source": [
    "y_true, y_pred = get_preds(my_mod,News_torch_test)"
   ]
  },
  {
   "cell_type": "code",
   "execution_count": 319,
   "id": "560b2364",
   "metadata": {},
   "outputs": [
    {
     "name": "stdout",
     "output_type": "stream",
     "text": [
      "              precision    recall  f1-score   support\n",
      "\n",
      "           0       0.76      0.72      0.74       257\n",
      "           1       0.75      0.68      0.71       246\n",
      "           2       0.65      0.65      0.65       248\n",
      "           3       0.67      0.76      0.71       249\n",
      "\n",
      "    accuracy                           0.70      1000\n",
      "   macro avg       0.70      0.70      0.70      1000\n",
      "weighted avg       0.70      0.70      0.70      1000\n",
      "\n"
     ]
    }
   ],
   "source": [
    "report = classification_report(y_true = y_true,y_pred = y_pred)\n",
    "print(report)"
   ]
  },
  {
   "cell_type": "code",
   "execution_count": 320,
   "id": "09dbd67f",
   "metadata": {},
   "outputs": [
    {
     "data": {
      "text/plain": [
       "<Axes: >"
      ]
     },
     "execution_count": 320,
     "metadata": {},
     "output_type": "execute_result"
    },
    {
     "data": {
      "image/png": "[encoded data removed]",
      "text/plain": [
       "<Figure size 640x480 with 2 Axes>"
      ]
     },
     "metadata": {},
     "output_type": "display_data"
    }
   ],
   "source": [
    "conf_matrix = confusion_matrix(y_true = y_true,y_pred = y_pred)\n",
    "heatmap(conf_matrix,annot = True)"
   ]
  },
  {
   "cell_type": "code",
   "execution_count": 321,
   "id": "93d1d9de",
   "metadata": {},
   "outputs": [
    {
     "data": {
      "text/plain": [
       "array([1, 2, 3, 4])"
      ]
     },
     "execution_count": 321,
     "metadata": {},
     "output_type": "execute_result"
    }
   ],
   "source": [
    "label_encoder.classes_"
   ]
  },
  {
   "cell_type": "code",
   "execution_count": 323,
   "id": "a52fc403",
   "metadata": {},
   "outputs": [
    {
     "data": {
      "text/plain": [
       "[<matplotlib.lines.Line2D at 0x7b1a8c731730>]"
      ]
     },
     "execution_count": 323,
     "metadata": {},
     "output_type": "execute_result"
    },
    {
     "data": {
      "image/png": "[encoded data removed]",
      "text/plain": [
       "<Figure size 1000x500 with 1 Axes>"
      ]
     },
     "metadata": {},
     "output_type": "display_data"
    }
   ],
   "source": [
    "import matplotlib.pyplot as plt\n",
    "some_figure = plt.figure(figsize = (10,5),facecolor = 'skyblue')\n",
    "some_ax = some_figure.add_subplot()\n",
    "some_ax.set_xlabel('Epoch')\n",
    "some_ax.set_ylabel('Avg Train Loss')\n",
    "some_ax.grid(linestyle = '--',c = 'pink',alpha = 0.32)\n",
    "some_ax.plot(results,c = 'green')"
   ]
  },
  {
   "cell_type": "code",
   "execution_count": 344,
   "id": "1e628366",
   "metadata": {},
   "outputs": [],
   "source": [
    "class ModelInf(object):\n",
    "    def __init__(self,model,TrainSet):\n",
    "        self.model = model\n",
    "        self.dataset = TrainSet\n",
    "    \n",
    "    def __call__(self,text):\n",
    "        self.model.eval()\n",
    "        main_text = self.dataset.processing(text)\n",
    "        tokens = self.dataset.tokenizer(\n",
    "                main_text,\n",
    "                max_length = self.dataset.max_length,\n",
    "                padding = 'max_length',\n",
    "                return_tensors='pt',\n",
    "                truncation=True)['input_ids']\n",
    "        y_pred = self.model(tokens).softmax(dim = 1).argmax(dim = 1).item()\n",
    "        return label_encoder.classes_[y_pred].item()"
   ]
  },
  {
   "cell_type": "code",
   "execution_count": 356,
   "id": "c7cc5f5d",
   "metadata": {},
   "outputs": [],
   "source": [
    "inf = ModelInf(my_mod,News_torch_train)"
   ]
  },
  {
   "cell_type": "code",
   "execution_count": 371,
   "id": "a46a6c51",
   "metadata": {},
   "outputs": [
    {
     "name": "stdout",
     "output_type": "stream",
     "text": [
      "Text: Astros Beat Rockies to Win NL Playoff Spot\n",
      "prediction: 2\n",
      "\n",
      "Text: Chilean judge halts his questioning of ailing ex-dictator\n",
      "prediction: 1\n"
     ]
    }
   ],
   "source": [
    "t1,t2 = Test_news.iloc[rd.randint(0,999),1],Test_news.iloc[rd.randint(0,999),1]\n",
    "print(f'Text: {t1}\\nprediction: {inf(t1)}',end = '\\n\\n')\n",
    "print(f'Text: {t2}\\nprediction: {inf(t2)}')"
   ]
  },
  {
   "cell_type": "markdown",
   "id": "b03f1310",
   "metadata": {},
   "source": [
    "### tweet_cat dataset"
   ]
  },
  {
   "cell_type": "code",
   "execution_count": 558,
   "id": "78634d05",
   "metadata": {},
   "outputs": [
    {
     "data": {
      "text/html": [
       "<div>\n",
       "<style scoped>\n",
       "    .dataframe tbody tr th:only-of-type {\n",
       "        vertical-align: middle;\n",
       "    }\n",
       "\n",
       "    .dataframe tbody tr th {\n",
       "        vertical-align: top;\n",
       "    }\n",
       "\n",
       "    .dataframe thead th {\n",
       "        text-align: right;\n",
       "    }\n",
       "</style>\n",
       "<table border=\"1\" class=\"dataframe\">\n",
       "  <thead>\n",
       "    <tr style=\"text-align: right;\">\n",
       "      <th></th>\n",
       "      <th>text</th>\n",
       "      <th>type</th>\n",
       "    </tr>\n",
       "  </thead>\n",
       "  <tbody>\n",
       "    <tr>\n",
       "      <th>0</th>\n",
       "      <td>@ACNI2012 @TheToka920 Never knew having 1 or 2...</td>\n",
       "      <td>sports</td>\n",
       "    </tr>\n",
       "    <tr>\n",
       "      <th>1</th>\n",
       "      <td>MYCA Magical Moments:\\n\\nSeptember, 2011: Sham...</td>\n",
       "      <td>sports</td>\n",
       "    </tr>\n",
       "    <tr>\n",
       "      <th>2</th>\n",
       "      <td>The current state of last year's @BBL finalist...</td>\n",
       "      <td>sports</td>\n",
       "    </tr>\n",
       "    <tr>\n",
       "      <th>3</th>\n",
       "      <td>@HOLLYJISOO Why did you bring a cricket...</td>\n",
       "      <td>sports</td>\n",
       "    </tr>\n",
       "    <tr>\n",
       "      <th>4</th>\n",
       "      <td>Babar Azam only Pakistani included in the ICC ...</td>\n",
       "      <td>sports</td>\n",
       "    </tr>\n",
       "  </tbody>\n",
       "</table>\n",
       "</div>"
      ],
      "text/plain": [
       "                                                text    type\n",
       "0  @ACNI2012 @TheToka920 Never knew having 1 or 2...  sports\n",
       "1  MYCA Magical Moments:\\n\\nSeptember, 2011: Sham...  sports\n",
       "2  The current state of last year's @BBL finalist...  sports\n",
       "3         @HOLLYJISOO Why did you bring a cricket...  sports\n",
       "4  Babar Azam only Pakistani included in the ICC ...  sports"
      ]
     },
     "execution_count": 558,
     "metadata": {},
     "output_type": "execute_result"
    }
   ],
   "source": [
    "tweet_cat_dataset = pd.read_csv('~/Downloads/tweet_cat.csv')\n",
    "tweet_cat_dataset.head(5)"
   ]
  },
  {
   "cell_type": "code",
   "execution_count": 559,
   "id": "03fe53a1",
   "metadata": {},
   "outputs": [
    {
     "data": {
      "text/html": [
       "<style>#sk-container-id-9 {\n",
       "  /* Definition of color scheme common for light and dark mode */\n",
       "  --sklearn-color-text: #000;\n",
       "  --sklearn-color-text-muted: #666;\n",
       "  --sklearn-color-line: gray;\n",
       "  /* Definition of color scheme for unfitted estimators */\n",
       "  --sklearn-color-unfitted-level-0: #fff5e6;\n",
       "  --sklearn-color-unfitted-level-1: #f6e4d2;\n",
       "  --sklearn-color-unfitted-level-2: #ffe0b3;\n",
       "  --sklearn-color-unfitted-level-3: chocolate;\n",
       "  /* Definition of color scheme for fitted estimators */\n",
       "  --sklearn-color-fitted-level-0: #f0f8ff;\n",
       "  --sklearn-color-fitted-level-1: #d4ebff;\n",
       "  --sklearn-color-fitted-level-2: #b3dbfd;\n",
       "  --sklearn-color-fitted-level-3: cornflowerblue;\n",
       "\n",
       "  /* Specific color for light theme */\n",
       "  --sklearn-color-text-on-default-background: var(--sg-text-color, var(--theme-code-foreground, var(--jp-content-font-color1, black)));\n",
       "  --sklearn-color-background: var(--sg-background-color, var(--theme-background, var(--jp-layout-color0, white)));\n",
       "  --sklearn-color-border-box: var(--sg-text-color, var(--theme-code-foreground, var(--jp-content-font-color1, black)));\n",
       "  --sklearn-color-icon: #696969;\n",
       "\n",
       "  @media (prefers-color-scheme: dark) {\n",
       "    /* Redefinition of color scheme for dark theme */\n",
       "    --sklearn-color-text-on-default-background: var(--sg-text-color, var(--theme-code-foreground, var(--jp-content-font-color1, white)));\n",
       "    --sklearn-color-background: var(--sg-background-color, var(--theme-background, var(--jp-layout-color0, #111)));\n",
       "    --sklearn-color-border-box: var(--sg-text-color, var(--theme-code-foreground, var(--jp-content-font-color1, white)));\n",
       "    --sklearn-color-icon: #878787;\n",
       "  }\n",
       "}\n",
       "\n",
       "#sk-container-id-9 {\n",
       "  color: var(--sklearn-color-text);\n",
       "}\n",
       "\n",
       "#sk-container-id-9 pre {\n",
       "  padding: 0;\n",
       "}\n",
       "\n",
       "#sk-container-id-9 input.sk-hidden--visually {\n",
       "  border: 0;\n",
       "  clip: rect(1px 1px 1px 1px);\n",
       "  clip: rect(1px, 1px, 1px, 1px);\n",
       "  height: 1px;\n",
       "  margin: -1px;\n",
       "  overflow: hidden;\n",
       "  padding: 0;\n",
       "  position: absolute;\n",
       "  width: 1px;\n",
       "}\n",
       "\n",
       "#sk-container-id-9 div.sk-dashed-wrapped {\n",
       "  border: 1px dashed var(--sklearn-color-line);\n",
       "  margin: 0 0.4em 0.5em 0.4em;\n",
       "  box-sizing: border-box;\n",
       "  padding-bottom: 0.4em;\n",
       "  background-color: var(--sklearn-color-background);\n",
       "}\n",
       "\n",
       "#sk-container-id-9 div.sk-container {\n",
       "  /* jupyter's `normalize.less` sets `[hidden] { display: none; }`\n",
       "     but bootstrap.min.css set `[hidden] { display: none !important; }`\n",
       "     so we also need the `!important` here to be able to override the\n",
       "     default hidden behavior on the sphinx rendered scikit-learn.org.\n",
       "     See: https://github.com/scikit-learn/scikit-learn/issues/21755 */\n",
       "  display: inline-block !important;\n",
       "  position: relative;\n",
       "}\n",
       "\n",
       "#sk-container-id-9 div.sk-text-repr-fallback {\n",
       "  display: none;\n",
       "}\n",
       "\n",
       "div.sk-parallel-item,\n",
       "div.sk-serial,\n",
       "div.sk-item {\n",
       "  /* draw centered vertical line to link estimators */\n",
       "  background-image: linear-gradient(var(--sklearn-color-text-on-default-background), var(--sklearn-color-text-on-default-background));\n",
       "  background-size: 2px 100%;\n",
       "  background-repeat: no-repeat;\n",
       "  background-position: center center;\n",
       "}\n",
       "\n",
       "/* Parallel-specific style estimator block */\n",
       "\n",
       "#sk-container-id-9 div.sk-parallel-item::after {\n",
       "  content: \"\";\n",
       "  width: 100%;\n",
       "  border-bottom: 2px solid var(--sklearn-color-text-on-default-background);\n",
       "  flex-grow: 1;\n",
       "}\n",
       "\n",
       "#sk-container-id-9 div.sk-parallel {\n",
       "  display: flex;\n",
       "  align-items: stretch;\n",
       "  justify-content: center;\n",
       "  background-color: var(--sklearn-color-background);\n",
       "  position: relative;\n",
       "}\n",
       "\n",
       "#sk-container-id-9 div.sk-parallel-item {\n",
       "  display: flex;\n",
       "  flex-direction: column;\n",
       "}\n",
       "\n",
       "#sk-container-id-9 div.sk-parallel-item:first-child::after {\n",
       "  align-self: flex-end;\n",
       "  width: 50%;\n",
       "}\n",
       "\n",
       "#sk-container-id-9 div.sk-parallel-item:last-child::after {\n",
       "  align-self: flex-start;\n",
       "  width: 50%;\n",
       "}\n",
       "\n",
       "#sk-container-id-9 div.sk-parallel-item:only-child::after {\n",
       "  width: 0;\n",
       "}\n",
       "\n",
       "/* Serial-specific style estimator block */\n",
       "\n",
       "#sk-container-id-9 div.sk-serial {\n",
       "  display: flex;\n",
       "  flex-direction: column;\n",
       "  align-items: center;\n",
       "  background-color: var(--sklearn-color-background);\n",
       "  padding-right: 1em;\n",
       "  padding-left: 1em;\n",
       "}\n",
       "\n",
       "\n",
       "/* Toggleable style: style used for estimator/Pipeline/ColumnTransformer box that is\n",
       "clickable and can be expanded/collapsed.\n",
       "- Pipeline and ColumnTransformer use this feature and define the default style\n",
       "- Estimators will overwrite some part of the style using the `sk-estimator` class\n",
       "*/\n",
       "\n",
       "/* Pipeline and ColumnTransformer style (default) */\n",
       "\n",
       "#sk-container-id-9 div.sk-toggleable {\n",
       "  /* Default theme specific background. It is overwritten whether we have a\n",
       "  specific estimator or a Pipeline/ColumnTransformer */\n",
       "  background-color: var(--sklearn-color-background);\n",
       "}\n",
       "\n",
       "/* Toggleable label */\n",
       "#sk-container-id-9 label.sk-toggleable__label {\n",
       "  cursor: pointer;\n",
       "  display: flex;\n",
       "  width: 100%;\n",
       "  margin-bottom: 0;\n",
       "  padding: 0.5em;\n",
       "  box-sizing: border-box;\n",
       "  text-align: center;\n",
       "  align-items: start;\n",
       "  justify-content: space-between;\n",
       "  gap: 0.5em;\n",
       "}\n",
       "\n",
       "#sk-container-id-9 label.sk-toggleable__label .caption {\n",
       "  font-size: 0.6rem;\n",
       "  font-weight: lighter;\n",
       "  color: var(--sklearn-color-text-muted);\n",
       "}\n",
       "\n",
       "#sk-container-id-9 label.sk-toggleable__label-arrow:before {\n",
       "  /* Arrow on the left of the label */\n",
       "  content: \"▸\";\n",
       "  float: left;\n",
       "  margin-right: 0.25em;\n",
       "  color: var(--sklearn-color-icon);\n",
       "}\n",
       "\n",
       "#sk-container-id-9 label.sk-toggleable__label-arrow:hover:before {\n",
       "  color: var(--sklearn-color-text);\n",
       "}\n",
       "\n",
       "/* Toggleable content - dropdown */\n",
       "\n",
       "#sk-container-id-9 div.sk-toggleable__content {\n",
       "  max-height: 0;\n",
       "  max-width: 0;\n",
       "  overflow: hidden;\n",
       "  text-align: left;\n",
       "  /* unfitted */\n",
       "  background-color: var(--sklearn-color-unfitted-level-0);\n",
       "}\n",
       "\n",
       "#sk-container-id-9 div.sk-toggleable__content.fitted {\n",
       "  /* fitted */\n",
       "  background-color: var(--sklearn-color-fitted-level-0);\n",
       "}\n",
       "\n",
       "#sk-container-id-9 div.sk-toggleable__content pre {\n",
       "  margin: 0.2em;\n",
       "  border-radius: 0.25em;\n",
       "  color: var(--sklearn-color-text);\n",
       "  /* unfitted */\n",
       "  background-color: var(--sklearn-color-unfitted-level-0);\n",
       "}\n",
       "\n",
       "#sk-container-id-9 div.sk-toggleable__content.fitted pre {\n",
       "  /* unfitted */\n",
       "  background-color: var(--sklearn-color-fitted-level-0);\n",
       "}\n",
       "\n",
       "#sk-container-id-9 input.sk-toggleable__control:checked~div.sk-toggleable__content {\n",
       "  /* Expand drop-down */\n",
       "  max-height: 200px;\n",
       "  max-width: 100%;\n",
       "  overflow: auto;\n",
       "}\n",
       "\n",
       "#sk-container-id-9 input.sk-toggleable__control:checked~label.sk-toggleable__label-arrow:before {\n",
       "  content: \"▾\";\n",
       "}\n",
       "\n",
       "/* Pipeline/ColumnTransformer-specific style */\n",
       "\n",
       "#sk-container-id-9 div.sk-label input.sk-toggleable__control:checked~label.sk-toggleable__label {\n",
       "  color: var(--sklearn-color-text);\n",
       "  background-color: var(--sklearn-color-unfitted-level-2);\n",
       "}\n",
       "\n",
       "#sk-container-id-9 div.sk-label.fitted input.sk-toggleable__control:checked~label.sk-toggleable__label {\n",
       "  background-color: var(--sklearn-color-fitted-level-2);\n",
       "}\n",
       "\n",
       "/* Estimator-specific style */\n",
       "\n",
       "/* Colorize estimator box */\n",
       "#sk-container-id-9 div.sk-estimator input.sk-toggleable__control:checked~label.sk-toggleable__label {\n",
       "  /* unfitted */\n",
       "  background-color: var(--sklearn-color-unfitted-level-2);\n",
       "}\n",
       "\n",
       "#sk-container-id-9 div.sk-estimator.fitted input.sk-toggleable__control:checked~label.sk-toggleable__label {\n",
       "  /* fitted */\n",
       "  background-color: var(--sklearn-color-fitted-level-2);\n",
       "}\n",
       "\n",
       "#sk-container-id-9 div.sk-label label.sk-toggleable__label,\n",
       "#sk-container-id-9 div.sk-label label {\n",
       "  /* The background is the default theme color */\n",
       "  color: var(--sklearn-color-text-on-default-background);\n",
       "}\n",
       "\n",
       "/* On hover, darken the color of the background */\n",
       "#sk-container-id-9 div.sk-label:hover label.sk-toggleable__label {\n",
       "  color: var(--sklearn-color-text);\n",
       "  background-color: var(--sklearn-color-unfitted-level-2);\n",
       "}\n",
       "\n",
       "/* Label box, darken color on hover, fitted */\n",
       "#sk-container-id-9 div.sk-label.fitted:hover label.sk-toggleable__label.fitted {\n",
       "  color: var(--sklearn-color-text);\n",
       "  background-color: var(--sklearn-color-fitted-level-2);\n",
       "}\n",
       "\n",
       "/* Estimator label */\n",
       "\n",
       "#sk-container-id-9 div.sk-label label {\n",
       "  font-family: monospace;\n",
       "  font-weight: bold;\n",
       "  display: inline-block;\n",
       "  line-height: 1.2em;\n",
       "}\n",
       "\n",
       "#sk-container-id-9 div.sk-label-container {\n",
       "  text-align: center;\n",
       "}\n",
       "\n",
       "/* Estimator-specific */\n",
       "#sk-container-id-9 div.sk-estimator {\n",
       "  font-family: monospace;\n",
       "  border: 1px dotted var(--sklearn-color-border-box);\n",
       "  border-radius: 0.25em;\n",
       "  box-sizing: border-box;\n",
       "  margin-bottom: 0.5em;\n",
       "  /* unfitted */\n",
       "  background-color: var(--sklearn-color-unfitted-level-0);\n",
       "}\n",
       "\n",
       "#sk-container-id-9 div.sk-estimator.fitted {\n",
       "  /* fitted */\n",
       "  background-color: var(--sklearn-color-fitted-level-0);\n",
       "}\n",
       "\n",
       "/* on hover */\n",
       "#sk-container-id-9 div.sk-estimator:hover {\n",
       "  /* unfitted */\n",
       "  background-color: var(--sklearn-color-unfitted-level-2);\n",
       "}\n",
       "\n",
       "#sk-container-id-9 div.sk-estimator.fitted:hover {\n",
       "  /* fitted */\n",
       "  background-color: var(--sklearn-color-fitted-level-2);\n",
       "}\n",
       "\n",
       "/* Specification for estimator info (e.g. \"i\" and \"?\") */\n",
       "\n",
       "/* Common style for \"i\" and \"?\" */\n",
       "\n",
       ".sk-estimator-doc-link,\n",
       "a:link.sk-estimator-doc-link,\n",
       "a:visited.sk-estimator-doc-link {\n",
       "  float: right;\n",
       "  font-size: smaller;\n",
       "  line-height: 1em;\n",
       "  font-family: monospace;\n",
       "  background-color: var(--sklearn-color-background);\n",
       "  border-radius: 1em;\n",
       "  height: 1em;\n",
       "  width: 1em;\n",
       "  text-decoration: none !important;\n",
       "  margin-left: 0.5em;\n",
       "  text-align: center;\n",
       "  /* unfitted */\n",
       "  border: var(--sklearn-color-unfitted-level-1) 1pt solid;\n",
       "  color: var(--sklearn-color-unfitted-level-1);\n",
       "}\n",
       "\n",
       ".sk-estimator-doc-link.fitted,\n",
       "a:link.sk-estimator-doc-link.fitted,\n",
       "a:visited.sk-estimator-doc-link.fitted {\n",
       "  /* fitted */\n",
       "  border: var(--sklearn-color-fitted-level-1) 1pt solid;\n",
       "  color: var(--sklearn-color-fitted-level-1);\n",
       "}\n",
       "\n",
       "/* On hover */\n",
       "div.sk-estimator:hover .sk-estimator-doc-link:hover,\n",
       ".sk-estimator-doc-link:hover,\n",
       "div.sk-label-container:hover .sk-estimator-doc-link:hover,\n",
       ".sk-estimator-doc-link:hover {\n",
       "  /* unfitted */\n",
       "  background-color: var(--sklearn-color-unfitted-level-3);\n",
       "  color: var(--sklearn-color-background);\n",
       "  text-decoration: none;\n",
       "}\n",
       "\n",
       "div.sk-estimator.fitted:hover .sk-estimator-doc-link.fitted:hover,\n",
       ".sk-estimator-doc-link.fitted:hover,\n",
       "div.sk-label-container:hover .sk-estimator-doc-link.fitted:hover,\n",
       ".sk-estimator-doc-link.fitted:hover {\n",
       "  /* fitted */\n",
       "  background-color: var(--sklearn-color-fitted-level-3);\n",
       "  color: var(--sklearn-color-background);\n",
       "  text-decoration: none;\n",
       "}\n",
       "\n",
       "/* Span, style for the box shown on hovering the info icon */\n",
       ".sk-estimator-doc-link span {\n",
       "  display: none;\n",
       "  z-index: 9999;\n",
       "  position: relative;\n",
       "  font-weight: normal;\n",
       "  right: .2ex;\n",
       "  padding: .5ex;\n",
       "  margin: .5ex;\n",
       "  width: min-content;\n",
       "  min-width: 20ex;\n",
       "  max-width: 50ex;\n",
       "  color: var(--sklearn-color-text);\n",
       "  box-shadow: 2pt 2pt 4pt #999;\n",
       "  /* unfitted */\n",
       "  background: var(--sklearn-color-unfitted-level-0);\n",
       "  border: .5pt solid var(--sklearn-color-unfitted-level-3);\n",
       "}\n",
       "\n",
       ".sk-estimator-doc-link.fitted span {\n",
       "  /* fitted */\n",
       "  background: var(--sklearn-color-fitted-level-0);\n",
       "  border: var(--sklearn-color-fitted-level-3);\n",
       "}\n",
       "\n",
       ".sk-estimator-doc-link:hover span {\n",
       "  display: block;\n",
       "}\n",
       "\n",
       "/* \"?\"-specific style due to the `<a>` HTML tag */\n",
       "\n",
       "#sk-container-id-9 a.estimator_doc_link {\n",
       "  float: right;\n",
       "  font-size: 1rem;\n",
       "  line-height: 1em;\n",
       "  font-family: monospace;\n",
       "  background-color: var(--sklearn-color-background);\n",
       "  border-radius: 1rem;\n",
       "  height: 1rem;\n",
       "  width: 1rem;\n",
       "  text-decoration: none;\n",
       "  /* unfitted */\n",
       "  color: var(--sklearn-color-unfitted-level-1);\n",
       "  border: var(--sklearn-color-unfitted-level-1) 1pt solid;\n",
       "}\n",
       "\n",
       "#sk-container-id-9 a.estimator_doc_link.fitted {\n",
       "  /* fitted */\n",
       "  border: var(--sklearn-color-fitted-level-1) 1pt solid;\n",
       "  color: var(--sklearn-color-fitted-level-1);\n",
       "}\n",
       "\n",
       "/* On hover */\n",
       "#sk-container-id-9 a.estimator_doc_link:hover {\n",
       "  /* unfitted */\n",
       "  background-color: var(--sklearn-color-unfitted-level-3);\n",
       "  color: var(--sklearn-color-background);\n",
       "  text-decoration: none;\n",
       "}\n",
       "\n",
       "#sk-container-id-9 a.estimator_doc_link.fitted:hover {\n",
       "  /* fitted */\n",
       "  background-color: var(--sklearn-color-fitted-level-3);\n",
       "}\n",
       "</style><div id=\"sk-container-id-9\" class=\"sk-top-container\"><div class=\"sk-text-repr-fallback\"><pre>LabelEncoder()</pre><b>In a Jupyter environment, please rerun this cell to show the HTML representation or trust the notebook. <br />On GitHub, the HTML representation is unable to render, please try loading this page with nbviewer.org.</b></div><div class=\"sk-container\" hidden><div class=\"sk-item\"><div class=\"sk-estimator  sk-toggleable\"><input class=\"sk-toggleable__control sk-hidden--visually\" id=\"sk-estimator-id-9\" type=\"checkbox\" checked><label for=\"sk-estimator-id-9\" class=\"sk-toggleable__label  sk-toggleable__label-arrow\"><div><div>LabelEncoder</div></div><div><a class=\"sk-estimator-doc-link \" rel=\"noreferrer\" target=\"_blank\" href=\"https://scikit-learn.org/1.6/modules/generated/sklearn.preprocessing.LabelEncoder.html\">?<span>Documentation for LabelEncoder</span></a><span class=\"sk-estimator-doc-link \">i<span>Not fitted</span></span></div></label><div class=\"sk-toggleable__content \"><pre>LabelEncoder()</pre></div> </div></div></div></div>"
      ],
      "text/plain": [
       "LabelEncoder()"
      ]
     },
     "execution_count": 559,
     "metadata": {},
     "output_type": "execute_result"
    }
   ],
   "source": [
    "label_enc = LabelEncoder()\n",
    "label_enc"
   ]
  },
  {
   "cell_type": "code",
   "execution_count": 560,
   "id": "ce958c94",
   "metadata": {},
   "outputs": [],
   "source": [
    "tweet_cat_dataset['type'] = label_enc.fit_transform(tweet_cat_dataset['type'])"
   ]
  },
  {
   "cell_type": "code",
   "execution_count": 562,
   "id": "62e51c1d",
   "metadata": {},
   "outputs": [
    {
     "data": {
      "text/plain": [
       "array(['entertainment', 'medical', 'politics', 'sports'], dtype=object)"
      ]
     },
     "execution_count": 562,
     "metadata": {},
     "output_type": "execute_result"
    }
   ],
   "source": [
    "label_enc.classes_"
   ]
  },
  {
   "cell_type": "code",
   "execution_count": 8,
   "id": "2395efc3",
   "metadata": {},
   "outputs": [
    {
     "name": "stdout",
     "output_type": "stream",
     "text": [
      "<class 'pandas.core.frame.DataFrame'>\n",
      "RangeIndex: 1162 entries, 0 to 1161\n",
      "Data columns (total 2 columns):\n",
      " #   Column  Non-Null Count  Dtype \n",
      "---  ------  --------------  ----- \n",
      " 0   text    1162 non-null   object\n",
      " 1   type    1162 non-null   object\n",
      "dtypes: object(2)\n",
      "memory usage: 18.3+ KB\n"
     ]
    }
   ],
   "source": [
    "tweet_cat_dataset.info()"
   ]
  },
  {
   "cell_type": "code",
   "execution_count": 11,
   "id": "cdac33d8",
   "metadata": {},
   "outputs": [
    {
     "data": {
      "text/plain": [
       "array(['sports', 'entertainment', 'medical', 'politics'], dtype=object)"
      ]
     },
     "execution_count": 11,
     "metadata": {},
     "output_type": "execute_result"
    }
   ],
   "source": [
    "tweet_cat_dataset['type'].unique()"
   ]
  },
  {
   "cell_type": "code",
   "execution_count": 316,
   "id": "e4ce797b",
   "metadata": {},
   "outputs": [
    {
     "name": "stdout",
     "output_type": "stream",
     "text": [
      "929\n",
      "233\n"
     ]
    }
   ],
   "source": [
    "Train, TestVal = train_test_split(tweet_cat_dataset, stratify = tweet_cat_dataset['type'],train_size = 0.8)\n",
    "print(len(Train))\n",
    "print(len(TestVal))"
   ]
  },
  {
   "cell_type": "code",
   "execution_count": 317,
   "id": "38061786",
   "metadata": {},
   "outputs": [
    {
     "name": "stdout",
     "output_type": "stream",
     "text": [
      "186\n",
      "47\n"
     ]
    }
   ],
   "source": [
    "Test, Val = train_test_split(TestVal, stratify = TestVal['type'], train_size = 0.8)\n",
    "print(len(Test))\n",
    "print(len(Val))"
   ]
  },
  {
   "cell_type": "code",
   "execution_count": 25,
   "id": "9b566d04",
   "metadata": {},
   "outputs": [],
   "source": [
    "def proc_text(text):\n",
    "    \"\"\"simple processing of a text\"\"\"\n",
    "    lowered = text.lower()\n",
    "    tokenized = ' '.join(re.findall(r\"[A-z0-9]+[A-z0-9]\",lowered))\n",
    "    return tokenized"
   ]
  },
  {
   "cell_type": "code",
   "execution_count": 30,
   "id": "089eb291",
   "metadata": {},
   "outputs": [],
   "source": [
    "def train_tokens(main_train_dataset):\n",
    "    for row in range(len(main_train_dataset.iloc[:,0])):\n",
    "        processed = proc_text(main_train_dataset.iloc[row,0])\n",
    "        yield processed"
   ]
  },
  {
   "cell_type": "code",
   "execution_count": 61,
   "id": "d174ee74",
   "metadata": {},
   "outputs": [],
   "source": [
    "tokenizer = Tokenizer(model = tokenizers.models.WordLevel(unk_token='<unk>'))\n",
    "tokenizer.pre_tokenizer = tokenizers.pre_tokenizers.Whitespace()\n",
    "tok_trainer = tokenizers.trainers.WordLevelTrainer(vocab_size = 500_000, special_tokens = ['<pad>','<unk>'])\n",
    "tokenizer.enable_padding(direction='right', pad_id = 0, pad_token='<pad>')\n",
    "tokenizer.train_from_iterator(train_tokens(Train), trainer=tok_trainer)\n",
    "tokenizer.save('./tok_voc')"
   ]
  },
  {
   "cell_type": "code",
   "execution_count": 308,
   "id": "08eed077",
   "metadata": {},
   "outputs": [],
   "source": [
    "class TextDataset(Dataset):\n",
    "    def __init__(self,texts,tok_obj,processing,max_len):\n",
    "        self.texts = texts\n",
    "        self.tokenizer = PreTrainedTokenizerFast(tokenizer_object = tok_obj)\n",
    "        self.processing = processing\n",
    "        self.max_length = max_len\n",
    "    \n",
    "    def __len__(self):\n",
    "        return len(self.texts)\n",
    "    \n",
    "    def __getitem__(self, indx):\n",
    "        text,label = self.processing(self.texts.iloc[indx,0]),torch.tensor(self.texts.iloc[indx,1].item())\n",
    "        tokenized_text = self.tokenizer(\n",
    "            text,\n",
    "            max_length = self.max_length,\n",
    "            padding = 'max_length',\n",
    "            return_tensors='pt',\n",
    "            truncation=True\n",
    "        )['input_ids']\n",
    "        return tokenized_text.squeeze(dim = 0),label"
   ]
  },
  {
   "cell_type": "code",
   "execution_count": 309,
   "id": "f85a276f",
   "metadata": {},
   "outputs": [
    {
     "data": {
      "text/plain": [
       "<__main__.TextDataset at 0x711f7a60e810>"
      ]
     },
     "execution_count": 309,
     "metadata": {},
     "output_type": "execute_result"
    }
   ],
   "source": [
    "main_dataset = TextDataset(texts = Train,\n",
    "                           tok_obj = tokenizer,\n",
    "                           processing = proc_text,\n",
    "                           max_len = 30)\n",
    "main_dataset"
   ]
  },
  {
   "cell_type": "code",
   "execution_count": 318,
   "id": "17ad43bf",
   "metadata": {},
   "outputs": [],
   "source": [
    "cat_torch_train = TextDataset(Train, tokenizer, proc_text, 30)\n",
    "cat_torch_test = TextDataset(Test, tokenizer, proc_text, 30)\n",
    "cat_torch_val = TextDataset(Val, tokenizer, proc_text, 30)"
   ]
  },
  {
   "cell_type": "code",
   "execution_count": 319,
   "id": "641b4e94",
   "metadata": {},
   "outputs": [
    {
     "name": "stdout",
     "output_type": "stream",
     "text": [
      "929\n",
      "186\n",
      "47\n"
     ]
    }
   ],
   "source": [
    "print(len(cat_torch_train))\n",
    "print(len(cat_torch_test))\n",
    "print(len(cat_torch_val))"
   ]
  },
  {
   "cell_type": "code",
   "execution_count": 192,
   "id": "6df66610",
   "metadata": {},
   "outputs": [],
   "source": [
    "class ClassificationModel(nn.Module):\n",
    "    def __init__(self, vocab_size, embed_dim, hidden_size, bi = True, bf = True):\n",
    "        super().__init__() #initialization of super class\n",
    "        self.embed = nn.Embedding(vocab_size,embed_dim,padding_idx=0)\n",
    "        self.gru = nn.GRU(input_size = embed_dim, hidden_size = hidden_size, bidirectional = bi, batch_first=bf, num_layers=2, dropout=0.5)\n",
    "        self.linear = nn.Linear(600,4)\n",
    "\n",
    "    def forward(self,x):\n",
    "        y = self.embed(x)\n",
    "        _,y = self.gru(y)\n",
    "        y = y.transpose(0,1)\n",
    "        y = y.reshape(y.shape[0],-1)\n",
    "        y = self.linear(y)\n",
    "        return y"
   ]
  },
  {
   "cell_type": "code",
   "execution_count": 322,
   "id": "dc050619",
   "metadata": {},
   "outputs": [
    {
     "data": {
      "text/plain": [
       "5819"
      ]
     },
     "execution_count": 322,
     "metadata": {},
     "output_type": "execute_result"
    }
   ],
   "source": [
    "cat_torch_test.tokenizer.vocab_size"
   ]
  },
  {
   "cell_type": "code",
   "execution_count": null,
   "id": "81f1cea4",
   "metadata": {},
   "outputs": [],
   "source": [
    "def train_model(model,\n",
    "                train_loader,\n",
    "                epoch,\n",
    "                main_optim,\n",
    "                main_loss,\n",
    "                patience = 3,\n",
    "                print_every = 1):\n",
    "    try:\n",
    "        train_losses = []\n",
    "        val_metric = []\n",
    "        while True:\n",
    "            model.train()\n",
    "            epoch_losses = []\n",
    "            for X,y in tqdm(train_loader, desc=f'Going through the loader'):\n",
    "                main_optim.zero_grad()\n",
    "                y_pred = model(X)\n",
    "                the_loss = main_loss(y_pred,y)\n",
    "                the_loss.backward()\n",
    "                main_optim.step()\n",
    "                epoch_losses.append(the_loss.item())\n",
    "            y_true_val, y_pred_val = get_preds(model, cat_torch_val)\n",
    "            val_metric.append(f1_score(y_true_val,y_pred_val,average = 'macro'))\n",
    "            if len(val_metric) <= patience:\n",
    "                pass\n",
    "            else:\n",
    "                checking_val = val_metric[-patience:]\n",
    "                count = 0\n",
    "                #cheking whether we should stop\n",
    "                for ind in range(len(checking_val)-1):\n",
    "                    if checking_val[ind+1] <= checking_val[ind]:\n",
    "                        count += 1\n",
    "                #breaking if we go down\n",
    "                if count == len(checking_val)-1:\n",
    "                    print('Stop training due to patience')\n",
    "                    break\n",
    "            train_losses.append(round(np.array(epoch_losses).mean().item(),5))\n",
    "            print(f'Train loss: {train_losses[-1]}')\n",
    "            print(f'Val metric: {val_metric[-1]}',end = '\\n\\n')\n",
    "        return train_losses, val_metric\n",
    "    except KeyboardInterrupt:\n",
    "        return train_losses, val_metric"
   ]
  },
  {
   "cell_type": "code",
   "execution_count": 402,
   "id": "5476682b",
   "metadata": {},
   "outputs": [
    {
     "data": {
      "text/plain": [
       "ClassificationModel(\n",
       "  (embed): Embedding(5819, 150, padding_idx=0)\n",
       "  (gru): GRU(150, 150, num_layers=2, batch_first=True, dropout=0.5, bidirectional=True)\n",
       "  (linear): Linear(in_features=600, out_features=4, bias=True)\n",
       ")"
      ]
     },
     "execution_count": 402,
     "metadata": {},
     "output_type": "execute_result"
    }
   ],
   "source": [
    "my_model = ClassificationModel(cat_torch_test.tokenizer.vocab_size, embed_dim=150, hidden_size=150)\n",
    "my_model"
   ]
  },
  {
   "cell_type": "code",
   "execution_count": 403,
   "id": "88abcca1",
   "metadata": {},
   "outputs": [
    {
     "data": {
      "text/plain": [
       "tensor([1.1166, 0.9718, 0.8415, 1.1274])"
      ]
     },
     "execution_count": 403,
     "metadata": {},
     "output_type": "execute_result"
    }
   ],
   "source": [
    "weights = compute_class_weight(class_weight='balanced', y = lebel_enc.fit_transform(Train['type']), classes = np.array([_ for _ in range(4)]))\n",
    "weights = torch.from_numpy(weights).to(dtype = torch.float32)\n",
    "weights"
   ]
  },
  {
   "cell_type": "code",
   "execution_count": 404,
   "id": "061eb2af",
   "metadata": {},
   "outputs": [],
   "source": [
    "epoch = 20\n",
    "batch_size = 46\n",
    "lr = 0.0005\n",
    "loader = DataLoader(dataset = cat_torch_train, shuffle = True, batch_size = batch_size)\n",
    "optimizer = torch.optim.Adam(my_model.parameters(),lr = lr,betas=(0.9,0.989))\n",
    "criterion = nn.CrossEntropyLoss(reduction = 'mean',weight = weights,label_smoothing=0.0001)"
   ]
  },
  {
   "cell_type": "code",
   "execution_count": 406,
   "id": "4015b0d7",
   "metadata": {},
   "outputs": [
    {
     "name": "stderr",
     "output_type": "stream",
     "text": [
      "Going through the loader: 100%|██████████| 21/21 [00:01<00:00, 13.56it/s]\n"
     ]
    },
    {
     "name": "stdout",
     "output_type": "stream",
     "text": [
      "Train loss: 1.12555\n",
      "Val metric: 0.25916666666666666\n",
      "\n"
     ]
    },
    {
     "name": "stderr",
     "output_type": "stream",
     "text": [
      "Going through the loader: 100%|██████████| 21/21 [00:01<00:00, 15.10it/s]\n"
     ]
    },
    {
     "name": "stdout",
     "output_type": "stream",
     "text": [
      "Train loss: 0.76483\n",
      "Val metric: 0.5599865047233469\n",
      "\n"
     ]
    },
    {
     "name": "stderr",
     "output_type": "stream",
     "text": [
      "Going through the loader: 100%|██████████| 21/21 [00:01<00:00, 15.00it/s]\n"
     ]
    },
    {
     "name": "stdout",
     "output_type": "stream",
     "text": [
      "Train loss: 0.49052\n",
      "Val metric: 0.6091880341880342\n",
      "\n"
     ]
    },
    {
     "name": "stderr",
     "output_type": "stream",
     "text": [
      "Going through the loader: 100%|██████████| 21/21 [00:01<00:00, 13.56it/s]\n"
     ]
    },
    {
     "name": "stdout",
     "output_type": "stream",
     "text": [
      "Train loss: 0.34126\n",
      "Val metric: 0.69408656477622\n",
      "\n"
     ]
    },
    {
     "name": "stderr",
     "output_type": "stream",
     "text": [
      "Going through the loader: 100%|██████████| 21/21 [00:01<00:00, 15.04it/s]\n"
     ]
    },
    {
     "name": "stdout",
     "output_type": "stream",
     "text": [
      "Train loss: 0.20872\n",
      "Val metric: 0.744047619047619\n",
      "\n"
     ]
    },
    {
     "name": "stderr",
     "output_type": "stream",
     "text": [
      "Going through the loader: 100%|██████████| 21/21 [00:01<00:00, 14.60it/s]\n"
     ]
    },
    {
     "name": "stdout",
     "output_type": "stream",
     "text": [
      "Train loss: 0.13264\n",
      "Val metric: 0.8102380952380952\n",
      "\n"
     ]
    },
    {
     "name": "stderr",
     "output_type": "stream",
     "text": [
      "Going through the loader: 100%|██████████| 21/21 [00:01<00:00, 12.90it/s]\n"
     ]
    },
    {
     "name": "stdout",
     "output_type": "stream",
     "text": [
      "Stop training due to patience\n"
     ]
    },
    {
     "data": {
      "text/plain": [
       "[1.12555, 0.76483, 0.49052, 0.34126, 0.20872, 0.13264]"
      ]
     },
     "execution_count": 406,
     "metadata": {},
     "output_type": "execute_result"
    }
   ],
   "source": [
    "train_model(\n",
    "    model = my_model,\n",
    "    train_loader = loader,\n",
    "    epoch = epoch,\n",
    "    main_optim = optimizer,\n",
    "    main_loss = criterion,\n",
    "    print_every = 1,\n",
    "    patience=2\n",
    ")"
   ]
  },
  {
   "cell_type": "code",
   "execution_count": 337,
   "id": "820ed1cd",
   "metadata": {},
   "outputs": [],
   "source": [
    "@torch.no_grad()\n",
    "def get_preds(model, Val):\n",
    "    model.eval()\n",
    "    the_loader = DataLoader(dataset = Val, shuffle = False, batch_size = 1)\n",
    "    y_true_list = []\n",
    "    y_pred_list = []\n",
    "    for X,y in the_loader:\n",
    "        probs = model(X).softmax(dim = 1)\n",
    "        distribution = Categorical(probs)\n",
    "        y_pred = distribution.sample()\n",
    "        y_true_list.append(y.item())\n",
    "        y_pred_list.append(y_pred.item())\n",
    "    return np.array(y_true_list),np.array(y_pred_list)"
   ]
  },
  {
   "cell_type": "code",
   "execution_count": 412,
   "id": "08a39581",
   "metadata": {},
   "outputs": [
    {
     "name": "stdout",
     "output_type": "stream",
     "text": [
      "(186,)\n",
      "(186,)\n"
     ]
    }
   ],
   "source": [
    "y_true, y_pred = get_preds(my_model,cat_torch_test)\n",
    "print(y_true.shape)\n",
    "print(y_pred.shape)"
   ]
  },
  {
   "cell_type": "code",
   "execution_count": 413,
   "id": "c14afc38",
   "metadata": {},
   "outputs": [
    {
     "data": {
      "text/plain": [
       "0.6988348809000983"
      ]
     },
     "execution_count": 413,
     "metadata": {},
     "output_type": "execute_result"
    }
   ],
   "source": [
    "f1_score(y_true,y_pred,average = 'macro')"
   ]
  },
  {
   "cell_type": "code",
   "execution_count": 580,
   "id": "59f32212",
   "metadata": {},
   "outputs": [],
   "source": [
    "def model_inf(text,TrainDataset,label_encoder):\n",
    "    my_model.eval()\n",
    "    tokenizer = TrainDataset.tokenizer\n",
    "    processing = TrainDataset.processing\n",
    "    main_text = processing(text)\n",
    "    tokens = tokenizer(\n",
    "            main_text,\n",
    "            max_length = TrainDataset.max_length,\n",
    "            padding = 'max_length',\n",
    "            return_tensors='pt',\n",
    "            truncation=True)['input_ids']\n",
    "    y_pred = my_model(tokens).softmax(dim = 1).argmax(dim = 1).item()\n",
    "    return label_encoder.inverse_transform([y_pred]).item()"
   ]
  },
  {
   "cell_type": "code",
   "execution_count": 591,
   "id": "e634c8c9",
   "metadata": {},
   "outputs": [
    {
     "name": "stdout",
     "output_type": "stream",
     "text": [
      "@mrose1965 I cannot serve an overhead tennis lob.\n"
     ]
    }
   ],
   "source": [
    "sample = Test.iloc[rd.randint(1,100),0]\n",
    "print(sample)"
   ]
  },
  {
   "cell_type": "code",
   "execution_count": 592,
   "id": "69546344",
   "metadata": {},
   "outputs": [
    {
     "data": {
      "text/plain": [
       "'sports'"
      ]
     },
     "execution_count": 592,
     "metadata": {},
     "output_type": "execute_result"
    }
   ],
   "source": [
    "model_inf(sample,cat_torch_train,label_enc)"
   ]
  },
  {
   "cell_type": "markdown",
   "id": "80658474",
   "metadata": {},
   "source": [
    "### quotes dataset"
   ]
  },
  {
   "cell_type": "code",
   "execution_count": 3,
   "id": "ac6ff7ca",
   "metadata": {},
   "outputs": [],
   "source": [
    "with open('/home/luchian/Downloads/quotes.json','r',encoding = 'utf-8') as main_file:\n",
    "    quotes_data = json.load(main_file)"
   ]
  },
  {
   "cell_type": "code",
   "execution_count": 8,
   "id": "30197241",
   "metadata": {},
   "outputs": [
    {
     "name": "stdout",
     "output_type": "stream",
     "text": [
      "<class 'list'>\n"
     ]
    },
    {
     "data": {
      "text/plain": [
       "48391"
      ]
     },
     "execution_count": 8,
     "metadata": {},
     "output_type": "execute_result"
    }
   ],
   "source": [
    "print(type(quotes_data))\n",
    "len(quotes_data)"
   ]
  },
  {
   "cell_type": "code",
   "execution_count": 9,
   "id": "858735d7",
   "metadata": {},
   "outputs": [
    {
     "name": "stdout",
     "output_type": "stream",
     "text": [
      "<class 'dict'>\n"
     ]
    }
   ],
   "source": [
    "one_item = quotes_data[0]\n",
    "print(type(one_item))"
   ]
  },
  {
   "cell_type": "code",
   "execution_count": 15,
   "id": "ca9f079a",
   "metadata": {},
   "outputs": [
    {
     "data": {
      "text/plain": [
       "[{'Quote': \"Don't cry because it's over, smile because it happened.\",\n",
       "  'Author': 'Dr. Seuss',\n",
       "  'Tags': ['attributed-no-source',\n",
       "   'cry',\n",
       "   'crying',\n",
       "   'experience',\n",
       "   'happiness',\n",
       "   'joy',\n",
       "   'life',\n",
       "   'misattributed-dr-seuss',\n",
       "   'optimism',\n",
       "   'sadness',\n",
       "   'smile',\n",
       "   'smiling '],\n",
       "  'Popularity': 0.15566615566615566,\n",
       "  'Category': 'life'},\n",
       " {'Quote': \"Don't cry because it's over, smile because it happened.\",\n",
       "  'Author': 'Dr. Seuss',\n",
       "  'Tags': ['attributed-no-source',\n",
       "   'cry',\n",
       "   'crying',\n",
       "   'experience',\n",
       "   'happiness',\n",
       "   'joy',\n",
       "   'life',\n",
       "   'misattributed-dr-seuss',\n",
       "   'optimism',\n",
       "   'sadness',\n",
       "   'smile',\n",
       "   'smiling '],\n",
       "  'Popularity': 0.15566615566615566,\n",
       "  'Category': 'happiness'},\n",
       " {'Quote': \"I'm selfish, impatient and a little insecure. I make mistakes, I am out of control and at times hard to handle. But if you can't handle me at my worst, then you sure as hell don't deserve me at my best.\",\n",
       "  'Author': 'Marilyn Monroe',\n",
       "  'Tags': ['attributed-no-source',\n",
       "   'best',\n",
       "   'life',\n",
       "   'love',\n",
       "   'mistakes',\n",
       "   'out-of-control',\n",
       "   'truth',\n",
       "   'worst '],\n",
       "  'Popularity': 0.12912212912212911,\n",
       "  'Category': 'love'},\n",
       " {'Quote': \"I'm selfish, impatient and a little insecure. I make mistakes, I am out of control and at times hard to handle. But if you can't handle me at my worst, then you sure as hell don't deserve me at my best.\",\n",
       "  'Author': 'Marilyn Monroe',\n",
       "  'Tags': ['attributed-no-source',\n",
       "   'best',\n",
       "   'life',\n",
       "   'love',\n",
       "   'mistakes',\n",
       "   'out-of-control',\n",
       "   'truth',\n",
       "   'worst '],\n",
       "  'Popularity': 0.12912212912212911,\n",
       "  'Category': 'life'},\n",
       " {'Quote': \"I'm selfish, impatient and a little insecure. I make mistakes, I am out of control and at times hard to handle. But if you can't handle me at my worst, then you sure as hell don't deserve me at my best.\",\n",
       "  'Author': 'Marilyn Monroe',\n",
       "  'Tags': ['attributed-no-source',\n",
       "   'best',\n",
       "   'life',\n",
       "   'love',\n",
       "   'mistakes',\n",
       "   'out-of-control',\n",
       "   'truth',\n",
       "   'worst '],\n",
       "  'Popularity': 0.12912212912212911,\n",
       "  'Category': 'truth'}]"
      ]
     },
     "execution_count": 15,
     "metadata": {},
     "output_type": "execute_result"
    }
   ],
   "source": [
    "quotes_data[:5]"
   ]
  },
  {
   "cell_type": "code",
   "execution_count": 23,
   "id": "56fb45f3",
   "metadata": {},
   "outputs": [
    {
     "name": "stdout",
     "output_type": "stream",
     "text": [
      "48391\n"
     ]
    },
    {
     "data": {
      "text/plain": [
       "[(\"Don't cry because it's over, smile because it happened.\", 'life'),\n",
       " (\"Don't cry because it's over, smile because it happened.\", 'happiness'),\n",
       " (\"I'm selfish, impatient and a little insecure. I make mistakes, I am out of control and at times hard to handle. But if you can't handle me at my worst, then you sure as hell don't deserve me at my best.\",\n",
       "  'love'),\n",
       " (\"I'm selfish, impatient and a little insecure. I make mistakes, I am out of control and at times hard to handle. But if you can't handle me at my worst, then you sure as hell don't deserve me at my best.\",\n",
       "  'life'),\n",
       " (\"I'm selfish, impatient and a little insecure. I make mistakes, I am out of control and at times hard to handle. But if you can't handle me at my worst, then you sure as hell don't deserve me at my best.\",\n",
       "  'truth'),\n",
       " ('Be yourself; everyone else is already taken.', 'inspiration'),\n",
       " (\"Two things are infinite: the universe and human stupidity; and I'm not sure about the universe.\",\n",
       "  'humor'),\n",
       " (\"Two things are infinite: the universe and human stupidity; and I'm not sure about the universe.\",\n",
       "  'philosophy'),\n",
       " (\"Two things are infinite: the universe and human stupidity; and I'm not sure about the universe.\",\n",
       "  'science'),\n",
       " (\"Be who you are and say what you feel, because those who mind don't matter, and those who matter don't mind.\",\n",
       "  ''),\n",
       " (\"You've gotta dance like there's nobody watching,Love like you'll never be hurt,Sing like there's nobody listening,And live like it's heaven on earth.\",\n",
       "  'love'),\n",
       " (\"You've gotta dance like there's nobody watching,Love like you'll never be hurt,Sing like there's nobody listening,And live like it's heaven on earth.\",\n",
       "  'life'),\n",
       " (\"You've gotta dance like there's nobody watching,Love like you'll never be hurt,Sing like there's nobody listening,And live like it's heaven on earth.\",\n",
       "  'inspiration'),\n",
       " (\"You know you're in love when you can't fall asleep because reality is finally better than your dreams.\",\n",
       "  'love'),\n",
       " ('A room without books is like a body without a soul.', 'soul'),\n",
       " ('A room without books is like a body without a soul.', 'books'),\n",
       " ('So many books, so little time.', 'humor'),\n",
       " ('So many books, so little time.', 'books'),\n",
       " ('You only live once, but if you do it right, once is enough.', 'life'),\n",
       " ('You only live once, but if you do it right, once is enough.', 'humor'),\n",
       " ('Be the change that you wish to see in the world.', 'inspiration'),\n",
       " ('Be the change that you wish to see in the world.', 'philosophy'),\n",
       " (\"In three words I can sum up everything I've learned about life: it goes on.\",\n",
       "  'life'),\n",
       " ('Friendship ... is born at the moment when one man says to another \"What! You too? I thought that no one but myself . . .',\n",
       "  ''),\n",
       " (\"If you want to know what a man's like, take a good look at how he treats his inferiors, not his equals.\",\n",
       "  ''),\n",
       " ('Don’t walk in front of me… I may not followDon’t walk behind me… I may not leadWalk beside me… just be my friend',\n",
       "  ''),\n",
       " ('No one can make you feel inferior without your consent.', 'inspiration'),\n",
       " ('No one can make you feel inferior without your consent.', 'wisdom'),\n",
       " (\"If you tell the truth, you don't have to remember anything.\", 'truth'),\n",
       " ('A friend is someone who knows all about you and still loves you.', 'love'),\n",
       " ('A friend is someone who knows all about you and still loves you.',\n",
       "  'knowledge'),\n",
       " ('Always forgive your enemies; nothing annoys them so much.', ''),\n",
       " (\"I've learned that people will forget what you said, people will forget what you did, but people will never forget how you made them feel.\",\n",
       "  ''),\n",
       " ('Live as if you were to die tomorrow. Learn as if you were to live forever.',\n",
       "  'inspiration'),\n",
       " ('Live as if you were to die tomorrow. Learn as if you were to live forever.',\n",
       "  'education'),\n",
       " (\"I am so clever that sometimes I don't understand a single word of what I am saying.\",\n",
       "  ''),\n",
       " ('Darkness cannot drive out darkness: only light can do that. Hate cannot drive out hate: only love can do that.',\n",
       "  'love'),\n",
       " ('Darkness cannot drive out darkness: only light can do that. Hate cannot drive out hate: only love can do that.',\n",
       "  'inspiration'),\n",
       " ('To live is the rarest thing in the world. Most people exist, that is all.',\n",
       "  'life'),\n",
       " ('Without music, life would be a mistake.', 'inspiration'),\n",
       " ('Without music, life would be a mistake.', 'philosophy'),\n",
       " ('Insanity is doing the same thing, over and over again, but expecting different results.',\n",
       "  'life'),\n",
       " ('Insanity is doing the same thing, over and over again, but expecting different results.',\n",
       "  'humor'),\n",
       " ('To be yourself in a world that is constantly trying to make you something else is the greatest accomplishment.',\n",
       "  ''),\n",
       " (\"I believe that everything happens for a reason. People change so that you can learn to let go, things go wrong so that you appreciate them when they're right, you believe lies so you eventually learn to trust no one but yourself, and sometimes good things fall apart so better things can fall together.\",\n",
       "  ''),\n",
       " (\"Twenty years from now you will be more disappointed by the things that you didn't do than by the ones you did do. So throw off the bowlines. Sail away from the safe harbor. Catch the trade winds in your sails. Explore. Dream. Discover.\",\n",
       "  ''),\n",
       " ('We accept the love we think we deserve.', 'love'),\n",
       " ('We accept the love we think we deserve.', 'inspiration'),\n",
       " ('It is better to be hated for what you are than to be loved for what you are not.',\n",
       "  'love'),\n",
       " ('It is better to be hated for what you are than to be loved for what you are not.',\n",
       "  'life'),\n",
       " (\"Imperfection is beauty, madness is genius and it's better to be absolutely ridiculous than absolutely boring.\",\n",
       "  'inspiration'),\n",
       " ('All that is gold does not glitter,Not all those who wander are lost;The old that is strong does not wither,Deep roots are not reached by the frost.From the ashes a fire shall be woken,A light from the shadows shall spring;Renewed shall be blade that was broken,The crownless again shall be king.',\n",
       "  'poetry'),\n",
       " ('The person, be it gentleman or lady, who has not pleasure in a good novel, must be intolerably stupid.',\n",
       "  'humor'),\n",
       " ('The person, be it gentleman or lady, who has not pleasure in a good novel, must be intolerably stupid.',\n",
       "  'books'),\n",
       " ('There are only two ways to live your life. One is as though nothing is a miracle. The other is as though everything is a miracle.',\n",
       "  'life'),\n",
       " ('There are only two ways to live your life. One is as though nothing is a miracle. The other is as though everything is a miracle.',\n",
       "  'inspiration'),\n",
       " ('It is better to remain silent at the risk of being thought a fool, than to talk and remove all doubt of it.',\n",
       "  'wisdom'),\n",
       " ('As he read, I fell in love the way you fall asleep: slowly, and then all at once.',\n",
       "  'love'),\n",
       " ('It is our choices, Harry, that show what we truly are, far more than our abilities.',\n",
       "  ''),\n",
       " (\"Life is what happens to you while you're busy making other plans.\", 'life'),\n",
       " ('Good friends, good books, and a sleepy conscience: this is the ideal life.',\n",
       "  'life'),\n",
       " ('Good friends, good books, and a sleepy conscience: this is the ideal life.',\n",
       "  'books'),\n",
       " ('Whenever you find yourself on the side of the majority, it is time to reform (or pause and reflect).',\n",
       "  'wisdom'),\n",
       " ('It does not do to dwell on dreams and forget to live.', 'life'),\n",
       " ('The fool doth think he is wise, but the wise man knows himself to be a fool.',\n",
       "  'wisdom'),\n",
       " (\"A woman is like a tea bag; you never know how strong it is until it's in hot water.\",\n",
       "  ''),\n",
       " ('Yesterday is history, tomorrow is a mystery, today is a gift of God, which is why we call it the present.',\n",
       "  'inspiration'),\n",
       " ('Yesterday is history, tomorrow is a mystery, today is a gift of God, which is why we call it the present.',\n",
       "  'hope'),\n",
       " ('We are all in the gutter, but some of us are looking at the stars.',\n",
       "  'inspiration'),\n",
       " (\"If you don't stand for something you will fall for anything.\", ''),\n",
       " ('The man who does not read has no advantage over the man who cannot read.',\n",
       "  ''),\n",
       " (\"I have not failed. I've just found 10,000 ways that won't work.\",\n",
       "  'inspiration'),\n",
       " ('It is not a lack of love, but a lack of friendship that makes unhappy marriages.',\n",
       "  'friendship'),\n",
       " ('It is not a lack of love, but a lack of friendship that makes unhappy marriages.',\n",
       "  'love'),\n",
       " (\"The opposite of love is not hate, it's indifference. The opposite of art is not ugliness, it's indifference. The opposite of faith is not heresy, it's indifference. And the opposite of life is not death, it's indifference.\",\n",
       "  'love'),\n",
       " (\"The opposite of love is not hate, it's indifference. The opposite of art is not ugliness, it's indifference. The opposite of faith is not heresy, it's indifference. And the opposite of life is not death, it's indifference.\",\n",
       "  'inspiration'),\n",
       " (\"The opposite of love is not hate, it's indifference. The opposite of art is not ugliness, it's indifference. The opposite of faith is not heresy, it's indifference. And the opposite of life is not death, it's indifference.\",\n",
       "  'philosophy'),\n",
       " ('Fairy tales are more than true: not because they tell us that dragons exist, but because they tell us that dragons can be beaten.',\n",
       "  'inspiration'),\n",
       " ('Fairy tales are more than true: not because they tell us that dragons exist, but because they tell us that dragons can be beaten.',\n",
       "  'books'),\n",
       " (\"Outside of a dog, a book is man's best friend. Inside of a dog it's too dark to read.\",\n",
       "  'humor'),\n",
       " (\"Outside of a dog, a book is man's best friend. Inside of a dog it's too dark to read.\",\n",
       "  'books'),\n",
       " ('I may not have gone where I intended to go, but I think I have ended up where I needed to be.',\n",
       "  'life'),\n",
       " ('I am enough of an artist to draw freely upon my imagination. Imagination is more important than knowledge. Knowledge is limited. Imagination encircles the world.',\n",
       "  'inspiration'),\n",
       " ('A day without sunshine is like, you know, night.', 'humor'),\n",
       " ('I like nonsense, it wakes up the brain cells. Fantasy is a necessary ingredient in living.',\n",
       "  ''),\n",
       " ('Never put off till tomorrow what may be done day after tomorrow just as well.',\n",
       "  'humor'),\n",
       " ('I love you without knowing how, or when, or from where. I love you simply, without problems or pride: I love you in this way because I do not know any other way of loving but this, in which there is no I or you, so intimate that your hand upon my chest is my hand, so intimate that when I fall asleep your eyes close.',\n",
       "  'love'),\n",
       " ('I love you without knowing how, or when, or from where. I love you simply, without problems or pride: I love you in this way because I do not know any other way of loving but this, in which there is no I or you, so intimate that your hand upon my chest is my hand, so intimate that when I fall asleep your eyes close.',\n",
       "  'poetry'),\n",
       " ('I solemnly swear that I am up to no good.', ''),\n",
       " ('That which does not kill us makes us stronger.', ''),\n",
       " (\"Have you ever been in love? Horrible isn't it? It makes you so vulnerable. It opens your chest and it opens up your heart and it means that someone can get inside you and mess you up.\",\n",
       "  'love'),\n",
       " ('Love all, trust a few, do wrong to none.', 'love'),\n",
       " (\"You have brains in your head. You have feet in your shoes. You can steer yourself any direction you choose. You're on your own. And you know what you know. And YOU are the one who'll decide where to go...\",\n",
       "  'inspiration'),\n",
       " ('If you judge people, you have no time to love them.', ''),\n",
       " ('There is never a time or place for true love. It happens accidentally, in a heartbeat, in a single flashing, throbbing moment.',\n",
       "  'love'),\n",
       " ('For every minute you are angry you lose sixty seconds of happiness.',\n",
       "  'happiness'),\n",
       " ('Being deeply loved by someone gives you strength, while loving someone deeply gives you courage.',\n",
       "  'love'),\n",
       " ('My thoughts are stars I cannot fathom into constellations.', ''),\n",
       " ('I love deadlines. I love the whooshing noise they make as they go by.',\n",
       "  'humor'),\n",
       " ('I love deadlines. I love the whooshing noise they make as they go by.',\n",
       "  'writing'),\n",
       " ('It is never too late to be what you might have been.', 'inspiration'),\n",
       " ('Anyone who thinks sitting in church can make you a Christian must also think that sitting in a garage can make you a car.',\n",
       "  'humor'),\n",
       " ('Anyone who thinks sitting in church can make you a Christian must also think that sitting in a garage can make you a car.',\n",
       "  'religion'),\n",
       " ('A reader lives a thousand lives before he dies, said Jojen. The man who never reads lives only one.',\n",
       "  ''),\n",
       " (\"I'm not upset that you lied to me, I'm upset that from now on I can't believe you.\",\n",
       "  ''),\n",
       " (\"If you can't explain it to a six year old, you don't understand it yourself.\",\n",
       "  ''),\n",
       " ('Women and cats will do as they please, and men and dogs should relax and get used to the idea.',\n",
       "  'humor'),\n",
       " ('It takes a great deal of bravery to stand up to our enemies, but just as much to stand up to our friends.',\n",
       "  ''),\n",
       " ('Love is that condition in which the happiness of another person is essential to your own.',\n",
       "  'love'),\n",
       " ('Love is that condition in which the happiness of another person is essential to your own.',\n",
       "  'happiness'),\n",
       " ('Sometimes the questions are complicated and the answers are simple.',\n",
       "  'life'),\n",
       " ('I have always imagined that Paradise will be a kind of library.', 'books'),\n",
       " (\"We read to know we're not alone.\", ''),\n",
       " ('You love me. Real or not real?\"I tell him, \"Real.', 'love'),\n",
       " (\"We don't see things as they are, we see them as we are.\", ''),\n",
       " ('Beauty is in the eye of the beholder and it may be necessary from time to time to give a stupid or misinformed beholder a black eye.',\n",
       "  'humor'),\n",
       " (\"All you need is love. But a little chocolate now and then doesn't hurt.\",\n",
       "  'humor'),\n",
       " ('Everything you can imagine is real.', 'life'),\n",
       " ('Everything you can imagine is real.', 'inspiration'),\n",
       " ('There is no greater agony than bearing an untold story inside you.',\n",
       "  'inspiration'),\n",
       " ('There is no greater agony than bearing an untold story inside you.',\n",
       "  'writing'),\n",
       " ('Today you are You, that is truer than true. There is no one alive who is Youer than You.',\n",
       "  'life'),\n",
       " ('Sometimes, you read a book and it fills you with this weird evangelical zeal, and you become convinced that the shattered world will never be put back together unless and until all living humans read the book.',\n",
       "  'books'),\n",
       " ('Never trust anyone who has not brought a book with them.', 'books'),\n",
       " ('Whenever I feel the need to exercise, I lie down until it goes away.',\n",
       "  'humor'),\n",
       " (\"I'm not afraid of death; I just don't want to be there when it happens.\",\n",
       "  'life'),\n",
       " (\"I'm not afraid of death; I just don't want to be there when it happens.\",\n",
       "  'humor'),\n",
       " (\"I'm not afraid of death; I just don't want to be there when it happens.\",\n",
       "  'death'),\n",
       " (\"I am nothing special, of this I am sure. I am a common man with common thoughts and I've led a common life. There are no monuments dedicated to me and my name will soon be forgotten, but I've loved another with all my heart and soul, and to me, this has always been enough..\",\n",
       "  'love'),\n",
       " ('If you want your children to be intelligent, read them fairy tales. If you want them to be more intelligent, read them more fairy tales.',\n",
       "  ''),\n",
       " ('Have you fallen in love with the wrong person yet?\\'Jace said, \"Unfortunately, Lady of the Haven, my one true love remains myself.\"...\"At least,\"she said, \"you don\\'t have to worry about rejection, Jace Wayland.\"\"Not necessarily. I turn myself down occasionally, just to keep it interesting.',\n",
       "  ''),\n",
       " ('If you live to be a hundred, I want to live to be a hundred minus one day so I never have to live without you.',\n",
       "  ''),\n",
       " ('Logic will get you from A to Z; imagination will get you everywhere.', ''),\n",
       " ('One good thing about music, when it hits you, you feel no pain.', ''),\n",
       " (\"The more that you read, the more things you will know. The more that you learn, the more places you'll go.\",\n",
       "  ''),\n",
       " ('Not all of us can do great things. But we can do small things with great love.',\n",
       "  ''),\n",
       " ('It is impossible to live without failing at something, unless you live so cautiously that you might as well not have lived at all - in which case, you fail by default.',\n",
       "  ''),\n",
       " (\"You don't get to choose if you get hurt in this world...but you do have some say in who hurts you. I like my choices.\",\n",
       "  ''),\n",
       " ('You don’t have a soul, Doctor. You are a soul. You have a body, temporarily.',\n",
       "  ''),\n",
       " ('The truth is, everyone is going to hurt you. You just got to find the ones worth suffering for.',\n",
       "  ''),\n",
       " ('Folks are usually about as happy as they make their minds up to be.',\n",
       "  'happiness'),\n",
       " ('Love looks not with the eyes, but with the mind,And therefore is winged Cupid painted blind.',\n",
       "  'love'),\n",
       " ('If you only read the books that everyone else is reading, you can only think what everyone else is thinking.',\n",
       "  'books'),\n",
       " (\"Love is like the wind, you can't see it but you can feel it.\", 'love'),\n",
       " ('Of course it is happening inside your head, Harry, but why on earth should that mean that it is not real?',\n",
       "  ''),\n",
       " ('Sometimes people are beautiful.Not in looks.Not in what they say.Just in what they are.',\n",
       "  'life'),\n",
       " ('You can never get a cup of tea large enough or a book long enough to suit me.',\n",
       "  'inspiration'),\n",
       " ('You can never get a cup of tea large enough or a book long enough to suit me.',\n",
       "  'books'),\n",
       " ('If one cannot enjoy reading a book over and over again, there is no use in reading it at all.',\n",
       "  'books'),\n",
       " ('The difference between genius and stupidity is: genius has its limits.',\n",
       "  ''),\n",
       " ('I would venture to guess that Anon, who wrote so many poems without signing them, was often a woman.',\n",
       "  ''),\n",
       " ('Do what you can, with what you have, where you are.', 'inspiration'),\n",
       " ('If you can make a woman laugh, you can make her do anything.', 'love'),\n",
       " ('To the well-organized mind, death is but the next great adventure.',\n",
       "  'inspiration'),\n",
       " ('To the well-organized mind, death is but the next great adventure.',\n",
       "  'death'),\n",
       " (\"Listen to the mustn'ts, child. Listen to the don'ts. Listen to the shouldn'ts, the impossibles, the won'ts. Listen to the never haves, then listen close to me... Anything can happen, child. Anything can be.\",\n",
       "  'inspiration'),\n",
       " (\"Listen to the mustn'ts, child. Listen to the don'ts. Listen to the shouldn'ts, the impossibles, the won'ts. Listen to the never haves, then listen close to me... Anything can happen, child. Anything can be.\",\n",
       "  'hope'),\n",
       " ('We’re all a little weird. And life is a little weird. And when we find someone whose weirdness is compatible with ours, we join up with them and fall into mutually satisfying weirdness—and call it love—true love.',\n",
       "  'love'),\n",
       " ('I find television very educating. Every time somebody turns on the set, I go into the other room and read a book.',\n",
       "  'humor'),\n",
       " ('I find television very educating. Every time somebody turns on the set, I go into the other room and read a book.',\n",
       "  'books'),\n",
       " ('When one door of happiness closes, another opens; but often we look so long at the closed door that we do not see the one which has been opened for us.',\n",
       "  'inspiration'),\n",
       " (\"Life isn't about finding yourself. Life is about creating yourself.\",\n",
       "  'life'),\n",
       " (\"Life isn't about finding yourself. Life is about creating yourself.\",\n",
       "  'inspiration'),\n",
       " (\"You don't love someone because they're perfect, you love them in spite of the fact that they're not.\",\n",
       "  'love'),\n",
       " (\"He's like a drug for you, Bella.\", 'romance'),\n",
       " (\"A wise girl kisses but doesn't love, listens but doesn't believe, and leaves before she is left.\",\n",
       "  ''),\n",
       " ('The real lover is the man who can thrill you by kissing your forehead or smiling into your eyes or just staring into space.',\n",
       "  'love'),\n",
       " ('Life is like riding a bicycle. To keep your balance, you must keep moving.',\n",
       "  'life'),\n",
       " ('Some infinities are bigger than other infinities.', 'life'),\n",
       " (\"Love never dies a natural death. It dies because we don't know how to replenish its source. It dies of blindness and errors and betrayals. It dies of illness and wounds; it dies of weariness, of witherings, of tarnishings.\",\n",
       "  'love'),\n",
       " (\"Love never dies a natural death. It dies because we don't know how to replenish its source. It dies of blindness and errors and betrayals. It dies of illness and wounds; it dies of weariness, of witherings, of tarnishings.\",\n",
       "  'death'),\n",
       " ('There is no friend as loyal as a book.', 'books'),\n",
       " (\"Who are you to judge the life I live?I know I'm not perfect-and I don't live to be-but before you start pointing fingers...make sure you hands are clean!\",\n",
       "  'life'),\n",
       " ('The story so far:In the beginning the Universe was created.This has made a lot of people very angry and been widely regarded as a bad move.',\n",
       "  'humor'),\n",
       " ('Time you enjoy wasting is not wasted time.', 'happiness'),\n",
       " ('Piglet sidled up to Pooh from behind. \"Pooh!\"he whispered.\"Yes, Piglet?\"\"Nothing,\"said Piglet, taking Pooh\\'s paw. \"I just wanted to be sure of you.',\n",
       "  ''),\n",
       " ('I am good, but not an angel. I do sin, but I am not the devil. I am just a small girl in a big world trying to find someone to love.',\n",
       "  'love'),\n",
       " ('There is nothing I would not do for those who are really my friends. I have no notion of loving people by halves, it is not my nature.',\n",
       "  'love'),\n",
       " ('Do one thing every day that scares you.', 'inspiration'),\n",
       " ('The trouble with having an open mind, of course, is that people will insist on coming along and trying to put things in it.',\n",
       "  'humor'),\n",
       " ('If I had a flower for every time I thought of you...I could walk through my garden forever.',\n",
       "  'love'),\n",
       " ('It matters not what someone is born, but what they grow to be.', ''),\n",
       " ('Some people never go crazy. What truly horrible lives they must lead.',\n",
       "  'humor'),\n",
       " ('Reality continues to ruin my life.', 'life'),\n",
       " ('Reality continues to ruin my life.', 'humor'),\n",
       " ('Success is not final, failure is not fatal: it is the courage to continue that counts.',\n",
       "  'inspiration'),\n",
       " ('Success is not final, failure is not fatal: it is the courage to continue that counts.',\n",
       "  'success'),\n",
       " (\"It is what you read when you don't have to that determines what you will be when you can't help it.\",\n",
       "  'books'),\n",
       " ('There is no pretending,\"Jace said with absolute clarity. \"I love you, and I will love you until I die, and if there is life after that, I\\'ll love you then.',\n",
       "  'romance'),\n",
       " (\"So, this is my life. And I want you to know that I am both happy and sad and I'm still trying to figure out how that could be.\",\n",
       "  'inspiration'),\n",
       " (\"I love mankind ... it's people I can't stand!!\", 'humor'),\n",
       " (\"Things change. And friends leave. Life doesn't stop for anybody.\", 'life'),\n",
       " (\"Remember, we're madly in love, so it's all right to kiss me anytime you feel like it.\",\n",
       "  'humor'),\n",
       " ('You don’t forget the face of the person who was your last hope.', ''),\n",
       " ('The only way out of the labyrinth of suffering is to forgive.', 'life'),\n",
       " ('Go to heaven for the climate and hell for the company.', 'humor'),\n",
       " ('Go to heaven for the climate and hell for the company.', 'philosophy'),\n",
       " ('The reason I talk to myself is because I’m the only one whose answers I accept.',\n",
       "  'humor'),\n",
       " ('The reason I talk to myself is because I’m the only one whose answers I accept.',\n",
       "  'truth'),\n",
       " ('I am free of all prejudice. I hate everyone equally.', 'humor'),\n",
       " (\"What really knocks me out is a book that, when you're all done reading it, you wish the author that wrote it was a terrific friend of yours and you could call him up on the phone whenever you felt like it. That doesn't happen much, though.\",\n",
       "  'writing'),\n",
       " (\"What really knocks me out is a book that, when you're all done reading it, you wish the author that wrote it was a terrific friend of yours and you could call him up on the phone whenever you felt like it. That doesn't happen much, though.\",\n",
       "  'books'),\n",
       " ('What is success? I think it is a mixture of having a flair for the thing that you are doing; knowing that it is not enough, that you have got to have hard work and a certain sense of purpose.',\n",
       "  'success'),\n",
       " ('At the moment of death I hope to be surprised.', 'hope'),\n",
       " ('Unrest of spirit is a mark of life.', 'life'),\n",
       " (\"Humor is something that thrives between man's aspirations and his limitations. There is more logic in humor than in anything else. Because, you see, humor is truth.\",\n",
       "  'humor'),\n",
       " ('Literature is the art of discovering something extraordinary about ordinary people, and saying with ordinary words something extraordinary.',\n",
       "  'arts'),\n",
       " ('Literature is the art of discovering something extraordinary about ordinary people, and saying with ordinary words something extraordinary.',\n",
       "  'books'),\n",
       " ('If everyone is moving forward together, then success takes care of itself.',\n",
       "  'success'),\n",
       " ('Hope is the only universal liar who never loses his reputation for veracity.',\n",
       "  'hope'),\n",
       " ('Ships that pass in the night, and speak each other in passing, only a signal shown, and a distant voice in the darkness; So on the ocean of life, we pass and speak one another, only a look and a voice, then darkness again and a silence.',\n",
       "  'life'),\n",
       " ('Love is the beauty of the soul.', 'love'),\n",
       " ('Wit - the salt with which the American humorist spoils his intellectual cookery by leaving it out.',\n",
       "  'humor'),\n",
       " ('Politics is the art of controlling your environment.', 'arts'),\n",
       " ('He has achieved success who has worked well, laughed often, and loved much.',\n",
       "  'success'),\n",
       " ('Hope is the last thing a person does before they are defeated.', 'hope'),\n",
       " ('Life is a gift, given in trust - like a child.', 'life'),\n",
       " ('Where there is love there is life.', 'life'),\n",
       " ('Where there is love there is life.', 'love'),\n",
       " ('Humor brings insight and tolerance. Irony brings a deeper and less friendly understanding.',\n",
       "  'humor'),\n",
       " (\"Advertising is the art of convincing people to spend money they don't have for something they don't need.\",\n",
       "  'arts'),\n",
       " (\"Success makes so many people hate you. I wish it wasn't that way. It would be wonderful to enjoy success without seeing envy in the eyes of those around you.\",\n",
       "  'success'),\n",
       " ('The world is bad but not without hope. It is only hopeless when you look at it from an ideal viewpoint.',\n",
       "  'hope'),\n",
       " ('Life is wasted on the living.', 'life'),\n",
       " ('A kiss is a lovely trick designed by nature to stop speech when words become superfluous.',\n",
       "  'love'),\n",
       " ('Humor can alter any situation and help us cope at the very instant we are laughing.',\n",
       "  'humor'),\n",
       " ('Just as pure abstract art is not dogmatic, neither is it decorative.',\n",
       "  'arts'),\n",
       " ('Success comes from knowing that you did your best to become the best that you are capable of becoming.',\n",
       "  'success'),\n",
       " (\"It's time to get real, folks. Hope and change ain't working. Hope and change is not a solution. Hope and change is not a job.\",\n",
       "  'hope'),\n",
       " ('Life in abundance comes only through great love.', 'life'),\n",
       " ('Life is the flower for which love is the honey.', 'life'),\n",
       " ('Life is the flower for which love is the honey.', 'love'),\n",
       " ('The best way to make your audience laugh is to start laughing yourself.',\n",
       "  'humor'),\n",
       " (\"Don't only practice your art, but force your way into its secrets; art deserves that, for it and knowledge can raise man to the Divine.\",\n",
       "  'arts'),\n",
       " ('The most important single ingredient in the formula of success is knowing how to get along with people.',\n",
       "  'success'),\n",
       " ('I always believe things are going to work out.', 'hope'),\n",
       " ('Life is a culmination of the past, an awareness of the present, an indication of a future beyond knowledge, the quality that gives a touch of divinity to matter.',\n",
       "  'life'),\n",
       " ('Love is being stupid together.', 'love'),\n",
       " ('Comedy has to be based on truth. You take the truth and you put a little curlicue at the end.',\n",
       "  'humor'),\n",
       " ('Architecture is the art of how to waste space.', 'arts'),\n",
       " ('It had long since come to my attention that people of accomplishment rarely sat back and let things happen to them. They went out and happened to things.',\n",
       "  'success'),\n",
       " ('We often call a certainty a hope, to bring it luck.', 'hope'),\n",
       " ('To live is so startling it leaves little time for anything else.', 'life'),\n",
       " ('To live is so startling it leaves little time for anything else.',\n",
       "  'inspiration'),\n",
       " ('You can search throughout the entire universe for someone who is more deserving of your love and affection than you are yourself, and that person is not to be found anywhere. You yourself, as much as anybody in the entire universe deserve your love and affection.',\n",
       "  'love'),\n",
       " ('There seems to be no lengths to which humorless people will not go to analyze humor. It seems to worry them.',\n",
       "  'humor'),\n",
       " (\"People discuss my art and pretend to understand as if it were necessary to understand, when it's simply necessary to love.\",\n",
       "  'arts'),\n",
       " (\"People discuss my art and pretend to understand as if it were necessary to understand, when it's simply necessary to love.\",\n",
       "  'love'),\n",
       " ('Always bear in mind that your own resolution to succeed is more important than any other.',\n",
       "  'success'),\n",
       " ('Hope is independent of the apparatus of logic.', 'hope'),\n",
       " ('Seventy percent of success in life is showing up.', 'life'),\n",
       " ('Seventy percent of success in life is showing up.', 'success'),\n",
       " (\"We're born alone, we live alone, we die alone. Only through our love and friendship can we create the illusion for the moment that we're not alone.\",\n",
       "  'friendship'),\n",
       " (\"We're born alone, we live alone, we die alone. Only through our love and friendship can we create the illusion for the moment that we're not alone.\",\n",
       "  'love'),\n",
       " ('Great men are rarely isolated mountain peaks; they are the summits of ranges.',\n",
       "  'humor'),\n",
       " ('Space is the breath of art.', 'arts'),\n",
       " ('When someone loves you, the way they talk about you is different. You feel safe and comfortable.',\n",
       "  'life'),\n",
       " ('When someone loves you, the way they talk about you is different. You feel safe and comfortable.',\n",
       "  'love'),\n",
       " ('When someone loves you, the way they talk about you is different. You feel safe and comfortable.',\n",
       "  'wisdom'),\n",
       " ('When someone loves you, the way they talk about you is different. You feel safe and comfortable.',\n",
       "  'truth'),\n",
       " ('When someone loves you, the way they talk about you is different. You feel safe and comfortable.',\n",
       "  'relationship'),\n",
       " ('When someone loves you, the way they talk about you is different. You feel safe and comfortable.',\n",
       "  'romance'),\n",
       " ('When love and skill work together, expect a masterpiece.', 'love'),\n",
       " ('When love and skill work together, expect a masterpiece.', 'success'),\n",
       " ('Easter is meant to be a symbol of hope, renewal, and new life.', 'hope'),\n",
       " ('Easter is meant to be a symbol of hope, renewal, and new life.', 'life'),\n",
       " (\"To be able to look back upon one's past life with satisfaction is to live twice.\",\n",
       "  'life'),\n",
       " ('The course of true love never did run smooth.', 'love'),\n",
       " ('Humor is merely tragedy standing on its head with its pants torn.',\n",
       "  'humor'),\n",
       " (\"Science fiction is any idea that occurs in the head and doesn't exist yet, but soon will, and will change everything for everybody, and nothing will ever be the same again. As soon as you have an idea that changes some small part of the world you are writing science fiction. It is always the art of the possible, never the impossible.\",\n",
       "  'arts'),\n",
       " (\"You don't have to be a genius or a visionary or even a college graduate to be successful. You just need a framework and a dream.\",\n",
       "  'success'),\n",
       " ('Outside of the cross of Jesus Christ, there is no hope in this world. That cross and resurrection at the core of the Gospel is the only hope for humanity. Wherever you go, ask God for wisdom on how to get that Gospel in, even in the toughest situations of life.',\n",
       "  'hope'),\n",
       " ('Outside of the cross of Jesus Christ, there is no hope in this world. That cross and resurrection at the core of the Gospel is the only hope for humanity. Wherever you go, ask God for wisdom on how to get that Gospel in, even in the toughest situations of life.',\n",
       "  'life'),\n",
       " ('Any life is made up of a single moment, the moment in which a man finds out, once and for all, who he is.',\n",
       "  'life'),\n",
       " ('Love is like a beautiful flower which I may not touch, but whose fragrance makes the garden a place of delight just the same.',\n",
       "  'love'),\n",
       " ('Wit is the lowest form of humor.', 'humor'),\n",
       " ('There is nothing in the world of art like the songs mother used to sing.',\n",
       "  'arts'),\n",
       " (\"Success isn't measured by money or power or social rank. Success is measured by your discipline and inner peace.\",\n",
       "  'success'),\n",
       " (\"Infuse your life with action. Don't wait for it to happen. Make it happen. Make your own future. Make your own hope. Make your own love. And whatever your beliefs, honor your creator, not by passively waiting for grace to come down from upon high, but by doing what you can to make grace happen... yourself, right now, right down here on Earth.\",\n",
       "  'hope'),\n",
       " (\"Infuse your life with action. Don't wait for it to happen. Make it happen. Make your own future. Make your own hope. Make your own love. And whatever your beliefs, honor your creator, not by passively waiting for grace to come down from upon high, but by doing what you can to make grace happen... yourself, right now, right down here on Earth.\",\n",
       "  'life'),\n",
       " (\"Infuse your life with action. Don't wait for it to happen. Make it happen. Make your own future. Make your own hope. Make your own love. And whatever your beliefs, honor your creator, not by passively waiting for grace to come down from upon high, but by doing what you can to make grace happen... yourself, right now, right down here on Earth.\",\n",
       "  'love'),\n",
       " ('Wrong life cannot be lived rightly.', 'life'),\n",
       " ('The most powerful weapon on earth is the human soul on fire.', 'love'),\n",
       " ('It is the ability to take a joke, not make one, that proves you have a sense of humor.',\n",
       "  'humor'),\n",
       " (\"Every bit of me is devoted to love and art. And I aspire to try to be a teacher to my young fans who feel just like I felt when I was younger. I just felt like a freak. I guess what I'm trying to say is I'm trying to liberate them, I want to free them of their fears and make them feel that they can make their own space in the world.\",\n",
       "  'arts'),\n",
       " (\"Every bit of me is devoted to love and art. And I aspire to try to be a teacher to my young fans who feel just like I felt when I was younger. I just felt like a freak. I guess what I'm trying to say is I'm trying to liberate them, I want to free them of their fears and make them feel that they can make their own space in the world.\",\n",
       "  'love'),\n",
       " ('There is nothing better than a friend, unless it is a friend with chocolate.',\n",
       "  ''),\n",
       " (\"What's money? A man is a success if he gets up in the morning and goes to bed at night and in between does what he wants to do.\",\n",
       "  'success'),\n",
       " ('It is difficult to say what is impossible, for the dream of yesterday is the hope of today and the reality of tomorrow.',\n",
       "  'hope'),\n",
       " ('You have succeeded in life when all you really want is only what you really need.',\n",
       "  'life'),\n",
       " ('Love is when he gives you a piece of your soul, that you never knew was missing.',\n",
       "  'love'),\n",
       " ('A humorist is a person who feels bad, but who feels good about it.',\n",
       "  'humor'),\n",
       " ('The most beautiful thing we can experience is the mysterious. It is the source of all true art and science.',\n",
       "  'arts'),\n",
       " ('What a slut time is. She screws everybody.', ''),\n",
       " (\"You may say I'm a dreamer, but I'm not the only one. I hope someday you'll join us. And the world will live as one.\",\n",
       "  'inspiration'),\n",
       " (\"You may say I'm a dreamer, but I'm not the only one. I hope someday you'll join us. And the world will live as one.\",\n",
       "  'hope'),\n",
       " ('To be successful, you have to have your heart in your business and your business in your heart.',\n",
       "  'success'),\n",
       " ('He who has health, has hope; and he who has hope, has everything.', 'hope'),\n",
       " ('The greatest trap in our life is not success, popularity or power, but self-rejection.',\n",
       "  'life'),\n",
       " ('The greatest trap in our life is not success, popularity or power, but self-rejection.',\n",
       "  'success'),\n",
       " ('We love life, not because we are used to living but because we are used to loving.',\n",
       "  'life'),\n",
       " ('We love life, not because we are used to living but because we are used to loving.',\n",
       "  'love'),\n",
       " ('Women, as they grow older, rely more and more on cosmetics. Men, as they grow older, rely more and more on a sense of humor.',\n",
       "  'humor'),\n",
       " (\"I consider skateboarding an art form, a lifestyle and a sport. 'Action sport' would be the least offensive categorization.\",\n",
       "  'arts'),\n",
       " ('The size of your success is measured by the strength of your desire; the size of your dream; and how you handle disappointment along the way.',\n",
       "  'success'),\n",
       " ('All that I am, or hope to be, I owe to my angel mother.', 'hope'),\n",
       " ('Character develops itself in the stream of life.', 'life'),\n",
       " ('Love and compassion are necessities, not luxuries. Without them humanity cannot survive.',\n",
       "  'love'),\n",
       " ('Humor is perhaps a sense of intellectual perspective: an awareness that some things are really important, others not; and that the two kinds are most oddly jumbled in everyday affairs.',\n",
       "  'humor'),\n",
       " ('Tact is the art of making a point without making an enemy.', 'arts'),\n",
       " ('If you want to be truly successful invest in yourself to get the knowledge you need to find your unique factor. When you find it and focus on it and persevere your success will blossom.',\n",
       "  'success'),\n",
       " ('The great gift of Easter is hope - Christian hope which makes us have that confidence in God, in his ultimate triumph, and in his goodness and love, which nothing can shake.',\n",
       "  'hope'),\n",
       " ('The great gift of Easter is hope - Christian hope which makes us have that confidence in God, in his ultimate triumph, and in his goodness and love, which nothing can shake.',\n",
       "  'love'),\n",
       " ('Life consists not in holding good cards but in playing those you hold well.',\n",
       "  'life'),\n",
       " ('Love has reasons which reason cannot understand.', 'love'),\n",
       " ('What a strange world this would be if we all had the same sense of humor.',\n",
       "  'humor'),\n",
       " ('Where thou art, that is home.', 'arts'),\n",
       " ('Formal education will make you a living; self-education will make you a fortune.',\n",
       "  'success'),\n",
       " ('Formal education will make you a living; self-education will make you a fortune.',\n",
       "  'education'),\n",
       " ('Optimism is the faith that leads to achievement. Nothing can be done without hope and confidence.',\n",
       "  'hope'),\n",
       " ('The greatest use of a life is to spend it on something that will outlast it.',\n",
       "  'life'),\n",
       " ('Love is an irresistible desire to be irresistibly desired.', 'love'),\n",
       " ('One can never speak enough of the virtues, the dangers, the power of shared laughter.',\n",
       "  'humor'),\n",
       " ('Filmmaking, like any other art, is a very profound means of human communication; beyond the professional pleasure of succeeding or the pain of failing, you do want your film to be seen, to communicate itself to other people.',\n",
       "  'arts'),\n",
       " ('Think twice before you speak, because your words and influence will plant the seed of either success or failure in the mind of another.',\n",
       "  'success'),\n",
       " ('Black and white are the colors of photography. To me they symbolize the alternatives of hope and despair to which mankind is forever subjected.',\n",
       "  'hope'),\n",
       " ('Life is a succession of moments, to live each one is to succeed.', 'life'),\n",
       " ('I love that feeling of being in love, the effect of having butterflies when you wake up in the morning. That is special.',\n",
       "  'love'),\n",
       " ('Wit is an explosion of the compound spirit.', 'humor'),\n",
       " ('The art of simplicity is a puzzle of complexity.', 'arts'),\n",
       " ('In order to attain the impossible, one must attempt the absurd.',\n",
       "  'success'),\n",
       " ('A good teacher can inspire hope, ignite the imagination, and instill a love of learning.',\n",
       "  'hope'),\n",
       " ('A good teacher can inspire hope, ignite the imagination, and instill a love of learning.',\n",
       "  'love'),\n",
       " ('Fortunately analysis is not the only way to resolve inner conflicts. Life itself still remains a very effective therapist.',\n",
       "  'life'),\n",
       " (\"Love is the flower you've got to let grow.\", 'love'),\n",
       " ('This I conceive to be the chemical function of humor: to change the character of our thought.',\n",
       "  'humor'),\n",
       " ('In art, the obvious is a sin.', 'arts'),\n",
       " ('Finish each day and be done with it. You have done what you could. Some blunders and absurdities no doubt crept in; forget them as soon as you can. Tomorrow is a new day. You shall begin it serenely and with too high a spirit to be encumbered with your old nonsense.',\n",
       "  'life'),\n",
       " ('Success depends upon previous preparation, and without such preparation there is sure to be failure.',\n",
       "  'success'),\n",
       " ('There was never a night or a problem that could defeat sunrise or hope.',\n",
       "  'hope'),\n",
       " ('The chief danger in life is that you may take too many precautions.',\n",
       "  'life'),\n",
       " ('I believe that imagination is stronger than knowledge. That myth is more potent than history. That dreams are more powerful than facts. That hope always triumphs over experience. That laughter is the only cure for grief. And I believe that love is stronger than death.',\n",
       "  'hope'),\n",
       " ('I believe that imagination is stronger than knowledge. That myth is more potent than history. That dreams are more powerful than facts. That hope always triumphs over experience. That laughter is the only cure for grief. And I believe that love is stronger than death.',\n",
       "  'love'),\n",
       " (\"Laughter is involuntary. If it's funny you laugh.\", 'humor'),\n",
       " ('The art of healing comes from nature, not from the physician. Therefore the physician must start from nature, with an open mind.',\n",
       "  'arts'),\n",
       " ('Success is finding satisfaction in giving a little more than you take.',\n",
       "  'success'),\n",
       " ('You are not here merely to make a living. You are here in order to enable the world to live more amply, with greater vision, with a finer spirit of hope and achievement. You are here to enrich the world, and you impoverish yourself if you forget the errand.',\n",
       "  'hope'),\n",
       " ('You are not here merely to make a living. You are here in order to enable the world to live more amply, with greater vision, with a finer spirit of hope and achievement. You are here to enrich the world, and you impoverish yourself if you forget the errand.',\n",
       "  'inspiration'),\n",
       " ('It takes half your life before you discover life is a do-it-yourself project.',\n",
       "  'life'),\n",
       " ('What force is more potent than love?', 'love'),\n",
       " ('The satirist shoots to kill while the humorist brings his prey back alive and eventually releases him again for another chance.',\n",
       "  'humor'),\n",
       " ('Minimal art went nowhere.', 'arts'),\n",
       " ('The secrets of success are a good wife and a steady job. My wife told me.',\n",
       "  'success'),\n",
       " ('Forgiving does not erase the bitter past. A healed memory is not a deleted memory. Instead, forgiving what we cannot forget creates a new way to remember. We change the memory of our past into a hope for our future.',\n",
       "  'hope'),\n",
       " ('What we think determines what happens to us, so if we want to change our lives, we need to stretch our minds.',\n",
       "  'life'),\n",
       " ('Time is too slow for those who wait, too swift for those who fear, too long for those who grieve, too short for those who rejoice, but for those who love, time is eternity.',\n",
       "  'love'),\n",
       " ('A sense of humor is the ability to understand a joke - and that the joke is oneself.',\n",
       "  'humor'),\n",
       " (\"Perhaps it's good for one to suffer. Can an artist do anything if he's happy? Would he ever want to do anything? What is art, after all, but a protest against the horrible inclemency of life?\",\n",
       "  'arts'),\n",
       " (\"Perhaps it's good for one to suffer. Can an artist do anything if he's happy? Would he ever want to do anything? What is art, after all, but a protest against the horrible inclemency of life?\",\n",
       "  'life'),\n",
       " ('Frustration, although quite painful at times, is a very positive and essential part of success.',\n",
       "  'success'),\n",
       " ('Where there is no vision, there is no hope.', 'hope'),\n",
       " ('Life is never fair, and perhaps it is a good thing for most of us that it is not.',\n",
       "  'life'),\n",
       " ('If you can learn to love yourself and all the flaws, you can love other people so much better. And that makes you so happy.',\n",
       "  'love'),\n",
       " ('Puns are a form of humor with words.', 'humor'),\n",
       " ('I think you can do anything with comics that you could do in just about any art form.',\n",
       "  'arts'),\n",
       " ('Formula for success: rise early, work hard, strike oil.', 'success'),\n",
       " ('A leader is a dealer in hope.', 'hope'),\n",
       " ('Life must be lived as play.', 'life'),\n",
       " ('Love is a force more formidable than any other. It is invisible - it cannot be seen or measured, yet it is powerful enough to transform you in a moment, and offer you more joy than any material possession could.',\n",
       "  'love'),\n",
       " ('There is no defense against adverse fortune which is so effectual as an habitual sense of humor.',\n",
       "  'humor'),\n",
       " ('When the bright angel dominates, out comes a great work of art, a Michelangelo David or a Beethoven symphony.',\n",
       "  'arts'),\n",
       " ('There is nothing to writing. All you do is sit down at a typewriter and bleed.',\n",
       "  'writing'),\n",
       " (\"If you want to achieve things in life, you've just got to do them, and if you're talented and smart, you'll succeed.\",\n",
       "  'life'),\n",
       " (\"If you want to achieve things in life, you've just got to do them, and if you're talented and smart, you'll succeed.\",\n",
       "  'success'),\n",
       " (\"Imagine all the people living life in peace. You may say I'm a dreamer, but I'm not the only one. I hope someday you'll join us, and the world will be as one.\",\n",
       "  'hope'),\n",
       " (\"Imagine all the people living life in peace. You may say I'm a dreamer, but I'm not the only one. I hope someday you'll join us, and the world will be as one.\",\n",
       "  'life'),\n",
       " ('We live in the world when we love it.', 'life'),\n",
       " ('You, yourself, as much as anybody in the entire universe, deserve your love and affection.',\n",
       "  'love'),\n",
       " ('All art constantly aspires towards the condition of music.', 'arts'),\n",
       " ('The marks humans leave are too often scars.', ''),\n",
       " (\"The question isn't who is going to let me; it's who is going to stop me.\",\n",
       "  ''),\n",
       " (\"The greatest sign of success for a teacher... is to be able to say, 'The children are now working as if I did not exist.'\",\n",
       "  'success'),\n",
       " ('Pakistan not only means freedom and independence but the Muslim Ideology which has to be preserved, which has come to us as a precious gift and treasure and which, we hope other will share with us.',\n",
       "  'hope'),\n",
       " ('The man who has no inner-life is a slave to his surroundings.', 'life'),\n",
       " ('Love is a smoke made with the fume of sighs.', 'love'),\n",
       " (\"You can't be funny if you don't have good material.\", 'humor'),\n",
       " ('I am my own experiment. I am my own work of art.', 'arts'),\n",
       " ('Success is peace of mind which is a direct result of self-satisfaction in knowing you did your best to become the best you are capable of becoming.',\n",
       "  'success'),\n",
       " ('I hope everyone that is reading this is having a really good day. And if you are not, just know that in every new minute that passes you have an opportunity to change that.',\n",
       "  'hope'),\n",
       " (\"It is often said that before you die your life passes before your eyes. It is in fact true. It's called living.\",\n",
       "  'life'),\n",
       " (\"'Tis better to have loved and lost than never to have loved at all.\",\n",
       "  'love'),\n",
       " ('Our humor turns our anger into a fine art.', 'humor'),\n",
       " (\"I am a real person that cares about his art and cares about what he's doing - I have a heart and a soul and want to touch people and give.\",\n",
       "  'arts'),\n",
       " ('Coming together is a beginning; keeping together is progress; working together is success.',\n",
       "  'success'),\n",
       " ('But what we call our despair is often only the painful eagerness of unfed hope.',\n",
       "  'hope'),\n",
       " ('Life is like riding a bicycle. To keep your balance, you must keep moving.',\n",
       "  'life'),\n",
       " ('Kindness in words creates confidence. Kindness in thinking creates profoundness. Kindness in giving creates love.',\n",
       "  'love'),\n",
       " ('Even a true artist does not always produce art.', 'arts'),\n",
       " (\"It doesn't take many people to have a bad sense of humor to get in trouble at a corporation.\",\n",
       "  'humor'),\n",
       " ('Success is not final, failure is not fatal: it is the courage to continue that counts.',\n",
       "  'success'),\n",
       " ('Hope is the feeling we have that the feeling we have is not permanent.',\n",
       "  'hope'),\n",
       " (\"Smile in the mirror. Do that every morning and you'll start to see a big difference in your life.\",\n",
       "  'life'),\n",
       " ('Every artist writes his own autobiography.', 'arts'),\n",
       " (\"I've got a great sense of humor.\", 'humor'),\n",
       " (\"I consider myself Istanbul's storyteller. My subject matter is my town. I consider it my job to explore the hidden patterns of my city's clandestine corners, its shady, mysterious places, the things I love.\",\n",
       "  'love'),\n",
       " ('I have never let my schooling interfere with my education.', 'education'),\n",
       " ('The price of success is hard work, dedication to the job at hand, and the determination that whether we win or lose, we have applied the best of ourselves to the task at hand.',\n",
       "  'success'),\n",
       " (\"The future is not Big Government. Self-serving politicians. Powerful bureaucrats. This has been tried, tested throughout history. The result has always been disaster. President Obama, your agenda is not new. It's not change, and it's not hope.\",\n",
       "  'hope'),\n",
       " ('There is no end to education. It is not that you read a book, pass an examination, and finish with education. The whole of life, from the moment you are born to the moment you die, is a process of learning.',\n",
       "  'life'),\n",
       " (\"When I am finishing a picture, I hold some God-made object up to it - a rock, a flower, the branch of a tree or my hand - as a final test. If the painting stands up beside a thing man cannot make, the painting is authentic. If there's a clash between the two, it's bad art.\",\n",
       "  'arts'),\n",
       " ('I think in my case, I had no choice but to have a good sense of humor. I grew up with my dad, Danny Thomas, and George Burns and Bob Hope and Milton Berle and Sid Caesar and all those guys were at our house all the time and telling jokes and making each other laugh.',\n",
       "  'humor'),\n",
       " (\"That's my actual payment, the fact that I can actually make something that I actually enjoy and put on repeat, and it's not related to anything else or anyone else's thoughts and ideas, it all came from me; I just love that aspect of it.\",\n",
       "  'love'),\n",
       " (\"Success is simple. Do what's right, the right way, at the right time.\",\n",
       "  'success'),\n",
       " ('We would not be interested in human beings if we did not have the hope of someday meeting someone worse off than ourselves.',\n",
       "  'hope'),\n",
       " ('Beginning today, treat everyone you meet as if they were going to be dead by midnight. Extend to them all the care, kindness and understanding you can muster, and do it with no thought of any reward. Your life will never be the same again.',\n",
       "  'life'),\n",
       " ('Draw your pleasure, paint your pleasure, and express your pleasure strongly.',\n",
       "  'arts'),\n",
       " (\"Down the road, I'll probably have a kid or two or three. And there will probably be political events or spiritual things to comment on, and humor.\",\n",
       "  'humor'),\n",
       " ('Write what you love. Love will hold you through the hard times and hold the world during the good times.',\n",
       "  'love'),\n",
       " ('Not all those who wander are lost.', ''),\n",
       " ('The starting point of all achievement is desire.', 'success'),\n",
       " ('I hope people start to look at their lives as the most powerful, creative act they will ever offer this world.',\n",
       "  'hope'),\n",
       " ('Never stop fighting until you arrive at your destined place - that is, the unique you. Have an aim in life, continuously acquire knowledge, work hard, and have perseverance to realise the great life.',\n",
       "  'life'),\n",
       " ('A great artist can paint a great picture on a small canvas.', 'arts'),\n",
       " (\"You've got to have a sense of humor to keep your sanity.\", 'humor'),\n",
       " (\"You are ugly when you love her, you are beautiful and fresh, vital and free, modern and poetic when you don't... you are more beautiful as an orphan than as your mother's son.\",\n",
       "  'love'),\n",
       " ('Books are the ultimate Dumpees: put them down and they’ll wait for you forever; pay attention to them and they always love you back.',\n",
       "  'books'),\n",
       " ('Always be yourself, express yourself, have faith in yourself, do not go out and look for a successful personality and duplicate it.',\n",
       "  'success'),\n",
       " ('She gave up beauty in her tender youth, gave all her hope and joy and pleasant ways; she covered up her eyes lest they should gaze on vanity, and chose the bitter truth.',\n",
       "  'hope'),\n",
       " ('He who is not courageous enough to take risks will accomplish nothing in life.',\n",
       "  'life'),\n",
       " (\"That's the motivation of an artist - to seek attention of some kind.\",\n",
       "  'arts'),\n",
       " ('I never write anything without humor, just because I like humor, but at the same time, it is a way for anything fantastical to become relatable.',\n",
       "  'humor'),\n",
       " (\"I'm very girly. I love to talk about diets, exercise, kids, make-up.\",\n",
       "  'love'),\n",
       " (\"So it's not gonna be easy. It's going to be really hard; we're gonna have to work at this everyday, but I want to do that because I want you. I want all of you, forever, everyday. You and me... everyday.\",\n",
       "  'love'),\n",
       " (\"Don't aim for success if you want it; just do what you love and believe in, and it will come naturally.\",\n",
       "  'love'),\n",
       " (\"Don't aim for success if you want it; just do what you love and believe in, and it will come naturally.\",\n",
       "  'success'),\n",
       " (\"A lot of people, to attack an outspoken atheist, one of the things they'll do is say, 'You are as bad as the fundamentalist Christians.' And my answer is always, 'I hope so.'\",\n",
       "  'hope'),\n",
       " ('Gratitude unlocks the fullness of life. It turns what we have into enough, and more. It turns denial into acceptance, chaos to order, confusion to clarity. It can turn a meal into a feast, a house into a home, a stranger into a friend.',\n",
       "  'life'),\n",
       " ('Every other artist begins with a blank canvas, a piece of paper the photographer begins with the finished product.',\n",
       "  'arts'),\n",
       " (\"It's always amazed me how little attention philosophers, psychologists, or anyone else actually has paid to humor.\",\n",
       "  'humor'),\n",
       " ('Love is a fire. But whether it is going to warm your hearth or burn down your house, you can never tell.',\n",
       "  'love'),\n",
       " ('It takes courage to grow up and become who you really are.', ''),\n",
       " ('Success consists of going from failure to failure without loss of enthusiasm.',\n",
       "  'success'),\n",
       " (\"You want to play another kind of character in another genre, and it's been something I've been trying to do if I can in the career so far, and it's something I hope to continue because it's interesting to me and you get to do different things as an actor.\",\n",
       "  'hope'),\n",
       " ('Hold fast to dreams, for if dreams die, life is a broken-winged bird that cannot fly.',\n",
       "  'life'),\n",
       " ('Hold fast to dreams, for if dreams die, life is a broken-winged bird that cannot fly.',\n",
       "  'hope'),\n",
       " (\"My attitude towards drawing is not necessarily about drawing. It's about making the best kind of image I can make, it's about talking as clearly as I can.\",\n",
       "  'arts'),\n",
       " ('Humor expands our limited picture frame and gets us to see more than just our problem.',\n",
       "  'humor'),\n",
       " (\"And I ask why am I black, they say I was born in sin, and shamed inequity. One of the main songs we used to sing in church makes me sick, 'love wash me and I shall be whiter than snow.\",\n",
       "  'love'),\n",
       " ('Success is nothing more than a few simple disciplines, practiced every day.',\n",
       "  'success'),\n",
       " (\"Very much, string theory is simply a work in progress. What we are inching toward every day are predictions that within the realm of current technology we hope to test. It's not like we're working on a theory that is permanently beyond experiment. That would be philosophy.\",\n",
       "  'hope'),\n",
       " ('Earth teach me to forget myself as melted snow forgets its life. Earth teach me resignation as the leaves which die in the fall. Earth teach me courage as the tree which stands all alone. Earth teach me regeneration as the seed which rises in the spring.',\n",
       "  'life'),\n",
       " ('Where the spirit does not work with the hand, there is no art.', 'arts'),\n",
       " ('If you look at terrorists, they really have no sense of humor.', 'humor'),\n",
       " ('I accepted the face that as much as I want to lead others, and love to be around other people, in some essential way, I am something of a loner.',\n",
       "  'love'),\n",
       " ('Try not to become a man of success, but rather try to become a man of value.',\n",
       "  'success'),\n",
       " (\"I'm involved in quite a few ministries as a bridge builder, trying to match generous givers and donors to other ministries. Based on my past, I'm also involved in mainly the prison ministry. I go to jails and prisons and share my story, trying to give them some hope.\",\n",
       "  'hope'),\n",
       " ('Without music, life would be a mistake.', 'life'),\n",
       " ('Art is the only way to run away without leaving home.', 'arts'),\n",
       " ('My sense of humor is a turkey, and I pull it out of the oven and baste it in reality.',\n",
       "  'humor'),\n",
       " ('As love without esteem is capricious and volatile; esteem without love is languid and cold.',\n",
       "  'love'),\n",
       " ('Do not pity the dead, Harry. Pity the living, and, above all those who live without love.',\n",
       "  ''),\n",
       " ('To die will be an awfully big adventure.', 'love'),\n",
       " (\"Desire is the key to motivation, but it's determination and commitment to an unrelenting pursuit of your goal - a commitment to excellence - that will enable you to attain the success you seek.\",\n",
       "  'motivation'),\n",
       " (\"Desire is the key to motivation, but it's determination and commitment to an unrelenting pursuit of your goal - a commitment to excellence - that will enable you to attain the success you seek.\",\n",
       "  'success'),\n",
       " (\"I have learned from my experiences in this industry that there is absolutely no way to control people's opinions on your performance in your movie. You go out there, promote your film and hope people like the work you did.\",\n",
       "  'hope'),\n",
       " ('The bird is powered by its own life and by its motivation.', 'inspiration'),\n",
       " ('The bird is powered by its own life and by its motivation.', 'life'),\n",
       " ('The bird is powered by its own life and by its motivation.', 'motivation'),\n",
       " ('Every artist dips his brush in his own soul, and paints his own nature into his pictures.',\n",
       "  'arts'),\n",
       " (\"There's plenty of room for humor in politics, God knows, but it's a serious business.\",\n",
       "  'humor'),\n",
       " ('Nashville is my home, and the reason why I get to do what I love.', 'love'),\n",
       " ('Anyone who has never made a mistake has never tried anything new.', ''),\n",
       " ('Action is the foundational key to all success.', 'success'),\n",
       " (\"I'm quite a confident person in many ways, but there's only so much you can hear about being compared to Hattie Jacques. For the record, she was a comedy goddess, but she was 25 stone. I hope I'm right in saying I'm not in any way nearly 25 stone.\",\n",
       "  'hope'),\n",
       " ('The fear of death follows from the fear of life. A man who lives fully is prepared to die at any time.',\n",
       "  'life'),\n",
       " ('The fear of death follows from the fear of life. A man who lives fully is prepared to die at any time.',\n",
       "  'death'),\n",
       " ('A picture is a poem without words.', 'arts'),\n",
       " ('If the blood humor is too strong and robust, calm it with balance and harmony.',\n",
       "  'humor'),\n",
       " ('Love is so unconditional; love liberates; love is the reason why I do what I do, and so I think it is the greatest gift we have.',\n",
       "  'love'),\n",
       " ('A successful man is one who can lay a firm foundation with the bricks others have thrown at him.',\n",
       "  'success'),\n",
       " ('Sixty-four thousand dollars for a question, I hope they are asking you the meaning of life.',\n",
       "  'hope'),\n",
       " ('Just as treasures are uncovered from the earth, so virtue appears from good deeds, and wisdom appears from a pure and peaceful mind. To walk safely through the maze of human life, one needs the light of wisdom and the guidance of virtue.',\n",
       "  'life'),\n",
       " ('I have no fear of making changes, destroying the image, etc., because the painting has a life of its own.',\n",
       "  'arts'),\n",
       " (\"Humor's a weapon if you want to make it one.\", 'humor'),\n",
       " ('The measure of a man is not how great his faith is, but how great his love is. We must not let government programs disconnect our souls from each other.',\n",
       "  'love'),\n",
       " (\"I'm the one that's got to die when it's time for me to die, so let me live my life the way I want to.\",\n",
       "  'life'),\n",
       " (\"I'm the one that's got to die when it's time for me to die, so let me live my life the way I want to.\",\n",
       "  'death'),\n",
       " (\"Winning isn't everything, it's the only thing.\", 'success'),\n",
       " ('I try to make a dent in people when I can. I figure people drift toward liberalism at a young age, and I always hope that they change when they see how the world really is.',\n",
       "  'hope'),\n",
       " (\"The Christian life is not a constant high. I have my moments of deep discouragement. I have to go to God in prayer with tears in my eyes, and say, 'O God, forgive me,' or 'Help me.'\",\n",
       "  'life'),\n",
       " ('To me, photography is the simultaneous recognition, in a fraction of a second, of the significance of an event.',\n",
       "  'arts'),\n",
       " ('What you see on stage is pretty much the way I am... a dry sense of humor.',\n",
       "  'humor'),\n",
       " ('I love you, and because I love you, I would sooner have you hate me for telling you the truth than adore me for telling you lies.',\n",
       "  'love'),\n",
       " (\"′Classic′ - a book which people praise and don't read.\", 'books'),\n",
       " ('Take up one idea. Make that one idea your life - think of it, dream of it, live on that idea. Let the brain, muscles, nerves, every part of your body, be full of that idea, and just leave every other idea alone. This is the way to success.',\n",
       "  'life'),\n",
       " ('Take up one idea. Make that one idea your life - think of it, dream of it, live on that idea. Let the brain, muscles, nerves, every part of your body, be full of that idea, and just leave every other idea alone. This is the way to success.',\n",
       "  'success'),\n",
       " (\"I hope I can help guys come out and say, 'All right, dude, I got a manicure... and I liked it.'\",\n",
       "  'hope'),\n",
       " (\"Transformation is a process, and as life happens there are tons of ups and downs. It's a journey of discovery - there are moments on mountaintops and moments in deep valleys of despair.\",\n",
       "  'life'),\n",
       " ('Every picture shows a spot with which the artist has fallen in love.',\n",
       "  'arts'),\n",
       " (\"You know, Freud accepted his lot very stoically and very well and with a sense of humor. He aged and died gracefully, and there's a lot to be said for that.\",\n",
       "  'humor'),\n",
       " ('Joy is prayer; joy is strength: joy is love; joy is a net of love by which you can catch souls.',\n",
       "  'love'),\n",
       " ('Success is how high you bounce when you hit bottom.', 'success'),\n",
       " ('Helplessness induces hopelessness, and history attests that loss of hope and not loss of lives is what decides the issue of war.',\n",
       "  'hope'),\n",
       " ('The biggest adventure you can take is to live the life of your dreams.',\n",
       "  'life'),\n",
       " ('Good art is art that allows you to enter it from a variety of angles and to emerge with a variety of views.',\n",
       "  'arts'),\n",
       " (\"Sometimes I find I'm wearing a divided, split brain in terms of drama and humor.\",\n",
       "  'humor'),\n",
       " (\"Alcohol may be man's worst enemy, but the bible says love your enemy.\",\n",
       "  'love'),\n",
       " (\"Alcohol may be man's worst enemy, but the bible says love your enemy.\",\n",
       "  'religion'),\n",
       " ('Happiness lies in the joy of achievement and the thrill of creative effort.',\n",
       "  'success'),\n",
       " ('Happiness lies in the joy of achievement and the thrill of creative effort.',\n",
       "  'happiness'),\n",
       " (\"I hope that 'Jaws' will have brought sharks into the public interest at a time when we desperately need to reevaluate our care for the environment.\",\n",
       "  'hope'),\n",
       " (\"I've cried, and you'd think I'd be better for it, but the sadness just sleeps, and it stays in my spine the rest of my life.\",\n",
       "  'life'),\n",
       " ('All art is a struggle to be, in a particular sort of way, virtuous.',\n",
       "  'arts'),\n",
       " ('Me and Matt love to argue, but in general our sense of humor is pretty much alike.',\n",
       "  'humor'),\n",
       " (\"When you love and accept yourself, when you know who really cares about you, and when you learn from your mistakes, then you stop caring about what people who don't know you think.\",\n",
       "  'love'),\n",
       " ('Success is not the key to happiness. Happiness is the key to success. If you love what you are doing, you will be successful.',\n",
       "  'love'),\n",
       " ('Success is not the key to happiness. Happiness is the key to success. If you love what you are doing, you will be successful.',\n",
       "  'success'),\n",
       " ('Success is not the key to happiness. Happiness is the key to success. If you love what you are doing, you will be successful.',\n",
       "  'inspiration'),\n",
       " ('I feel blessed to be here representing our country and carrying out th research of scientists around the world... I hope you could feel the positive energy that beamed to the whole planet as we glided over.',\n",
       "  'hope'),\n",
       " ('I decided to fly through the air and live in the sunlight and enjoy life as much as I could.',\n",
       "  'life'),\n",
       " ('The creative act lasts but a brief moment, a lightning instant of give-and-take, just long enough for you to level the camera and to trap the fleeting prey in your little box.',\n",
       "  'arts'),\n",
       " ('Political correctness? In my humor, I never talk about politics. I was never much into all that.',\n",
       "  'humor'),\n",
       " ('The things that we love tell us what we are.', 'inspiration'),\n",
       " ('The things that we love tell us what we are.', 'love'),\n",
       " ('All you need in this life is ignorance and confidence, and then success is sure.',\n",
       "  'life'),\n",
       " ('All you need in this life is ignorance and confidence, and then success is sure.',\n",
       "  'success'),\n",
       " (\"I would hope to get together with the Latino community, if I could ever have them talk to me without screaming and threatening me. So I hope to get together with the community and try to explain what we do, so that's going to be one of my missions coming up.\",\n",
       "  'hope'),\n",
       " (\"One day I decided that I was beautiful, and so I carried out my life as if I was a beautiful girl. I wear colors that I really like, I wear makeup that makes me feel pretty, and it really helps. It doesn't have anything to do with how the world perceives you. What matters is what you see.\",\n",
       "  'life'),\n",
       " ('The goal of art was the vital expression of self.', 'arts'),\n",
       " (\"People with no humor, they're outta my life.\", 'humor'),\n",
       " ('The garden of love is green without limit and yields many fruits other than sorrow or joy. Love is beyond either condition: without spring, without autumn, it is always fresh.',\n",
       "  'love'),\n",
       " ('No man succeeds without a good woman behind him. Wife or mother, if it is both, he is twice blessed indeed.',\n",
       "  'success'),\n",
       " (\"I wouldn't wear turtlenecks. That I'm not envious of. But who knows? I might sneak out a few things and hope and pray that no one says, 'Hey, didn't you wear that when you were playing an enormous geek on TV?'\",\n",
       "  'hope'),\n",
       " ('Life is all about evolution. What looks like a mistake to others has been a milestone in my life. Even if people have betrayed me, even if my heart was broken, even if people misunderstood or judged me, I have learned from these incidents. We are human and we make mistakes, but learning from them is what makes the difference.',\n",
       "  'life'),\n",
       " ('Photography is a major force in explaining man to man.', 'arts'),\n",
       " (\"I'm not a particularly dark individual. I have my moments, it's true, but I do have a sense of humor.\",\n",
       "  'humor'),\n",
       " ('I must learn to love the fool in me - the one who feels too much, talks too much, takes too many chances, wins sometimes and loses often, lacks self-control, loves and hates, hurts and gets hurt, promises and breaks promises, laughs and cries.',\n",
       "  'love'),\n",
       " ('Be nice to nerds. You may end up working for them. We all could.', 'humor'),\n",
       " (\"Success is a lousy teacher. It seduces smart people into thinking they can't lose.\",\n",
       "  'success'),\n",
       " (\"Success is a lousy teacher. It seduces smart people into thinking they can't lose.\",\n",
       "  'inspiration'),\n",
       " ('Thus we hope to teach mythology not as a study, but as a relaxation from study; to give our work the charm of a story-book, yet by means of it to impart a knowledge of an important branch of education.',\n",
       "  'hope'),\n",
       " ('All mankind... being all equal and independent, no one ought to harm another in his life, health, liberty or possessions.',\n",
       "  'life'),\n",
       " ('An empty canvas is full.', 'arts'),\n",
       " ('Men live by intervals of reason under the sovereignty of humor and passion.',\n",
       "  'humor'),\n",
       " ('Never forget the three powerful resources you always have available to you: love, prayer, and forgiveness.',\n",
       "  'love'),\n",
       " (\"It is no use saying, 'We are doing our best.' You have got to succeed in doing what is necessary.\",\n",
       "  'success'),\n",
       " (\"I'm always nervous! Especially when it comes to a series like 'Disgaea', where you do have such a devoted fan base, the last thing you want to do is disappoint. But I love playing bad guys and just always hope that fans will be forgiving if I miss the mark.\",\n",
       "  'hope'),\n",
       " ('Let your life lightly dance on the edges of Time like dew on the tip of a leaf.',\n",
       "  'inspiration'),\n",
       " ('Let your life lightly dance on the edges of Time like dew on the tip of a leaf.',\n",
       "  'life'),\n",
       " ('Let your life lightly dance on the edges of Time like dew on the tip of a leaf.',\n",
       "  'poetry'),\n",
       " ('I see myself and many artists like me as the torchbearers through these dark ages.',\n",
       "  'arts'),\n",
       " ('Married people should not be quick to hear what is said by either when in ill humor.',\n",
       "  'humor'),\n",
       " ('Love recognizes no barriers. It jumps hurdles, leaps fences, penetrates walls to arrive at its destination full of hope.',\n",
       "  'hope'),\n",
       " ('Love recognizes no barriers. It jumps hurdles, leaps fences, penetrates walls to arrive at its destination full of hope.',\n",
       "  'love'),\n",
       " ('The foundation stones for a balanced success are honesty, character, integrity, faith, love and loyalty.',\n",
       "  'love'),\n",
       " ('The foundation stones for a balanced success are honesty, character, integrity, faith, love and loyalty.',\n",
       "  'success'),\n",
       " (\"I don't think just scaring people is enough. That worked during the freeze days to a major extent, but we really didn't achieve that much even at that time. You have to have more, you have to give people hope and a vision of a better world.\",\n",
       "  'hope'),\n",
       " ('I always like to look on the optimistic side of life, but I am realistic enough to know that life is a complex matter.',\n",
       "  'life'),\n",
       " ('The sculptor produces the beautiful statue by chipping away such parts of the marble block as are not needed - it is a process of elimination.',\n",
       "  'arts'),\n",
       " (\"Well, I mean, if a joke or humor is bawdy, it's got to be funny enough to warrant it. You can't just have it bawdy or dirty just for the sake of being that - it's got to be funny.\",\n",
       "  'humor'),\n",
       " (\"I love life. There's so much to learn and see all the time, and nothing nicer for me than to wake up, and the sky is blue.\",\n",
       "  'life'),\n",
       " (\"I love life. There's so much to learn and see all the time, and nothing nicer for me than to wake up, and the sky is blue.\",\n",
       "  'love'),\n",
       " (\"A lady's imagination is very rapid; it jumps from admiration to love, from love to matrimony in a moment.\",\n",
       "  'love'),\n",
       " (\"A lady's imagination is very rapid; it jumps from admiration to love, from love to matrimony in a moment.\",\n",
       "  'humor'),\n",
       " ('Strive not to be a success, but rather to be of value.', 'success'),\n",
       " (\"Hope is the most exciting thing in life, and if you honestly believe that love is out there, it will come. And even if it doesn't come straight away, there is still that chance all through your life that it will.\",\n",
       "  'hope'),\n",
       " (\"Don't walk through life just playing football. Don't walk through life just being an athlete. Athletics will fade. Character and integrity and really making an impact on someone's life, that's the ultimate vision, that's the ultimate goal - bottom line.\",\n",
       "  'life'),\n",
       " ('One eye sees, the other feels.', 'arts'),\n",
       " ('God has a most wicked sense of humor.', 'humor'),\n",
       " (\"Some people can't stand being alone. I love solitude and silence. But when I come out of it, I'm a regular talking machine. It's all or nothing for me.\",\n",
       "  'love'),\n",
       " ('Dumbledore watched her fly away, and as her silvery glow faded he turned back to Snape, and his eyes were full of tears.\"After all this time?\"\"Always,\"said Snape.',\n",
       "  'life'),\n",
       " ('Dumbledore watched her fly away, and as her silvery glow faded he turned back to Snape, and his eyes were full of tears.\"After all this time?\"\"Always,\"said Snape.',\n",
       "  'love'),\n",
       " (\"I've failed over and over and over again in my life and that is why I succeed.\",\n",
       "  'life'),\n",
       " (\"I've failed over and over and over again in my life and that is why I succeed.\",\n",
       "  'success'),\n",
       " (\"I hope my daughter knows that in our house we can make messes and have fun and we'll laugh through it. Granted I don't want her to trash the house, but we do make a lot of messes.\",\n",
       "  'hope'),\n",
       " (\"In school, you're taught a lesson and then given a test. In life, you're given a test that teaches you a lesson.\",\n",
       "  'life'),\n",
       " ('In art as in love, instinct is enough.', 'arts'),\n",
       " (\"What we're doing is fun - if you have any sense of humor at all!\", 'humor'),\n",
       " ('Experts on romance say for a happy marriage there has to be more than a passionate love. For a lasting union, they insist, there must be a genuine liking for each other. Which, in my book, is a good definition for friendship.',\n",
       "  'friendship'),\n",
       " ('Experts on romance say for a happy marriage there has to be more than a passionate love. For a lasting union, they insist, there must be a genuine liking for each other. Which, in my book, is a good definition for friendship.',\n",
       "  'love'),\n",
       " ('We believe in ordinary acts of bravery, in the courage that drives one person to stand up for another.',\n",
       "  'inspiration'),\n",
       " ('Success is to be measured not so much by the position that one has reached in life as by the obstacles which he has overcome.',\n",
       "  'life'),\n",
       " ('Success is to be measured not so much by the position that one has reached in life as by the obstacles which he has overcome.',\n",
       "  'success'),\n",
       " (\"One of the things I noticed is that people really change when they realize their expiration date is coming, and they know what it is. Most of us don't: we just hope we can live as long as we can and do as much good as we can.\",\n",
       "  'hope'),\n",
       " ('Life is like a game of cards. The hand you are dealt is determinism; the way you play it is free will.',\n",
       "  'life'),\n",
       " ('A beautiful body perishes, but a work of art dies not.', 'arts'),\n",
       " (\"Nobody can predict the future. You just have to give your all to the relationship you're in and do your best to take care of your partner, communicate and give them every last drop of love you have. I think one of the most important things in a relationship is caring for your significant other through good times and bad.\",\n",
       "  'love'),\n",
       " ('But better to get hurt by the truth than comforted with a lie.', 'life'),\n",
       " ('I think that success is having fun.', 'success'),\n",
       " (\"I am a firm believer that God has already ordered the things that have taken place in my life... and I'm just learning to follow the path he's laid before me.\",\n",
       "  'life'),\n",
       " (\"My politics of optimism and hope still casts its lot with the Democrats - in the optimistic hope that the dying embers of its status as the party of our better angels, one that took risks for social justice, can still be fanned into a flame. But I'm an old man, born in 1969.\",\n",
       "  'hope'),\n",
       " ('I connect to humor really deeply, so I feel really comfortable just being in funny projects.',\n",
       "  'humor'),\n",
       " ('Art resides in the quality of doing, process is not magic.', 'arts'),\n",
       " ('Love looks not with the eyes, but with the mind, And therefore is winged Cupid painted blind.',\n",
       "  'love'),\n",
       " (\"As I've progressed in my career, I've come to appreciate - and really value - the other attributes that define a company's success beyond the P&L: great leadership, long-term financial strength, ethical business practices, evolving business strategies, sound governance, powerful brands, values-based decision-making.\",\n",
       "  'success'),\n",
       " ('Life, liberty, and property do not exist because men have made laws. On the contrary, it was the fact that life, liberty, and property existed beforehand that caused men to make laws in the first place.',\n",
       "  'life'),\n",
       " (\"I spread the message of hope and of unity. That's what gets me up in the morning. I can tell you what is wrong, but I can't tell you how to fix it. I'm a raptivist, not a politician. I deal in hope.\",\n",
       "  'hope'),\n",
       " (\"And you know, whether it's drama or comedy, the best work is based on truth. It's just that, with comedy, the circumstances are just crazy-heightened, and you have these crazy things thrown at you. But you still have to do it truthfully, because that's where the humor comes from. So it's not that difficult to cross over.\",\n",
       "  'humor'),\n",
       " ('True art is characterized by an irresistible urge in the creative artist.',\n",
       "  'arts'),\n",
       " (\"Grief can be the garden of compassion. If you keep your heart open through everything, your pain can become your greatest ally in your life's search for love and wisdom.\",\n",
       "  'life'),\n",
       " (\"Grief can be the garden of compassion. If you keep your heart open through everything, your pain can become your greatest ally in your life's search for love and wisdom.\",\n",
       "  'love'),\n",
       " ('And in that moment, I swear we were infinite.', ''),\n",
       " (\"Success is not only one thing. It's not only having a nice house in Beverly Hills and driving a nice Mercedes.\",\n",
       "  'success'),\n",
       " (\"Never be afraid to meet to the hilt the demand of either work, or friendship - two of life's major assets.\",\n",
       "  'friendship'),\n",
       " (\"Never be afraid to meet to the hilt the demand of either work, or friendship - two of life's major assets.\",\n",
       "  'life'),\n",
       " (\"You don't seem to realize that a poor person who is unhappy is in a better position than a rich person who is unhappy. Because the poor person has hope. He thinks money would help.\",\n",
       "  'hope'),\n",
       " (\"People in real life don't get ballplayers' humor, the way we talk in the clubhouse.\",\n",
       "  'humor'),\n",
       " ('If you cannot learn to love real art, at least learn to hate sham art and reject it.',\n",
       "  'arts'),\n",
       " (\"Everyone has inside of him a piece of good news. The good news is that you don't know how great you can be! How much you can love! What you can accomplish! And what your potential is!\",\n",
       "  'inspiration'),\n",
       " (\"Everyone has inside of him a piece of good news. The good news is that you don't know how great you can be! How much you can love! What you can accomplish! And what your potential is!\",\n",
       "  'love'),\n",
       " (\"I don't know the key to success, but the key to failure is trying to please everybody.\",\n",
       "  'success'),\n",
       " ('I always say you can never be extravagant with beauty. Beauty is God made real. Beauty is life.',\n",
       "  'life'),\n",
       " (\"There is something uniquely depressing about the fact that the National Portrait Gallery's version of the Barack Obama 'Hope' poster previously belonged to a pair of lobbyists. Depressing because Mr. Obama's Washington was not supposed to be the lobbyists' Washington, the place we learned to despise during the last administration.\",\n",
       "  'hope'),\n",
       " (\"I certainly didn't say while writing 'Gossip Girl,' 'Oh this is going to be big!' It was really like, 'Oh god, everyone's gong to hate these people! They're so bratty!' But I actually think what is so appealing about them is the humor in them.\",\n",
       "  'humor'),\n",
       " (\"All art is dependent on technology because it's a human endeavour, so even when you're using charcoal on a wall or designed the proscenium arch, that's technology.\",\n",
       "  'arts'),\n",
       " ('Love always involves responsibility, and love always involves sacrifice. And we do not really love Christ unless we are prepared to face His task and to take up His Cross.',\n",
       "  'love'),\n",
       " (\"I believe that being successful means having a balance of success stories across the many areas of your life. You can't truly be considered successful in your business life if your home life is in shambles.\",\n",
       "  'success'),\n",
       " (\"I want to find that defining moment that you're satisfied and you've done what you want to do in your life.\",\n",
       "  'life'),\n",
       " (\"I don't believe in having one partner for your whole life, but I hope I get married. I want to have a husband and two kids and a nice little life baking pies. I'm quite romantic. It's definitely important to have someone make you feel special.\",\n",
       "  'hope'),\n",
       " (\"In everything I write, I'm always striving to hit the right mix of light and darkness, humor and pain, fun and seriousness.\",\n",
       "  'humor'),\n",
       " ('I am enough of an artist to draw freely upon my imagination.', 'arts'),\n",
       " ('Flatter me, and I may not believe you. Criticize me, and I may not like you. Ignore me, and I may not forgive you. Encourage me, and I will not forget you. Love me and I may be forced to love you.',\n",
       "  'love'),\n",
       " (\"Basically, when you get to my age, you'll really measure your success in life by how many of the people you want to have love you actually do love you.\",\n",
       "  'success'),\n",
       " ('Although you may spend your life killing, You will not exhaust all your foes. But if you quell your own anger, your real enemy will be slain.',\n",
       "  'life'),\n",
       " (\"I don't believe that I'm better than anybody, but I do believe that I'll try harder than most and I hope that people just join me for a little bit of a ride.\",\n",
       "  'hope'),\n",
       " ('I choose my actors well and get to know the quirks of their personalities - and, most of all, I share humor with them. Then I keep my eyes open when they rehearse and perform, because you never know where the next stimulation comes from.',\n",
       "  'humor'),\n",
       " ('A room hung with pictures is a room hung with thoughts.', 'arts'),\n",
       " ('Three grand essentials to happiness in this life are something to do, something to love, and something to hope for.',\n",
       "  'hope'),\n",
       " ('Three grand essentials to happiness in this life are something to do, something to love, and something to hope for.',\n",
       "  'life'),\n",
       " ('Three grand essentials to happiness in this life are something to do, something to love, and something to hope for.',\n",
       "  'love'),\n",
       " (\"Just when you think it can't get any worse, it can. And just when you think it can't get any better, it can.\",\n",
       "  'life'),\n",
       " (\"Just when you think it can't get any worse, it can. And just when you think it can't get any better, it can.\",\n",
       "  'love'),\n",
       " ('The talent of success is nothing more than doing what you can do well, and doing well whatever you do without thought of fame. If it comes at all it will come because it is deserved, not because it is sought after.',\n",
       "  'success'),\n",
       " ('In my wildest dreams, I could not have imagined a sweeter life.', 'life'),\n",
       " (\"I think I've always been somebody, since the deaths of my father and brother, who was afraid to hope. So, I was more prepared for failure and for rejection than for success.\",\n",
       "  'hope'),\n",
       " (\"I think I've always been somebody, since the deaths of my father and brother, who was afraid to hope. So, I was more prepared for failure and for rejection than for success.\",\n",
       "  'success'),\n",
       " (\"There are the horror fans that love the 'Evil Dead' because of the humor, but I'm sure it's not all of them. Not all horror fans love 'Evil Dead' because of the humor, at least not me.\",\n",
       "  'humor'),\n",
       " ('A sculptor is a person who is interested in the shape of things, a poet in words, a musician by sounds.',\n",
       "  'arts'),\n",
       " ('There is no sincerer love than the love of food.', 'love'),\n",
       " ('You have to write the book that wants to be written. And if the book will be too difficult for grown-ups, then you write it for children.',\n",
       "  'writing'),\n",
       " ('You have to write the book that wants to be written. And if the book will be too difficult for grown-ups, then you write it for children.',\n",
       "  'books'),\n",
       " (\"If there's a book that you want to read, but it hasn't been written yet, then you must write it.\",\n",
       "  'writing'),\n",
       " (\"If there's a book that you want to read, but it hasn't been written yet, then you must write it.\",\n",
       "  'books'),\n",
       " ('My success was due to good luck, hard work, and support and advice from friends and mentors. But most importantly, it depended on me to keep trying after I had failed.',\n",
       "  'success'),\n",
       " ('Most of us have learned the hard way that there are very few things you can absolutely count on in life.',\n",
       "  'life'),\n",
       " (\"The script was just the best I'd read in a long time and I love the humor, which I wasn't expecting, and I like the fact that my six year old daughter can see the show without being, you know, protected from it.\",\n",
       "  'humor'),\n",
       " ('When I make art, I think about its ability to connect with others, to bring them into the process.',\n",
       "  'arts'),\n",
       " ('It is easy to hate and it is difficult to love. This is how the whole scheme of things works. All good things are difficult to achieve; and bad things are very easy to get.',\n",
       "  'love'),\n",
       " (\"I believe that one key to success is to accept truth, no matter how it's spoken.\",\n",
       "  'success'),\n",
       " ('Norway or Switzerland are two marvelous countries, I very much admire, the most advanced countries in the world in fact with great qualities of life.',\n",
       "  'life'),\n",
       " (\"We go through the whole season working on next season's car and developing the car and making sure we fit in the car and all that sort of stuff. And we obviously give ideas of what we would hope next year's car would have even if it's small things like buttons on the steering wheel and different positions and whatever.\",\n",
       "  'hope'),\n",
       " ('Humor writing is something that comes naturally to me.', 'humor'),\n",
       " (\"I don't want life to imitate art. I want life to be art.\", 'arts'),\n",
       " ('There is a fountain of youth: it is your mind, your talents, the creativity you bring to your life and the lives of people you love. When you learn to tap this source, you will truly have defeated age.',\n",
       "  'life'),\n",
       " ('There is a fountain of youth: it is your mind, your talents, the creativity you bring to your life and the lives of people you love. When you learn to tap this source, you will truly have defeated age.',\n",
       "  'love'),\n",
       " ('Achievement is not always success, while reputed failure often is. It is honest endeavor, persistent effort to do the best possible under any and all circumstances.',\n",
       "  'success'),\n",
       " ('For the Puritans, the God-centered life meant making the quest for spiritual and moral holiness the great business of life.',\n",
       "  'life'),\n",
       " (\"I'm a vegetarian and very much active in regards to how I feel about animal rights and protecting animals and giving animals a voice. But at the same time, I appreciate and respect other people's decisions to eat meat. The only thing that I hope is that people are educated, that they're aware, that they're living a conscious lifestyle.\",\n",
       "  'hope'),\n",
       " (\"Humor writing requires a rhythm and timing, as well as some kind of connection to the reader, and I think that's how I tap into it.\",\n",
       "  'humor'),\n",
       " (\"Artists don't make objects. Artists make mythologies.\", 'arts'),\n",
       " ('It is not a lack of love, but a lack of friendship that makes unhappy marriages.',\n",
       "  'friendship'),\n",
       " ('It is not a lack of love, but a lack of friendship that makes unhappy marriages.',\n",
       "  'love'),\n",
       " ('Adjusting to the passage of time, I think, is a key to success and to life: just being able to roll with the punches.',\n",
       "  'success'),\n",
       " (\"If you go out to Hollywood you'll find a lot of fantastic plastic people there in the business and a lot of people in life generally. They find it so hard to be themselves that they have to be plastic.\",\n",
       "  'life'),\n",
       " (\"I try and tell all the kids that I meet that hope to be amazing one day and be a professional athlete or a doctor or a lawyer or whatever they want to be. I tell them they can do all that because Tourette's won't stop them.\",\n",
       "  'hope'),\n",
       " (\"I think Damien Hirst is hilarious. And I think he's a true artist. He's not hilarious first; I think he is a real artist, and I also think he's got an amazing sense of humor.\",\n",
       "  'humor'),\n",
       " ('All good art is an indiscretion.', 'arts'),\n",
       " ('Behold, my friends, the spring is come; the earth has gladly received the embraces of the sun, and we shall soon see the results of their love!',\n",
       "  'love'),\n",
       " (\"My songs are the door to every dream I've ever had and every success I've ever achieved.\",\n",
       "  'success'),\n",
       " (\"Offence is important; that's how you know you care about things. Imagine a life where you're not offended. So dull.\",\n",
       "  'life'),\n",
       " ('When one is giving service for the advancement of humanity, when one is working without money and without price, with no hope of earthly reward, there comes a real, genuine joy into the human heart.',\n",
       "  'hope'),\n",
       " ('We have a certain warped sense of humor in Scandinavia, and that is what comes across in the choices in a lot of our movies.',\n",
       "  'humor'),\n",
       " ('Art is the unceasing effort to compete with the beauty of flowers - and never succeeding.',\n",
       "  'arts'),\n",
       " ('Throw your dreams into space like a kite, and you do not know what it will bring back, a new life, a new friend, a new love, a new country.',\n",
       "  'inspiration'),\n",
       " ('Throw your dreams into space like a kite, and you do not know what it will bring back, a new life, a new friend, a new love, a new country.',\n",
       "  'life'),\n",
       " ('Throw your dreams into space like a kite, and you do not know what it will bring back, a new life, a new friend, a new love, a new country.',\n",
       "  'love'),\n",
       " ('The most successful men in the end are those whose success is the result of steady accretion.',\n",
       "  'success'),\n",
       " ('God intended Earth. God intended the waters. God intended you and me. We were created in the image and the likeness of God; we are holograms, if you will. So the power, the presence, the energy is within you and me. The energy of God, as life, is within each of us.',\n",
       "  'life'),\n",
       " ('There is a lot of luck in football. Following England is like following Wycombe Wanders or Leyton Orient. You hope for the best and hope you are lucky.',\n",
       "  'hope'),\n",
       " ('The guys in my band are great-we watch movies, we eat pizza, take walks, read books. Everybody has a really great sense of humor. And my boyfriend comes and visits me on the road.',\n",
       "  'humor'),\n",
       " ('We have art in order not to die of the truth.', 'arts'),\n",
       " (\"Do what you love to do and give it your very best. Whether it's business or baseball, or the theater, or any field. If you don't love what you're doing and you can't give it your best, get out of it. Life is too short. You'll be an old man before you know it.\",\n",
       "  'life'),\n",
       " (\"Do what you love to do and give it your very best. Whether it's business or baseball, or the theater, or any field. If you don't love what you're doing and you can't give it your best, get out of it. Life is too short. You'll be an old man before you know it.\",\n",
       "  'love'),\n",
       " ('And, when you want something, all the universe conspires in helping you to achieve it.',\n",
       "  'inspiration'),\n",
       " (\"I've been so fortunate in my life that my family has never been jealous of my success. They have shown true love and commitment to me by being supportive. They shared in it.\",\n",
       "  'success'),\n",
       " ('The half hour between waking and rising has all my life proved propitious to any task which was exercising my invention... It was always when I first opened my eyes that the desired ideas thronged upon me.',\n",
       "  'life'),\n",
       " ('We are laying the foundations of a government, which we hope may outlast the Pyramids.',\n",
       "  'hope'),\n",
       " ('Cameron Crowe can write dialogue and shoot it with warmth and humor like nobody else.',\n",
       "  'humor'),\n",
       " ('When I work, and in my art, I hold hands with God.', 'arts'),\n",
       " (\"I'm kind of a good girl - and I'm not. I'm a good girl because I really believe in love, integrity, and respect. I'm a bad girl because I like to tease. I know that I have sex appeal in my deck of cards. But I like to get people thinking. That's what the stories in my music do.\",\n",
       "  'love'),\n",
       " ('Remember, if the time should come when you have to make a choice between what is right and what is easy, remember what happened to a boy who was good, and kind, and brave, because he strayed across the path of Lord Voldemort. Remember Cedric Diggory.',\n",
       "  ''),\n",
       " (\"No matter how much success you're having, you can't continue working together if you can't communicate.\",\n",
       "  'success'),\n",
       " (\"I was born with this. It's a hereditary genetic condition. This is something you can go your whole life without really knowing that something's wrong. I had high blood pressure, and that was the first sign.\",\n",
       "  'life'),\n",
       " ('I would like to live a day in the life of an ant and hope not to get squashed.',\n",
       "  'hope'),\n",
       " (\"But it also became the experience, or was the experience, of the writers who were attracted to this kind of humor. They're all men or women who come from the same kind of experience in their own lives.\",\n",
       "  'humor'),\n",
       " ('The basis of art is truth, both in matter and in mode.', 'arts'),\n",
       " ('All the commandments: You shall not commit adultery, you shall not kill, you shall not steal, you shall not covet, and so on, are summed up in this single command: You must love your neighbor as yourself.',\n",
       "  'love'),\n",
       " ('Choose a job you love, and you will never have to work a day in your life.',\n",
       "  ''),\n",
       " (\"That should be the measure of success for everyone. It's not money, it's not fame, it's not celebrity; my index of success is happiness.\",\n",
       "  'success'),\n",
       " ('Nothing can add more power to your life than concentrating all your energies on a limited set of targets.',\n",
       "  'life'),\n",
       " (\"I hope people will say, 'Mr. Valentino, he did something for fashion, no?'\",\n",
       "  'hope'),\n",
       " (\"Guys usually like my sense of humor, and I am pretty down to earth. And I'm a driven person.\",\n",
       "  'humor'),\n",
       " (\"I don't think there's any artist of any value who doesn't doubt what they're doing.\",\n",
       "  'arts'),\n",
       " ('When you lose a person you love so much, surviving the loss is difficult.',\n",
       "  'love'),\n",
       " ('One must always be careful of books,\"said Tessa, \"and what is inside them, for words have the power to change us.',\n",
       "  'books'),\n",
       " ('Divorce is never a pleasant experience. You look upon it as a failure. But I learned to be a different person once we broke up. Sometimes you learn more from failure than you do from success.',\n",
       "  'success'),\n",
       " ('Self-esteem comes from who you have in your life. How you were raised. What you struggled with as a child.',\n",
       "  'life'),\n",
       " ('During my life I have seen, known, and lost too much to be the prey of vain dread; and, as for the hope of immortality, I am as weary of that as I am of gods and kings. For my own sake only I write this; and herein I differ from all other writers, past and to come.',\n",
       "  'hope'),\n",
       " (\"Some major writers have a huge impact, like Ayn Rand, who to my mind is a lousy fiction writer because her writing has no compassion and virtually no humor. She has a philosophical and economical message that she is passing off as fiction, but it really isn't fiction at all.\",\n",
       "  'humor'),\n",
       " ('The mediator of the inexpressible is the work of art.', 'arts'),\n",
       " ('The things that will destroy America are prosperity-at-any-price, peace-at-any-price, safety-first instead of duty-first, the love of soft living, and the get-rich-quick theory of life.',\n",
       "  'life'),\n",
       " ('The things that will destroy America are prosperity-at-any-price, peace-at-any-price, safety-first instead of duty-first, the love of soft living, and the get-rich-quick theory of life.',\n",
       "  'love'),\n",
       " (\"There's a misconception that survival of the fittest means survival of the most aggressive. The adjective 'Darwinian' used to refer to ruthless competition; you used to read that in business journals. But that's not what Darwinian means to a biologist; it's whatever leads to reproductive success.\",\n",
       "  'success'),\n",
       " (\"The 'Course in Miracles' says one day you will realize that death is not the punishment but the reward. And it says that birth is not the beginning of life but a continuation. And physical death is not the end of life but a continuation.\",\n",
       "  'life'),\n",
       " ('My great hope would be that Quebec would realize itself fully as a distinct part of Canada, and stay Canadian, bringing to Canada a part of its richness.',\n",
       "  'hope'),\n",
       " (\"I'm an off-the-charts introvert. To me, being around groups of strangers is exhausting. I've had to sort of train myself to think about two tactics: finding common ground and invoking humor.\",\n",
       "  'humor'),\n",
       " ('The principles of true art is not to portray, but to evoke.', 'arts'),\n",
       " ('I spent a lot of years trying to outrun or outsmart vulnerability by making things certain and definite, black and white, good and bad. My inability to lean into the discomfort of vulnerability limited the fullness of those important experiences that are wrought with uncertainty: Love, belonging, trust, joy, and creativity to name a few.',\n",
       "  'love'),\n",
       " (\"The successful man doesn't use others, other people use the successful man, for above all the success is of service.\",\n",
       "  'success'),\n",
       " (\"It's not true that life is one damn thing after another; it's one damn thing over and over.\",\n",
       "  'life'),\n",
       " ('Death, only, renders hope futile.', 'hope'),\n",
       " ('I have a very dark sense of humor.', 'humor'),\n",
       " ('Painting and writing are solitary arts.', 'arts'),\n",
       " ('Surround yourself with people who provide you with support and love and remember to give back as much as you can in return.',\n",
       "  'love'),\n",
       " ('I think there are those individuals who are intimidated by really smart, talented people. But for me, surrounding yourself with great talent is the key to success.',\n",
       "  'success'),\n",
       " ('I feel 80% of my life is completely normal.', 'life'),\n",
       " (\"We hope we are moving toward a world where sexual orientation is not an issue, because we hate the idea of a gay ghetto. I think that it's a real shame that people become restricted by their sexuality or define their whole lives by their sexuality.\",\n",
       "  'hope'),\n",
       " (\"My humor tends to be a little more edgy than is appropriate for 'Twilight,' although I got some in there. That was fun! There's just a tonal difference. For me, storytelling is storytelling. But, I do like writing for grown ups.\",\n",
       "  'humor'),\n",
       " ('Art in Nature is rhythmic and has a horror of constraint.', 'arts'),\n",
       " ('Love one another, but make not a bond of love: Let it rather be a moving sea between the shores of your souls.',\n",
       "  'love'),\n",
       " (\"Written in 1895, Alfred Nobel's will endowed prizes for scientific research in chemistry, physics, and medicine. At that time, these fields were narrowly defined, and researchers were often classically trained in only one discipline. In the late 19th century, knowledge of science was not a requisite for success in other walks of life.\",\n",
       "  'success'),\n",
       " (\"With the price of life these days, you've got to get everything for free you can.\",\n",
       "  'life'),\n",
       " ('I hope I may have succeeded in presenting to you, however imperfectly, the currents of thought due to the work of the immortal Darwin which have helped to make anthropology what it is at the present time.',\n",
       "  'hope'),\n",
       " (\"My parents have always had a great sense of humor. And I really appreciate good humor in songs, witty lyrics that sneak up on you and then you listen again, and say: 'That's so funny.' John Prine's songs have always had this really witty tone.\",\n",
       "  'humor'),\n",
       " ('Pictures must not be too picturesque.', 'arts'),\n",
       " ('The best smell in the world is that man that you love.', 'love'),\n",
       " ('When I was 4 years old, my brother and sister died of hunger, so I achieved my success through confidence, self-motivation and my hard work.',\n",
       "  'success'),\n",
       " (\"I don't ever give my opinion. Opinions I have about anything are in my personal life.\",\n",
       "  'life'),\n",
       " ('We hope that eventually there would be an occasion which I can personally prove that game music can in fact impress many different people and move them.',\n",
       "  'hope'),\n",
       " (\"The 'Twilight' movies are great in their own right, but they certainly don't have any sense of humor to them.\",\n",
       "  'humor'),\n",
       " ('Without freedom, no art; art lives only on the restraints it imposes on itself, and dies of all others.',\n",
       "  'arts'),\n",
       " ('Communism is not love. Communism is a hammer which we use to crush the enemy.',\n",
       "  'love'),\n",
       " ('Tis better to have loved and lostThan never to have loved at all.', 'love'),\n",
       " ('My father left Nazi Germany a year after Dr. Kissinger, and so in my household he was very much an icon. He was a kind of immigrant success story, a refugee success story.',\n",
       "  'success'),\n",
       " ('The joy which answers to prayer give, cannot be described; and the impetus which they afford to the spiritual life is exceedingly great.',\n",
       "  'life'),\n",
       " (\"I'm proud of my background, so I hope there will be more roles where Hispanics are being portrayed.\",\n",
       "  'hope'),\n",
       " ('Humor was not important only for me, humor was important for this nation for centuries, to survive, you know.',\n",
       "  'humor'),\n",
       " ('Personality is everything in art and poetry.', 'arts'),\n",
       " ('The ultimate lesson all of us have to learn is unconditional love, which includes not only others but ourselves as well.',\n",
       "  'love'),\n",
       " ('I declare after all there is no enjoyment like reading! How much sooner one tires of any thing than of a book! -- When I have a house of my own, I shall be miserable if I have not an excellent library.',\n",
       "  'books'),\n",
       " ('The Nationals tried hard to recover the lost ground. The final result, however, was the success of the Forest Citys by a score of 29 to 23 in a nine innings game, twice interrupted by rain.',\n",
       "  'success'),\n",
       " ('Of any stopping place in life, it is good to ask whether it will be a good place from which to go on as well as a good place to remain.',\n",
       "  'life'),\n",
       " ('I collaborated with fellow cat lover and designer Geren Ford to create a sweater that we hope any cat parent would wear to show their kitty pride and that all animal lovers can wear in support of the ASPCA.',\n",
       "  'hope'),\n",
       " (\"I liked the humor of it, I've always enjoyed a sense of humor in God and in religion and in spirituality.\",\n",
       "  'humor'),\n",
       " ('It is after all the greatest art to limit and isolate oneself.', 'arts'),\n",
       " ('Music is love, love is music, music is life, and I love my life. Thank you and good night.',\n",
       "  'life'),\n",
       " ('Music is love, love is music, music is life, and I love my life. Thank you and good night.',\n",
       "  'love'),\n",
       " (\"I know God won't give me anything I can't handle. I just wish he didn't trust me so much.\",\n",
       "  ''),\n",
       " ('Obstacles are necessary for success because in selling, as in all careers of importance, victory comes only after many struggles and countless defeats.',\n",
       "  'success'),\n",
       " ('My whole life was foretold to me. An old Romany gypsy read my fortune.',\n",
       "  'life'),\n",
       " ('To not have any hope is where things start to get really bleak. Things are possible. The impossible can be possible.',\n",
       "  'hope'),\n",
       " (\"I'd like to explore the more abstract side of people's minds, as opposed to the usual sitcom stuff. I don't want to do the typical sitcom-type humor. I'd want to do stuff like go bowling with pineapples.\",\n",
       "  'humor'),\n",
       " ('The terrifying and edible beauty of Art Nouveau architecture.', 'arts'),\n",
       " ('Femininity is not just lipstick, stylish hairdos, and trendy clothes. It is the divine adornment of humanity. It finds expression in your qualities of your capacity to love, your spirituality, delicacy, radiance, sensitivity, creativity, charm, graciousness, gentleness, dignity, and quiet strength.',\n",
       "  'love'),\n",
       " ('Sound character provides the power with which a person may ride the emergencies of life instead of being overwhelmed by them. Failure is... the highway to success.',\n",
       "  'success'),\n",
       " (\"Inner-life questions are the kind everyone asks, with or without benefit of God-talk: 'Does my life have meaning and purpose?' 'Do I have gifts that the world wants and needs?' 'Whom and what shall I serve?' 'Whom and what can I trust?' 'How can I rise above my fears?'\",\n",
       "  'life'),\n",
       " ('I hope to God that the inner strength that will vindicate my deeds will in good time spring forth from my own people. I have done as I had to on the prompting of my inner voice.',\n",
       "  'hope'),\n",
       " ('I tend to like dry humor.', 'humor'),\n",
       " ('Art is science made clear.', 'arts'),\n",
       " ('We have observed that, in society and the world in which we live, selfishness has increased more than love for others, and that men of good will must work, each with his own strengths and expertise, to ensure that love for others increases until it is equal and possibly exceeds love for oneself.',\n",
       "  'love'),\n",
       " ('I wish it need not have happened in my time,\"said Frodo.\"So do I,\"said Gandalf, \"and so do all who live to see such times. But that is not for them to decide. All we have to decide is what to do with the time that is given us.',\n",
       "  'death'),\n",
       " ('Success has a simple formula: do your best, and people may like it.',\n",
       "  'success'),\n",
       " ('Hope is such a bait, it covers any hook.', 'hope'),\n",
       " ('If life had a second edition, how I would correct the proofs.', 'life'),\n",
       " ('The president of General Motors was in a foul humor.', 'humor'),\n",
       " ('If you have only one smile in you give it to the people you love.', 'love'),\n",
       " ('Gossip is the art of saying nothing in a way that leaves practically nothing unsaid.',\n",
       "  'arts'),\n",
       " ('Success - keeping your mind awake and your desire asleep.', 'success'),\n",
       " ('All human wisdom is summed up in two words; wait and hope.', 'hope'),\n",
       " ('We live in a rainbow of chaos.', 'life'),\n",
       " ('People may think of Southern humor in terms of missing teeth and outhouse accidents, but the best of it is a rich vein running through the best of Southern literature.',\n",
       "  'humor'),\n",
       " ('The thing I loved the most - and still love the most about teaching - is that you can connect with an individual or a group, and see that individual or group exceed their limits.',\n",
       "  'love'),\n",
       " ('Photography is more than a medium for factual communication of ideas. It is a creative art.',\n",
       "  'arts'),\n",
       " ('Success is sweet and sweeter if long delayed and gotten through many struggles and defeats.',\n",
       "  'success'),\n",
       " ('Hope is not the conviction that something will turn out well but the certainty that something makes sense, regardless of how it turns out.',\n",
       "  'hope'),\n",
       " ('He who has a why to live can bear almost any how.', 'life'),\n",
       " (\"Sure, the comedians who swear or use scatological humor can get laughs, but they're uncomfortable laughs.\",\n",
       "  'humor'),\n",
       " ('Never trust anyone completely but God. Love people, but put your full trust only in God.',\n",
       "  'love'),\n",
       " ('Sculpture is the art of the intelligence.', 'arts'),\n",
       " ('The fear of death follows from the fear of life. A man who lives fully is prepared to die at any time.',\n",
       "  'life'),\n",
       " ('The fear of death follows from the fear of life. A man who lives fully is prepared to die at any time.',\n",
       "  'death'),\n",
       " ('You never really understand a person until you consider things from his point of view... Until you climb inside of his skin and walk around in it.',\n",
       "  ''),\n",
       " ('Success breeds success.', 'success'),\n",
       " ('Expecting something for nothing is the most popular form of hope.', 'hope'),\n",
       " ('What do we live for, if not to make life less difficult for each other?',\n",
       "  'life'),\n",
       " (\"The more women sit down and write something in a woman's voice for a woman, they more you'll see women in comedy because gender doesn't define sense of humor. Imagination and intelligence and perspective do.\",\n",
       "  'humor'),\n",
       " ('Love is understood, in a historical way, as one of the great human vocations - but its counterspell has always been infidelity. This terrible, terrible betrayal that can tear apart not only another person, not only oneself, but whole families.',\n",
       "  'love'),\n",
       " ('One does not need buildings, money, power, or status to practice the Art of Peace. Heaven is right where you are standing, and that is the place to train.',\n",
       "  'arts'),\n",
       " ('A lie can travel half way around the world while the truth is putting on its shoes.',\n",
       "  'truth'),\n",
       " ('Success is not measured by what you accomplish, but by the opposition you have encountered, and the courage with which you have maintained the struggle against overwhelming odds.',\n",
       "  'success'),\n",
       " ('It is only hope which is real, and reality is a bitterness and a deceit.',\n",
       "  'hope'),\n",
       " ('Life is a series of collisions with the future; it is not the sum of what we have been, but what we yearn to be.',\n",
       "  'life'),\n",
       " ('Michael Pollan is a champion. In all ways. A man of great integrity, humor, and common sense and kindness.',\n",
       "  'humor'),\n",
       " (\"I really love to ride my motorcycle. When I want to just get away and be by myself and clear my head, that's what I do.\",\n",
       "  'love'),\n",
       " ('Winners have the ability to step back from the canvas of their lives like an artist gaining perspective. They make their lives a work of art - an individual masterpiece.',\n",
       "  'arts'),\n",
       " ('Man needs his difficulties because they are necessary to enjoy success.',\n",
       "  'success'),\n",
       " ('Chance has never yet satisfied the hope of a suffering people.', 'hope'),\n",
       " ('There is no wealth but life.', 'life'),\n",
       " (\"I'll let you in on a secret: I can't stand Jay Ward. I hate being compared to Rocky and Bullwinkle. It's just a different style of humor.\",\n",
       "  'humor'),\n",
       " (\"Everyone gets dumped and everyone gets hurt and there's karma to love in regards to what you've done to other people.\",\n",
       "  'love'),\n",
       " (\"To array a man's will against his sickness is the supreme art of medicine.\",\n",
       "  'arts'),\n",
       " (\"Most people give up just when they're about to achieve success. They quit on the one yard line. They give up at the last minute of the game one foot from a winning touchdown.\",\n",
       "  'success'),\n",
       " ('Little progress can be made by merely attempting to repress what is evil. Our great hope lies in developing what is good.',\n",
       "  'hope'),\n",
       " ('The less routine the more life.', 'life'),\n",
       " ('I always had to genuinely like the actors I worked with and use my enthusiasm and vision to give them confidence to push their creativity and their humor.',\n",
       "  'humor'),\n",
       " ('I would love for the world to be happier.', 'love'),\n",
       " (\"And the first rude sketch that the world had seen was joy to his mighty heart, till the Devil whispered behind the leaves 'It's pretty, but is it Art?'\",\n",
       "  'arts'),\n",
       " ('The thermometer of success is merely the jealousy of the malcontents.',\n",
       "  'success'),\n",
       " ('The trouble with most people is that they think with their hopes or fears or wishes rather than with their minds.',\n",
       "  'hope'),\n",
       " ('Our entire life - consists ultimately in accepting ourselves as we are.',\n",
       "  'life'),\n",
       " (\"The whole ability to look at the complexity of race and any sort of associated -ism and still find humor, that's a very interesting space.\",\n",
       "  'humor'),\n",
       " ('Love the moment and the energy of that moment will spread beyond all boundaries.',\n",
       "  'inspiration'),\n",
       " ('Love the moment and the energy of that moment will spread beyond all boundaries.',\n",
       "  'love'),\n",
       " ('O, thou art fairer than the evening air clad in the beauty of a thousand stars.',\n",
       "  'arts'),\n",
       " ('Some day you will be old enough to start reading fairy tales again.', ''),\n",
       " ('Success is counted sweetest by those who never succeed.', 'success'),\n",
       " ('Beware how you take away hope from another human being.', 'hope'),\n",
       " ('Only a life lived for others is a life worthwhile.', 'life'),\n",
       " (\"Thomas, my 15-year-old, is effectively my editor, I've always trusted his voice, more than anybody, on the strip for years. He has one of those ears that's just tuned to the rhythm of humor, so if he says something's not funny, my stomach just hurts because I know he's right, and it's already been drawn.\",\n",
       "  'humor'),\n",
       " ('Love is trembling happiness.', 'love'),\n",
       " (\"A good mother remembers to serve fruit at breakfast, is always cheerful and never yells, manages not to project her own neuroses and inadequacies onto her children, is an active and beloved community volunteer. She remembers to make play dates, her children's clothes fit, she does art projects with them and enjoys all their games.\",\n",
       "  'arts'),\n",
       " ('Be not afraid of greatness. Some are born great, some achieve greatness, and others have greatness thrust upon them.',\n",
       "  ''),\n",
       " ('A champion is afraid of losing. Everyone else is afraid of winning.',\n",
       "  'success'),\n",
       " ('Hope springs eternal in the human breast: Man never is, but always to be blest.',\n",
       "  'hope'),\n",
       " (\"Remember when life's path is steep to keep your mind even.\", 'life'),\n",
       " (\"With Portlandia, I don't think our intention is always to find something funny. Sometimes the humor comes from taking something really seriously. We're okay with making somebody feel uncomfortable or uneasy.\",\n",
       "  'humor'),\n",
       " ('Love is about mutual respect, apart from attraction.', 'love'),\n",
       " ('Patience is the art of concealing your impatience.', 'arts'),\n",
       " ('I believe in Christianity as I believe that the sun has risen: not only because I see it, but because by it I see everything else.',\n",
       "  'faith'),\n",
       " ('I believe in Christianity as I believe that the sun has risen: not only because I see it, but because by it I see everything else.',\n",
       "  'religion'),\n",
       " ('Never tell the truth to people who are not worthy of it.', 'truth'),\n",
       " ('Do you wish to rise? Begin by descending. You plan a tower that will pierce the clouds? Lay first the foundation of humility.',\n",
       "  'success'),\n",
       " ('The work goes on, the cause endures, the hope still lives and the dreams shall never die.',\n",
       "  'hope'),\n",
       " ('If life were predictable it would cease to be life, and be without flavor.',\n",
       "  'life'),\n",
       " (\"The interesting thing about humor is that in humor, you - in logic, something is A or not A. In humor, it's both A and not A.\",\n",
       "  'humor'),\n",
       " (\"A person once asked me, in a provocative manner, if I approved of homosexuality. I replied with another question: 'Tell me: when God looks at a gay person, does he endorse the existence of this person with love, or reject and condemn this person?' We must always consider the person.\",\n",
       "  'love'),\n",
       " ('A great city, whose image dwells in the memory of man, is the type of some great idea. Rome represents conquest; Faith hovers over the towers of Jerusalem; and Athens embodies the pre-eminent quality of the antique world, Art.',\n",
       "  'arts'),\n",
       " ('Success is the child of drudgery and perseverance. It cannot be coaxed or bribed; pay the price and it is yours.',\n",
       "  'success'),\n",
       " ('When I was young, my ambition was to be one of the people who made a difference in this world. My hope is to leave the world a little better for having been there.',\n",
       "  'hope'),\n",
       " ('With the past, I have nothing to do; nor with the future. I live now.',\n",
       "  'life'),\n",
       " (\"There is humor in the darkest of moments - People who I have loved and passed away, and very high stake situations where you can't help but laugh. I think that's very human.\",\n",
       "  'humor'),\n",
       " ('If you love those who love you, what credit is that to you? For even sinners love those who love them. And if you do good to those who do good to you, what credit is that to you? For even sinners do the same.',\n",
       "  'love'),\n",
       " ('I am not a great cook, I am not a great artist, but I love art, and I love food, so I am the perfect traveller.',\n",
       "  'arts'),\n",
       " ('I honestly think it is better to be a failure at something you love than to be a success at something you hate.',\n",
       "  'success'),\n",
       " ('Never deprive someone of hope; it might be all they have.', 'hope'),\n",
       " ('The true object of all human life is play. Earth is a task garden; heaven is a playground.',\n",
       "  'life'),\n",
       " ('Humor starts like a wildfire, but then continues on, smoldering, smoldering for years.',\n",
       "  'humor'),\n",
       " (\"Mother's love is peace. It need not be acquired, it need not be deserved.\",\n",
       "  'love'),\n",
       " (\"I don't think about art when I'm working. I try to think about life.\",\n",
       "  'arts'),\n",
       " (\"The toughest thing about success is that you've got to keep on being a success.\",\n",
       "  'success'),\n",
       " ('Hope is the word which God has written on the brow of every man.', 'hope'),\n",
       " (\"Don't let life discourage you; everyone who got where he is had to begin where he was.\",\n",
       "  'life'),\n",
       " ('Humor is my default mode.', 'humor'),\n",
       " (\"Life is difficult for everyone; everyone has bad days. Everyone has trouble in their life, because it doesn't matter how rich you are: Sickness and trouble and worry and love, these things will mess with you at every level of life.\",\n",
       "  'life'),\n",
       " (\"Life is difficult for everyone; everyone has bad days. Everyone has trouble in their life, because it doesn't matter how rich you are: Sickness and trouble and worry and love, these things will mess with you at every level of life.\",\n",
       "  'love'),\n",
       " ('Simplicity is the final achievement. After one has played a vast quantity of notes and more notes, it is simplicity that emerges as the crowning reward of art.',\n",
       "  'arts'),\n",
       " (\"A person's a person, no matter how small.\", 'inspiration'),\n",
       " (\"Success is like reaching an important birthday and finding you're exactly the same.\",\n",
       "  'success'),\n",
       " ('Hope is a risk that must be run.', 'hope'),\n",
       " ('Everything in life is luck.', 'life'),\n",
       " ('President Ford used humor a great deal.', 'humor'),\n",
       " ('A man can be himself only so long as he is alone, and if he does not love solitude, he will not love freedom, for it is only when he is alone that he is really free.',\n",
       "  'love'),\n",
       " ('We can learn the art of fierce compassion - redefining strength, deconstructing isolation and renewing a sense of community, practicing letting go of rigid us-vs.-them thinking - while cultivating power and clarity in response to difficult situations.',\n",
       "  'arts'),\n",
       " (\"Once you agree upon the price you and your family must pay for success, it enables you to ignore the minor hurts, the opponent's pressure, and the temporary failures.\",\n",
       "  'success'),\n",
       " ('Hope is the only bee that makes honey without flowers.', 'hope'),\n",
       " (\"It's weird doing red carpets; it's uncomfortable. But you can have a sense of humor about it.\",\n",
       "  'humor'),\n",
       " ('There is a kind of serenity in love which is almost a paradise.', 'love'),\n",
       " ('Art cannot be modern. Art is primordially eternal.', 'arts'),\n",
       " ('The measure of success is not whether you have a tough problem to deal with, but whether it is the same problem you had last year.',\n",
       "  'success'),\n",
       " ('Hope is a good breakfast, but it is a bad supper.', 'hope'),\n",
       " ('Life appears to me too short to be spent in nursing animosity, or registering wrongs.',\n",
       "  'life'),\n",
       " (\"I remember when humor was gentle pokes. I used to call it 'arm around the shoulder' humor. Now they go for the jugular and they take no prisoners. It's mean, mean stuff.\",\n",
       "  'humor'),\n",
       " ('Love has its own instinct, finding the way to the heart, as the feeblest insect finds the way to its flower, with a will which nothing can dismay nor turn aside.',\n",
       "  'love'),\n",
       " (\"I'm free. I just do what I want, say what I want, say how I feel, and I don't try to hurt nobody. I just try to make sure that I don't compromise my art in any kind of way, and I think people respect that.\",\n",
       "  'arts'),\n",
       " (\"What you're supposed to do when you don't like a thing is change it. If you can't change it, change the way you think about it. Don't complain.\",\n",
       "  'inspiration'),\n",
       " (\"It's so hard to forget pain, but it's even harder to remember sweetness. We have no scar to show for happiness. We learn so little from peace.\",\n",
       "  'happiness'),\n",
       " ('In this world it is not what we take up, but what we give up, that makes us rich.',\n",
       "  'success'),\n",
       " ('All hope abandon, ye who enter here!', 'hope'),\n",
       " ('A chain is no stronger than its weakest link, and life is after all a chain.',\n",
       "  'life'),\n",
       " ('Any attempts at humor immediately after September 11th were deemed tasteless.',\n",
       "  'humor'),\n",
       " ('Things are beautiful if you love them.', 'love'),\n",
       " ('A compromise is the art of dividing a cake in such a way that everyone believes he has the biggest piece.',\n",
       "  'arts'),\n",
       " (\"I finally understood what true love meant...love meant that you care for another person's happiness more than your own, no matter how painful the choices you face might be.\",\n",
       "  ''),\n",
       " ('The truth is rarely pure and never simple.', 'truth'),\n",
       " ('Success is that old ABC - ability, breaks, and courage.', 'success'),\n",
       " (\"Hope is tomorrow's veneer over today's disappointment.\", 'hope'),\n",
       " (\"Life is like a trumpet - if you don't put anything into it, you don't get anything out of it.\",\n",
       "  'life'),\n",
       " ('Advertisers also know that humor can help bond us to their product.',\n",
       "  'humor'),\n",
       " (\"I've always traveled with a picture of my daughter from 1989, her kindergarten school picture, that has 'I love you, Daddy' written on it. She's always made fun of me because I never changed that picture out. It's like my resistance to her getting older. It was the first thing she'd ever written to me and it means the world to me.\",\n",
       "  'love'),\n",
       " (\"I'm inspired by artists and musicians. There are so many wonderful and talented people in the world. I love discovering new music, new writers, or new art.\",\n",
       "  'arts'),\n",
       " ('A day without laughter is a day wasted.', 'philosophy'),\n",
       " ('Everybody is a genius. But if you judge a fish by its ability to climb a tree, it will live its whole life believing that it is stupid.',\n",
       "  ''),\n",
       " (\"Success isn't everything but it makes a man stand straight.\", 'success'),\n",
       " ('Man needs, for his happiness, not only the enjoyment of this or that, but hope and enterprise and change.',\n",
       "  'hope'),\n",
       " ('I want to live my life, not record it.', 'life'),\n",
       " ('When we can find some humor in our upsets, they no longer seem as large or as important as they once did.',\n",
       "  'humor'),\n",
       " ('The love of what you do, combined with your belief in what you do, will not determine your success. It will determine how hard you will work and how dedicated you will be to achieving it. Success just shows up from there.',\n",
       "  'love'),\n",
       " ('The love of what you do, combined with your belief in what you do, will not determine your success. It will determine how hard you will work and how dedicated you will be to achieving it. Success just shows up from there.',\n",
       "  'success'),\n",
       " ('The walls between art and engineering exist only in our minds.', 'arts'),\n",
       " ('The difference between a successful person and others is not a lack of strength, not a lack of knowledge, but rather a lack of will.',\n",
       "  'success'),\n",
       " ('Hope is a talent like any other.', 'hope'),\n",
       " ('My formula for living is quite simple. I get up in the morning and I go to bed at night. In between, I occupy myself as best I can.',\n",
       "  'life'),\n",
       " ('Whether planned or not, humor takes our mind off of our troubles.',\n",
       "  'humor'),\n",
       " (\"Anxiety is love's greatest killer. It makes others feel as you might when a drowning man holds on to you. You want to save him, but you know he will strangle you with his panic.\",\n",
       "  'love'),\n",
       " ('The temple of art is built in words.', 'arts'),\n",
       " ('The real secret of success is enthusiasm.', 'success'),\n",
       " ('My great hope is to laugh as much as I cry; to get my work done and try to love somebody and have the courage to accept the love in return.',\n",
       "  'hope'),\n",
       " ('My great hope is to laugh as much as I cry; to get my work done and try to love somebody and have the courage to accept the love in return.',\n",
       "  'love'),\n",
       " ('I still find each day too short for all the thoughts I want to think, all the walks I want to take, all the books I want to read, and all the friends I want to see.',\n",
       "  'life'),\n",
       " (\"I'm just very amused by five-year-old humor.\", 'humor'),\n",
       " (\"Love bravely, live bravely, be courageous, there's really nothing to lose. There's no wrong you can't make right again, so be kinder to yourself, you know, have fun, take chances. There's no bounds.\",\n",
       "  'love'),\n",
       " ('The art of progress is to preserve order amid change and to preserve change amid order.',\n",
       "  'arts'),\n",
       " ('The ladder of success is best climbed by stepping on the rungs of opportunity.',\n",
       "  'success'),\n",
       " (\"What gives me the most hope every day is God's grace; knowing that his grace is going to give me the strength for whatever I face, knowing that nothing is a surprise to God.\",\n",
       "  'hope'),\n",
       " (\"I don't believe people are looking for the meaning of life as much as they are looking for the experience of being alive.\",\n",
       "  'life'),\n",
       " (\"I met Elton John at an Interview dinner, and we just sort of became friends. He's got such a wicked sense of humor.\",\n",
       "  'humor'),\n",
       " ('I really love baseball. The guys and the game, and I love the challenge of describing things. The only thing I hate - and I know you have to be realistic and pay the bills in this life - is the loneliness on the road.',\n",
       "  'life'),\n",
       " ('I really love baseball. The guys and the game, and I love the challenge of describing things. The only thing I hate - and I know you have to be realistic and pay the bills in this life - is the loneliness on the road.',\n",
       "  'love'),\n",
       " (\"The ability to make somebody feel something: that's art. However you look at it, whether you're an author, a painter, a singer, a rapper, a spoken-word artist - art.\",\n",
       "  'arts'),\n",
       " ('Success is a science; if you have the conditions, you get the result.',\n",
       "  'success'),\n",
       " ('A man sooner or later discovers that he is the master-gardener of his soul, the director of his life.',\n",
       "  'life'),\n",
       " ('There is also this benefit in brag, that the speaker is unconsciously expressing his own ideal. Humor him by all means, draw it all out, and hold him to it.',\n",
       "  'humor'),\n",
       " ('I can honestly say I love getting older. Then again, I never put my glasses on before looking in the mirror.',\n",
       "  'love'),\n",
       " (\"As a longtime fan of talk radio, I'm very worried about the low opinion that conservative hosts and callers have of the American artist. Art is portrayed as a scam, a rip-off and snow job pushed by snobbish elites.\",\n",
       "  'arts'),\n",
       " ('Defeat is not the worst of failures. Not to have tried is the true failure.',\n",
       "  'success'),\n",
       " ('Hope is patience with the lamp lit.', 'hope'),\n",
       " ('Doing what you love is the cornerstone of having abundance in your life.',\n",
       "  'life'),\n",
       " (\"Sites like Funny or Die and College Humor are great, but I'd say it's appealing to 80% men and 20% women.\",\n",
       "  'humor'),\n",
       " ('Loyalty and devotion lead to bravery. Bravery leads to the spirit of self-sacrifice. The spirit of self-sacrifice creates trust in the power of love.',\n",
       "  'love'),\n",
       " (\"I've constantly tried new things, even as a child, and have always been obsessed with pink. Now I'm just a little more ladylike and fearless. You should never feel afraid to become a piece of art. It's exhilarating.\",\n",
       "  'arts'),\n",
       " ('The truth.\"Dumbledore sighed. \"It is a beautiful and terrible thing, and should therefore be treated with great caution.',\n",
       "  'truth'),\n",
       " ('One secret of success in life is for a man to be ready for his opportunity when it comes.',\n",
       "  'success'),\n",
       " ('Hope in reality is the worst of all evils because it prolongs the torments of man.',\n",
       "  'hope'),\n",
       " ('Life is 10% what happens to you and 90% how you react to it.', 'life'),\n",
       " (\"Edward Norton and I have known each other awhile. I just think he's the real deal, supremely talented and smart. He's got a great sense of humor.\",\n",
       "  'humor'),\n",
       " (\"Winners embrace hard work. They love the discipline of it, the trade-off they're making to win. Losers, on the other hand, see it as punishment. And that's the difference.\",\n",
       "  'love'),\n",
       " (\"In any art, you don't know in advance what you want to say - it's revealed to you as you say it. That's the difference between art and illustration.\",\n",
       "  'arts'),\n",
       " ('In all our deeds, the proper value and respect for time determines success or failure.',\n",
       "  'success'),\n",
       " ('Learn from yesterday, live for today, hope for tomorrow. The important thing is not to stop questioning.',\n",
       "  'hope'),\n",
       " (\"Do you realize that you can't play the game of life with sweaty palms?\",\n",
       "  'life'),\n",
       " ('In looking for humor, keep in mind this guideline: Sometimes it takes a little time to see the humor in your upsets; you may not find something to laugh about immediately.',\n",
       "  'humor'),\n",
       " ('I believe that unarmed truth and unconditional love will have the final word in reality. This is why right, temporarily defeated, is stronger than evil triumphant.',\n",
       "  'love'),\n",
       " ('Music happens to be an art form that transcends language.', 'arts'),\n",
       " ('We are what we pretend to be, so we must be careful about what we pretend to be.',\n",
       "  'life'),\n",
       " ('We are what we pretend to be, so we must be careful about what we pretend to be.',\n",
       "  'inspiration'),\n",
       " ('Have regular hours for work and play; make each day both useful and pleasant, and prove that you understand the worth of time by employing it well. Then youth will be delightful, old age will bring few regrets, and life will become a beautiful success.',\n",
       "  'success'),\n",
       " ('Hope is being able to see that there is light despite all of the darkness.',\n",
       "  'hope'),\n",
       " (\"Books, I don't know what you see in them. I can understand a person reading them, but I can't for the life of me see why people have to write them.\",\n",
       "  'life'),\n",
       " ('Since the goal of my programs is to show audiences how humor can both help them heal as well as deal with not-so-funny stuff, I decided to discuss the events of the previous week, the pain all of us were feeling, and how humor and some laughter might be beneficial.',\n",
       "  'humor'),\n",
       " ('Not necessity, not desire - no, the love of power is the demon of men. Let them have everything - health, food, a place to live, entertainment - they are and remain unhappy and low-spirited: for the demon waits and waits and will be satisfied.',\n",
       "  'love'),\n",
       " (\"In our life there is a single color, as on an artist's palette, which provides the meaning of life and art. It is the color of love.\",\n",
       "  'arts'),\n",
       " (\"In our life there is a single color, as on an artist's palette, which provides the meaning of life and art. It is the color of love.\",\n",
       "  'love'),\n",
       " ('Always remember that striving and struggle precede success, even in the dictionary.',\n",
       "  'success'),\n",
       " ('We must accept finite disappointment, but never lose infinite hope.',\n",
       "  'hope'),\n",
       " (\"For me, no ideological or political conviction would justify the sacrifice of a human life. For me, the value of life is absolute, with no concessions. It's not negotiable.\",\n",
       "  'life'),\n",
       " ('Humor and laughter - not necessarily derogatory derision - are my pet tools. This may come from my general philosophy of never taking the world too seriously - for fear of dying of boredom.',\n",
       "  'humor'),\n",
       " (\"To love yourself right now, just as you are, is to give yourself heaven. Don't wait until you die. If you wait, you die now. If you love, you live now.\",\n",
       "  'love'),\n",
       " ('Life is the art of drawing sufficient conclusions from insufficient premises.',\n",
       "  'arts'),\n",
       " ('Life is the art of drawing sufficient conclusions from insufficient premises.',\n",
       "  'life'),\n",
       " (\"I have no problem with the people who work hard to get success. But I think people are very jealous about success. I work very hard and they don't appreciate that.\",\n",
       "  'success'),\n",
       " ('Hope is like the sun, which, as we journey toward it, casts the shadow of our burden behind us.',\n",
       "  'hope'),\n",
       " (\"With all of you men out there who think that having a thousand different ladies is pretty cool, I have learned in my life I've found out that having one woman a thousand different times is much more satisfying.\",\n",
       "  'life'),\n",
       " (\"Since the very beginning, Emeril's had a sense of humor about me calling him names and poking fun at him.\",\n",
       "  'humor'),\n",
       " (\"Do what you love; you'll be better at it. It sounds pretty simple, but you'd be surprised how many people don't get this one right away.\",\n",
       "  'love'),\n",
       " ('We are all hungry and thirsty for concrete images. Abstract art will have been good for one thing: to restore its exact virginity to figurative art.',\n",
       "  'arts'),\n",
       " (\"Be careful about reading health books. Some fine day you'll die of a misprint.\",\n",
       "  'humor'),\n",
       " (\"Be careful about reading health books. Some fine day you'll die of a misprint.\",\n",
       "  'books'),\n",
       " (\"You can be discouraged by failure, or you can learn from it. So go ahead and make mistakes, make all you can. Because, remember that's where you'll find success - on the far side of failure.\",\n",
       "  'success'),\n",
       " ('We have always held to the hope, the belief, the conviction that there is a better life, a better world, beyond the horizon.',\n",
       "  'hope'),\n",
       " ('We have always held to the hope, the belief, the conviction that there is a better life, a better world, beyond the horizon.',\n",
       "  'life'),\n",
       " (\"Well, my life hasn't really changed... I've been homeschooled for a long time. So that helped a lot because of shooting and stuff. But, I have had friends who I've been friends with for years and years and they are my true friends, you know?\",\n",
       "  'life'),\n",
       " ('From sixteen to twenty, all women, kept in humor by their hopes and by their attractions, appear to be good-natured.',\n",
       "  'humor'),\n",
       " ('Unable are the loved to die, for love is immortality.', 'love'),\n",
       " ('Life is not an exact science, it is an art.', 'arts'),\n",
       " ('Life is not an exact science, it is an art.', 'life'),\n",
       " ('It’s no use going back to yesterday, because I was a different person then.',\n",
       "  'humor'),\n",
       " ('It’s no use going back to yesterday, because I was a different person then.',\n",
       "  'inspiration'),\n",
       " (\"As you walk in God's divine wisdom, you will surely begin to see a greater measure of victory and good success in your life.\",\n",
       "  'success'),\n",
       " (\"You may not always have a comfortable life and you will not always be able to solve all of the world's problems at once but don't ever underestimate the importance you can have because history has shown us that courage can be contagious and hope can take on a life of its own.\",\n",
       "  'hope'),\n",
       " (\"You may not always have a comfortable life and you will not always be able to solve all of the world's problems at once but don't ever underestimate the importance you can have because history has shown us that courage can be contagious and hope can take on a life of its own.\",\n",
       "  'life'),\n",
       " ('Oh, man, if in real life I was as cool and suave as Coach Taylor and had all the answers, things would be easier.',\n",
       "  'life'),\n",
       " ('At sunrise everything is luminous but not clear. It is those we live with and love and should know who elude us. You can love completely without complete understanding.',\n",
       "  'love'),\n",
       " ('The art of a people is a true mirror to their minds.', 'arts'),\n",
       " ('The books that the world calls immoral are books that show the world its own shame.',\n",
       "  'books'),\n",
       " ('Growing up in a group home, and with an undiagnosed learning disability to boot, the odds of success were not on my side. But when I joined the high school football team, I learned the value of discipline, focus, persistence, and teamwork - all skills that have proven vital to my career as a C.E.O. and social entrepreneur.',\n",
       "  'success'),\n",
       " ('The human heart has hidden treasures, In secret kept, in silence sealed; The thoughts, the hopes, the dreams, the pleasures, Whose charms were broken if revealed.',\n",
       "  'hope'),\n",
       " (\"We're so terrified of death in Western culture that we have to make up a myth of an afterlife. I think there's something to be said for living your life very mindful of the fact that you're going to die because I think you carry yourself differently. It doesn't have to be this big, negative bummer.\",\n",
       "  'life'),\n",
       " (\"If I had to describe my sense of humor, I would say it's contemporary wit, you know what I'm saying?\",\n",
       "  'humor'),\n",
       " ('I love fast cars... and to go too fast in them.', 'love'),\n",
       " ('Film will only became an art when its materials are as inexpensive as pencil and paper.',\n",
       "  'arts'),\n",
       " ...]"
      ]
     },
     "execution_count": 23,
     "metadata": {},
     "output_type": "execute_result"
    }
   ],
   "source": [
    "main_set = [(the_dict['Quote'],the_dict['Category']) for the_dict in quotes_data]\n",
    "print(len(main_set))\n",
    "main_set"
   ]
  },
  {
   "cell_type": "code",
   "execution_count": 34,
   "id": "d8e41610",
   "metadata": {},
   "outputs": [
    {
     "data": {
      "text/plain": [
       "['',\n",
       " 'friendship',\n",
       " 'arts',\n",
       " 'life',\n",
       " 'happiness',\n",
       " 'knowledge',\n",
       " 'mind',\n",
       " 'science',\n",
       " 'quotes',\n",
       " 'faith',\n",
       " 'romance',\n",
       " 'philosophy',\n",
       " 'poetry',\n",
       " 'love',\n",
       " 'soul',\n",
       " 'motivation',\n",
       " 'purpose',\n",
       " 'hope',\n",
       " 'books',\n",
       " 'education',\n",
       " 'religion',\n",
       " 'relationship',\n",
       " 'death',\n",
       " 'success',\n",
       " 'truth',\n",
       " 'god',\n",
       " 'funny',\n",
       " 'wisdom',\n",
       " 'inspiration',\n",
       " 'positive',\n",
       " 'humor',\n",
       " 'writing']"
      ]
     },
     "execution_count": 34,
     "metadata": {},
     "output_type": "execute_result"
    }
   ],
   "source": [
    "all_labels = list({tup[1] for tup in main_set})\n",
    "all_labels"
   ]
  },
  {
   "cell_type": "code",
   "execution_count": 126,
   "id": "793c93e4",
   "metadata": {},
   "outputs": [
    {
     "data": {
      "text/plain": [
       "array(['', 'arts', 'books', 'death', 'education', 'faith', 'friendship',\n",
       "       'funny', 'god', 'happiness', 'hope', 'humor', 'inspiration',\n",
       "       'knowledge', 'life', 'love', 'mind', 'motivation', 'philosophy',\n",
       "       'poetry', 'positive', 'purpose', 'quotes', 'relationship',\n",
       "       'religion', 'romance', 'science', 'soul', 'success', 'truth',\n",
       "       'wisdom', 'writing'], dtype='<U12')"
      ]
     },
     "execution_count": 126,
     "metadata": {},
     "output_type": "execute_result"
    }
   ],
   "source": [
    "label_encoder = LabelEncoder()\n",
    "label_encoder.fit(all_labels)\n",
    "label_encoder.classes_"
   ]
  },
  {
   "cell_type": "code",
   "execution_count": 37,
   "id": "ca5b40e2",
   "metadata": {},
   "outputs": [],
   "source": [
    "def proc_text(text):\n",
    "    \"\"\"simple processing of a text\"\"\"\n",
    "    lowered = text.lower()\n",
    "    tokenized = ' '.join(re.findall(r\"[A-z0-9]+[A-z0-9]\",lowered))\n",
    "    return tokenized"
   ]
  },
  {
   "cell_type": "code",
   "execution_count": 42,
   "id": "c92c72dc",
   "metadata": {},
   "outputs": [
    {
     "name": "stdout",
     "output_type": "stream",
     "text": [
      "43551\n",
      "4840\n"
     ]
    }
   ],
   "source": [
    "Train, Test = train_test_split(main_set,train_size = 0.9,stratify=[item[1] for item in main_set])\n",
    "print(len(Train))\n",
    "print(len(Test))"
   ]
  },
  {
   "cell_type": "code",
   "execution_count": 53,
   "id": "bac7e031",
   "metadata": {},
   "outputs": [],
   "source": [
    "def train_tokens(main_train_dataset):\n",
    "    for row in range(len(main_train_dataset)):\n",
    "        processed = proc_text(main_train_dataset[row])\n",
    "        yield processed"
   ]
  },
  {
   "cell_type": "code",
   "execution_count": 54,
   "id": "7dfb7cda",
   "metadata": {},
   "outputs": [
    {
     "data": {
      "text/plain": [
       "<generator object train_tokens at 0x716c9bde0f20>"
      ]
     },
     "execution_count": 54,
     "metadata": {},
     "output_type": "execute_result"
    }
   ],
   "source": [
    "for_training_tokens = train_tokens([item[0] for item in Train])\n",
    "for_training_tokens"
   ]
  },
  {
   "cell_type": "code",
   "execution_count": 120,
   "id": "27fe7a85",
   "metadata": {},
   "outputs": [
    {
     "data": {
      "text/plain": [
       "'far away our dreams have nothing to do with what we do the wind carries the night and passes on aimless'"
      ]
     },
     "execution_count": 120,
     "metadata": {},
     "output_type": "execute_result"
    }
   ],
   "source": [
    "next(iter(for_training_tokens))"
   ]
  },
  {
   "cell_type": "code",
   "execution_count": 121,
   "id": "12da9a66",
   "metadata": {},
   "outputs": [],
   "source": [
    "tokenizer = Tokenizer(model = tokenizers.models.WordLevel(unk_token='<unk>'))\n",
    "tokenizer.pre_tokenizer = tokenizers.pre_tokenizers.Whitespace()\n",
    "tok_trainer = tokenizers.trainers.WordLevelTrainer(vocab_size = 500_000, special_tokens = ['<pad>','<unk>'])\n",
    "tokenizer.enable_padding(direction='right', pad_id = 0, pad_token='<pad>')\n",
    "tokenizer.train_from_iterator(for_training_tokens, trainer=tok_trainer)\n",
    "tokenizer.save('./tok_voc')"
   ]
  },
  {
   "cell_type": "code",
   "execution_count": 187,
   "id": "b6574e2b",
   "metadata": {},
   "outputs": [],
   "source": [
    "class TextDataset(Dataset):\n",
    "    def __init__(self,texts,tok_obj,processing,max_len,label_encoder):\n",
    "        self.texts = texts\n",
    "        self.tokenizer = PreTrainedTokenizerFast(tokenizer_object = tok_obj)\n",
    "        self.processing = processing\n",
    "        self.max_length = max_len\n",
    "        self.label_enc = label_encoder\n",
    "    \n",
    "    def __len__(self):\n",
    "        return len(self.texts)\n",
    "    \n",
    "    def __getitem__(self, indx):\n",
    "        text,label = self.processing(self.texts[indx][0]),torch.tensor(self.label_enc.transform([self.texts[indx][1]]).item())\n",
    "        tokenized_text = self.tokenizer(\n",
    "            text,\n",
    "            max_length = self.max_length,\n",
    "            padding = 'max_length',\n",
    "            return_tensors='pt',\n",
    "            truncation=True\n",
    "        )['input_ids']\n",
    "        return tokenized_text.squeeze(dim = 0),label"
   ]
  },
  {
   "cell_type": "code",
   "execution_count": 188,
   "id": "1e2209c2",
   "metadata": {},
   "outputs": [],
   "source": [
    "cat_torch_train = TextDataset(Train, tokenizer, proc_text, 30, label_encoder)\n",
    "cat_torch_test = TextDataset(Test, tokenizer, proc_text, 30, label_encoder)"
   ]
  },
  {
   "cell_type": "code",
   "execution_count": 191,
   "id": "9dc58617",
   "metadata": {},
   "outputs": [
    {
     "data": {
      "text/plain": [
       "(tensor([   2,  739,    1,  220, 6101,    4,    1,    8, 9465,   20,   17,  114,\n",
       "            8,  192,    5,   69,   72,   38,   75,   11,   37,   46,   57,  415,\n",
       "          147,   75, 1288,    5,  184,  146]),\n",
       " tensor(14))"
      ]
     },
     "execution_count": 191,
     "metadata": {},
     "output_type": "execute_result"
    }
   ],
   "source": [
    "cat_torch_test[0]"
   ]
  },
  {
   "cell_type": "code",
   "execution_count": 196,
   "id": "dbd1b81f",
   "metadata": {},
   "outputs": [
    {
     "name": "stdout",
     "output_type": "stream",
     "text": [
      "43551\n",
      "4840\n"
     ]
    }
   ],
   "source": [
    "print(len(cat_torch_train))\n",
    "print(len(cat_torch_test))"
   ]
  },
  {
   "cell_type": "code",
   "execution_count": 205,
   "id": "b379ef46",
   "metadata": {},
   "outputs": [],
   "source": [
    "class ClassificationModel(nn.Module):\n",
    "    def __init__(self, vocab_size, embed_dim, hidden_size, bi = True, bf = True):\n",
    "        super().__init__() #initialization of super class\n",
    "        self.embed = nn.Embedding(vocab_size,embed_dim,padding_idx=0)\n",
    "        self.gru = nn.GRU(input_size = embed_dim, hidden_size = hidden_size, bidirectional = bi, batch_first=bf, num_layers=2, dropout=0.5)\n",
    "        self.linear = nn.Linear(600,len(all_labels))\n",
    "\n",
    "    def forward(self,x):\n",
    "        y = self.embed(x)\n",
    "        _,y = self.gru(y)\n",
    "        y = y.transpose(0,1)\n",
    "        y = y.reshape(y.shape[0],-1)\n",
    "        y = self.linear(y)\n",
    "        return y"
   ]
  },
  {
   "cell_type": "code",
   "execution_count": 211,
   "id": "248393c3",
   "metadata": {},
   "outputs": [
    {
     "data": {
      "text/plain": [
       "ClassificationModel(\n",
       "  (embed): Embedding(32370, 150, padding_idx=0)\n",
       "  (gru): GRU(150, 150, num_layers=2, batch_first=True, dropout=0.5, bidirectional=True)\n",
       "  (linear): Linear(in_features=600, out_features=32, bias=True)\n",
       ")"
      ]
     },
     "execution_count": 211,
     "metadata": {},
     "output_type": "execute_result"
    }
   ],
   "source": [
    "my_model = ClassificationModel(cat_torch_test.tokenizer.vocab_size, embed_dim=150, hidden_size=150)\n",
    "my_model"
   ]
  },
  {
   "cell_type": "code",
   "execution_count": 212,
   "id": "cac7a80c",
   "metadata": {},
   "outputs": [],
   "source": [
    "epoch = 10\n",
    "batch_size = 46\n",
    "lr = 0.0005\n",
    "loader = DataLoader(dataset = cat_torch_train, shuffle = True, batch_size = batch_size)\n",
    "optimizer = torch.optim.Adam(my_model.parameters(),lr = lr,betas=(0.9,0.989))\n",
    "criterion = nn.CrossEntropyLoss(reduction = 'mean',label_smoothing=0.0001)"
   ]
  },
  {
   "cell_type": "code",
   "execution_count": 213,
   "id": "fe847ed1",
   "metadata": {},
   "outputs": [],
   "source": [
    "def train_model(model,train_loader,epoch,main_optim,main_loss,print_every = 1):\n",
    "    try:\n",
    "        train_losses = []\n",
    "        for ep in range(epoch):\n",
    "            model.train()\n",
    "            epoch_losses = []\n",
    "            for X,y in tqdm(train_loader,desc=f'Going through the loader on epoch #{ep+1}'):\n",
    "                main_optim.zero_grad()\n",
    "                y_pred = model(X)\n",
    "                the_loss = main_loss(y_pred,y)\n",
    "                the_loss.backward()\n",
    "                main_optim.step()\n",
    "                epoch_losses.append(the_loss.item())\n",
    "            train_losses.append(round(np.array(epoch_losses).mean().item(),5))\n",
    "            if ep%print_every == 0:\n",
    "                print(f'Epoch #{ep+1} | Train loss: {train_losses[-1]}',end = '\\n\\n')\n",
    "        return train_losses\n",
    "    except KeyboardInterrupt:\n",
    "        return train_losses"
   ]
  },
  {
   "cell_type": "code",
   "execution_count": 223,
   "id": "552de098",
   "metadata": {},
   "outputs": [
    {
     "name": "stderr",
     "output_type": "stream",
     "text": [
      "Going through the loader on epoch #1: 100%|██████████| 947/947 [01:24<00:00, 11.20it/s]\n"
     ]
    },
    {
     "name": "stdout",
     "output_type": "stream",
     "text": [
      "Epoch #1 | Train loss: 2.32054\n",
      "\n"
     ]
    },
    {
     "name": "stderr",
     "output_type": "stream",
     "text": [
      "Going through the loader on epoch #2: 100%|██████████| 947/947 [01:31<00:00, 10.30it/s]\n"
     ]
    },
    {
     "name": "stdout",
     "output_type": "stream",
     "text": [
      "Epoch #2 | Train loss: 2.12688\n",
      "\n"
     ]
    },
    {
     "name": "stderr",
     "output_type": "stream",
     "text": [
      "Going through the loader on epoch #3: 100%|██████████| 947/947 [01:56<00:00,  8.13it/s]\n"
     ]
    },
    {
     "name": "stdout",
     "output_type": "stream",
     "text": [
      "Epoch #3 | Train loss: 1.97238\n",
      "\n"
     ]
    },
    {
     "name": "stderr",
     "output_type": "stream",
     "text": [
      "Going through the loader on epoch #4: 100%|██████████| 947/947 [02:06<00:00,  7.51it/s]\n"
     ]
    },
    {
     "name": "stdout",
     "output_type": "stream",
     "text": [
      "Epoch #4 | Train loss: 1.82647\n",
      "\n"
     ]
    },
    {
     "name": "stderr",
     "output_type": "stream",
     "text": [
      "Going through the loader on epoch #5: 100%|██████████| 947/947 [02:09<00:00,  7.34it/s]\n"
     ]
    },
    {
     "name": "stdout",
     "output_type": "stream",
     "text": [
      "Epoch #5 | Train loss: 1.68336\n",
      "\n"
     ]
    },
    {
     "name": "stderr",
     "output_type": "stream",
     "text": [
      "Going through the loader on epoch #6: 100%|██████████| 947/947 [02:11<00:00,  7.22it/s]\n"
     ]
    },
    {
     "name": "stdout",
     "output_type": "stream",
     "text": [
      "Epoch #6 | Train loss: 1.54183\n",
      "\n"
     ]
    },
    {
     "name": "stderr",
     "output_type": "stream",
     "text": [
      "Going through the loader on epoch #7: 100%|██████████| 947/947 [02:12<00:00,  7.14it/s]\n"
     ]
    },
    {
     "name": "stdout",
     "output_type": "stream",
     "text": [
      "Epoch #7 | Train loss: 1.40931\n",
      "\n"
     ]
    },
    {
     "name": "stderr",
     "output_type": "stream",
     "text": [
      "Going through the loader on epoch #8: 100%|██████████| 947/947 [02:13<00:00,  7.10it/s]\n"
     ]
    },
    {
     "name": "stdout",
     "output_type": "stream",
     "text": [
      "Epoch #8 | Train loss: 1.28759\n",
      "\n"
     ]
    },
    {
     "name": "stderr",
     "output_type": "stream",
     "text": [
      "Going through the loader on epoch #9: 100%|██████████| 947/947 [02:07<00:00,  7.42it/s]\n"
     ]
    },
    {
     "name": "stdout",
     "output_type": "stream",
     "text": [
      "Epoch #9 | Train loss: 1.18257\n",
      "\n"
     ]
    },
    {
     "name": "stderr",
     "output_type": "stream",
     "text": [
      "Going through the loader on epoch #10: 100%|██████████| 947/947 [01:30<00:00, 10.51it/s]"
     ]
    },
    {
     "name": "stdout",
     "output_type": "stream",
     "text": [
      "Epoch #10 | Train loss: 1.08743\n",
      "\n"
     ]
    },
    {
     "name": "stderr",
     "output_type": "stream",
     "text": [
      "\n"
     ]
    },
    {
     "data": {
      "text/plain": [
       "[2.32054,\n",
       " 2.12688,\n",
       " 1.97238,\n",
       " 1.82647,\n",
       " 1.68336,\n",
       " 1.54183,\n",
       " 1.40931,\n",
       " 1.28759,\n",
       " 1.18257,\n",
       " 1.08743]"
      ]
     },
     "execution_count": 223,
     "metadata": {},
     "output_type": "execute_result"
    }
   ],
   "source": [
    "train_model(\n",
    "    model = my_model,\n",
    "    train_loader = loader,\n",
    "    epoch = epoch,\n",
    "    main_optim = optimizer,\n",
    "    main_loss = criterion,\n",
    "    print_every = 1\n",
    ")"
   ]
  },
  {
   "cell_type": "code",
   "execution_count": 224,
   "id": "6b38c716",
   "metadata": {},
   "outputs": [],
   "source": [
    "@torch.no_grad()\n",
    "def get_preds(model, Val):\n",
    "    model.eval()\n",
    "    the_loader = DataLoader(dataset = Val, shuffle = False, batch_size = 1)\n",
    "    y_true_list = []\n",
    "    y_pred_list = []\n",
    "    for X,y in the_loader:\n",
    "        probs = model(X).softmax(dim = 1)\n",
    "        distribution = Categorical(probs)\n",
    "        y_pred = distribution.sample()\n",
    "        y_true_list.append(y.item())\n",
    "        y_pred_list.append(y_pred.item())\n",
    "    return np.array(y_true_list),np.array(y_pred_list)"
   ]
  },
  {
   "cell_type": "code",
   "execution_count": 225,
   "id": "30b0698c",
   "metadata": {},
   "outputs": [
    {
     "name": "stdout",
     "output_type": "stream",
     "text": [
      "(4840,)\n",
      "(4840,)\n"
     ]
    }
   ],
   "source": [
    "y_true, y_pred = get_preds(my_model,cat_torch_test)\n",
    "print(y_true.shape)\n",
    "print(y_pred.shape)"
   ]
  },
  {
   "cell_type": "code",
   "execution_count": 229,
   "id": "1d9f8121",
   "metadata": {},
   "outputs": [
    {
     "data": {
      "text/plain": [
       "0.26694214876033057"
      ]
     },
     "execution_count": 229,
     "metadata": {},
     "output_type": "execute_result"
    }
   ],
   "source": [
    "accuracy_score(y_true = y_true, y_pred = y_pred)\n"
   ]
  },
  {
   "cell_type": "code",
   "execution_count": 232,
   "id": "a61a7b64",
   "metadata": {},
   "outputs": [],
   "source": [
    "def model_inf(text,TrainDataset,label_encoder):\n",
    "    my_model.eval()\n",
    "    tokenizer = TrainDataset.tokenizer\n",
    "    processing = TrainDataset.processing\n",
    "    main_text = processing(text)\n",
    "    tokens = tokenizer(\n",
    "            main_text,\n",
    "            max_length = TrainDataset.max_length,\n",
    "            padding = 'max_length',\n",
    "            return_tensors='pt',\n",
    "            truncation=True)['input_ids']\n",
    "    y_pred = my_model(tokens).softmax(dim = 1).argmax(dim = 1).item()\n",
    "    return label_encoder.inverse_transform([y_pred]).item()"
   ]
  },
  {
   "cell_type": "code",
   "execution_count": 234,
   "id": "7e3cf246",
   "metadata": {},
   "outputs": [
    {
     "data": {
      "text/plain": [
       "'life'"
      ]
     },
     "execution_count": 234,
     "metadata": {},
     "output_type": "execute_result"
    }
   ],
   "source": [
    "model_inf('hate, revenge and all the other negatigvev feelings lead to even more disaster in your life',cat_torch_train,label_encoder)"
   ]
  }
 ],
 "metadata": {
  "kernelspec": {
   "display_name": "venv-MyPython (3.12.3)",
   "language": "python",
   "name": "python3"
  },
  "language_info": {
   "codemirror_mode": {
    "name": "ipython",
    "version": 3
   },
   "file_extension": ".py",
   "mimetype": "text/x-python",
   "name": "python",
   "nbconvert_exporter": "python",
   "pygments_lexer": "ipython3",
   "version": "3.12.3"
  }
 },
 "nbformat": 4,
 "nbformat_minor": 5
}
